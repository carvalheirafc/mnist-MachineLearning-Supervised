{
  "nbformat": 4,
  "nbformat_minor": 0,
  "metadata": {
    "colab": {
      "name": "boosting_bagging_mnist-MLP.ipynb",
      "provenance": [],
      "toc_visible": true,
      "mount_file_id": "1Dc5yI704IwCK1heIUZceszpFLp-P-nbm",
      "authorship_tag": "ABX9TyOoTAIypiNMjZ05pyr7QBsk",
      "include_colab_link": true
    },
    "kernelspec": {
      "name": "python3",
      "display_name": "Python 3"
    }
  },
  "cells": [
    {
      "cell_type": "markdown",
      "metadata": {
        "id": "view-in-github",
        "colab_type": "text"
      },
      "source": [
        "<a href=\"https://colab.research.google.com/github/carvalheirafc/mnist-MachineLearning-Supervised/blob/main/boosting_bagging_mnist_MLP.ipynb\" target=\"_parent\"><img src=\"https://colab.research.google.com/assets/colab-badge.svg\" alt=\"Open In Colab\"/></a>"
      ]
    },
    {
      "cell_type": "markdown",
      "metadata": {
        "id": "6TysPH2UbCgf"
      },
      "source": [
        "### Import "
      ]
    },
    {
      "cell_type": "code",
      "metadata": {
        "id": "1wE9WD1MARHU"
      },
      "source": [
        "import numpy as np\n",
        "from sklearn.model_selection import train_test_split\n",
        "from sklearn import metrics\n",
        "from sklearn.ensemble import BaggingClassifier\n",
        "from sklearn.ensemble import AdaBoostClassifier\n",
        "from sklearn.neural_network import MLPClassifier\n",
        "from sklearn.neural_network import MLPClassifier\n",
        "import time"
      ],
      "execution_count": 1,
      "outputs": []
    },
    {
      "cell_type": "markdown",
      "metadata": {
        "id": "ab_eSEisNMkl"
      },
      "source": [
        "### Data Input and miscs\n"
      ]
    },
    {
      "cell_type": "code",
      "metadata": {
        "id": "giwtI9kQSDZM"
      },
      "source": [
        "data_X = np.load('./drive/My Drive/mnist_datasets/mnist_X.npy')\n",
        "data_y = np.load('./drive/My Drive/mnist_datasets/mnist_labels.npy')"
      ],
      "execution_count": 2,
      "outputs": []
    },
    {
      "cell_type": "code",
      "metadata": {
        "id": "dNx1VgivjGHU",
        "colab": {
          "base_uri": "https://localhost:8080/"
        },
        "outputId": "9e4647d2-d231-4276-8fea-3940ac9a8e06"
      },
      "source": [
        "half_X = np.array(np.split(data_X, 2))\n",
        "half_y = np.array(np.split(data_y, 2))\n",
        "\n",
        "print('Mnist 50% Data: \\n')\n",
        "print('X: ', half_X[0].shape)\n",
        "print('y: ', half_y[0].shape)"
      ],
      "execution_count": 3,
      "outputs": [
        {
          "output_type": "stream",
          "text": [
            "Mnist 50% Data: \n",
            "\n",
            "X:  (30000, 1, 28, 28)\n",
            "y:  (30000, 1)\n"
          ],
          "name": "stdout"
        }
      ]
    },
    {
      "cell_type": "code",
      "metadata": {
        "id": "QJ103KW0nWWf",
        "colab": {
          "base_uri": "https://localhost:8080/"
        },
        "outputId": "89598eb8-9f29-44be-a690-848f97754c51"
      },
      "source": [
        "smaller_X = np.array(np.split(data_X, 5))\n",
        "smaller_y = np.array(np.split(data_y, 5))\n",
        "\n",
        "print('Mnist 20% Data: \\n')\n",
        "print('X: ', smaller_X[0].shape)\n",
        "print('y: ', smaller_y[0].shape)"
      ],
      "execution_count": 4,
      "outputs": [
        {
          "output_type": "stream",
          "text": [
            "Mnist 20% Data: \n",
            "\n",
            "X:  (12000, 1, 28, 28)\n",
            "y:  (12000, 1)\n"
          ],
          "name": "stdout"
        }
      ]
    },
    {
      "cell_type": "code",
      "metadata": {
        "id": "wb13x1BRqUZI",
        "colab": {
          "base_uri": "https://localhost:8080/"
        },
        "outputId": "a5b01936-c54d-4192-86b9-d5d7bbb1ff81"
      },
      "source": [
        "data_two_classes = np.load('./drive/My Drive/mnist_datasets/two_classes_data.npy', allow_pickle=True)\n",
        "two_classes_X = np.concatenate((data_two_classes[0][0], data_two_classes[1][0]), axis=0)\n",
        "two_classes_y = np.concatenate((data_two_classes[0][1], data_two_classes[1][1]), axis=0)\n",
        "print('Mnist Two Classes: \\n')\n",
        "print('Zeros: ', data_two_classes[0][0].shape)\n",
        "print('Ones:  ', data_two_classes[1][0].shape)\n",
        "print('X:     ', two_classes_X.shape)\n",
        "print('y:     ', two_classes_y.shape)\n"
      ],
      "execution_count": 5,
      "outputs": [
        {
          "output_type": "stream",
          "text": [
            "Mnist Two Classes: \n",
            "\n",
            "Zeros:  (5923, 28, 28)\n",
            "Ones:   (6742, 28, 28)\n",
            "X:      (12665, 28, 28)\n",
            "y:      (12665,)\n"
          ],
          "name": "stdout"
        }
      ]
    },
    {
      "cell_type": "markdown",
      "metadata": {
        "id": "nRo5bh_uDPmC"
      },
      "source": [
        "### Hold-Out Sets\n"
      ]
    },
    {
      "cell_type": "code",
      "metadata": {
        "id": "lVDL-wyNwsnq",
        "colab": {
          "base_uri": "https://localhost:8080/"
        },
        "outputId": "564fcb06-7859-458a-eadf-08bfc10728d7"
      },
      "source": [
        "ho_two_class_91_train_X, ho_two_class_91_test_X, ho_two_class_91_train_y, ho_two_class_91_test_y = train_test_split(two_classes_X, two_classes_y, train_size=0.9, random_state=555)\n",
        "ho_two_class_82_train_X, ho_two_class_82_test_X, ho_two_class_82_train_y, ho_two_class_82_test_y = train_test_split(two_classes_X, two_classes_y, train_size=0.8, random_state=555)\n",
        "ho_two_class_73_train_X, ho_two_class_73_test_X, ho_two_class_73_train_y, ho_two_class_73_test_y = train_test_split(two_classes_X, two_classes_y, train_size=0.7, random_state=555)\n",
        "\n",
        "print('Hold-Out Mnist Two Classes[0, 1] Split\\n')\n",
        "print('9/1: ', ho_two_class_91_train_X.shape)\n",
        "print('8/2: ', ho_two_class_82_train_X.shape)\n",
        "print('7/3: ', ho_two_class_73_train_X.shape)"
      ],
      "execution_count": 6,
      "outputs": [
        {
          "output_type": "stream",
          "text": [
            "Hold-Out Mnist Two Classes[0, 1] Split\n",
            "\n",
            "9/1:  (11398, 28, 28)\n",
            "8/2:  (10132, 28, 28)\n",
            "7/3:  (8865, 28, 28)\n"
          ],
          "name": "stdout"
        }
      ]
    },
    {
      "cell_type": "code",
      "metadata": {
        "id": "_7jfW5pKpdRq",
        "colab": {
          "base_uri": "https://localhost:8080/"
        },
        "outputId": "f456980d-6460-4f23-aef7-151a612c37d3"
      },
      "source": [
        "ho_smaller_91_train_X, ho_smaller_91_test_X, ho_smaller_91_train_y, ho_smaller_91_test_y = train_test_split(smaller_X[0], smaller_y[0], train_size=0.9, random_state=555)\n",
        "ho_smaller_82_train_X, ho_smaller_82_test_X, ho_smaller_82_train_y, ho_smaller_82_test_y = train_test_split(smaller_X[0], smaller_y[0], train_size=0.8, random_state=555)\n",
        "ho_smaller_73_train_X, ho_smaller_73_test_X, ho_smaller_73_train_y, ho_smaller_73_test_y = train_test_split(smaller_X[0], smaller_y[0], train_size=0.7, random_state=555)\n",
        "\n",
        "print('Hold-Out Half Data Split\\n')\n",
        "print('9/1: ', ho_smaller_91_train_X.shape)\n",
        "print('8/2: ', ho_smaller_82_train_X.shape)\n",
        "print('7/3: ', ho_smaller_73_train_X.shape)"
      ],
      "execution_count": 7,
      "outputs": [
        {
          "output_type": "stream",
          "text": [
            "Hold-Out Half Data Split\n",
            "\n",
            "9/1:  (10800, 1, 28, 28)\n",
            "8/2:  (9600, 1, 28, 28)\n",
            "7/3:  (8400, 1, 28, 28)\n"
          ],
          "name": "stdout"
        }
      ]
    },
    {
      "cell_type": "markdown",
      "metadata": {
        "id": "giIeWqGo66Fz"
      },
      "source": [
        "### Custom MLP "
      ]
    },
    {
      "cell_type": "code",
      "metadata": {
        "id": "0GuyDV9l51Ko"
      },
      "source": [
        "class customMLPClassifer(MLPClassifier):\n",
        "    \n",
        "    def resample_with_replacement(self, X_train, y_train, sample_weight):\n",
        "\n",
        "        # normalize sample_weights if not already\n",
        "        sample_weight = sample_weight / sample_weight.sum(dtype=np.float64)\n",
        "\n",
        "        X_train_resampled = np.zeros((len(X_train), len(X_train[0])), dtype=np.float32)\n",
        "        y_train_resampled = np.zeros((len(y_train)), dtype=np.int)\n",
        "        for i in range(len(X_train)):\n",
        "            # draw a number from 0 to len(X_train)-1\n",
        "            draw = np.random.choice(np.arange(len(X_train)), p=sample_weight)\n",
        "\n",
        "            # place the X and y at the drawn number into the resampled X and y\n",
        "            X_train_resampled[i] = X_train[draw]\n",
        "            y_train_resampled[i] = y_train[draw]\n",
        "\n",
        "        return X_train_resampled, y_train_resampled\n",
        "\n",
        "\n",
        "    def fit(self, X, y, sample_weight=None):\n",
        "        if sample_weight is not None:\n",
        "            X, y = self.resample_with_replacement(X, y, sample_weight)\n",
        "\n",
        "        return self._fit(X, y, incremental=(self.warm_start and\n",
        "                                            hasattr(self, \"classes_\")))"
      ],
      "execution_count": 8,
      "outputs": []
    },
    {
      "cell_type": "code",
      "metadata": {
        "id": "C3xB9xJy822p",
        "colab": {
          "base_uri": "https://localhost:8080/"
        },
        "outputId": "5ef16317-e4c8-4f22-ae8f-5cdccc5a2940"
      },
      "source": [
        "mlp_classifier = customMLPClassifer().set_params(activation='relu', solver='adam')\n",
        "print(mlp_classifier)"
      ],
      "execution_count": 9,
      "outputs": [
        {
          "output_type": "stream",
          "text": [
            "customMLPClassifer(activation='relu', alpha=0.0001, batch_size='auto',\n",
            "                   beta_1=0.9, beta_2=0.999, early_stopping=False,\n",
            "                   epsilon=1e-08, hidden_layer_sizes=(100,),\n",
            "                   learning_rate='constant', learning_rate_init=0.001,\n",
            "                   max_fun=15000, max_iter=200, momentum=0.9,\n",
            "                   n_iter_no_change=10, nesterovs_momentum=True, power_t=0.5,\n",
            "                   random_state=None, shuffle=True, solver='adam', tol=0.0001,\n",
            "                   validation_fraction=0.1, verbose=False, warm_start=False)\n"
          ],
          "name": "stdout"
        }
      ]
    },
    {
      "cell_type": "markdown",
      "metadata": {
        "id": "bYEBhIDer0gw"
      },
      "source": [
        "### Bagging"
      ]
    },
    {
      "cell_type": "code",
      "metadata": {
        "id": "sNztLjfwkVTs",
        "colab": {
          "base_uri": "https://localhost:8080/"
        },
        "outputId": "e59cb9cd-17c7-4303-afca-2c62da0cb81b"
      },
      "source": [
        "'''\n",
        "Two Classes Data-set\n",
        "'''\n",
        "\n",
        "for estimator in [10, 15, 20]:\n",
        "  clf = BaggingClassifier(base_estimator=mlp_classifier, n_estimators=estimator, random_state=555)\n",
        "  print('Bagging Estimators: ', estimator)\n",
        "  print('hidden_layer_sizes=(100,) | Two Class Data-set | 9/1 Holdout')\n",
        "  start_time = time.time()\n",
        "  clf.fit(ho_two_class_91_train_X.reshape(ho_two_class_91_train_X.shape[0], -1), ho_two_class_91_train_y)\n",
        "  print(\"Execution Time: %s seconds\" % (time.time() - start_time))\n",
        "  ho_two_class_91_pred_y = clf.predict(ho_two_class_91_test_X.reshape(ho_two_class_91_test_X.shape[0], -1))\n",
        "  matrix = metrics.confusion_matrix(ho_two_class_91_test_y, ho_two_class_91_pred_y)\n",
        "  print('Acurácia:', np.trace(matrix) / len(ho_two_class_91_test_y) * 100, '%')\n",
        "  print('-------------------------------------------------- \\n\\n')\n",
        "\n",
        "for estimator in [10, 15, 20]:\n",
        "  clf = BaggingClassifier(base_estimator=mlp_classifier, n_estimators=estimator, random_state=555)\n",
        "  print('Bagging Estimators: ', estimator)\n",
        "  print('hidden_layer_sizes=(100,) | Two Class Data-set | 8/2 Holdout')\n",
        "  start_time = time.time()\n",
        "  clf.fit(ho_two_class_82_train_X.reshape(ho_two_class_82_train_X.shape[0], -1), ho_two_class_82_train_y)\n",
        "  print(\"Execution Time: %s seconds\" % (time.time() - start_time))\n",
        "  ho_two_class_82_pred_y = clf.predict(ho_two_class_82_test_X.reshape(ho_two_class_82_test_X.shape[0], -1))\n",
        "  matrix = metrics.confusion_matrix(ho_two_class_82_test_y, ho_two_class_82_pred_y)\n",
        "  print('Acurácia:', np.trace(matrix) / len(ho_two_class_82_test_y) * 100, '%')\n",
        "  print('-------------------------------------------------- \\n\\n')\n",
        "\n",
        "for estimator in [10, 15, 20]:\n",
        "  clf = BaggingClassifier(base_estimator=mlp_classifier, n_estimators=estimator, random_state=555)\n",
        "  print('Bagging Estimators: ', estimator)\n",
        "  print('hidden_layer_sizes=(100,) | Two Class Data-set | 7/3 Holdout')\n",
        "  start_time = time.time()\n",
        "  clf.fit(ho_two_class_73_train_X.reshape(ho_two_class_73_train_X.shape[0], -1), ho_two_class_73_train_y)\n",
        "  print(\"Execution Time: %s seconds\" % (time.time() - start_time))\n",
        "  ho_two_class_73_pred_y = clf.predict(ho_two_class_73_test_X.reshape(ho_two_class_73_test_X.shape[0], -1))\n",
        "  matrix = metrics.confusion_matrix(ho_two_class_73_test_y, ho_two_class_73_pred_y)\n",
        "  print('Acurácia:', np.trace(matrix) / len(ho_two_class_73_test_y) * 100, '%')\n",
        "  print('-------------------------------------------------- \\n\\n')"
      ],
      "execution_count": 10,
      "outputs": [
        {
          "output_type": "stream",
          "text": [
            "Bagging Estimators:  10\n",
            "hidden_layer_sizes=(100,) | Two Class Data-set | 9/1 Holdout\n",
            "Execution Time: 89.30421137809753 seconds\n",
            "Acurácia: 99.92107340173638 %\n",
            "-------------------------------------------------- \n",
            "\n",
            "\n",
            "Bagging Estimators:  15\n",
            "hidden_layer_sizes=(100,) | Two Class Data-set | 9/1 Holdout\n",
            "Execution Time: 132.4039125442505 seconds\n",
            "Acurácia: 99.92107340173638 %\n",
            "-------------------------------------------------- \n",
            "\n",
            "\n",
            "Bagging Estimators:  20\n",
            "hidden_layer_sizes=(100,) | Two Class Data-set | 9/1 Holdout\n",
            "Execution Time: 178.92336320877075 seconds\n",
            "Acurácia: 100.0 %\n",
            "-------------------------------------------------- \n",
            "\n",
            "\n",
            "Bagging Estimators:  10\n",
            "hidden_layer_sizes=(100,) | Two Class Data-set | 8/2 Holdout\n",
            "Execution Time: 81.54382181167603 seconds\n",
            "Acurácia: 99.96052112120016 %\n",
            "-------------------------------------------------- \n",
            "\n",
            "\n",
            "Bagging Estimators:  15\n",
            "hidden_layer_sizes=(100,) | Two Class Data-set | 8/2 Holdout\n",
            "Execution Time: 126.84138774871826 seconds\n",
            "Acurácia: 99.96052112120016 %\n",
            "-------------------------------------------------- \n",
            "\n",
            "\n",
            "Bagging Estimators:  20\n",
            "hidden_layer_sizes=(100,) | Two Class Data-set | 8/2 Holdout\n",
            "Execution Time: 166.67704248428345 seconds\n",
            "Acurácia: 99.96052112120016 %\n",
            "-------------------------------------------------- \n",
            "\n",
            "\n",
            "Bagging Estimators:  10\n",
            "hidden_layer_sizes=(100,) | Two Class Data-set | 7/3 Holdout\n",
            "Execution Time: 72.70749497413635 seconds\n",
            "Acurácia: 99.92105263157895 %\n",
            "-------------------------------------------------- \n",
            "\n",
            "\n",
            "Bagging Estimators:  15\n",
            "hidden_layer_sizes=(100,) | Two Class Data-set | 7/3 Holdout\n",
            "Execution Time: 113.04855942726135 seconds\n",
            "Acurácia: 99.89473684210526 %\n",
            "-------------------------------------------------- \n",
            "\n",
            "\n",
            "Bagging Estimators:  20\n",
            "hidden_layer_sizes=(100,) | Two Class Data-set | 7/3 Holdout\n",
            "Execution Time: 144.0581088066101 seconds\n",
            "Acurácia: 99.89473684210526 %\n",
            "-------------------------------------------------- \n",
            "\n",
            "\n"
          ],
          "name": "stdout"
        }
      ]
    },
    {
      "cell_type": "code",
      "metadata": {
        "id": "-inhq6GcesYz",
        "colab": {
          "base_uri": "https://localhost:8080/"
        },
        "outputId": "557bdc05-64b9-4240-d72c-16eef33691b7"
      },
      "source": [
        "'''\n",
        "Smaller Size and Holdout sets\n",
        "'''\n",
        "\n",
        "for estimator in [10, 15, 20]:\n",
        "  clf = BaggingClassifier(base_estimator=mlp_classifier, n_estimators=estimator, random_state=555)\n",
        "  print('Bagging Estimators: ', estimator)\n",
        "  print('hidden_layer_sizes=(100,) | Smaller Data-set | 9/1 Holdout')\n",
        "  start_time = time.time()\n",
        "  clf.fit(ho_smaller_91_train_X.reshape(ho_smaller_91_train_X.shape[0], -1), ho_smaller_91_train_y.ravel())\n",
        "  print(\"Execution Time: %s seconds\" % (time.time() - start_time))\n",
        "  ho_smaller_91_pred_y = clf.predict(ho_smaller_91_test_X.reshape(ho_smaller_91_test_X.shape[0], -1))\n",
        "  matrix = metrics.confusion_matrix(ho_smaller_91_test_y, ho_smaller_91_pred_y)\n",
        "  print('Acurácia:', np.trace(matrix) / len(ho_smaller_91_test_y) * 100, '%')\n",
        "  print('-------------------------------------------------- \\n\\n')\n",
        "\n",
        "for estimator in [10, 15, 20]:\n",
        "  clf = BaggingClassifier(base_estimator=mlp_classifier, n_estimators=estimator, random_state=555)\n",
        "  print('Bagging Estimators: ', estimator)\n",
        "  print('hidden_layer_sizes=(100,) | Smaller Data-set | 8/2 Holdout')\n",
        "  start_time = time.time()\n",
        "  clf.fit(ho_smaller_82_train_X.reshape(ho_smaller_82_train_X.shape[0], -1), ho_smaller_82_train_y.ravel())\n",
        "  print(\"Execution Time: %s seconds\" % (time.time() - start_time))\n",
        "  ho_smaller_82_pred_y = clf.predict(ho_smaller_82_test_X.reshape(ho_smaller_82_test_X.shape[0], -1))\n",
        "  matrix = metrics.confusion_matrix(ho_smaller_82_test_y, ho_smaller_82_pred_y)\n",
        "  print('Acurácia:', np.trace(matrix) / len(ho_smaller_82_test_y) * 100, '%')\n",
        "  print('-------------------------------------------------- \\n\\n')\n",
        "\n",
        "for estimator in [10, 15, 20]:\n",
        "  clf = BaggingClassifier(base_estimator=mlp_classifier, n_estimators=estimator, random_state=555)\n",
        "  print('Bagging Estimators: ', estimator)\n",
        "  print('hidden_layer_sizes=(100,) | Smaller Data-set | 7/3 Holdout')\n",
        "  start_time = time.time()\n",
        "  clf.fit(ho_smaller_73_train_X.reshape(ho_smaller_73_train_X.shape[0], -1), ho_smaller_73_train_y.ravel())\n",
        "  print(\"Execution Time: %s seconds\" % (time.time() - start_time))\n",
        "  ho_smaller_73_pred_y = clf.predict(ho_smaller_73_test_X.reshape(ho_smaller_73_test_X.shape[0], -1))\n",
        "  matrix = metrics.confusion_matrix(ho_smaller_73_test_y, ho_smaller_73_pred_y)\n",
        "  print('Acurácia:', np.trace(matrix) / len(ho_smaller_73_test_y) * 100, '%')\n",
        "  print('-------------------------------------------------- \\n\\n')"
      ],
      "execution_count": 11,
      "outputs": [
        {
          "output_type": "stream",
          "text": [
            "Bagging Estimators:  10\n",
            "hidden_layer_sizes=(100,) | Smaller Data-set | 9/1 Holdout\n",
            "Execution Time: 144.74818658828735 seconds\n",
            "Acurácia: 96.16666666666667 %\n",
            "-------------------------------------------------- \n",
            "\n",
            "\n",
            "Bagging Estimators:  15\n",
            "hidden_layer_sizes=(100,) | Smaller Data-set | 9/1 Holdout\n",
            "Execution Time: 216.4040961265564 seconds\n",
            "Acurácia: 96.41666666666666 %\n",
            "-------------------------------------------------- \n",
            "\n",
            "\n",
            "Bagging Estimators:  20\n",
            "hidden_layer_sizes=(100,) | Smaller Data-set | 9/1 Holdout\n",
            "Execution Time: 276.8955225944519 seconds\n",
            "Acurácia: 96.33333333333334 %\n",
            "-------------------------------------------------- \n",
            "\n",
            "\n",
            "Bagging Estimators:  10\n",
            "hidden_layer_sizes=(100,) | Smaller Data-set | 8/2 Holdout\n",
            "Execution Time: 116.65435647964478 seconds\n",
            "Acurácia: 96.0 %\n",
            "-------------------------------------------------- \n",
            "\n",
            "\n",
            "Bagging Estimators:  15\n",
            "hidden_layer_sizes=(100,) | Smaller Data-set | 8/2 Holdout\n",
            "Execution Time: 170.01925349235535 seconds\n",
            "Acurácia: 95.91666666666666 %\n",
            "-------------------------------------------------- \n",
            "\n",
            "\n",
            "Bagging Estimators:  20\n",
            "hidden_layer_sizes=(100,) | Smaller Data-set | 8/2 Holdout\n",
            "Execution Time: 240.2869634628296 seconds\n",
            "Acurácia: 96.08333333333333 %\n",
            "-------------------------------------------------- \n",
            "\n",
            "\n",
            "Bagging Estimators:  10\n",
            "hidden_layer_sizes=(100,) | Smaller Data-set | 7/3 Holdout\n",
            "Execution Time: 102.53037905693054 seconds\n",
            "Acurácia: 94.41666666666667 %\n",
            "-------------------------------------------------- \n",
            "\n",
            "\n",
            "Bagging Estimators:  15\n",
            "hidden_layer_sizes=(100,) | Smaller Data-set | 7/3 Holdout\n",
            "Execution Time: 154.09458994865417 seconds\n",
            "Acurácia: 94.69444444444444 %\n",
            "-------------------------------------------------- \n",
            "\n",
            "\n",
            "Bagging Estimators:  20\n",
            "hidden_layer_sizes=(100,) | Smaller Data-set | 7/3 Holdout\n",
            "Execution Time: 221.51804566383362 seconds\n",
            "Acurácia: 95.02777777777777 %\n",
            "-------------------------------------------------- \n",
            "\n",
            "\n"
          ],
          "name": "stdout"
        }
      ]
    },
    {
      "cell_type": "markdown",
      "metadata": {
        "id": "Cj-ikQUwx9nJ"
      },
      "source": [
        "### Boosting "
      ]
    },
    {
      "cell_type": "code",
      "metadata": {
        "id": "_BmN7eQI8FKG",
        "colab": {
          "base_uri": "https://localhost:8080/"
        },
        "outputId": "dbd22d5c-3dda-4a69-a6a1-0c27457980fa"
      },
      "source": [
        "'''\n",
        "Two Classes Data-set\n",
        "'''\n",
        "\n",
        "for estimator in [10, 15, 20]:\n",
        "  clf = AdaBoostClassifier(base_estimator=mlp_classifier, n_estimators=estimator, random_state=555)\n",
        "  print('Boosting Estimators: ', estimator)\n",
        "  print('hidden_layer_sizes=(100,) | Two Class Data-set | 9/1 Holdout')\n",
        "  start_time = time.time()\n",
        "  clf.fit(ho_two_class_91_train_X.reshape(ho_two_class_91_train_X.shape[0], -1), ho_two_class_91_train_y)\n",
        "  print(\"Execution Time: %s seconds\" % (time.time() - start_time))\n",
        "  ho_two_class_91_pred_y = clf.predict(ho_two_class_91_test_X.reshape(ho_two_class_91_test_X.shape[0], -1))\n",
        "  matrix = metrics.confusion_matrix(ho_two_class_91_test_y, ho_two_class_91_pred_y)\n",
        "  print('Acurácia:', np.trace(matrix) / len(ho_two_class_91_test_y) * 100, '%')\n",
        "  print('-------------------------------------------------- \\n\\n')\n",
        "\n",
        "for estimator in [10, 15, 20]:\n",
        "  clf = AdaBoostClassifier(base_estimator=mlp_classifier, n_estimators=estimator, random_state=555)\n",
        "  print('Boosting Estimators: ', estimator)\n",
        "  print('hidden_layer_sizes=(100,) | Two Class Data-set | 8/2 Holdout')\n",
        "  start_time = time.time()\n",
        "  clf.fit(ho_two_class_82_train_X.reshape(ho_two_class_82_train_X.shape[0], -1), ho_two_class_82_train_y)\n",
        "  print(\"Execution Time: %s seconds\" % (time.time() - start_time))\n",
        "  ho_two_class_82_pred_y = clf.predict(ho_two_class_82_test_X.reshape(ho_two_class_82_test_X.shape[0], -1))\n",
        "  matrix = metrics.confusion_matrix(ho_two_class_82_test_y, ho_two_class_82_pred_y)\n",
        "  print('Acurácia:', np.trace(matrix) / len(ho_two_class_82_test_y) * 100, '%')\n",
        "  print('-------------------------------------------------- \\n\\n')\n",
        "\n",
        "for estimator in [10, 15, 20]:\n",
        "  clf = AdaBoostClassifier(base_estimator=mlp_classifier, n_estimators=estimator, random_state=555)\n",
        "  print('Boosting Estimators: ', estimator)\n",
        "  print('hidden_layer_sizes=(100,) | Two Class Data-set | 7/3 Holdout')\n",
        "  start_time = time.time()\n",
        "  clf.fit(ho_two_class_73_train_X.reshape(ho_two_class_73_train_X.shape[0], -1), ho_two_class_73_train_y)\n",
        "  print(\"Execution Time: %s seconds\" % (time.time() - start_time))\n",
        "  ho_two_class_73_pred_y = clf.predict(ho_two_class_73_test_X.reshape(ho_two_class_73_test_X.shape[0], -1))\n",
        "  matrix = metrics.confusion_matrix(ho_two_class_73_test_y, ho_two_class_73_pred_y)\n",
        "  print('Acurácia:', np.trace(matrix) / len(ho_two_class_73_test_y) * 100, '%')\n",
        "  print('-------------------------------------------------- \\n\\n')"
      ],
      "execution_count": 12,
      "outputs": [
        {
          "output_type": "stream",
          "text": [
            "Boosting Estimators:  10\n",
            "hidden_layer_sizes=(100,) | Two Class Data-set | 9/1 Holdout\n",
            "Execution Time: 77.15885782241821 seconds\n",
            "Acurácia: 47.19810576164167 %\n",
            "-------------------------------------------------- \n",
            "\n",
            "\n",
            "Boosting Estimators:  15\n",
            "hidden_layer_sizes=(100,) | Two Class Data-set | 9/1 Holdout\n",
            "Execution Time: 122.92857837677002 seconds\n",
            "Acurácia: 47.19810576164167 %\n",
            "-------------------------------------------------- \n",
            "\n",
            "\n",
            "Boosting Estimators:  20\n",
            "hidden_layer_sizes=(100,) | Two Class Data-set | 9/1 Holdout\n",
            "Execution Time: 153.21833848953247 seconds\n",
            "Acurácia: 47.19810576164167 %\n",
            "-------------------------------------------------- \n",
            "\n",
            "\n",
            "Boosting Estimators:  10\n",
            "hidden_layer_sizes=(100,) | Two Class Data-set | 8/2 Holdout\n",
            "Execution Time: 70.66317319869995 seconds\n",
            "Acurácia: 46.624555862613505 %\n",
            "-------------------------------------------------- \n",
            "\n",
            "\n",
            "Boosting Estimators:  15\n",
            "hidden_layer_sizes=(100,) | Two Class Data-set | 8/2 Holdout\n",
            "Execution Time: 104.23433303833008 seconds\n",
            "Acurácia: 46.624555862613505 %\n",
            "-------------------------------------------------- \n",
            "\n",
            "\n",
            "Boosting Estimators:  20\n",
            "hidden_layer_sizes=(100,) | Two Class Data-set | 8/2 Holdout\n",
            "Execution Time: 135.60265684127808 seconds\n",
            "Acurácia: 46.624555862613505 %\n",
            "-------------------------------------------------- \n",
            "\n",
            "\n",
            "Boosting Estimators:  10\n",
            "hidden_layer_sizes=(100,) | Two Class Data-set | 7/3 Holdout\n",
            "Execution Time: 61.04550576210022 seconds\n",
            "Acurácia: 46.39473684210526 %\n",
            "-------------------------------------------------- \n",
            "\n",
            "\n",
            "Boosting Estimators:  15\n",
            "hidden_layer_sizes=(100,) | Two Class Data-set | 7/3 Holdout\n",
            "Execution Time: 90.6339750289917 seconds\n",
            "Acurácia: 46.39473684210526 %\n",
            "-------------------------------------------------- \n",
            "\n",
            "\n",
            "Boosting Estimators:  20\n",
            "hidden_layer_sizes=(100,) | Two Class Data-set | 7/3 Holdout\n",
            "Execution Time: 119.06761264801025 seconds\n",
            "Acurácia: 46.39473684210526 %\n",
            "-------------------------------------------------- \n",
            "\n",
            "\n"
          ],
          "name": "stdout"
        }
      ]
    },
    {
      "cell_type": "code",
      "metadata": {
        "id": "4TsLP10kwy_Z"
      },
      "source": [
        "'''\n",
        "Smaller Size and Holdout sets\n",
        "'''\n",
        "'''\n",
        "Broadcast Error\n",
        "'''\n",
        "for estimator in [10, 15, 20]:\n",
        "  clf = AdaBoostClassifier(base_estimator=mlp_classifier, n_estimators=estimator, random_state=555)\n",
        "  print('Boosting Estimators: ', estimator)\n",
        "  print('hidden_layer_sizes=(100,) | Smaller Data-set | 9/1 Holdout')\n",
        "  start_time = time.time()\n",
        "  clf.fit(ho_smaller_91_train_X.reshape(ho_smaller_91_train_X.shape[0], -1), ho_smaller_91_train_y.ravel())\n",
        "  print(\"Execution Time: %s seconds\" % (time.time() - start_time))\n",
        "  ho_smaller_91_pred_y = clf.predict(ho_smaller_91_test_X.reshape(ho_smaller_91_test_X.shape[0], -1))\n",
        "  matrix = metrics.confusion_matrix(ho_smaller_91_test_y, ho_smaller_91_pred_y)\n",
        "  print('Acurácia:', np.trace(matrix) / len(ho_smaller_91_test_y) * 100, '%')\n",
        "  print('-------------------------------------------------- \\n\\n')\n",
        "\n",
        "for estimator in [10, 15, 20]:\n",
        "  clf = AdaBoostClassifier(base_estimator=mlp_classifier, n_estimators=estimator, random_state=555)\n",
        "  print('Boosting Estimators: ', estimator)\n",
        "  print('hidden_layer_sizes=(100,) | Smaller Data-set | 8/2 Holdout')\n",
        "  start_time = time.time()\n",
        "  clf.fit(ho_smaller_82_train_X.reshape(ho_smaller_82_train_X.shape[0], -1), ho_smaller_82_train_y.ravel())\n",
        "  print(\"Execution Time: %s seconds\" % (time.time() - start_time))\n",
        "  ho_smaller_82_pred_y = clf.predict(ho_smaller_82_test_X.reshape(ho_smaller_82_test_X.shape[0], -1))\n",
        "  matrix = metrics.confusion_matrix(ho_smaller_82_test_y, ho_smaller_82_pred_y)\n",
        "  print('Acurácia:', np.trace(matrix) / len(ho_smaller_82_test_y) * 100, '%')\n",
        "  print('-------------------------------------------------- \\n\\n')\n",
        "\n",
        "for estimator in [10, 15, 20]:\n",
        "  clf = AdaBoostClassifier(base_estimator=mlp_classifier, n_estimators=estimator, random_state=555)\n",
        "  print('Boosting Estimators: ', estimator)\n",
        "  print('hidden_layer_sizes=(100,) | Smaller Data-set | 7/3 Holdout')\n",
        "  start_time = time.time()\n",
        "  clf.fit(ho_smaller_73_train_X.reshape(ho_smaller_73_train_X.shape[0], -1), ho_smaller_73_train_y.ravel())\n",
        "  print(\"Execution Time: %s seconds\" % (time.time() - start_time))\n",
        "  ho_smaller_73_pred_y = clf.predict(ho_smaller_73_test_X.reshape(ho_smaller_73_test_X.shape[0], -1))\n",
        "  matrix = metrics.confusion_matrix(ho_smaller_73_test_y, ho_smaller_73_pred_y)\n",
        "  print('Acurácia:', np.trace(matrix) / len(ho_smaller_73_test_y) * 100, '%')\n",
        "  print('-------------------------------------------------- \\n\\n')"
      ],
      "execution_count": null,
      "outputs": []
    }
  ]
}