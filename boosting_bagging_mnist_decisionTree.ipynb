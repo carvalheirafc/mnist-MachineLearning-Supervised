{
  "nbformat": 4,
  "nbformat_minor": 0,
  "metadata": {
    "colab": {
      "name": "boosting_bagging_mnist-decisionTree.ipynb",
      "provenance": [],
      "toc_visible": true,
      "mount_file_id": "1sOWTkhaV66J_Xe5mATSp6mvNeKwzuLmt",
      "authorship_tag": "ABX9TyMf9vTy3MzLlVT2McHx/OvZ",
      "include_colab_link": true
    },
    "kernelspec": {
      "name": "python3",
      "display_name": "Python 3"
    }
  },
  "cells": [
    {
      "cell_type": "markdown",
      "metadata": {
        "id": "view-in-github",
        "colab_type": "text"
      },
      "source": [
        "<a href=\"https://colab.research.google.com/github/carvalheirafc/mnist-MachineLearning-Supervised/blob/main/boosting_bagging_mnist_decisionTree.ipynb\" target=\"_parent\"><img src=\"https://colab.research.google.com/assets/colab-badge.svg\" alt=\"Open In Colab\"/></a>"
      ]
    },
    {
      "cell_type": "code",
      "metadata": {
        "id": "1wE9WD1MARHU"
      },
      "source": [
        "import numpy as np\n",
        "from sklearn.model_selection import train_test_split"
      ],
      "execution_count": 1,
      "outputs": []
    },
    {
      "cell_type": "markdown",
      "metadata": {
        "id": "ab_eSEisNMkl"
      },
      "source": [
        "### Data Input and miscs\n"
      ]
    },
    {
      "cell_type": "code",
      "metadata": {
        "id": "giwtI9kQSDZM"
      },
      "source": [
        "data_X = np.load('./drive/My Drive/mnist_datasets/mnist_X.npy')\n",
        "data_y = np.load('./drive/My Drive/mnist_datasets/mnist_labels.npy')"
      ],
      "execution_count": 2,
      "outputs": []
    },
    {
      "cell_type": "code",
      "metadata": {
        "id": "dNx1VgivjGHU",
        "outputId": "8b77598c-1d1e-4033-a702-2259bc18aa5e",
        "colab": {
          "base_uri": "https://localhost:8080/"
        }
      },
      "source": [
        "half_X = np.array(np.split(data_X, 2))\n",
        "half_y = np.array(np.split(data_y, 2))\n",
        "\n",
        "print('Mnist 50% Data: \\n')\n",
        "print('X: ', half_X[0].shape)\n",
        "print('y: ', half_y[0].shape)"
      ],
      "execution_count": 3,
      "outputs": [
        {
          "output_type": "stream",
          "text": [
            "Mnist 50% Data: \n",
            "\n",
            "X:  (30000, 1, 28, 28)\n",
            "y:  (30000, 1)\n"
          ],
          "name": "stdout"
        }
      ]
    },
    {
      "cell_type": "code",
      "metadata": {
        "id": "QJ103KW0nWWf",
        "outputId": "57725a91-dcdb-42cf-aa02-2b4432c85d7b",
        "colab": {
          "base_uri": "https://localhost:8080/"
        }
      },
      "source": [
        "smaller_X = np.array(np.split(data_X, 5))\n",
        "smaller_y = np.array(np.split(data_y, 5))\n",
        "\n",
        "print('Mnist 20% Data: \\n')\n",
        "print('X: ', smaller_X[0].shape)\n",
        "print('y: ', smaller_y[0].shape)"
      ],
      "execution_count": 4,
      "outputs": [
        {
          "output_type": "stream",
          "text": [
            "Mnist 20% Data: \n",
            "\n",
            "X:  (12000, 1, 28, 28)\n",
            "y:  (12000, 1)\n"
          ],
          "name": "stdout"
        }
      ]
    },
    {
      "cell_type": "code",
      "metadata": {
        "id": "wb13x1BRqUZI",
        "outputId": "749781d2-b0a7-4f29-f9de-03a4a6ae3229",
        "colab": {
          "base_uri": "https://localhost:8080/"
        }
      },
      "source": [
        "data_two_classes = np.load('./drive/My Drive/mnist_datasets/two_classes_data.npy', allow_pickle=True)\n",
        "two_classes_X = np.concatenate((data_two_classes[0][0], data_two_classes[1][0]), axis=0)\n",
        "two_classes_y = np.concatenate((data_two_classes[0][1], data_two_classes[1][1]), axis=0)\n",
        "print('Mnist Two Classes: \\n')\n",
        "print('Zeros: ', data_two_classes[0][0].shape)\n",
        "print('Ones:  ', data_two_classes[1][0].shape)\n",
        "print('X:     ', two_classes_X.shape)\n",
        "print('y:     ', two_classes_y.shape)\n"
      ],
      "execution_count": 5,
      "outputs": [
        {
          "output_type": "stream",
          "text": [
            "Mnist Two Classes: \n",
            "\n",
            "Zeros:  (5923, 28, 28)\n",
            "Ones:   (6742, 28, 28)\n",
            "X:      (12665, 28, 28)\n",
            "y:      (12665,)\n"
          ],
          "name": "stdout"
        }
      ]
    },
    {
      "cell_type": "markdown",
      "metadata": {
        "id": "nRo5bh_uDPmC"
      },
      "source": [
        "### Hold-Out Sets\n"
      ]
    },
    {
      "cell_type": "code",
      "metadata": {
        "id": "GgjdsiT-Edcx",
        "outputId": "9cecf2c9-4b16-4bec-dd78-d0600b11cfab",
        "colab": {
          "base_uri": "https://localhost:8080/"
        }
      },
      "source": [
        "ho_original_91_train_X, ho_original_91_test_X, ho_original_91_train_y, ho_original_91_test_y = train_test_split(data_X, data_y, train_size=0.9, random_state=555)\n",
        "ho_original_82_train_X, ho_original_82_test_X, ho_original_82_train_y, ho_original_82_test_y = train_test_split(data_X, data_y, train_size=0.8, random_state=555)\n",
        "ho_original_73_train_X, ho_original_73_test_X, ho_original_73_train_y, ho_original_73_test_y = train_test_split(data_X, data_y, train_size=0.7, random_state=555)\n",
        "\n",
        "print('Hold-Out Original Data Split\\n')\n",
        "print('9/1: ', ho_original_91_train_X.shape)\n",
        "print('8/2: ', ho_original_82_train_X.shape)\n",
        "print('7/3: ', ho_original_73_train_X.shape)"
      ],
      "execution_count": 6,
      "outputs": [
        {
          "output_type": "stream",
          "text": [
            "Hold-Out Original Data Split\n",
            "\n",
            "9/1:  (54000, 1, 28, 28)\n",
            "8/2:  (48000, 1, 28, 28)\n",
            "7/3:  (42000, 1, 28, 28)\n"
          ],
          "name": "stdout"
        }
      ]
    },
    {
      "cell_type": "code",
      "metadata": {
        "id": "lVDL-wyNwsnq",
        "outputId": "cade687c-5d3c-4817-a692-e7b4154e2023",
        "colab": {
          "base_uri": "https://localhost:8080/"
        }
      },
      "source": [
        "ho_two_class_91_train_X, ho_two_class_91_test_X, ho_two_class_91_train_y, ho_two_class_91_test_y = train_test_split(two_classes_X, two_classes_y, train_size=0.9, random_state=555)\n",
        "ho_two_class_82_train_X, ho_two_class_82_test_X, ho_two_class_82_train_y, ho_two_class_82_test_y = train_test_split(two_classes_X, two_classes_y, train_size=0.8, random_state=555)\n",
        "ho_two_class_73_train_X, ho_two_class_73_test_X, ho_two_class_73_train_y, ho_two_class_73_test_y = train_test_split(two_classes_X, two_classes_y, train_size=0.7, random_state=555)\n",
        "\n",
        "print('Hold-Out Mnist Two Classes[0, 1] Split\\n')\n",
        "print('9/1: ', ho_two_class_91_train_X.shape)\n",
        "print('8/2: ', ho_two_class_82_train_X.shape)\n",
        "print('7/3: ', ho_two_class_73_train_X.shape)"
      ],
      "execution_count": 7,
      "outputs": [
        {
          "output_type": "stream",
          "text": [
            "Hold-Out Mnist Two Classes[0, 1] Split\n",
            "\n",
            "9/1:  (11398, 28, 28)\n",
            "8/2:  (10132, 28, 28)\n",
            "7/3:  (8865, 28, 28)\n"
          ],
          "name": "stdout"
        }
      ]
    },
    {
      "cell_type": "code",
      "metadata": {
        "id": "5tJFwV4POWMD"
      },
      "source": [
        "from sklearn import tree\n",
        "from sklearn import metrics\n",
        "from sklearn.ensemble import BaggingClassifier\n",
        "from sklearn.ensemble import AdaBoostClassifier\n",
        "from sklearn.neural_network import MLPClassifier\n",
        "import time"
      ],
      "execution_count": 8,
      "outputs": []
    },
    {
      "cell_type": "markdown",
      "metadata": {
        "id": "bYEBhIDer0gw"
      },
      "source": [
        "### Bagging"
      ]
    },
    {
      "cell_type": "code",
      "metadata": {
        "id": "-3hgz899OHJX"
      },
      "source": [
        "'''\n",
        "Default ccp_alfa(Fator de confiança)\n",
        "'''\n",
        "\n",
        "default_tree_classifier = tree.DecisionTreeClassifier(ccp_alpha=0.0)\n"
      ],
      "execution_count": 9,
      "outputs": []
    },
    {
      "cell_type": "code",
      "metadata": {
        "id": "sNztLjfwkVTs",
        "outputId": "1f046b87-b42d-479f-918b-9e5fd7509f6e",
        "colab": {
          "base_uri": "https://localhost:8080/"
        }
      },
      "source": [
        "'''\n",
        "Two Classes Data-set\n",
        "'''\n",
        "estimators = [10, 15, 20]\n",
        "for estimator in estimators:\n",
        "  clf = BaggingClassifier(base_estimator=default_tree_classifier, n_estimators=estimator, random_state=555)\n",
        "  print('Bagging Estimators: ', estimator)\n",
        "  print('ccp_alpha: 0.0 | Two Class Data-set | 7/3 Holdout')\n",
        "  start_time = time.time()\n",
        "  clf.fit(ho_two_class_73_train_X.reshape(ho_two_class_73_train_X.shape[0], -1), ho_two_class_73_train_y)\n",
        "  print(\"Execution Time: %s seconds\" % (time.time() - start_time))\n",
        "  ho_two_class_73_pred_y = clf.predict(ho_two_class_73_test_X.reshape(ho_two_class_73_test_X.shape[0], -1))\n",
        "  matrix = metrics.confusion_matrix(ho_two_class_73_test_y, ho_two_class_73_pred_y)\n",
        "  print('Acurácia:', np.trace(matrix) / len(ho_two_class_73_test_y) * 100, '%')\n",
        "  print('-------------------------------------------------- \\n\\n')"
      ],
      "execution_count": 10,
      "outputs": [
        {
          "output_type": "stream",
          "text": [
            "Bagging Estimators:  10\n",
            "ccp_alpha: 0.0 | Two Class Data-set | 7/3 Holdout\n",
            "Execution Time: 5.078888416290283 seconds\n",
            "Acurácia: 99.68421052631578 %\n",
            "-------------------------------------------------- \n",
            "\n",
            "\n",
            "Bagging Estimators:  15\n",
            "ccp_alpha: 0.0 | Two Class Data-set | 7/3 Holdout\n",
            "Execution Time: 7.504503488540649 seconds\n",
            "Acurácia: 99.60526315789474 %\n",
            "-------------------------------------------------- \n",
            "\n",
            "\n",
            "Bagging Estimators:  20\n",
            "ccp_alpha: 0.0 | Two Class Data-set | 7/3 Holdout\n",
            "Execution Time: 10.182513236999512 seconds\n",
            "Acurácia: 99.6578947368421 %\n",
            "-------------------------------------------------- \n",
            "\n",
            "\n"
          ],
          "name": "stdout"
        }
      ]
    },
    {
      "cell_type": "code",
      "metadata": {
        "id": "-inhq6GcesYz",
        "outputId": "537b0aa8-dc98-4ffe-ada4-6f99e938bac1",
        "colab": {
          "base_uri": "https://localhost:8080/"
        }
      },
      "source": [
        "'''\n",
        "Original Size and Holdout sets\n",
        "'''\n",
        "\n",
        "estimators = [10, 15, 20]\n",
        "for estimator in estimators:\n",
        "  clf = BaggingClassifier(base_estimator=default_tree_classifier, n_estimators=estimator, random_state=555)\n",
        "  print('Bagging Estimators: ', estimator)\n",
        "  print('ccp_alpha: 0.0 | Two Class Data-set | 7/3 Holdout')\n",
        "  start_time = time.time()\n",
        "  clf.fit(ho_original_73_train_X.reshape(ho_original_73_train_X.shape[0], -1), ho_original_73_train_y.ravel())\n",
        "  print(\"Execution Time: %s seconds\" % (time.time() - start_time))\n",
        "  ho_original_73_pred_y = clf.predict(ho_original_73_test_X.reshape(ho_original_73_test_X.shape[0], -1))\n",
        "  matrix = metrics.confusion_matrix(ho_original_73_test_y, ho_original_73_pred_y)\n",
        "  print('Acurácia:', np.trace(matrix) / len(ho_original_73_test_y) * 100, '%')\n",
        "  print('-------------------------------------------------- \\n\\n')"
      ],
      "execution_count": 11,
      "outputs": [
        {
          "output_type": "stream",
          "text": [
            "Bagging Estimators:  10\n",
            "ccp_alpha: 0.0 | Two Class Data-set | 7/3 Holdout\n",
            "Execution Time: 89.84139251708984 seconds\n",
            "Acurácia: 93.92777777777778 %\n",
            "-------------------------------------------------- \n",
            "\n",
            "\n",
            "Bagging Estimators:  15\n",
            "ccp_alpha: 0.0 | Two Class Data-set | 7/3 Holdout\n",
            "Execution Time: 135.58410453796387 seconds\n",
            "Acurácia: 94.48333333333333 %\n",
            "-------------------------------------------------- \n",
            "\n",
            "\n",
            "Bagging Estimators:  20\n",
            "ccp_alpha: 0.0 | Two Class Data-set | 7/3 Holdout\n",
            "Execution Time: 183.58248281478882 seconds\n",
            "Acurácia: 94.71666666666667 %\n",
            "-------------------------------------------------- \n",
            "\n",
            "\n"
          ],
          "name": "stdout"
        }
      ]
    },
    {
      "cell_type": "markdown",
      "metadata": {
        "id": "giIeWqGo66Fz"
      },
      "source": [
        "### Custom MLP "
      ]
    },
    {
      "cell_type": "code",
      "metadata": {
        "id": "0GuyDV9l51Ko"
      },
      "source": [
        "class customMLPClassifer(MLPClassifier):\n",
        "    MLPClassifier.hidden_layers_size = (100, 200)\n",
        "    def resample_with_replacement(self, X_train, y_train, sample_weight):\n",
        "\n",
        "        # normalize sample_weights if not already\n",
        "        sample_weight = sample_weight / sample_weight.sum(dtype=np.float64)\n",
        "\n",
        "        X_train_resampled = np.zeros((len(X_train), len(X_train[0])), dtype=np.float32)\n",
        "        y_train_resampled = np.zeros((len(y_train)), dtype=np.int)\n",
        "        for i in range(len(X_train)):\n",
        "            # draw a number from 0 to len(X_train)-1\n",
        "            draw = np.random.choice(np.arange(len(X_train)), p=sample_weight)\n",
        "\n",
        "            # place the X and y at the drawn number into the resampled X and y\n",
        "            X_train_resampled[i] = X_train[draw]\n",
        "            y_train_resampled[i] = y_train[draw]\n",
        "\n",
        "        return X_train_resampled, y_train_resampled\n",
        "\n",
        "\n",
        "    def fit(self, X, y, sample_weight=None):\n",
        "        if sample_weight is not None:\n",
        "            X, y = self.resample_with_replacement(X, y, sample_weight)\n",
        "\n",
        "        return self._fit(X, y, incremental=(self.warm_start and\n",
        "                                            hasattr(self, \"classes_\")))"
      ],
      "execution_count": 12,
      "outputs": []
    },
    {
      "cell_type": "code",
      "metadata": {
        "id": "C3xB9xJy822p",
        "outputId": "1728f880-8aa8-4ff0-eab9-d9080f89ab8c",
        "colab": {
          "base_uri": "https://localhost:8080/"
        }
      },
      "source": [
        "cls = customMLPClassifer()\n",
        "print(cls)"
      ],
      "execution_count": 13,
      "outputs": [
        {
          "output_type": "stream",
          "text": [
            "customMLPClassifer(activation='relu', alpha=0.0001, batch_size='auto',\n",
            "                   beta_1=0.9, beta_2=0.999, early_stopping=False,\n",
            "                   epsilon=1e-08, hidden_layer_sizes=(100,),\n",
            "                   learning_rate='constant', learning_rate_init=0.001,\n",
            "                   max_fun=15000, max_iter=200, momentum=0.9,\n",
            "                   n_iter_no_change=10, nesterovs_momentum=True, power_t=0.5,\n",
            "                   random_state=None, shuffle=True, solver='adam', tol=0.0001,\n",
            "                   validation_fraction=0.1, verbose=False, warm_start=False)\n"
          ],
          "name": "stdout"
        }
      ]
    },
    {
      "cell_type": "markdown",
      "metadata": {
        "id": "Cj-ikQUwx9nJ"
      },
      "source": [
        "### Boosting "
      ]
    },
    {
      "cell_type": "code",
      "metadata": {
        "id": "_BmN7eQI8FKG",
        "outputId": "ca35d0c2-f11a-4e5d-fbc4-29020f3e1c99",
        "colab": {
          "base_uri": "https://localhost:8080/"
        }
      },
      "source": [
        "'''\n",
        "Two Classes Data-set\n",
        "'''\n",
        "estimators = [10, 15, 20]\n",
        "for estimator in estimators:\n",
        "  clf = BaggingClassifier(base_estimator=default_tree_classifier, n_estimators=estimator, random_state=555)\n",
        "  print('Bagging Estimators: ', estimator)\n",
        "  print('ccp_alpha: 0.0 | Two Class Data-set | 7/3 Holdout')\n",
        "  start_time = time.time()\n",
        "  clf.fit(ho_two_class_73_train_X.reshape(ho_two_class_73_train_X.shape[0], -1), ho_two_class_73_train_y)\n",
        "  print(\"Execution Time: %s seconds\" % (time.time() - start_time))\n",
        "  ho_two_class_73_pred_y = clf.predict(ho_two_class_73_test_X.reshape(ho_two_class_73_test_X.shape[0], -1))\n",
        "  matrix = metrics.confusion_matrix(ho_two_class_73_test_y, ho_two_class_73_pred_y)\n",
        "  print('Acurácia:', np.trace(matrix) / len(ho_two_class_73_test_y) * 100, '%')\n",
        "  print('-------------------------------------------------- \\n\\n')"
      ],
      "execution_count": 14,
      "outputs": [
        {
          "output_type": "stream",
          "text": [
            "Bagging Estimators:  10\n",
            "ccp_alpha: 0.0 | Two Class Data-set | 7/3 Holdout\n",
            "Execution Time: 5.062417507171631 seconds\n",
            "Acurácia: 99.68421052631578 %\n",
            "-------------------------------------------------- \n",
            "\n",
            "\n",
            "Bagging Estimators:  15\n",
            "ccp_alpha: 0.0 | Two Class Data-set | 7/3 Holdout\n",
            "Execution Time: 7.567013740539551 seconds\n",
            "Acurácia: 99.60526315789474 %\n",
            "-------------------------------------------------- \n",
            "\n",
            "\n",
            "Bagging Estimators:  20\n",
            "ccp_alpha: 0.0 | Two Class Data-set | 7/3 Holdout\n",
            "Execution Time: 10.215765953063965 seconds\n",
            "Acurácia: 99.6578947368421 %\n",
            "-------------------------------------------------- \n",
            "\n",
            "\n"
          ],
          "name": "stdout"
        }
      ]
    },
    {
      "cell_type": "code",
      "metadata": {
        "id": "K3SpoR2F8Pst",
        "outputId": "e796fa7c-bdc9-40f5-cacf-7fa015d22e61",
        "colab": {
          "base_uri": "https://localhost:8080/"
        }
      },
      "source": [
        "'''\n",
        "Original Size and Holdout sets\n",
        "'''\n",
        "\n",
        "estimators = [10, 15, 20]\n",
        "for estimator in estimators:\n",
        "  clf = BaggingClassifier(base_estimator=default_tree_classifier, n_estimators=estimator, random_state=555)\n",
        "  print('Bagging Estimators: ', estimator)\n",
        "  print('ccp_alpha: 0.0 | Two Class Data-set | 7/3 Holdout')\n",
        "  start_time = time.time()\n",
        "  clf.fit(ho_original_73_train_X.reshape(ho_original_73_train_X.shape[0], -1), ho_original_73_train_y.ravel())\n",
        "  print(\"Execution Time: %s seconds\" % (time.time() - start_time))\n",
        "  ho_original_73_pred_y = clf.predict(ho_original_73_test_X.reshape(ho_original_73_test_X.shape[0], -1))\n",
        "  matrix = metrics.confusion_matrix(ho_original_73_test_y, ho_original_73_pred_y)\n",
        "  print('Acurácia:', np.trace(matrix) / len(ho_original_73_test_y) * 100, '%')\n",
        "  print('-------------------------------------------------- \\n\\n')"
      ],
      "execution_count": 16,
      "outputs": [
        {
          "output_type": "stream",
          "text": [
            "Bagging Estimators:  10\n",
            "ccp_alpha: 0.0 | Two Class Data-set | 7/3 Holdout\n",
            "Execution Time: 91.21309280395508 seconds\n",
            "Acurácia: 93.92777777777778 %\n",
            "-------------------------------------------------- \n",
            "\n",
            "\n",
            "Bagging Estimators:  15\n",
            "ccp_alpha: 0.0 | Two Class Data-set | 7/3 Holdout\n",
            "Execution Time: 136.39903688430786 seconds\n",
            "Acurácia: 94.48333333333333 %\n",
            "-------------------------------------------------- \n",
            "\n",
            "\n",
            "Bagging Estimators:  20\n",
            "ccp_alpha: 0.0 | Two Class Data-set | 7/3 Holdout\n",
            "Execution Time: 182.56247472763062 seconds\n",
            "Acurácia: 94.71666666666667 %\n",
            "-------------------------------------------------- \n",
            "\n",
            "\n"
          ],
          "name": "stdout"
        }
      ]
    }
  ]
}