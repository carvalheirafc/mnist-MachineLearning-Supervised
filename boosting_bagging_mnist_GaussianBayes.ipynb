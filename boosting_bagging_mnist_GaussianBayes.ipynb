{
  "nbformat": 4,
  "nbformat_minor": 0,
  "metadata": {
    "colab": {
      "name": "boosting_bagging_mnist-GaussianBayes.ipynb",
      "provenance": [],
      "toc_visible": true,
      "mount_file_id": "https://github.com/carvalheirafc/mnist-MachineLearning-Supervised/blob/main/boosting_bagging_mnist_GaussianBayes.ipynb",
      "authorship_tag": "ABX9TyOoReVPWNGYJBucw3fnCZL3",
      "include_colab_link": true
    },
    "kernelspec": {
      "name": "python3",
      "display_name": "Python 3"
    }
  },
  "cells": [
    {
      "cell_type": "markdown",
      "metadata": {
        "id": "view-in-github",
        "colab_type": "text"
      },
      "source": [
        "<a href=\"https://colab.research.google.com/github/carvalheirafc/mnist-MachineLearning-Supervised/blob/main/boosting_bagging_mnist_GaussianBayes.ipynb\" target=\"_parent\"><img src=\"https://colab.research.google.com/assets/colab-badge.svg\" alt=\"Open In Colab\"/></a>"
      ]
    },
    {
      "cell_type": "markdown",
      "metadata": {
        "id": "6TysPH2UbCgf"
      },
      "source": [
        "### Import "
      ]
    },
    {
      "cell_type": "code",
      "metadata": {
        "id": "1wE9WD1MARHU"
      },
      "source": [
        "import numpy as np\n",
        "from sklearn.model_selection import train_test_split\n",
        "from sklearn import metrics\n",
        "from sklearn.ensemble import BaggingClassifier\n",
        "from sklearn.ensemble import AdaBoostClassifier\n",
        "from sklearn.naive_bayes import GaussianNB\n",
        "import time"
      ],
      "execution_count": 1,
      "outputs": []
    },
    {
      "cell_type": "markdown",
      "metadata": {
        "id": "ab_eSEisNMkl"
      },
      "source": [
        "### Data Input and miscs\n"
      ]
    },
    {
      "cell_type": "code",
      "metadata": {
        "id": "giwtI9kQSDZM"
      },
      "source": [
        "data_X = np.load('./drive/My Drive/mnist_datasets/mnist_X.npy')\n",
        "data_y = np.load('./drive/My Drive/mnist_datasets/mnist_labels.npy')"
      ],
      "execution_count": 2,
      "outputs": []
    },
    {
      "cell_type": "code",
      "metadata": {
        "id": "dNx1VgivjGHU",
        "colab": {
          "base_uri": "https://localhost:8080/"
        },
        "outputId": "ca523f83-e633-4097-db25-40c39b5f5f93"
      },
      "source": [
        "half_X = np.array(np.split(data_X, 2))\n",
        "half_y = np.array(np.split(data_y, 2))\n",
        "\n",
        "print('Mnist 50% Data: \\n')\n",
        "print('X: ', half_X[0].shape)\n",
        "print('y: ', half_y[0].shape)"
      ],
      "execution_count": 3,
      "outputs": [
        {
          "output_type": "stream",
          "text": [
            "Mnist 50% Data: \n",
            "\n",
            "X:  (30000, 1, 28, 28)\n",
            "y:  (30000, 1)\n"
          ],
          "name": "stdout"
        }
      ]
    },
    {
      "cell_type": "code",
      "metadata": {
        "id": "QJ103KW0nWWf",
        "colab": {
          "base_uri": "https://localhost:8080/"
        },
        "outputId": "aa0bed95-f8b7-413f-a27e-f0289b9c7f36"
      },
      "source": [
        "smaller_X = np.array(np.split(data_X, 5))\n",
        "smaller_y = np.array(np.split(data_y, 5))\n",
        "\n",
        "print('Mnist 20% Data: \\n')\n",
        "print('X: ', smaller_X[0].shape)\n",
        "print('y: ', smaller_y[0].shape)"
      ],
      "execution_count": 4,
      "outputs": [
        {
          "output_type": "stream",
          "text": [
            "Mnist 20% Data: \n",
            "\n",
            "X:  (12000, 1, 28, 28)\n",
            "y:  (12000, 1)\n"
          ],
          "name": "stdout"
        }
      ]
    },
    {
      "cell_type": "code",
      "metadata": {
        "id": "wb13x1BRqUZI",
        "colab": {
          "base_uri": "https://localhost:8080/"
        },
        "outputId": "162aa91f-05f7-4119-aac1-551ce9641260"
      },
      "source": [
        "data_two_classes = np.load('./drive/My Drive/mnist_datasets/two_classes_data.npy', allow_pickle=True)\n",
        "two_classes_X = np.concatenate((data_two_classes[0][0], data_two_classes[1][0]), axis=0)\n",
        "two_classes_y = np.concatenate((data_two_classes[0][1], data_two_classes[1][1]), axis=0)\n",
        "print('Mnist Two Classes: \\n')\n",
        "print('Zeros: ', data_two_classes[0][0].shape)\n",
        "print('Ones:  ', data_two_classes[1][0].shape)\n",
        "print('X:     ', two_classes_X.shape)\n",
        "print('y:     ', two_classes_y.shape)\n"
      ],
      "execution_count": 5,
      "outputs": [
        {
          "output_type": "stream",
          "text": [
            "Mnist Two Classes: \n",
            "\n",
            "Zeros:  (5923, 28, 28)\n",
            "Ones:   (6742, 28, 28)\n",
            "X:      (12665, 28, 28)\n",
            "y:      (12665,)\n"
          ],
          "name": "stdout"
        }
      ]
    },
    {
      "cell_type": "markdown",
      "metadata": {
        "id": "nRo5bh_uDPmC"
      },
      "source": [
        "### Hold-Out Sets\n"
      ]
    },
    {
      "cell_type": "code",
      "metadata": {
        "id": "lVDL-wyNwsnq",
        "colab": {
          "base_uri": "https://localhost:8080/"
        },
        "outputId": "7b07b4a4-f7b4-4358-a695-f9bb8c0f89cb"
      },
      "source": [
        "ho_two_class_91_train_X, ho_two_class_91_test_X, ho_two_class_91_train_y, ho_two_class_91_test_y = train_test_split(two_classes_X, two_classes_y, train_size=0.9, random_state=555)\n",
        "ho_two_class_82_train_X, ho_two_class_82_test_X, ho_two_class_82_train_y, ho_two_class_82_test_y = train_test_split(two_classes_X, two_classes_y, train_size=0.8, random_state=555)\n",
        "ho_two_class_73_train_X, ho_two_class_73_test_X, ho_two_class_73_train_y, ho_two_class_73_test_y = train_test_split(two_classes_X, two_classes_y, train_size=0.7, random_state=555)\n",
        "\n",
        "print('Hold-Out Mnist Two Classes[0, 1] Split\\n')\n",
        "print('9/1: ', ho_two_class_91_train_X.shape)\n",
        "print('8/2: ', ho_two_class_82_train_X.shape)\n",
        "print('7/3: ', ho_two_class_73_train_X.shape)"
      ],
      "execution_count": 6,
      "outputs": [
        {
          "output_type": "stream",
          "text": [
            "Hold-Out Mnist Two Classes[0, 1] Split\n",
            "\n",
            "9/1:  (11398, 28, 28)\n",
            "8/2:  (10132, 28, 28)\n",
            "7/3:  (8865, 28, 28)\n"
          ],
          "name": "stdout"
        }
      ]
    },
    {
      "cell_type": "code",
      "metadata": {
        "id": "_7jfW5pKpdRq",
        "colab": {
          "base_uri": "https://localhost:8080/"
        },
        "outputId": "60dec74c-03bb-4817-f922-e94af630247f"
      },
      "source": [
        "ho_smaller_91_train_X, ho_smaller_91_test_X, ho_smaller_91_train_y, ho_smaller_91_test_y = train_test_split(smaller_X[0], smaller_y[0], train_size=0.9, random_state=555)\n",
        "ho_smaller_82_train_X, ho_smaller_82_test_X, ho_smaller_82_train_y, ho_smaller_82_test_y = train_test_split(smaller_X[0], smaller_y[0], train_size=0.8, random_state=555)\n",
        "ho_smaller_73_train_X, ho_smaller_73_test_X, ho_smaller_73_train_y, ho_smaller_73_test_y = train_test_split(smaller_X[0], smaller_y[0], train_size=0.7, random_state=555)\n",
        "\n",
        "print('Hold-Out Half Data Split\\n')\n",
        "print('9/1: ', ho_smaller_91_train_X.shape)\n",
        "print('8/2: ', ho_smaller_82_train_X.shape)\n",
        "print('7/3: ', ho_smaller_73_train_X.shape)"
      ],
      "execution_count": 7,
      "outputs": [
        {
          "output_type": "stream",
          "text": [
            "Hold-Out Half Data Split\n",
            "\n",
            "9/1:  (10800, 1, 28, 28)\n",
            "8/2:  (9600, 1, 28, 28)\n",
            "7/3:  (8400, 1, 28, 28)\n"
          ],
          "name": "stdout"
        }
      ]
    },
    {
      "cell_type": "markdown",
      "metadata": {
        "id": "giIeWqGo66Fz"
      },
      "source": [
        "### Classifier"
      ]
    },
    {
      "cell_type": "code",
      "metadata": {
        "id": "C3xB9xJy822p"
      },
      "source": [
        "'''\n",
        "var_smoothing 1e-9\n",
        "'''\n",
        "\n",
        "default_gaussian_classifier = GaussianNB(var_smoothing=1e-9)"
      ],
      "execution_count": 8,
      "outputs": []
    },
    {
      "cell_type": "markdown",
      "metadata": {
        "id": "bYEBhIDer0gw"
      },
      "source": [
        "### Bagging"
      ]
    },
    {
      "cell_type": "code",
      "metadata": {
        "id": "sNztLjfwkVTs",
        "colab": {
          "base_uri": "https://localhost:8080/"
        },
        "outputId": "c4487ac2-7e76-4769-fc52-d0db6ed3d57c"
      },
      "source": [
        "'''\n",
        "Two Classes Data-set\n",
        "'''\n",
        "\n",
        "for estimator in [10, 15, 20]:\n",
        "  clf = BaggingClassifier(base_estimator=default_gaussian_classifier, n_estimators=estimator, random_state=555)\n",
        "  print('Bagging Estimators: ', estimator)\n",
        "  print('var_smoothing=1e-9 | Two Class Data-set | 9/1 Holdout')\n",
        "  start_time = time.time()\n",
        "  clf.fit(ho_two_class_91_train_X.reshape(ho_two_class_91_train_X.shape[0], -1), ho_two_class_91_train_y)\n",
        "  print(\"Execution Time: %s seconds\" % (time.time() - start_time))\n",
        "  ho_two_class_91_pred_y = clf.predict(ho_two_class_91_test_X.reshape(ho_two_class_91_test_X.shape[0], -1))\n",
        "  matrix = metrics.confusion_matrix(ho_two_class_91_test_y, ho_two_class_91_pred_y)\n",
        "  print('Acurácia:', np.trace(matrix) / len(ho_two_class_91_test_y) * 100, '%')\n",
        "  print('-------------------------------------------------- \\n\\n')\n",
        "\n",
        "for estimator in [10, 15, 20]:\n",
        "  clf = BaggingClassifier(base_estimator=default_gaussian_classifier, n_estimators=estimator, random_state=555)\n",
        "  print('Bagging Estimators: ', estimator)\n",
        "  print('var_smoothing=1e-9 | Two Class Data-set | 8/2 Holdout')\n",
        "  start_time = time.time()\n",
        "  clf.fit(ho_two_class_82_train_X.reshape(ho_two_class_82_train_X.shape[0], -1), ho_two_class_82_train_y)\n",
        "  print(\"Execution Time: %s seconds\" % (time.time() - start_time))\n",
        "  ho_two_class_82_pred_y = clf.predict(ho_two_class_82_test_X.reshape(ho_two_class_82_test_X.shape[0], -1))\n",
        "  matrix = metrics.confusion_matrix(ho_two_class_82_test_y, ho_two_class_82_pred_y)\n",
        "  print('Acurácia:', np.trace(matrix) / len(ho_two_class_82_test_y) * 100, '%')\n",
        "  print('-------------------------------------------------- \\n\\n')\n",
        "\n",
        "for estimator in [10, 15, 20]:\n",
        "  clf = BaggingClassifier(base_estimator=default_gaussian_classifier, n_estimators=estimator, random_state=555)\n",
        "  print('Bagging Estimators: ', estimator)\n",
        "  print('var_smoothing=1e-9 | Two Class Data-set | 7/3 Holdout')\n",
        "  start_time = time.time()\n",
        "  clf.fit(ho_two_class_73_train_X.reshape(ho_two_class_73_train_X.shape[0], -1), ho_two_class_73_train_y)\n",
        "  print(\"Execution Time: %s seconds\" % (time.time() - start_time))\n",
        "  ho_two_class_73_pred_y = clf.predict(ho_two_class_73_test_X.reshape(ho_two_class_73_test_X.shape[0], -1))\n",
        "  matrix = metrics.confusion_matrix(ho_two_class_73_test_y, ho_two_class_73_pred_y)\n",
        "  print('Acurácia:', np.trace(matrix) / len(ho_two_class_73_test_y) * 100, '%')\n",
        "  print('-------------------------------------------------- \\n\\n')"
      ],
      "execution_count": 9,
      "outputs": [
        {
          "output_type": "stream",
          "text": [
            "Bagging Estimators:  10\n",
            "var_smoothing=1e-9 | Two Class Data-set | 9/1 Holdout\n",
            "Execution Time: 3.2498152256011963 seconds\n",
            "Acurácia: 98.26361483820048 %\n",
            "-------------------------------------------------- \n",
            "\n",
            "\n",
            "Bagging Estimators:  15\n",
            "var_smoothing=1e-9 | Two Class Data-set | 9/1 Holdout\n",
            "Execution Time: 4.643060684204102 seconds\n",
            "Acurácia: 98.34254143646409 %\n",
            "-------------------------------------------------- \n",
            "\n",
            "\n",
            "Bagging Estimators:  20\n",
            "var_smoothing=1e-9 | Two Class Data-set | 9/1 Holdout\n",
            "Execution Time: 6.192869186401367 seconds\n",
            "Acurácia: 98.34254143646409 %\n",
            "-------------------------------------------------- \n",
            "\n",
            "\n",
            "Bagging Estimators:  10\n",
            "var_smoothing=1e-9 | Two Class Data-set | 8/2 Holdout\n",
            "Execution Time: 2.7295689582824707 seconds\n",
            "Acurácia: 98.02605606000789 %\n",
            "-------------------------------------------------- \n",
            "\n",
            "\n",
            "Bagging Estimators:  15\n",
            "var_smoothing=1e-9 | Two Class Data-set | 8/2 Holdout\n",
            "Execution Time: 4.0908753871917725 seconds\n",
            "Acurácia: 98.10501381760758 %\n",
            "-------------------------------------------------- \n",
            "\n",
            "\n",
            "Bagging Estimators:  20\n",
            "var_smoothing=1e-9 | Two Class Data-set | 8/2 Holdout\n",
            "Execution Time: 5.538267135620117 seconds\n",
            "Acurácia: 98.06553493880774 %\n",
            "-------------------------------------------------- \n",
            "\n",
            "\n",
            "Bagging Estimators:  10\n",
            "var_smoothing=1e-9 | Two Class Data-set | 7/3 Holdout\n",
            "Execution Time: 2.4345390796661377 seconds\n",
            "Acurácia: 97.97368421052632 %\n",
            "-------------------------------------------------- \n",
            "\n",
            "\n",
            "Bagging Estimators:  15\n",
            "var_smoothing=1e-9 | Two Class Data-set | 7/3 Holdout\n",
            "Execution Time: 3.6654930114746094 seconds\n",
            "Acurácia: 98.07894736842105 %\n",
            "-------------------------------------------------- \n",
            "\n",
            "\n",
            "Bagging Estimators:  20\n",
            "var_smoothing=1e-9 | Two Class Data-set | 7/3 Holdout\n",
            "Execution Time: 4.8813605308532715 seconds\n",
            "Acurácia: 98.10526315789474 %\n",
            "-------------------------------------------------- \n",
            "\n",
            "\n"
          ],
          "name": "stdout"
        }
      ]
    },
    {
      "cell_type": "code",
      "metadata": {
        "id": "-inhq6GcesYz",
        "colab": {
          "base_uri": "https://localhost:8080/"
        },
        "outputId": "84cd5291-5d39-4f64-8137-29b3f6cb68a8"
      },
      "source": [
        "'''\n",
        "Smaller Size and Holdout sets\n",
        "'''\n",
        "\n",
        "for estimator in [10, 15, 20]:\n",
        "  clf = BaggingClassifier(base_estimator=default_gaussian_classifier, n_estimators=estimator, random_state=555)\n",
        "  print('Bagging Estimators: ', estimator)\n",
        "  print('var_smoothing=1e-9 | Smaller Data-set | 9/1 Holdout')\n",
        "  start_time = time.time()\n",
        "  clf.fit(ho_smaller_91_train_X.reshape(ho_smaller_91_train_X.shape[0], -1), ho_smaller_91_train_y.ravel())\n",
        "  print(\"Execution Time: %s seconds\" % (time.time() - start_time))\n",
        "  ho_smaller_91_pred_y = clf.predict(ho_smaller_91_test_X.reshape(ho_smaller_91_test_X.shape[0], -1))\n",
        "  matrix = metrics.confusion_matrix(ho_smaller_91_test_y, ho_smaller_91_pred_y)\n",
        "  print('Acurácia:', np.trace(matrix) / len(ho_smaller_91_test_y) * 100, '%')\n",
        "  print('-------------------------------------------------- \\n\\n')\n",
        "\n",
        "for estimator in [10, 15, 20]:\n",
        "  clf = BaggingClassifier(base_estimator=default_gaussian_classifier, n_estimators=estimator, random_state=555)\n",
        "  print('Bagging Estimators: ', estimator)\n",
        "  print('var_smoothing=1e-9 | Smaller Data-set | 8/2 Holdout')\n",
        "  start_time = time.time()\n",
        "  clf.fit(ho_smaller_82_train_X.reshape(ho_smaller_82_train_X.shape[0], -1), ho_smaller_82_train_y.ravel())\n",
        "  print(\"Execution Time: %s seconds\" % (time.time() - start_time))\n",
        "  ho_smaller_82_pred_y = clf.predict(ho_smaller_82_test_X.reshape(ho_smaller_82_test_X.shape[0], -1))\n",
        "  matrix = metrics.confusion_matrix(ho_smaller_82_test_y, ho_smaller_82_pred_y)\n",
        "  print('Acurácia:', np.trace(matrix) / len(ho_smaller_82_test_y) * 100, '%')\n",
        "  print('-------------------------------------------------- \\n\\n')\n",
        "\n",
        "for estimator in [10, 15, 20]:\n",
        "  clf = BaggingClassifier(base_estimator=default_gaussian_classifier, n_estimators=estimator, random_state=555)\n",
        "  print('Bagging Estimators: ', estimator)\n",
        "  print('var_smoothing=1e-9 | Smaller Data-set | 7/3 Holdout')\n",
        "  start_time = time.time()\n",
        "  clf.fit(ho_smaller_73_train_X.reshape(ho_smaller_73_train_X.shape[0], -1), ho_smaller_73_train_y.ravel())\n",
        "  print(\"Execution Time: %s seconds\" % (time.time() - start_time))\n",
        "  ho_smaller_73_pred_y = clf.predict(ho_smaller_73_test_X.reshape(ho_smaller_73_test_X.shape[0], -1))\n",
        "  matrix = metrics.confusion_matrix(ho_smaller_73_test_y, ho_smaller_73_pred_y)\n",
        "  print('Acurácia:', np.trace(matrix) / len(ho_smaller_73_test_y) * 100, '%')\n",
        "  print('-------------------------------------------------- \\n\\n')"
      ],
      "execution_count": 10,
      "outputs": [
        {
          "output_type": "stream",
          "text": [
            "Bagging Estimators:  10\n",
            "var_smoothing=1e-9 | Smaller Data-set | 9/1 Holdout\n",
            "Execution Time: 3.8466711044311523 seconds\n",
            "Acurácia: 60.0 %\n",
            "-------------------------------------------------- \n",
            "\n",
            "\n",
            "Bagging Estimators:  15\n",
            "var_smoothing=1e-9 | Smaller Data-set | 9/1 Holdout\n",
            "Execution Time: 5.725623846054077 seconds\n",
            "Acurácia: 60.416666666666664 %\n",
            "-------------------------------------------------- \n",
            "\n",
            "\n",
            "Bagging Estimators:  20\n",
            "var_smoothing=1e-9 | Smaller Data-set | 9/1 Holdout\n",
            "Execution Time: 7.6382811069488525 seconds\n",
            "Acurácia: 60.333333333333336 %\n",
            "-------------------------------------------------- \n",
            "\n",
            "\n",
            "Bagging Estimators:  10\n",
            "var_smoothing=1e-9 | Smaller Data-set | 8/2 Holdout\n",
            "Execution Time: 3.5024547576904297 seconds\n",
            "Acurácia: 61.66666666666667 %\n",
            "-------------------------------------------------- \n",
            "\n",
            "\n",
            "Bagging Estimators:  15\n",
            "var_smoothing=1e-9 | Smaller Data-set | 8/2 Holdout\n",
            "Execution Time: 5.203994035720825 seconds\n",
            "Acurácia: 61.291666666666664 %\n",
            "-------------------------------------------------- \n",
            "\n",
            "\n",
            "Bagging Estimators:  20\n",
            "var_smoothing=1e-9 | Smaller Data-set | 8/2 Holdout\n",
            "Execution Time: 7.1249566078186035 seconds\n",
            "Acurácia: 61.33333333333333 %\n",
            "-------------------------------------------------- \n",
            "\n",
            "\n",
            "Bagging Estimators:  10\n",
            "var_smoothing=1e-9 | Smaller Data-set | 7/3 Holdout\n",
            "Execution Time: 2.9771833419799805 seconds\n",
            "Acurácia: 60.05555555555555 %\n",
            "-------------------------------------------------- \n",
            "\n",
            "\n",
            "Bagging Estimators:  15\n",
            "var_smoothing=1e-9 | Smaller Data-set | 7/3 Holdout\n",
            "Execution Time: 4.531887769699097 seconds\n",
            "Acurácia: 59.75 %\n",
            "-------------------------------------------------- \n",
            "\n",
            "\n",
            "Bagging Estimators:  20\n",
            "var_smoothing=1e-9 | Smaller Data-set | 7/3 Holdout\n",
            "Execution Time: 6.09884238243103 seconds\n",
            "Acurácia: 59.80555555555556 %\n",
            "-------------------------------------------------- \n",
            "\n",
            "\n"
          ],
          "name": "stdout"
        }
      ]
    },
    {
      "cell_type": "markdown",
      "metadata": {
        "id": "Cj-ikQUwx9nJ"
      },
      "source": [
        "### Boosting "
      ]
    },
    {
      "cell_type": "code",
      "metadata": {
        "id": "_BmN7eQI8FKG",
        "colab": {
          "base_uri": "https://localhost:8080/"
        },
        "outputId": "6bd6f510-b47e-4750-ce32-fddacbc6ebcc"
      },
      "source": [
        "'''\n",
        "Two Classes Data-set\n",
        "'''\n",
        "\n",
        "for estimator in [10, 15, 20]:\n",
        "  clf = AdaBoostClassifier(base_estimator=default_gaussian_classifier, n_estimators=estimator, random_state=555)\n",
        "  print('Boosting Estimators: ', estimator)\n",
        "  print('var_smoothing=1e-9 | Two Class Data-set | 9/1 Holdout')\n",
        "  start_time = time.time()\n",
        "  clf.fit(ho_two_class_91_train_X.reshape(ho_two_class_91_train_X.shape[0], -1), ho_two_class_91_train_y)\n",
        "  print(\"Execution Time: %s seconds\" % (time.time() - start_time))\n",
        "  ho_two_class_91_pred_y = clf.predict(ho_two_class_91_test_X.reshape(ho_two_class_91_test_X.shape[0], -1))\n",
        "  matrix = metrics.confusion_matrix(ho_two_class_91_test_y, ho_two_class_91_pred_y)\n",
        "  print('Acurácia:', np.trace(matrix) / len(ho_two_class_91_test_y) * 100, '%')\n",
        "  print('-------------------------------------------------- \\n\\n')\n",
        "\n",
        "for estimator in [10, 15, 20]:\n",
        "  clf = AdaBoostClassifier(base_estimator=default_gaussian_classifier, n_estimators=estimator, random_state=555)\n",
        "  print('Boosting Estimators: ', estimator)\n",
        "  print('var_smoothing=1e-9 | Two Class Data-set | 8/2 Holdout')\n",
        "  start_time = time.time()\n",
        "  clf.fit(ho_two_class_82_train_X.reshape(ho_two_class_82_train_X.shape[0], -1), ho_two_class_82_train_y)\n",
        "  print(\"Execution Time: %s seconds\" % (time.time() - start_time))\n",
        "  ho_two_class_82_pred_y = clf.predict(ho_two_class_82_test_X.reshape(ho_two_class_82_test_X.shape[0], -1))\n",
        "  matrix = metrics.confusion_matrix(ho_two_class_82_test_y, ho_two_class_82_pred_y)\n",
        "  print('Acurácia:', np.trace(matrix) / len(ho_two_class_82_test_y) * 100, '%')\n",
        "  print('-------------------------------------------------- \\n\\n')\n",
        "\n",
        "for estimator in [10, 15, 20]:\n",
        "  clf = AdaBoostClassifier(base_estimator=default_gaussian_classifier, n_estimators=estimator, random_state=555)\n",
        "  print('Boosting Estimators: ', estimator)\n",
        "  print('var_smoothing=1e-9 | Two Class Data-set | 7/3 Holdout')\n",
        "  start_time = time.time()\n",
        "  clf.fit(ho_two_class_73_train_X.reshape(ho_two_class_73_train_X.shape[0], -1), ho_two_class_73_train_y)\n",
        "  print(\"Execution Time: %s seconds\" % (time.time() - start_time))\n",
        "  ho_two_class_73_pred_y = clf.predict(ho_two_class_73_test_X.reshape(ho_two_class_73_test_X.shape[0], -1))\n",
        "  matrix = metrics.confusion_matrix(ho_two_class_73_test_y, ho_two_class_73_pred_y)\n",
        "  print('Acurácia:', np.trace(matrix) / len(ho_two_class_73_test_y) * 100, '%')\n",
        "  print('-------------------------------------------------- \\n\\n')\n"
      ],
      "execution_count": 11,
      "outputs": [
        {
          "output_type": "stream",
          "text": [
            "Boosting Estimators:  10\n",
            "var_smoothing=1e-9 | Two Class Data-set | 9/1 Holdout\n",
            "Execution Time: 4.079488039016724 seconds\n",
            "Acurácia: 89.26598263614838 %\n",
            "-------------------------------------------------- \n",
            "\n",
            "\n",
            "Boosting Estimators:  15\n",
            "var_smoothing=1e-9 | Two Class Data-set | 9/1 Holdout\n",
            "Execution Time: 6.137608289718628 seconds\n",
            "Acurácia: 87.45067087608524 %\n",
            "-------------------------------------------------- \n",
            "\n",
            "\n",
            "Boosting Estimators:  20\n",
            "var_smoothing=1e-9 | Two Class Data-set | 9/1 Holdout\n",
            "Execution Time: 8.241487741470337 seconds\n",
            "Acurácia: 94.55406471981057 %\n",
            "-------------------------------------------------- \n",
            "\n",
            "\n",
            "Boosting Estimators:  10\n",
            "var_smoothing=1e-9 | Two Class Data-set | 8/2 Holdout\n",
            "Execution Time: 3.5738203525543213 seconds\n",
            "Acurácia: 98.26292933280695 %\n",
            "-------------------------------------------------- \n",
            "\n",
            "\n",
            "Boosting Estimators:  15\n",
            "var_smoothing=1e-9 | Two Class Data-set | 8/2 Holdout\n",
            "Execution Time: 5.307141304016113 seconds\n",
            "Acurácia: 93.5254638768259 %\n",
            "-------------------------------------------------- \n",
            "\n",
            "\n",
            "Boosting Estimators:  20\n",
            "var_smoothing=1e-9 | Two Class Data-set | 8/2 Holdout\n",
            "Execution Time: 7.011902332305908 seconds\n",
            "Acurácia: 59.178839320963284 %\n",
            "-------------------------------------------------- \n",
            "\n",
            "\n",
            "Boosting Estimators:  10\n",
            "var_smoothing=1e-9 | Two Class Data-set | 7/3 Holdout\n",
            "Execution Time: 3.100311279296875 seconds\n",
            "Acurácia: 98.39473684210527 %\n",
            "-------------------------------------------------- \n",
            "\n",
            "\n",
            "Boosting Estimators:  15\n",
            "var_smoothing=1e-9 | Two Class Data-set | 7/3 Holdout\n",
            "Execution Time: 4.673964262008667 seconds\n",
            "Acurácia: 66.97368421052632 %\n",
            "-------------------------------------------------- \n",
            "\n",
            "\n",
            "Boosting Estimators:  20\n",
            "var_smoothing=1e-9 | Two Class Data-set | 7/3 Holdout\n",
            "Execution Time: 6.259798526763916 seconds\n",
            "Acurácia: 69.6842105263158 %\n",
            "-------------------------------------------------- \n",
            "\n",
            "\n"
          ],
          "name": "stdout"
        }
      ]
    },
    {
      "cell_type": "code",
      "metadata": {
        "id": "Whj5SamOr3j5",
        "outputId": "287368b2-3beb-4cb0-b7d6-47567220a487",
        "colab": {
          "base_uri": "https://localhost:8080/"
        }
      },
      "source": [
        "'''\n",
        "Smaller Size and Holdout sets\n",
        "'''\n",
        "\n",
        "for estimator in [10, 15, 20]:\n",
        "  clf = AdaBoostClassifier(base_estimator=default_gaussian_classifier, n_estimators=estimator, random_state=555)\n",
        "  print('Boosting Estimators: ', estimator)\n",
        "  print('var_smoothing=1e-9 | Smaller Data-set | 9/1 Holdout')\n",
        "  start_time = time.time()\n",
        "  clf.fit(ho_smaller_91_train_X.reshape(ho_smaller_91_train_X.shape[0], -1), ho_smaller_91_train_y.ravel())\n",
        "  print(\"Execution Time: %s seconds\" % (time.time() - start_time))\n",
        "  ho_smaller_91_pred_y = clf.predict(ho_smaller_91_test_X.reshape(ho_smaller_91_test_X.shape[0], -1))\n",
        "  matrix = metrics.confusion_matrix(ho_smaller_91_test_y, ho_smaller_91_pred_y)\n",
        "  print('Acurácia:', np.trace(matrix) / len(ho_smaller_91_test_y) * 100, '%')\n",
        "  print('-------------------------------------------------- \\n\\n')\n",
        "\n",
        "for estimator in [10, 15, 20]:\n",
        "  clf = AdaBoostClassifier(base_estimator=default_gaussian_classifier, n_estimators=estimator, random_state=555)\n",
        "  print('Boosting Estimators: ', estimator)\n",
        "  print('var_smoothing=1e-9 | Smaller Data-set | 8/2 Holdout')\n",
        "  start_time = time.time()\n",
        "  clf.fit(ho_smaller_82_train_X.reshape(ho_smaller_82_train_X.shape[0], -1), ho_smaller_82_train_y.ravel())\n",
        "  print(\"Execution Time: %s seconds\" % (time.time() - start_time))\n",
        "  ho_smaller_82_pred_y = clf.predict(ho_smaller_82_test_X.reshape(ho_smaller_82_test_X.shape[0], -1))\n",
        "  matrix = metrics.confusion_matrix(ho_smaller_82_test_y, ho_smaller_82_pred_y)\n",
        "  print('Acurácia:', np.trace(matrix) / len(ho_smaller_82_test_y) * 100, '%')\n",
        "  print('-------------------------------------------------- \\n\\n')\n",
        "\n",
        "for estimator in [10, 15, 20]:\n",
        "  clf = AdaBoostClassifier(base_estimator=default_gaussian_classifier, n_estimators=estimator, random_state=555)\n",
        "  print('Boosting Estimators: ', estimator)\n",
        "  print('var_smoothing=1e-9 | Smaller Data-set | 7/3 Holdout')\n",
        "  start_time = time.time()\n",
        "  clf.fit(ho_smaller_73_train_X.reshape(ho_smaller_73_train_X.shape[0], -1), ho_smaller_73_train_y.ravel())\n",
        "  print(\"Execution Time: %s seconds\" % (time.time() - start_time))\n",
        "  ho_smaller_73_pred_y = clf.predict(ho_smaller_73_test_X.reshape(ho_smaller_73_test_X.shape[0], -1))\n",
        "  matrix = metrics.confusion_matrix(ho_smaller_73_test_y, ho_smaller_73_pred_y)\n",
        "  print('Acurácia:', np.trace(matrix) / len(ho_smaller_73_test_y) * 100, '%')\n",
        "  print('-------------------------------------------------- \\n\\n')"
      ],
      "execution_count": 12,
      "outputs": [
        {
          "output_type": "stream",
          "text": [
            "Boosting Estimators:  10\n",
            "var_smoothing=1e-9 | Smaller Data-set | 9/1 Holdout\n",
            "Execution Time: 10.010430097579956 seconds\n",
            "Acurácia: 53.75 %\n",
            "-------------------------------------------------- \n",
            "\n",
            "\n",
            "Boosting Estimators:  15\n",
            "var_smoothing=1e-9 | Smaller Data-set | 9/1 Holdout\n",
            "Execution Time: 14.849503517150879 seconds\n",
            "Acurácia: 59.66666666666667 %\n",
            "-------------------------------------------------- \n",
            "\n",
            "\n",
            "Boosting Estimators:  20\n",
            "var_smoothing=1e-9 | Smaller Data-set | 9/1 Holdout\n",
            "Execution Time: 20.136356115341187 seconds\n",
            "Acurácia: 59.916666666666664 %\n",
            "-------------------------------------------------- \n",
            "\n",
            "\n",
            "Boosting Estimators:  10\n",
            "var_smoothing=1e-9 | Smaller Data-set | 8/2 Holdout\n",
            "Execution Time: 9.09387493133545 seconds\n",
            "Acurácia: 54.541666666666664 %\n",
            "-------------------------------------------------- \n",
            "\n",
            "\n",
            "Boosting Estimators:  15\n",
            "var_smoothing=1e-9 | Smaller Data-set | 8/2 Holdout\n",
            "Execution Time: 14.041634559631348 seconds\n",
            "Acurácia: 57.54166666666667 %\n",
            "-------------------------------------------------- \n",
            "\n",
            "\n",
            "Boosting Estimators:  20\n",
            "var_smoothing=1e-9 | Smaller Data-set | 8/2 Holdout\n",
            "Execution Time: 18.067928552627563 seconds\n",
            "Acurácia: 56.958333333333336 %\n",
            "-------------------------------------------------- \n",
            "\n",
            "\n",
            "Boosting Estimators:  10\n",
            "var_smoothing=1e-9 | Smaller Data-set | 7/3 Holdout\n",
            "Execution Time: 7.871151447296143 seconds\n",
            "Acurácia: 51.22222222222222 %\n",
            "-------------------------------------------------- \n",
            "\n",
            "\n",
            "Boosting Estimators:  15\n",
            "var_smoothing=1e-9 | Smaller Data-set | 7/3 Holdout\n",
            "Execution Time: 11.923823833465576 seconds\n",
            "Acurácia: 54.11111111111111 %\n",
            "-------------------------------------------------- \n",
            "\n",
            "\n",
            "Boosting Estimators:  20\n",
            "var_smoothing=1e-9 | Smaller Data-set | 7/3 Holdout\n",
            "Execution Time: 15.802878618240356 seconds\n",
            "Acurácia: 53.11111111111111 %\n",
            "-------------------------------------------------- \n",
            "\n",
            "\n"
          ],
          "name": "stdout"
        }
      ]
    }
  ]
}