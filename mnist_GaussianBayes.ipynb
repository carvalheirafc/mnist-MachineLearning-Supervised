{
  "nbformat": 4,
  "nbformat_minor": 0,
  "metadata": {
    "colab": {
      "name": "mnist-GaussianBayes.ipynb",
      "provenance": [],
      "toc_visible": true,
      "mount_file_id": "1q9D3A0g93vXc-a4F-ymsQSV8_qmfv_t1",
      "authorship_tag": "ABX9TyNhDqOY2HkHUdkzC6byHhB5",
      "include_colab_link": true
    },
    "kernelspec": {
      "name": "python3",
      "display_name": "Python 3"
    }
  },
  "cells": [
    {
      "cell_type": "markdown",
      "metadata": {
        "id": "view-in-github",
        "colab_type": "text"
      },
      "source": [
        "<a href=\"https://colab.research.google.com/github/carvalheirafc/mnist-deeplearning/blob/main/mnist_GaussianBayes.ipynb\" target=\"_parent\"><img src=\"https://colab.research.google.com/assets/colab-badge.svg\" alt=\"Open In Colab\"/></a>"
      ]
    },
    {
      "cell_type": "code",
      "metadata": {
        "id": "1wE9WD1MARHU"
      },
      "source": [
        "import numpy as np\n",
        "from sklearn.model_selection import train_test_split\n",
        "from sklearn.model_selection import KFold"
      ],
      "execution_count": 1,
      "outputs": []
    },
    {
      "cell_type": "markdown",
      "metadata": {
        "id": "ab_eSEisNMkl"
      },
      "source": [
        "### Data Input and miscs\n"
      ]
    },
    {
      "cell_type": "code",
      "metadata": {
        "id": "giwtI9kQSDZM"
      },
      "source": [
        "data_X = np.load('./drive/My Drive/mnist_datasets/mnist_X.npy')\n",
        "data_y = np.load('./drive/My Drive/mnist_datasets/mnist_labels.npy')"
      ],
      "execution_count": 2,
      "outputs": []
    },
    {
      "cell_type": "code",
      "metadata": {
        "id": "dNx1VgivjGHU",
        "outputId": "0d416db2-fafb-492f-8ba9-e7f7572bc535",
        "colab": {
          "base_uri": "https://localhost:8080/"
        }
      },
      "source": [
        "half_X = np.array(np.split(data_X, 2))\n",
        "half_y = np.array(np.split(data_y, 2))\n",
        "\n",
        "print('Mnist 50% Data: \\n')\n",
        "print('X: ', half_X[0].shape)\n",
        "print('y: ', half_y[0].shape)"
      ],
      "execution_count": 3,
      "outputs": [
        {
          "output_type": "stream",
          "text": [
            "Mnist 50% Data: \n",
            "\n",
            "X:  (30000, 1, 28, 28)\n",
            "y:  (30000, 1)\n"
          ],
          "name": "stdout"
        }
      ]
    },
    {
      "cell_type": "code",
      "metadata": {
        "id": "QJ103KW0nWWf",
        "outputId": "d67fd34a-672d-440a-dc16-a2dd5816e617",
        "colab": {
          "base_uri": "https://localhost:8080/"
        }
      },
      "source": [
        "smaller_X = np.array(np.split(data_X, 5))\n",
        "smaller_y = np.array(np.split(data_y, 5))\n",
        "\n",
        "print('Mnist 20% Data: \\n')\n",
        "print('X: ', smaller_X[0].shape)\n",
        "print('y: ', smaller_y[0].shape)"
      ],
      "execution_count": 4,
      "outputs": [
        {
          "output_type": "stream",
          "text": [
            "Mnist 20% Data: \n",
            "\n",
            "X:  (12000, 1, 28, 28)\n",
            "y:  (12000, 1)\n"
          ],
          "name": "stdout"
        }
      ]
    },
    {
      "cell_type": "code",
      "metadata": {
        "id": "wb13x1BRqUZI",
        "outputId": "bb7a5696-10ff-4ebf-b951-512d2e294c97",
        "colab": {
          "base_uri": "https://localhost:8080/"
        }
      },
      "source": [
        "data_two_classes = np.load('./drive/My Drive/mnist_datasets/two_classes_data.npy', allow_pickle=True)\n",
        "two_classes_X = np.concatenate((data_two_classes[0][0], data_two_classes[1][0]), axis=0)\n",
        "two_classes_y = np.concatenate((data_two_classes[0][1], data_two_classes[1][1]), axis=0)\n",
        "print('Mnist Two Classes: \\n')\n",
        "print('Zeros: ', data_two_classes[0][0].shape)\n",
        "print('Ones:  ', data_two_classes[1][0].shape)\n",
        "print('X:     ', two_classes_X.shape)\n",
        "print('y:     ', two_classes_y.shape)\n"
      ],
      "execution_count": 5,
      "outputs": [
        {
          "output_type": "stream",
          "text": [
            "Mnist Two Classes: \n",
            "\n",
            "Zeros:  (5923, 28, 28)\n",
            "Ones:   (6742, 28, 28)\n",
            "X:      (12665, 28, 28)\n",
            "y:      (12665,)\n"
          ],
          "name": "stdout"
        }
      ]
    },
    {
      "cell_type": "markdown",
      "metadata": {
        "id": "nRo5bh_uDPmC"
      },
      "source": [
        "### Hold-Out Sets\n"
      ]
    },
    {
      "cell_type": "code",
      "metadata": {
        "id": "GgjdsiT-Edcx",
        "outputId": "83788bd1-50e0-4c9f-e6b8-ca56c11e22d3",
        "colab": {
          "base_uri": "https://localhost:8080/"
        }
      },
      "source": [
        "ho_original_91_train_X, ho_original_91_test_X, ho_original_91_train_y, ho_original_91_test_y = train_test_split(data_X, data_y, train_size=0.9, random_state=555)\n",
        "ho_original_82_train_X, ho_original_82_test_X, ho_original_82_train_y, ho_original_82_test_y = train_test_split(data_X, data_y, train_size=0.8, random_state=555)\n",
        "ho_original_73_train_X, ho_original_73_test_X, ho_original_73_train_y, ho_original_73_test_y = train_test_split(data_X, data_y, train_size=0.7, random_state=555)\n",
        "\n",
        "print('Hold-Out Original Data Split\\n')\n",
        "print('9/1: ', ho_original_91_train_X.shape)\n",
        "print('8/2: ', ho_original_82_train_X.shape)\n",
        "print('7/3: ', ho_original_73_train_X.shape)"
      ],
      "execution_count": 6,
      "outputs": [
        {
          "output_type": "stream",
          "text": [
            "Hold-Out Original Data Split\n",
            "\n",
            "9/1:  (54000, 1, 28, 28)\n",
            "8/2:  (48000, 1, 28, 28)\n",
            "7/3:  (42000, 1, 28, 28)\n"
          ],
          "name": "stdout"
        }
      ]
    },
    {
      "cell_type": "code",
      "metadata": {
        "id": "H9vaxIsxrcUB",
        "outputId": "397300ab-8a10-4fb9-cedc-1802bab8866a",
        "colab": {
          "base_uri": "https://localhost:8080/"
        }
      },
      "source": [
        "ho_half_91_train_X, ho_half_91_test_X, ho_half_91_train_y, ho_half_91_test_y = train_test_split(half_X[0], half_y[0], train_size=0.9, random_state=555)\n",
        "ho_half_82_train_X, ho_half_82_test_X, ho_half_82_train_y, ho_half_82_test_y = train_test_split(half_X[0], half_y[0], train_size=0.8, random_state=555)\n",
        "ho_half_73_train_X, ho_half_73_test_X, ho_half_73_train_y, ho_half_73_test_y = train_test_split(half_X[0], half_y[0], train_size=0.7, random_state=555)\n",
        "\n",
        "print('Hold-Out Half Data Split\\n')\n",
        "print('9/1: ', ho_half_91_train_X.shape)\n",
        "print('8/2: ', ho_half_82_train_X.shape)\n",
        "print('7/3: ', ho_half_73_train_X.shape)\n"
      ],
      "execution_count": 7,
      "outputs": [
        {
          "output_type": "stream",
          "text": [
            "Hold-Out Half Data Split\n",
            "\n",
            "9/1:  (27000, 1, 28, 28)\n",
            "8/2:  (24000, 1, 28, 28)\n",
            "7/3:  (21000, 1, 28, 28)\n"
          ],
          "name": "stdout"
        }
      ]
    },
    {
      "cell_type": "code",
      "metadata": {
        "id": "iVr9Hsm3tVy4",
        "outputId": "2739413f-2341-4483-f0f5-62cdfc8368e4",
        "colab": {
          "base_uri": "https://localhost:8080/"
        }
      },
      "source": [
        "ho_smaller_91_train_X, ho_smaller_91_test_X, ho_smaller_91_train_y, ho_smaller_91_test_y = train_test_split(smaller_X[0], smaller_y[0], train_size=0.9, random_state=555)\n",
        "ho_smaller_82_train_X, ho_smaller_82_test_X, ho_smaller_82_train_y, ho_smaller_82_test_y = train_test_split(smaller_X[0], smaller_y[0], train_size=0.8, random_state=555)\n",
        "ho_smaller_73_train_X, ho_smaller_73_test_X, ho_smaller_73_train_y, ho_smaller_73_test_y = train_test_split(smaller_X[0], smaller_y[0], train_size=0.7, random_state=555)\n",
        "\n",
        "print('Hold-Out Half Data Split\\n')\n",
        "print('9/1: ', ho_smaller_91_train_X.shape)\n",
        "print('8/2: ', ho_smaller_82_train_X.shape)\n",
        "print('7/3: ', ho_smaller_73_train_X.shape)"
      ],
      "execution_count": 8,
      "outputs": [
        {
          "output_type": "stream",
          "text": [
            "Hold-Out Half Data Split\n",
            "\n",
            "9/1:  (10800, 1, 28, 28)\n",
            "8/2:  (9600, 1, 28, 28)\n",
            "7/3:  (8400, 1, 28, 28)\n"
          ],
          "name": "stdout"
        }
      ]
    },
    {
      "cell_type": "code",
      "metadata": {
        "id": "lVDL-wyNwsnq",
        "outputId": "d315950a-6e70-429d-f1bd-e15ddb25371e",
        "colab": {
          "base_uri": "https://localhost:8080/"
        }
      },
      "source": [
        "ho_two_class_91_train_X, ho_two_class_91_test_X, ho_two_class_91_train_y, ho_two_class_91_test_y = train_test_split(two_classes_X, two_classes_y, train_size=0.9, random_state=555)\n",
        "ho_two_class_82_train_X, ho_two_class_82_test_X, ho_two_class_82_train_y, ho_two_class_82_test_y = train_test_split(two_classes_X, two_classes_y, train_size=0.8, random_state=555)\n",
        "ho_two_class_73_train_X, ho_two_class_73_test_X, ho_two_class_73_train_y, ho_two_class_73_test_y = train_test_split(two_classes_X, two_classes_y, train_size=0.7, random_state=555)\n",
        "\n",
        "print('Hold-Out Mnist Two Classes[0, 1] Split\\n')\n",
        "print('9/1: ', ho_two_class_91_train_X.shape)\n",
        "print('8/2: ', ho_two_class_82_train_X.shape)\n",
        "print('7/3: ', ho_two_class_73_train_X.shape)"
      ],
      "execution_count": 9,
      "outputs": [
        {
          "output_type": "stream",
          "text": [
            "Hold-Out Mnist Two Classes[0, 1] Split\n",
            "\n",
            "9/1:  (11398, 28, 28)\n",
            "8/2:  (10132, 28, 28)\n",
            "7/3:  (8865, 28, 28)\n"
          ],
          "name": "stdout"
        }
      ]
    },
    {
      "cell_type": "markdown",
      "metadata": {
        "id": "CeSCO1LlOCoL"
      },
      "source": [
        "## Gaussian Naive Bayes\n"
      ]
    },
    {
      "cell_type": "code",
      "metadata": {
        "id": "5tJFwV4POWMD"
      },
      "source": [
        "from sklearn.naive_bayes import GaussianNB\n",
        "from sklearn import metrics\n",
        "import time"
      ],
      "execution_count": 10,
      "outputs": []
    },
    {
      "cell_type": "code",
      "metadata": {
        "id": "-3hgz899OHJX"
      },
      "source": [
        "'''\n",
        "Default Var Smoothing \n",
        "\n",
        "'''\n",
        "\n",
        "\n",
        "default_gaussian_classifier = GaussianNB(var_smoothing=1e-9)"
      ],
      "execution_count": 12,
      "outputs": []
    },
    {
      "cell_type": "code",
      "metadata": {
        "id": "sNztLjfwkVTs",
        "outputId": "f06abfb9-4f52-466f-8145-63510e0063ce",
        "colab": {
          "base_uri": "https://localhost:8080/"
        }
      },
      "source": [
        "'''\n",
        "Two Classes Data-set\n",
        "'''\n",
        "\n",
        "print('Var Smoothing: 1e-9| Two Class Data-set | 9/1 Holdout')\n",
        "start_time = time.time()\n",
        "default_gaussian_classifier.fit(ho_two_class_91_train_X.reshape(ho_two_class_91_train_X.shape[0], -1), ho_two_class_91_train_y.ravel())\n",
        "print(\"Execution Time: %s seconds\" % (time.time() - start_time))\n",
        "ho_two_class_91_pred_y = default_gaussian_classifier.predict(ho_two_class_91_test_X.reshape(ho_two_class_91_test_X.shape[0], -1))\n",
        "matrix = metrics.confusion_matrix(ho_two_class_91_test_y, ho_two_class_91_pred_y)\n",
        "print('Acurácia:', np.trace(matrix) / len(ho_two_class_91_test_y) * 100, '%\\n')\n",
        "\n",
        "print('Var Smoothing: 1e-9| Two Class Data-set | 8/2 Holdout')\n",
        "start_time = time.time()\n",
        "default_gaussian_classifier.fit(ho_two_class_82_train_X.reshape(ho_two_class_82_train_X.shape[0], -1), ho_two_class_82_train_y.ravel())\n",
        "print(\"Execution Time: %s seconds\" % (time.time() - start_time))\n",
        "ho_two_class_82_pred_y = default_gaussian_classifier.predict(ho_two_class_82_test_X.reshape(ho_two_class_82_test_X.shape[0], -1))\n",
        "matrix = metrics.confusion_matrix(ho_two_class_82_test_y, ho_two_class_82_pred_y)\n",
        "print('Acurácia:', np.trace(matrix) / len(ho_two_class_82_test_y) * 100, '%\\n')\n",
        "\n",
        "print('Var Smoothing: 1e-9 | Two Class Data-set | 7/3 Holdout')\n",
        "start_time = time.time()\n",
        "default_gaussian_classifier.fit(ho_two_class_73_train_X.reshape(ho_two_class_73_train_X.shape[0], -1), ho_two_class_73_train_y.ravel())\n",
        "print(\"Execution Time: %s seconds\" % (time.time() - start_time))\n",
        "ho_two_class_73_pred_y = default_gaussian_classifier.predict(ho_two_class_73_test_X.reshape(ho_two_class_73_test_X.shape[0], -1))\n",
        "matrix = metrics.confusion_matrix(ho_two_class_73_test_y, ho_two_class_73_pred_y)\n",
        "print('Acurácia:', np.trace(matrix) / len(ho_two_class_73_test_y) * 100, '%\\n')"
      ],
      "execution_count": 13,
      "outputs": [
        {
          "output_type": "stream",
          "text": [
            "Var Smoothing: 1e-9| Two Class Data-set | 9/1 Holdout\n",
            "Execution Time: 0.22190165519714355 seconds\n",
            "Acurácia: 98.18468823993686 %\n",
            "\n",
            "Var Smoothing: 1e-9| Two Class Data-set | 8/2 Holdout\n",
            "Execution Time: 0.1427159309387207 seconds\n",
            "Acurácia: 98.02605606000789 %\n",
            "\n",
            "Var Smoothing: 1e-9 | Two Class Data-set | 7/3 Holdout\n",
            "Execution Time: 0.13383030891418457 seconds\n",
            "Acurácia: 98.10526315789474 %\n",
            "\n"
          ],
          "name": "stdout"
        }
      ]
    },
    {
      "cell_type": "code",
      "metadata": {
        "id": "-inhq6GcesYz",
        "outputId": "179935ef-0150-4c57-ea8e-05aa247cc770",
        "colab": {
          "base_uri": "https://localhost:8080/"
        }
      },
      "source": [
        "'''\n",
        "Original Size and Holdout sets\n",
        "'''\n",
        "\n",
        "print('Var Smoothing: 1e-9 | Original Data-set | 9/1 Holdout')\n",
        "start_time = time.time()\n",
        "default_gaussian_classifier.fit(ho_original_91_train_X.reshape(ho_original_91_train_X.shape[0], -1), ho_original_91_train_y.ravel())\n",
        "print(\"Execution Time: %s seconds\" % (time.time() - start_time))\n",
        "ho_original_91_pred_y = default_gaussian_classifier.predict(ho_original_91_test_X.reshape(ho_original_91_test_X.shape[0], -1))\n",
        "matrix = metrics.confusion_matrix(ho_original_91_test_y, ho_original_91_pred_y)\n",
        "print('Acurácia:', np.trace(matrix) / len(ho_original_91_test_y) * 100, '%\\n')\n",
        "\n",
        "print('Var Smoothing: 1e-9 | Original Data-set | 8/2 Holdout')\n",
        "start_time = time.time()\n",
        "default_gaussian_classifier.fit(ho_original_82_train_X.reshape(ho_original_82_train_X.shape[0], -1), ho_original_82_train_y.ravel())\n",
        "print(\"Execution Time: %s seconds\" % (time.time() - start_time))\n",
        "ho_original_82_pred_y = default_gaussian_classifier.predict(ho_original_82_test_X.reshape(ho_original_82_test_X.shape[0], -1))\n",
        "matrix = metrics.confusion_matrix(ho_original_82_test_y, ho_original_82_pred_y)\n",
        "print('Acurácia:', np.trace(matrix) / len(ho_original_82_test_y) * 100, '%\\n')\n",
        "\n",
        "print('Var Smoothing: 1e-9| Original Data-set | 7/3 Holdout')\n",
        "start_time = time.time()\n",
        "default_gaussian_classifier.fit(ho_original_73_train_X.reshape(ho_original_73_train_X.shape[0], -1), ho_original_73_train_y.ravel())\n",
        "print(\"Execution Time: %s seconds\" % (time.time() - start_time))\n",
        "ho_original_73_pred_y = default_gaussian_classifier.predict(ho_original_73_test_X.reshape(ho_original_73_test_X.shape[0], -1))\n",
        "matrix = metrics.confusion_matrix(ho_original_73_test_y, ho_original_73_pred_y)\n",
        "print('Acurácia:', np.trace(matrix) / len(ho_original_73_test_y) * 100, '%\\n')"
      ],
      "execution_count": 14,
      "outputs": [
        {
          "output_type": "stream",
          "text": [
            "Var Smoothing: 1e-9 | Original Data-set | 9/1 Holdout\n",
            "Execution Time: 0.9123163223266602 seconds\n",
            "Acurácia: 55.93333333333334 %\n",
            "\n",
            "Var Smoothing: 1e-9 | Original Data-set | 8/2 Holdout\n",
            "Execution Time: 0.6994802951812744 seconds\n",
            "Acurácia: 56.41666666666667 %\n",
            "\n",
            "Var Smoothing: 1e-9| Original Data-set | 7/3 Holdout\n",
            "Execution Time: 0.6223316192626953 seconds\n",
            "Acurácia: 55.800000000000004 %\n",
            "\n"
          ],
          "name": "stdout"
        }
      ]
    },
    {
      "cell_type": "code",
      "metadata": {
        "id": "dBjEE_1WfFZw",
        "outputId": "6dd52329-4451-4aa6-8df9-840de1ca0479",
        "colab": {
          "base_uri": "https://localhost:8080/"
        }
      },
      "source": [
        "'''\n",
        "Half Size Dataset and Holdout sets\n",
        "'''\n",
        "\n",
        "print('Var Smoothing: 1e-9 | Half Data-set | 9/1 Holdout')\n",
        "start_time = time.time()\n",
        "default_gaussian_classifier.fit(ho_half_91_train_X.reshape(ho_half_91_train_X.shape[0], -1), ho_half_91_train_y.ravel())\n",
        "print(\"Execution Time: %s seconds\" % (time.time() - start_time))\n",
        "ho_half_91_pred_y = default_gaussian_classifier.predict(ho_half_91_test_X.reshape(ho_half_91_test_X.shape[0], -1))\n",
        "matrix = metrics.confusion_matrix(ho_half_91_test_y, ho_half_91_pred_y)\n",
        "print('Acurácia:', np.trace(matrix) / len(ho_half_91_test_y) * 100, '%\\n')\n",
        "\n",
        "print('Var Smoothing: 1e-9 | Half Data-set | 8/2 Holdout')\n",
        "start_time = time.time()\n",
        "default_gaussian_classifier.fit(ho_half_82_train_X.reshape(ho_half_82_train_X.shape[0], -1), ho_half_82_train_y.ravel())\n",
        "print(\"Execution Time: %s seconds\" % (time.time() - start_time))\n",
        "ho_half_82_pred_y = default_gaussian_classifier.predict(ho_half_82_test_X.reshape(ho_half_82_test_X.shape[0], -1))\n",
        "matrix = metrics.confusion_matrix(ho_half_82_test_y, ho_half_82_pred_y)\n",
        "print('Acurácia:', np.trace(matrix) / len(ho_half_82_test_y) * 100, '%\\n')\n",
        "\n",
        "print('Var Smoothing: 1e-9 | Half Data-set | 7/3 Holdout')\n",
        "start_time = time.time()\n",
        "default_gaussian_classifier.fit(ho_half_73_train_X.reshape(ho_half_73_train_X.shape[0], -1), ho_half_73_train_y.ravel())\n",
        "print(\"Execution Time: %s seconds\" % (time.time() - start_time))\n",
        "ho_half_73_pred_y = default_gaussian_classifier.predict(ho_half_73_test_X.reshape(ho_half_73_test_X.shape[0], -1))\n",
        "matrix = metrics.confusion_matrix(ho_half_73_test_y, ho_half_73_pred_y)\n",
        "print('Acurácia:', np.trace(matrix) / len(ho_half_73_test_y) * 100, '%\\n')"
      ],
      "execution_count": 15,
      "outputs": [
        {
          "output_type": "stream",
          "text": [
            "Var Smoothing: 1e-9 | Half Data-set | 9/1 Holdout\n",
            "Execution Time: 0.42333102226257324 seconds\n",
            "Acurácia: 55.300000000000004 %\n",
            "\n",
            "Var Smoothing: 1e-9 | Half Data-set | 8/2 Holdout\n",
            "Execution Time: 0.37503814697265625 seconds\n",
            "Acurácia: 56.85 %\n",
            "\n",
            "Var Smoothing: 1e-9 | Half Data-set | 7/3 Holdout\n",
            "Execution Time: 0.3123478889465332 seconds\n",
            "Acurácia: 56.96666666666667 %\n",
            "\n"
          ],
          "name": "stdout"
        }
      ]
    },
    {
      "cell_type": "code",
      "metadata": {
        "id": "mjee83TvfYbV",
        "outputId": "24557eff-3fb9-48ba-906c-6cb36a06d373",
        "colab": {
          "base_uri": "https://localhost:8080/"
        }
      },
      "source": [
        "'''\n",
        "Smaller Dataset and Holdout sets\n",
        "'''\n",
        "\n",
        "print('Var Smoothing: 1e-9 | Smaller Data-set | 9/1 Holdout')\n",
        "start_time = time.time()\n",
        "default_gaussian_classifier.fit(ho_smaller_91_train_X.reshape(ho_smaller_91_train_X.shape[0], -1), ho_smaller_91_train_y.ravel())\n",
        "print(\"Execution Time: %s seconds\" % (time.time() - start_time))\n",
        "ho_smaller_91_pred_y = default_gaussian_classifier.predict(ho_smaller_91_test_X.reshape(ho_smaller_91_test_X.shape[0], -1))\n",
        "matrix = metrics.confusion_matrix(ho_smaller_91_test_y, ho_smaller_91_pred_y)\n",
        "print('Acurácia:', np.trace(matrix) / len(ho_smaller_91_test_y) * 100, '%\\n')\n",
        "\n",
        "print('Var Smoothing: 1e-9 | Smaller Data-set | 8/2 Holdout')\n",
        "start_time = time.time()\n",
        "default_gaussian_classifier.fit(ho_smaller_82_train_X.reshape(ho_smaller_82_train_X.shape[0], -1), ho_smaller_82_train_y.ravel())\n",
        "print(\"Execution Time: %s seconds\" % (time.time() - start_time))\n",
        "ho_smaller_82_pred_y = default_gaussian_classifier.predict(ho_smaller_82_test_X.reshape(ho_smaller_82_test_X.shape[0], -1))\n",
        "matrix = metrics.confusion_matrix(ho_smaller_82_test_y, ho_smaller_82_pred_y)\n",
        "print('Acurácia:', np.trace(matrix) / len(ho_smaller_82_test_y) * 100, '%\\n')\n",
        "\n",
        "print('Var Smoothing: 1e-9 | Smaller Data-set | 7/3 Holdout')\n",
        "start_time = time.time()\n",
        "default_gaussian_classifier.fit(ho_smaller_73_train_X.reshape(ho_smaller_73_train_X.shape[0], -1), ho_smaller_73_train_y.ravel())\n",
        "print(\"Execution Time: %s seconds\" % (time.time() - start_time))\n",
        "ho_smaller_73_pred_y = default_gaussian_classifier.predict(ho_smaller_73_test_X.reshape(ho_smaller_73_test_X.shape[0], -1))\n",
        "matrix = metrics.confusion_matrix(ho_smaller_73_test_y, ho_smaller_73_pred_y)\n",
        "print('Acurácia:', np.trace(matrix) / len(ho_smaller_73_test_y) * 100, '%\\n')"
      ],
      "execution_count": 16,
      "outputs": [
        {
          "output_type": "stream",
          "text": [
            "Var Smoothing: 1e-9 | Smaller Data-set | 9/1 Holdout\n",
            "Execution Time: 0.17755365371704102 seconds\n",
            "Acurácia: 59.916666666666664 %\n",
            "\n",
            "Var Smoothing: 1e-9 | Smaller Data-set | 8/2 Holdout\n",
            "Execution Time: 0.159531831741333 seconds\n",
            "Acurácia: 61.66666666666667 %\n",
            "\n",
            "Var Smoothing: 1e-9 | Smaller Data-set | 7/3 Holdout\n",
            "Execution Time: 0.1292269229888916 seconds\n",
            "Acurácia: 59.77777777777777 %\n",
            "\n"
          ],
          "name": "stdout"
        }
      ]
    },
    {
      "cell_type": "code",
      "metadata": {
        "id": "Anpq3fFfgl0K"
      },
      "source": [
        "'''\n",
        "Smaller Smoothing\n",
        "\n",
        "'''\n",
        "\n",
        "smaller_gaussian_classifier = default_gaussian_classifier = GaussianNB(var_smoothing=1e-20)\n"
      ],
      "execution_count": 17,
      "outputs": []
    },
    {
      "cell_type": "code",
      "metadata": {
        "id": "dQaRorkymI4C",
        "outputId": "cb22fd5a-5baa-46b6-e357-be6a577cf3f3",
        "colab": {
          "base_uri": "https://localhost:8080/"
        }
      },
      "source": [
        "'''\n",
        "Two Classes Data-set\n",
        "'''\n",
        "\n",
        "print('Var Smoothing: 1e-20 | Two Class Data-set | 9/1 Holdout')\n",
        "start_time = time.time()\n",
        "smaller_gaussian_classifier.fit(ho_two_class_91_train_X.reshape(ho_two_class_91_train_X.shape[0], -1), ho_two_class_91_train_y.ravel())\n",
        "print(\"Execution Time: %s seconds\" % (time.time() - start_time))\n",
        "ho_two_class_91_pred_y = smaller_gaussian_classifier.predict(ho_two_class_91_test_X.reshape(ho_two_class_91_test_X.shape[0], -1))\n",
        "matrix = metrics.confusion_matrix(ho_two_class_91_test_y, ho_two_class_91_pred_y)\n",
        "print('Acurácia:', np.trace(matrix) / len(ho_two_class_91_test_y) * 100, '%\\n')\n",
        "\n",
        "print('Var Smoothing: 1e-20  | Two Class Data-set | 8/2 Holdout')\n",
        "start_time = time.time()\n",
        "smaller_gaussian_classifier.fit(ho_two_class_82_train_X.reshape(ho_two_class_82_train_X.shape[0], -1), ho_two_class_82_train_y.ravel())\n",
        "print(\"Execution Time: %s seconds\" % (time.time() - start_time))\n",
        "ho_two_class_82_pred_y = smaller_gaussian_classifier.predict(ho_two_class_82_test_X.reshape(ho_two_class_82_test_X.shape[0], -1))\n",
        "matrix = metrics.confusion_matrix(ho_two_class_82_test_y, ho_two_class_82_pred_y)\n",
        "print('Acurácia:', np.trace(matrix) / len(ho_two_class_82_test_y) * 100, '%\\n')\n",
        "\n",
        "print('Var Smoothing: 1e-20  | Two Class Data-set | 7/3 Holdout')\n",
        "start_time = time.time()\n",
        "smaller_gaussian_classifier.fit(ho_two_class_73_train_X.reshape(ho_two_class_73_train_X.shape[0], -1), ho_two_class_73_train_y.ravel())\n",
        "print(\"Execution Time: %s seconds\" % (time.time() - start_time))\n",
        "ho_two_class_73_pred_y = smaller_gaussian_classifier.predict(ho_two_class_73_test_X.reshape(ho_two_class_73_test_X.shape[0], -1))\n",
        "matrix = metrics.confusion_matrix(ho_two_class_73_test_y, ho_two_class_73_pred_y)\n",
        "print('Acurácia:', np.trace(matrix) / len(ho_two_class_73_test_y) * 100, '%\\n')"
      ],
      "execution_count": 18,
      "outputs": [
        {
          "output_type": "stream",
          "text": [
            "Var Smoothing: 1e-20 | Two Class Data-set | 9/1 Holdout\n",
            "Execution Time: 0.18446779251098633 seconds\n",
            "Acurácia: 98.02683504340963 %\n",
            "\n",
            "Var Smoothing: 1e-20  | Two Class Data-set | 8/2 Holdout\n",
            "Execution Time: 0.15293478965759277 seconds\n",
            "Acurácia: 97.78918278720884 %\n",
            "\n",
            "Var Smoothing: 1e-20  | Two Class Data-set | 7/3 Holdout\n",
            "Execution Time: 0.14963936805725098 seconds\n",
            "Acurácia: 97.92105263157895 %\n",
            "\n"
          ],
          "name": "stdout"
        }
      ]
    },
    {
      "cell_type": "code",
      "metadata": {
        "id": "zLt5c-b0g5P1",
        "outputId": "3f50b380-2652-4af6-adc1-460d9bba9fa4",
        "colab": {
          "base_uri": "https://localhost:8080/"
        }
      },
      "source": [
        "'''\n",
        "Original Size and Holdout sets\n",
        "'''\n",
        "\n",
        "print('Var Smoothing: 1e-20  | Original Data-set | 9/1 Holdout')\n",
        "start_time = time.time()\n",
        "smaller_gaussian_classifier.fit(ho_original_91_train_X.reshape(ho_original_91_train_X.shape[0], -1), ho_original_91_train_y.ravel())\n",
        "print(\"Execution Time: %s seconds\" % (time.time() - start_time))\n",
        "ho_original_91_pred_y = smaller_gaussian_classifier.predict(ho_original_91_test_X.reshape(ho_original_91_test_X.shape[0], -1))\n",
        "matrix = metrics.confusion_matrix(ho_original_91_test_y, ho_original_91_pred_y)\n",
        "print('Acurácia:', np.trace(matrix) / len(ho_original_91_test_y) * 100, '%\\n')\n",
        "\n",
        "print('Var Smoothing: 1e-20  | Original Data-set | 8/2 Holdout')\n",
        "start_time = time.time()\n",
        "smaller_gaussian_classifier.fit(ho_original_82_train_X.reshape(ho_original_82_train_X.shape[0], -1), ho_original_82_train_y.ravel())\n",
        "print(\"Execution Time: %s seconds\" % (time.time() - start_time))\n",
        "ho_original_82_pred_y = smaller_gaussian_classifier.predict(ho_original_82_test_X.reshape(ho_original_82_test_X.shape[0], -1))\n",
        "matrix = metrics.confusion_matrix(ho_original_82_test_y, ho_original_82_pred_y)\n",
        "print('Acurácia:', np.trace(matrix) / len(ho_original_82_test_y) * 100, '%\\n')\n",
        "\n",
        "print('Var Smoothing: 1e-20  | Original Data-set | 7/3 Holdout')\n",
        "start_time = time.time()\n",
        "smaller_gaussian_classifier.fit(ho_original_73_train_X.reshape(ho_original_73_train_X.shape[0], -1), ho_original_73_train_y.ravel())\n",
        "print(\"Execution Time: %s seconds\" % (time.time() - start_time))\n",
        "ho_original_73_pred_y = smaller_gaussian_classifier.predict(ho_original_73_test_X.reshape(ho_original_73_test_X.shape[0], -1))\n",
        "matrix = metrics.confusion_matrix(ho_original_73_test_y, ho_original_73_pred_y)\n",
        "print('Acurácia:', np.trace(matrix) / len(ho_original_73_test_y) * 100, '%\\n')"
      ],
      "execution_count": 19,
      "outputs": [
        {
          "output_type": "stream",
          "text": [
            "Var Smoothing: 1e-20  | Original Data-set | 9/1 Holdout\n",
            "Execution Time: 0.8222103118896484 seconds\n",
            "Acurácia: 49.583333333333336 %\n",
            "\n",
            "Var Smoothing: 1e-20  | Original Data-set | 8/2 Holdout\n",
            "Execution Time: 0.7217440605163574 seconds\n",
            "Acurácia: 49.416666666666664 %\n",
            "\n",
            "Var Smoothing: 1e-20  | Original Data-set | 7/3 Holdout\n",
            "Execution Time: 0.621523380279541 seconds\n",
            "Acurácia: 48.61111111111111 %\n",
            "\n"
          ],
          "name": "stdout"
        }
      ]
    },
    {
      "cell_type": "code",
      "metadata": {
        "id": "L_nIgybkiP9l",
        "outputId": "131f4a68-14ac-446e-c763-91da132913fe",
        "colab": {
          "base_uri": "https://localhost:8080/"
        }
      },
      "source": [
        "'''\n",
        "Half Size Dataset and Holdout sets\n",
        "'''\n",
        "\n",
        "print('Var Smoothing: 1e-20 | Half Data-set | 9/1 Holdout')\n",
        "start_time = time.time()\n",
        "smaller_gaussian_classifier.fit(ho_half_91_train_X.reshape(ho_half_91_train_X.shape[0], -1), ho_half_91_train_y.ravel())\n",
        "print(\"Execution Time: %s seconds\" % (time.time() - start_time))\n",
        "ho_half_91_pred_y = smaller_gaussian_classifier.predict(ho_half_91_test_X.reshape(ho_half_91_test_X.shape[0], -1))\n",
        "matrix = metrics.confusion_matrix(ho_half_91_test_y, ho_half_91_pred_y)\n",
        "print('Acurácia:', np.trace(matrix) / len(ho_half_91_test_y) * 100, '%\\n')\n",
        "\n",
        "print('Var Smoothing: 1e-20 | Half Data-set | 8/2 Holdout')\n",
        "start_time = time.time()\n",
        "smaller_gaussian_classifier.fit(ho_half_82_train_X.reshape(ho_half_82_train_X.shape[0], -1), ho_half_82_train_y.ravel())\n",
        "print(\"Execution Time: %s seconds\" % (time.time() - start_time))\n",
        "ho_half_82_pred_y = smaller_gaussian_classifier.predict(ho_half_82_test_X.reshape(ho_half_82_test_X.shape[0], -1))\n",
        "matrix = metrics.confusion_matrix(ho_half_82_test_y, ho_half_82_pred_y)\n",
        "print('Acurácia:', np.trace(matrix) / len(ho_half_82_test_y) * 100, '%\\n')\n",
        "\n",
        "print('Var Smoothing: 1e-20  | Half Data-set | 7/3 Holdout')\n",
        "start_time = time.time()\n",
        "smaller_gaussian_classifier.fit(ho_half_73_train_X.reshape(ho_half_73_train_X.shape[0], -1), ho_half_73_train_y.ravel())\n",
        "print(\"Execution Time: %s seconds\" % (time.time() - start_time))\n",
        "ho_half_73_pred_y = smaller_gaussian_classifier.predict(ho_half_73_test_X.reshape(ho_half_73_test_X.shape[0], -1))\n",
        "matrix = metrics.confusion_matrix(ho_half_73_test_y, ho_half_73_pred_y)\n",
        "print('Acurácia:', np.trace(matrix) / len(ho_half_73_test_y) * 100, '%\\n')"
      ],
      "execution_count": 20,
      "outputs": [
        {
          "output_type": "stream",
          "text": [
            "Var Smoothing: 1e-20 | Half Data-set | 9/1 Holdout\n",
            "Execution Time: 0.4229886531829834 seconds\n",
            "Acurácia: 47.53333333333333 %\n",
            "\n",
            "Var Smoothing: 1e-20 | Half Data-set | 8/2 Holdout\n",
            "Execution Time: 0.3694417476654053 seconds\n",
            "Acurácia: 48.25 %\n",
            "\n",
            "Var Smoothing: 1e-20  | Half Data-set | 7/3 Holdout\n",
            "Execution Time: 0.326702356338501 seconds\n",
            "Acurácia: 49.46666666666666 %\n",
            "\n"
          ],
          "name": "stdout"
        }
      ]
    },
    {
      "cell_type": "code",
      "metadata": {
        "id": "-xk4lI20ibF1",
        "outputId": "6f3a46f9-7adf-4f37-abcd-1bcba66fe8d3",
        "colab": {
          "base_uri": "https://localhost:8080/"
        }
      },
      "source": [
        "'''\n",
        "Smaller Dataset and Holdout sets\n",
        "'''\n",
        "\n",
        "print('Var Smoothing: 1e-20  | Smaller Data-set | 9/1 Holdout')\n",
        "start_time = time.time()\n",
        "smaller_gaussian_classifier.fit(ho_smaller_91_train_X.reshape(ho_smaller_91_train_X.shape[0], -1), ho_smaller_91_train_y.ravel())\n",
        "print(\"Execution Time: %s seconds\" % (time.time() - start_time))\n",
        "ho_smaller_91_pred_y = smaller_gaussian_classifier.predict(ho_smaller_91_test_X.reshape(ho_smaller_91_test_X.shape[0], -1))\n",
        "matrix = metrics.confusion_matrix(ho_smaller_91_test_y, ho_smaller_91_pred_y)\n",
        "print('Acurácia:', np.trace(matrix) / len(ho_smaller_91_test_y) * 100, '%\\n')\n",
        "\n",
        "print('Var Smoothing: 1e-20  | Smaller Data-set | 8/2 Holdout')\n",
        "start_time = time.time()\n",
        "smaller_gaussian_classifier.fit(ho_smaller_82_train_X.reshape(ho_smaller_82_train_X.shape[0], -1), ho_smaller_82_train_y.ravel())\n",
        "print(\"Execution Time: %s seconds\" % (time.time() - start_time))\n",
        "ho_smaller_82_pred_y = smaller_gaussian_classifier.predict(ho_smaller_82_test_X.reshape(ho_smaller_82_test_X.shape[0], -1))\n",
        "matrix = metrics.confusion_matrix(ho_smaller_82_test_y, ho_smaller_82_pred_y)\n",
        "print('Acurácia:', np.trace(matrix) / len(ho_smaller_82_test_y) * 100, '%\\n')\n",
        "\n",
        "print('Var Smoothing: 1e-20  | Smaller Data-set | 7/3 Holdout')\n",
        "start_time = time.time()\n",
        "smaller_gaussian_classifier.fit(ho_smaller_73_train_X.reshape(ho_smaller_73_train_X.shape[0], -1), ho_smaller_73_train_y.ravel())\n",
        "print(\"Execution Time: %s seconds\" % (time.time() - start_time))\n",
        "ho_smaller_73_pred_y = smaller_gaussian_classifier.predict(ho_smaller_73_test_X.reshape(ho_smaller_73_test_X.shape[0], -1))\n",
        "matrix = metrics.confusion_matrix(ho_smaller_73_test_y, ho_smaller_73_pred_y)\n",
        "print('Acurácia:', np.trace(matrix) / len(ho_smaller_73_test_y) * 100, '%\\n')"
      ],
      "execution_count": 21,
      "outputs": [
        {
          "output_type": "stream",
          "text": [
            "Var Smoothing: 1e-20  | Smaller Data-set | 9/1 Holdout\n",
            "Execution Time: 0.1758871078491211 seconds\n",
            "Acurácia: 48.5 %\n",
            "\n",
            "Var Smoothing: 1e-20  | Smaller Data-set | 8/2 Holdout\n",
            "Execution Time: 0.15236735343933105 seconds\n",
            "Acurácia: 49.958333333333336 %\n",
            "\n",
            "Var Smoothing: 1e-20  | Smaller Data-set | 7/3 Holdout\n",
            "Execution Time: 0.13427352905273438 seconds\n",
            "Acurácia: 48.138888888888886 %\n",
            "\n"
          ],
          "name": "stdout"
        }
      ]
    },
    {
      "cell_type": "code",
      "metadata": {
        "id": "kpV92w8GipQ2"
      },
      "source": [
        "'''\n",
        "Higher Smoothing\n",
        "'''\n",
        "\n",
        "higher_gaussian_classifier = default_gaussian_classifier = GaussianNB(var_smoothing=1e-1)"
      ],
      "execution_count": 26,
      "outputs": []
    },
    {
      "cell_type": "code",
      "metadata": {
        "id": "cyspGqJnmRGf",
        "outputId": "8ec2ea6e-a97a-4126-c470-c8b54a8cb156",
        "colab": {
          "base_uri": "https://localhost:8080/"
        }
      },
      "source": [
        "'''\n",
        "Two Classes Data-set\n",
        "'''\n",
        "\n",
        "print('Var Smoothing: 1e-1 | Two Class Data-set | 9/1 Holdout')\n",
        "start_time = time.time()\n",
        "higher_gaussian_classifier.fit(ho_two_class_91_train_X.reshape(ho_two_class_91_train_X.shape[0], -1), ho_two_class_91_train_y.ravel())\n",
        "print(\"Execution Time: %s seconds\" % (time.time() - start_time))\n",
        "ho_two_class_91_pred_y = higher_gaussian_classifier.predict(ho_two_class_91_test_X.reshape(ho_two_class_91_test_X.shape[0], -1))\n",
        "matrix = metrics.confusion_matrix(ho_two_class_91_test_y, ho_two_class_91_pred_y)\n",
        "print('Acurácia:', np.trace(matrix) / len(ho_two_class_91_test_y) * 100, '%\\n')\n",
        "\n",
        "print('Var Smoothing: 1e-1 | Two Class Data-set | 8/2 Holdout')\n",
        "start_time = time.time()\n",
        "higher_gaussian_classifier.fit(ho_two_class_82_train_X.reshape(ho_two_class_82_train_X.shape[0], -1), ho_two_class_82_train_y.ravel())\n",
        "print(\"Execution Time: %s seconds\" % (time.time() - start_time))\n",
        "ho_two_class_82_pred_y = higher_gaussian_classifier.predict(ho_two_class_82_test_X.reshape(ho_two_class_82_test_X.shape[0], -1))\n",
        "matrix = metrics.confusion_matrix(ho_two_class_82_test_y, ho_two_class_82_pred_y)\n",
        "print('Acurácia:', np.trace(matrix) / len(ho_two_class_82_test_y) * 100, '%\\n')\n",
        "\n",
        "print('Var Smoothing: 1e-1  | Two Class Data-set | 7/3 Holdout')\n",
        "start_time = time.time()\n",
        "higher_gaussian_classifier.fit(ho_two_class_73_train_X.reshape(ho_two_class_73_train_X.shape[0], -1), ho_two_class_73_train_y.ravel())\n",
        "print(\"Execution Time: %s seconds\" % (time.time() - start_time))\n",
        "ho_two_class_73_pred_y = higher_gaussian_classifier.predict(ho_two_class_73_test_X.reshape(ho_two_class_73_test_X.shape[0], -1))\n",
        "matrix = metrics.confusion_matrix(ho_two_class_73_test_y, ho_two_class_73_pred_y)\n",
        "print('Acurácia:', np.trace(matrix) / len(ho_two_class_73_test_y) * 100, '%\\n')"
      ],
      "execution_count": 27,
      "outputs": [
        {
          "output_type": "stream",
          "text": [
            "Var Smoothing: 1e-1 | Two Class Data-set | 9/1 Holdout\n",
            "Execution Time: 0.17803549766540527 seconds\n",
            "Acurácia: 99.4475138121547 %\n",
            "\n",
            "Var Smoothing: 1e-1 | Two Class Data-set | 8/2 Holdout\n",
            "Execution Time: 0.15396690368652344 seconds\n",
            "Acurácia: 99.4472956968022 %\n",
            "\n",
            "Var Smoothing: 1e-1  | Two Class Data-set | 7/3 Holdout\n",
            "Execution Time: 0.14316463470458984 seconds\n",
            "Acurácia: 99.5 %\n",
            "\n"
          ],
          "name": "stdout"
        }
      ]
    },
    {
      "cell_type": "code",
      "metadata": {
        "id": "BB4J8nzhiv0K",
        "outputId": "d2242103-5281-48b1-9416-2efdaf01f82e",
        "colab": {
          "base_uri": "https://localhost:8080/"
        }
      },
      "source": [
        "'''\n",
        "Original Size and Holdout sets\n",
        "'''\n",
        "\n",
        "print('Var Smoothing: 1e-1 | Original Data-set | 9/1 Holdout')\n",
        "start_time = time.time()\n",
        "higher_gaussian_classifier.fit(ho_original_91_train_X.reshape(ho_original_91_train_X.shape[0], -1), ho_original_91_train_y.ravel())\n",
        "print(\"Execution Time: %s seconds\" % (time.time() - start_time))\n",
        "ho_original_91_pred_y = higher_gaussian_classifier.predict(ho_original_91_test_X.reshape(ho_original_91_test_X.shape[0], -1))\n",
        "matrix = metrics.confusion_matrix(ho_original_91_test_y, ho_original_91_pred_y)\n",
        "print('Acurácia:', np.trace(matrix) / len(ho_original_91_test_y) * 100, '%\\n')\n",
        "\n",
        "print('Var Smoothing: 1e-1 | Original Data-set | 8/2 Holdout')\n",
        "start_time = time.time()\n",
        "higher_gaussian_classifier.fit(ho_original_82_train_X.reshape(ho_original_82_train_X.shape[0], -1), ho_original_82_train_y.ravel())\n",
        "print(\"Execution Time: %s seconds\" % (time.time() - start_time))\n",
        "ho_original_82_pred_y = higher_gaussian_classifier.predict(ho_original_82_test_X.reshape(ho_original_82_test_X.shape[0], -1))\n",
        "matrix = metrics.confusion_matrix(ho_original_82_test_y, ho_original_82_pred_y)\n",
        "print('Acurácia:', np.trace(matrix) / len(ho_original_82_test_y) * 100, '%\\n')\n",
        "\n",
        "print('Var Smoothing: 1e-1 | Original Data-set | 7/3 Holdout')\n",
        "start_time = time.time()\n",
        "higher_gaussian_classifier.fit(ho_original_73_train_X.reshape(ho_original_73_train_X.shape[0], -1), ho_original_73_train_y.ravel())\n",
        "print(\"Execution Time: %s seconds\" % (time.time() - start_time))\n",
        "ho_original_73_pred_y = higher_gaussian_classifier.predict(ho_original_73_test_X.reshape(ho_original_73_test_X.shape[0], -1))\n",
        "matrix = metrics.confusion_matrix(ho_original_73_test_y, ho_original_73_pred_y)\n",
        "print('Acurácia:', np.trace(matrix) / len(ho_original_73_test_y) * 100, '%\\n')"
      ],
      "execution_count": 28,
      "outputs": [
        {
          "output_type": "stream",
          "text": [
            "Var Smoothing: 1e-1 | Original Data-set | 9/1 Holdout\n",
            "Execution Time: 0.7969191074371338 seconds\n",
            "Acurácia: 80.01666666666667 %\n",
            "\n",
            "Var Smoothing: 1e-1 | Original Data-set | 8/2 Holdout\n",
            "Execution Time: 0.7080016136169434 seconds\n",
            "Acurácia: 80.25833333333333 %\n",
            "\n",
            "Var Smoothing: 1e-1 | Original Data-set | 7/3 Holdout\n",
            "Execution Time: 0.6417760848999023 seconds\n",
            "Acurácia: 80.14444444444445 %\n",
            "\n"
          ],
          "name": "stdout"
        }
      ]
    },
    {
      "cell_type": "code",
      "metadata": {
        "id": "kXcfYwaJi4Hy",
        "outputId": "56c1bc67-2312-4b07-83f1-715392df686b",
        "colab": {
          "base_uri": "https://localhost:8080/"
        }
      },
      "source": [
        "'''\n",
        "Half Size Dataset and Holdout sets\n",
        "'''\n",
        "\n",
        "print('Var Smoothing: 1e-1 | Half Data-set | 9/1 Holdout')\n",
        "start_time = time.time()\n",
        "higher_gaussian_classifier.fit(ho_half_91_train_X.reshape(ho_half_91_train_X.shape[0], -1), ho_half_91_train_y.ravel())\n",
        "print(\"Execution Time: %s seconds\" % (time.time() - start_time))\n",
        "ho_half_91_pred_y = higher_gaussian_classifier.predict(ho_half_91_test_X.reshape(ho_half_91_test_X.shape[0], -1))\n",
        "matrix = metrics.confusion_matrix(ho_half_91_test_y, ho_half_91_pred_y)\n",
        "print('Acurácia:', np.trace(matrix) / len(ho_half_91_test_y) * 100, '%\\n')\n",
        "\n",
        "print('Var Smoothing: 1e-1 | Half Data-set | 8/2 Holdout')\n",
        "start_time = time.time()\n",
        "higher_gaussian_classifier.fit(ho_half_82_train_X.reshape(ho_half_82_train_X.shape[0], -1), ho_half_82_train_y.ravel())\n",
        "print(\"Execution Time: %s seconds\" % (time.time() - start_time))\n",
        "ho_half_82_pred_y = higher_gaussian_classifier.predict(ho_half_82_test_X.reshape(ho_half_82_test_X.shape[0], -1))\n",
        "matrix = metrics.confusion_matrix(ho_half_82_test_y, ho_half_82_pred_y)\n",
        "print('Acurácia:', np.trace(matrix) / len(ho_half_82_test_y) * 100, '%\\n')\n",
        "\n",
        "print('Var Smoothing: 1e-1  | Half Data-set | 7/3 Holdout')\n",
        "start_time = time.time()\n",
        "higher_gaussian_classifier.fit(ho_half_73_train_X.reshape(ho_half_73_train_X.shape[0], -1), ho_half_73_train_y.ravel())\n",
        "print(\"Execution Time: %s seconds\" % (time.time() - start_time))\n",
        "ho_half_73_pred_y = higher_gaussian_classifier.predict(ho_half_73_test_X.reshape(ho_half_73_test_X.shape[0], -1))\n",
        "matrix = metrics.confusion_matrix(ho_half_73_test_y, ho_half_73_pred_y)\n",
        "print('Acurácia:', np.trace(matrix) / len(ho_half_73_test_y) * 100, '%\\n')"
      ],
      "execution_count": 29,
      "outputs": [
        {
          "output_type": "stream",
          "text": [
            "Var Smoothing: 1e-1 | Half Data-set | 9/1 Holdout\n",
            "Execution Time: 0.416088342666626 seconds\n",
            "Acurácia: 79.9 %\n",
            "\n",
            "Var Smoothing: 1e-1 | Half Data-set | 8/2 Holdout\n",
            "Execution Time: 0.3687608242034912 seconds\n",
            "Acurácia: 79.96666666666667 %\n",
            "\n",
            "Var Smoothing: 1e-1  | Half Data-set | 7/3 Holdout\n",
            "Execution Time: 0.32401418685913086 seconds\n",
            "Acurácia: 80.37777777777778 %\n",
            "\n"
          ],
          "name": "stdout"
        }
      ]
    },
    {
      "cell_type": "code",
      "metadata": {
        "id": "Yzo4nKjGjBbZ",
        "outputId": "ff55c996-c152-45c8-a3db-71860e52cc4a",
        "colab": {
          "base_uri": "https://localhost:8080/"
        }
      },
      "source": [
        "'''\n",
        "Smaller Dataset and Holdout sets\n",
        "'''\n",
        "\n",
        "print('Var Smoothing: 1e-1  | Smaller Data-set | 9/1 Holdout')\n",
        "start_time = time.time()\n",
        "higher_gaussian_classifier.fit(ho_smaller_91_train_X.reshape(ho_smaller_91_train_X.shape[0], -1), ho_smaller_91_train_y.ravel())\n",
        "print(\"Execution Time: %s seconds\" % (time.time() - start_time))\n",
        "ho_smaller_91_pred_y = higher_gaussian_classifier.predict(ho_smaller_91_test_X.reshape(ho_smaller_91_test_X.shape[0], -1))\n",
        "matrix = metrics.confusion_matrix(ho_smaller_91_test_y, ho_smaller_91_pred_y)\n",
        "print('Acurácia:', np.trace(matrix) / len(ho_smaller_91_test_y) * 100, '%\\n')\n",
        "\n",
        "print('Var Smoothing: 1e-1  | Smaller Data-set | 8/2 Holdout')\n",
        "start_time = time.time()\n",
        "higher_gaussian_classifier.fit(ho_smaller_82_train_X.reshape(ho_smaller_82_train_X.shape[0], -1), ho_smaller_82_train_y.ravel())\n",
        "print(\"Execution Time: %s seconds\" % (time.time() - start_time))\n",
        "ho_smaller_82_pred_y = higher_gaussian_classifier.predict(ho_smaller_82_test_X.reshape(ho_smaller_82_test_X.shape[0], -1))\n",
        "matrix = metrics.confusion_matrix(ho_smaller_82_test_y, ho_smaller_82_pred_y)\n",
        "print('Acurácia:', np.trace(matrix) / len(ho_smaller_82_test_y) * 100, '%\\n')\n",
        "\n",
        "print('Var Smoothing: 1e-1  | Smaller Data-set | 7/3 Holdout')\n",
        "start_time = time.time()\n",
        "higher_gaussian_classifier.fit(ho_smaller_73_train_X.reshape(ho_smaller_73_train_X.shape[0], -1), ho_smaller_73_train_y.ravel())\n",
        "print(\"Execution Time: %s seconds\" % (time.time() - start_time))\n",
        "ho_smaller_73_pred_y = higher_gaussian_classifier.predict(ho_smaller_73_test_X.reshape(ho_smaller_73_test_X.shape[0], -1))\n",
        "matrix = metrics.confusion_matrix(ho_smaller_73_test_y, ho_smaller_73_pred_y)\n",
        "print('Acurácia:', np.trace(matrix) / len(ho_smaller_73_test_y) * 100, '%\\n')"
      ],
      "execution_count": 30,
      "outputs": [
        {
          "output_type": "stream",
          "text": [
            "Var Smoothing: 1e-1  | Smaller Data-set | 9/1 Holdout\n",
            "Execution Time: 0.18310332298278809 seconds\n",
            "Acurácia: 82.33333333333334 %\n",
            "\n",
            "Var Smoothing: 1e-1  | Smaller Data-set | 8/2 Holdout\n",
            "Execution Time: 0.14976835250854492 seconds\n",
            "Acurácia: 83.16666666666667 %\n",
            "\n",
            "Var Smoothing: 1e-1  | Smaller Data-set | 7/3 Holdout\n",
            "Execution Time: 0.13194990158081055 seconds\n",
            "Acurácia: 81.94444444444444 %\n",
            "\n"
          ],
          "name": "stdout"
        }
      ]
    }
  ]
}