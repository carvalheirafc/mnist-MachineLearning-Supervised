{
  "nbformat": 4,
  "nbformat_minor": 0,
  "metadata": {
    "colab": {
      "name": "stacking_mnist.ipynb",
      "provenance": [],
      "toc_visible": true,
      "mount_file_id": "1GOMZ3yu7zQ2gpXXgdDZ1Yi39n3YelDGT",
      "authorship_tag": "ABX9TyNI1YFkpkWhmKNm8yyCTY2O",
      "include_colab_link": true
    },
    "kernelspec": {
      "name": "python3",
      "display_name": "Python 3"
    }
  },
  "cells": [
    {
      "cell_type": "markdown",
      "metadata": {
        "id": "view-in-github",
        "colab_type": "text"
      },
      "source": [
        "<a href=\"https://colab.research.google.com/github/carvalheirafc/mnist-MachineLearning-Supervised/blob/main/boosting_and_bagging/stacking_mnist.ipynb\" target=\"_parent\"><img src=\"https://colab.research.google.com/assets/colab-badge.svg\" alt=\"Open In Colab\"/></a>"
      ]
    },
    {
      "cell_type": "markdown",
      "metadata": {
        "id": "6TysPH2UbCgf"
      },
      "source": [
        "### Import "
      ]
    },
    {
      "cell_type": "code",
      "metadata": {
        "id": "1wE9WD1MARHU"
      },
      "source": [
        "import numpy as np\n",
        "from sklearn.model_selection import train_test_split\n",
        "from sklearn import metrics\n",
        "from sklearn.ensemble import BaggingClassifier\n",
        "from sklearn.neural_network import MLPClassifier\n",
        "from sklearn.ensemble import StackingClassifier\n",
        "from sklearn import tree\n",
        "import time"
      ],
      "execution_count": 1,
      "outputs": []
    },
    {
      "cell_type": "markdown",
      "metadata": {
        "id": "ab_eSEisNMkl"
      },
      "source": [
        "### Data Input and miscs\n"
      ]
    },
    {
      "cell_type": "code",
      "metadata": {
        "id": "giwtI9kQSDZM"
      },
      "source": [
        "data_X = np.load('./drive/My Drive/mnist_datasets/mnist_X.npy')\n",
        "data_y = np.load('./drive/My Drive/mnist_datasets/mnist_labels.npy')"
      ],
      "execution_count": 2,
      "outputs": []
    },
    {
      "cell_type": "code",
      "metadata": {
        "id": "dNx1VgivjGHU",
        "colab": {
          "base_uri": "https://localhost:8080/"
        },
        "outputId": "b9ff9dcb-667c-43fd-e5b8-d8fd174da4da"
      },
      "source": [
        "half_X = np.array(np.split(data_X, 2))\n",
        "half_y = np.array(np.split(data_y, 2))\n",
        "\n",
        "print('Mnist 50% Data: \\n')\n",
        "print('X: ', half_X[0].shape)\n",
        "print('y: ', half_y[0].shape)"
      ],
      "execution_count": 3,
      "outputs": [
        {
          "output_type": "stream",
          "text": [
            "Mnist 50% Data: \n",
            "\n",
            "X:  (30000, 1, 28, 28)\n",
            "y:  (30000, 1)\n"
          ],
          "name": "stdout"
        }
      ]
    },
    {
      "cell_type": "code",
      "metadata": {
        "id": "QJ103KW0nWWf",
        "colab": {
          "base_uri": "https://localhost:8080/"
        },
        "outputId": "df6bca1f-cbc3-406b-a1b2-3111da95680b"
      },
      "source": [
        "smaller_X = np.array(np.split(data_X, 5))\n",
        "smaller_y = np.array(np.split(data_y, 5))\n",
        "\n",
        "print('Mnist 20% Data: \\n')\n",
        "print('X: ', smaller_X[0].shape)\n",
        "print('y: ', smaller_y[0].shape)"
      ],
      "execution_count": 4,
      "outputs": [
        {
          "output_type": "stream",
          "text": [
            "Mnist 20% Data: \n",
            "\n",
            "X:  (12000, 1, 28, 28)\n",
            "y:  (12000, 1)\n"
          ],
          "name": "stdout"
        }
      ]
    },
    {
      "cell_type": "code",
      "metadata": {
        "id": "wb13x1BRqUZI",
        "colab": {
          "base_uri": "https://localhost:8080/"
        },
        "outputId": "c3541a56-f4f1-4fb5-d3ca-105bbbc7e0f4"
      },
      "source": [
        "data_two_classes = np.load('./drive/My Drive/mnist_datasets/two_classes_data.npy', allow_pickle=True)\n",
        "two_classes_X = np.concatenate((data_two_classes[0][0], data_two_classes[1][0]), axis=0)\n",
        "two_classes_y = np.concatenate((data_two_classes[0][1], data_two_classes[1][1]), axis=0)\n",
        "print('Mnist Two Classes: \\n')\n",
        "print('Zeros: ', data_two_classes[0][0].shape)\n",
        "print('Ones:  ', data_two_classes[1][0].shape)\n",
        "print('X:     ', two_classes_X.shape)\n",
        "print('y:     ', two_classes_y.shape)\n"
      ],
      "execution_count": 5,
      "outputs": [
        {
          "output_type": "stream",
          "text": [
            "Mnist Two Classes: \n",
            "\n",
            "Zeros:  (5923, 28, 28)\n",
            "Ones:   (6742, 28, 28)\n",
            "X:      (12665, 28, 28)\n",
            "y:      (12665,)\n"
          ],
          "name": "stdout"
        }
      ]
    },
    {
      "cell_type": "markdown",
      "metadata": {
        "id": "nRo5bh_uDPmC"
      },
      "source": [
        "### Hold-Out Sets\n"
      ]
    },
    {
      "cell_type": "code",
      "metadata": {
        "id": "lVDL-wyNwsnq",
        "colab": {
          "base_uri": "https://localhost:8080/"
        },
        "outputId": "9c6f27c8-40a3-4803-9921-37e012dd1200"
      },
      "source": [
        "ho_two_class_91_train_X, ho_two_class_91_test_X, ho_two_class_91_train_y, ho_two_class_91_test_y = train_test_split(two_classes_X, two_classes_y, train_size=0.9, random_state=555)\n",
        "ho_two_class_82_train_X, ho_two_class_82_test_X, ho_two_class_82_train_y, ho_two_class_82_test_y = train_test_split(two_classes_X, two_classes_y, train_size=0.8, random_state=555)\n",
        "ho_two_class_73_train_X, ho_two_class_73_test_X, ho_two_class_73_train_y, ho_two_class_73_test_y = train_test_split(two_classes_X, two_classes_y, train_size=0.7, random_state=555)\n",
        "\n",
        "print('Hold-Out Mnist Two Classes[0, 1] Split\\n')\n",
        "print('9/1: ', ho_two_class_91_train_X.shape)\n",
        "print('8/2: ', ho_two_class_82_train_X.shape)\n",
        "print('7/3: ', ho_two_class_73_train_X.shape)"
      ],
      "execution_count": 6,
      "outputs": [
        {
          "output_type": "stream",
          "text": [
            "Hold-Out Mnist Two Classes[0, 1] Split\n",
            "\n",
            "9/1:  (11398, 28, 28)\n",
            "8/2:  (10132, 28, 28)\n",
            "7/3:  (8865, 28, 28)\n"
          ],
          "name": "stdout"
        }
      ]
    },
    {
      "cell_type": "code",
      "metadata": {
        "id": "_7jfW5pKpdRq",
        "colab": {
          "base_uri": "https://localhost:8080/"
        },
        "outputId": "6121adf2-611f-4cc0-8dad-97396f8a3210"
      },
      "source": [
        "ho_smaller_91_train_X, ho_smaller_91_test_X, ho_smaller_91_train_y, ho_smaller_91_test_y = train_test_split(smaller_X[0], smaller_y[0], train_size=0.9, random_state=555)\n",
        "ho_smaller_82_train_X, ho_smaller_82_test_X, ho_smaller_82_train_y, ho_smaller_82_test_y = train_test_split(smaller_X[0], smaller_y[0], train_size=0.8, random_state=555)\n",
        "ho_smaller_73_train_X, ho_smaller_73_test_X, ho_smaller_73_train_y, ho_smaller_73_test_y = train_test_split(smaller_X[0], smaller_y[0], train_size=0.7, random_state=555)\n",
        "\n",
        "print('Hold-Out Half Data Split\\n')\n",
        "print('9/1: ', ho_smaller_91_train_X.shape)\n",
        "print('8/2: ', ho_smaller_82_train_X.shape)\n",
        "print('7/3: ', ho_smaller_73_train_X.shape)"
      ],
      "execution_count": 7,
      "outputs": [
        {
          "output_type": "stream",
          "text": [
            "Hold-Out Half Data Split\n",
            "\n",
            "9/1:  (10800, 1, 28, 28)\n",
            "8/2:  (9600, 1, 28, 28)\n",
            "7/3:  (8400, 1, 28, 28)\n"
          ],
          "name": "stdout"
        }
      ]
    },
    {
      "cell_type": "markdown",
      "metadata": {
        "id": "giIeWqGo66Fz"
      },
      "source": [
        "### Custom MLP "
      ]
    },
    {
      "cell_type": "code",
      "metadata": {
        "id": "0GuyDV9l51Ko"
      },
      "source": [
        "class customMLPClassifer(MLPClassifier):\n",
        "    \n",
        "    def resample_with_replacement(self, X_train, y_train, sample_weight):\n",
        "\n",
        "        # normalize sample_weights if not already\n",
        "        sample_weight = sample_weight / sample_weight.sum(dtype=np.float64)\n",
        "\n",
        "        X_train_resampled = np.zeros((len(X_train), len(X_train[0])), dtype=np.float32)\n",
        "        y_train_resampled = np.zeros((len(y_train)), dtype=np.int)\n",
        "        for i in range(len(X_train)):\n",
        "            # draw a number from 0 to len(X_train)-1\n",
        "            draw = np.random.choice(np.arange(len(X_train)), p=sample_weight)\n",
        "\n",
        "            # place the X and y at the drawn number into the resampled X and y\n",
        "            X_train_resampled[i] = X_train[draw]\n",
        "            y_train_resampled[i] = y_train[draw]\n",
        "\n",
        "        return X_train_resampled, y_train_resampled\n",
        "\n",
        "\n",
        "    def fit(self, X, y, sample_weight=None):\n",
        "        if sample_weight is not None:\n",
        "            X, y = self.resample_with_replacement(X, y, sample_weight)\n",
        "\n",
        "        return self._fit(X, y, incremental=(self.warm_start and\n",
        "                                            hasattr(self, \"classes_\")))"
      ],
      "execution_count": 8,
      "outputs": []
    },
    {
      "cell_type": "code",
      "metadata": {
        "id": "C3xB9xJy822p",
        "colab": {
          "base_uri": "https://localhost:8080/"
        },
        "outputId": "71648e77-3ac5-4b41-d916-dd209a776cf1"
      },
      "source": [
        "mlp_classifier = customMLPClassifer().set_params(activation='relu', solver='adam')\n",
        "print(mlp_classifier)"
      ],
      "execution_count": 9,
      "outputs": [
        {
          "output_type": "stream",
          "text": [
            "customMLPClassifer(activation='relu', alpha=0.0001, batch_size='auto',\n",
            "                   beta_1=0.9, beta_2=0.999, early_stopping=False,\n",
            "                   epsilon=1e-08, hidden_layer_sizes=(100,),\n",
            "                   learning_rate='constant', learning_rate_init=0.001,\n",
            "                   max_fun=15000, max_iter=200, momentum=0.9,\n",
            "                   n_iter_no_change=10, nesterovs_momentum=True, power_t=0.5,\n",
            "                   random_state=None, shuffle=True, solver='adam', tol=0.0001,\n",
            "                   validation_fraction=0.1, verbose=False, warm_start=False)\n"
          ],
          "name": "stdout"
        }
      ]
    },
    {
      "cell_type": "markdown",
      "metadata": {
        "id": "4cz1I98RtrrI"
      },
      "source": [
        "### Decision Tree\n"
      ]
    },
    {
      "cell_type": "code",
      "metadata": {
        "id": "wICCuokCtvYm"
      },
      "source": [
        "'''\n",
        "Default ccp_alfa(Fator de confiança)\n",
        "'''\n",
        "\n",
        "default_tree_classifier = tree.DecisionTreeClassifier(ccp_alpha=0.0)"
      ],
      "execution_count": 10,
      "outputs": []
    },
    {
      "cell_type": "markdown",
      "metadata": {
        "id": "Mo_sS77wuJ7n"
      },
      "source": [
        "### Estimators\n"
      ]
    },
    {
      "cell_type": "code",
      "metadata": {
        "id": "N0bgKIWCuMC_"
      },
      "source": [
        "estimators = [\n",
        "              ('mlp', mlp_classifier),\n",
        "              ('dt', default_tree_classifier)\n",
        "]"
      ],
      "execution_count": 11,
      "outputs": []
    },
    {
      "cell_type": "markdown",
      "metadata": {
        "id": "bYEBhIDer0gw"
      },
      "source": [
        "### Stacking with Bagging"
      ]
    },
    {
      "cell_type": "code",
      "metadata": {
        "id": "sNztLjfwkVTs",
        "colab": {
          "base_uri": "https://localhost:8080/"
        },
        "outputId": "ae00c521-6e09-4af7-e3be-79b35d5c2e08"
      },
      "source": [
        "'''\n",
        "Two Classes Data-set\n",
        "'''\n",
        "\n",
        "\n",
        "for estimator in [10, 15, 20]:\n",
        "  clf = StackingClassifier(estimators=estimators, final_estimator=BaggingClassifier(n_estimators=estimator))\n",
        "  print('Bagging Estimators: ', estimator)\n",
        "  print('Two Class Data-set | 9/1 Holdout')\n",
        "  start_time = time.time()\n",
        "  clf.fit(ho_two_class_91_train_X.reshape(ho_two_class_91_train_X.shape[0], -1), ho_two_class_91_train_y)\n",
        "  print(\"Execution Time: %s seconds\" % (time.time() - start_time))\n",
        "  ho_two_class_91_pred_y = clf.predict(ho_two_class_91_test_X.reshape(ho_two_class_91_test_X.shape[0], -1))\n",
        "  matrix = metrics.confusion_matrix(ho_two_class_91_test_y, ho_two_class_91_pred_y)\n",
        "  print('Acurácia:', np.trace(matrix) / len(ho_two_class_91_test_y) * 100, '%')\n",
        "  print('-------------------------------------------------- \\n\\n')\n",
        "\n",
        "for estimator in [10, 15, 20]:\n",
        "  clf = StackingClassifier(estimators=estimators, final_estimator=BaggingClassifier(n_estimators=estimator))\n",
        "  print('Bagging Estimators: ', estimator)\n",
        "  print('Two Class Data-set | 8/2 Holdout')\n",
        "  start_time = time.time()\n",
        "  clf.fit(ho_two_class_82_train_X.reshape(ho_two_class_82_train_X.shape[0], -1), ho_two_class_82_train_y)\n",
        "  print(\"Execution Time: %s seconds\" % (time.time() - start_time))\n",
        "  ho_two_class_82_pred_y = clf.predict(ho_two_class_82_test_X.reshape(ho_two_class_82_test_X.shape[0], -1))\n",
        "  matrix = metrics.confusion_matrix(ho_two_class_82_test_y, ho_two_class_82_pred_y)\n",
        "  print('Acurácia:', np.trace(matrix) / len(ho_two_class_82_test_y) * 100, '%')\n",
        "  print('-------------------------------------------------- \\n\\n')\n",
        "\n",
        "for estimator in [10, 15, 20]:\n",
        "  clf = StackingClassifier(estimators=estimators, final_estimator=BaggingClassifier(n_estimators=estimator))\n",
        "  print('Bagging Estimators: ', estimator)\n",
        "  print('Two Class Data-set | 7/3 Holdout')\n",
        "  start_time = time.time()\n",
        "  clf.fit(ho_two_class_73_train_X.reshape(ho_two_class_73_train_X.shape[0], -1), ho_two_class_73_train_y)\n",
        "  print(\"Execution Time: %s seconds\" % (time.time() - start_time))\n",
        "  ho_two_class_73_pred_y = clf.predict(ho_two_class_73_test_X.reshape(ho_two_class_73_test_X.shape[0], -1))\n",
        "  matrix = metrics.confusion_matrix(ho_two_class_73_test_y, ho_two_class_73_pred_y)\n",
        "  print('Acurácia:', np.trace(matrix) / len(ho_two_class_73_test_y) * 100, '%')\n",
        "  print('-------------------------------------------------- \\n\\n')"
      ],
      "execution_count": 12,
      "outputs": [
        {
          "output_type": "stream",
          "text": [
            "Bagging Estimators:  10\n",
            "Two Class Data-set | 9/1 Holdout\n",
            "Execution Time: 53.94653010368347 seconds\n",
            "Acurácia: 99.92107340173638 %\n",
            "-------------------------------------------------- \n",
            "\n",
            "\n",
            "Bagging Estimators:  15\n",
            "Two Class Data-set | 9/1 Holdout\n",
            "Execution Time: 52.52971339225769 seconds\n",
            "Acurácia: 100.0 %\n",
            "-------------------------------------------------- \n",
            "\n",
            "\n",
            "Bagging Estimators:  20\n",
            "Two Class Data-set | 9/1 Holdout\n",
            "Execution Time: 56.66041803359985 seconds\n",
            "Acurácia: 100.0 %\n",
            "-------------------------------------------------- \n",
            "\n",
            "\n",
            "Bagging Estimators:  10\n",
            "Two Class Data-set | 8/2 Holdout\n",
            "Execution Time: 55.04527521133423 seconds\n",
            "Acurácia: 99.96052112120016 %\n",
            "-------------------------------------------------- \n",
            "\n",
            "\n",
            "Bagging Estimators:  15\n",
            "Two Class Data-set | 8/2 Holdout\n",
            "Execution Time: 52.38549852371216 seconds\n",
            "Acurácia: 100.0 %\n",
            "-------------------------------------------------- \n",
            "\n",
            "\n",
            "Bagging Estimators:  20\n",
            "Two Class Data-set | 8/2 Holdout\n",
            "Execution Time: 51.179165840148926 seconds\n",
            "Acurácia: 99.96052112120016 %\n",
            "-------------------------------------------------- \n",
            "\n",
            "\n",
            "Bagging Estimators:  10\n",
            "Two Class Data-set | 7/3 Holdout\n",
            "Execution Time: 41.3519172668457 seconds\n",
            "Acurácia: 99.89473684210526 %\n",
            "-------------------------------------------------- \n",
            "\n",
            "\n",
            "Bagging Estimators:  15\n",
            "Two Class Data-set | 7/3 Holdout\n",
            "Execution Time: 49.54800248146057 seconds\n",
            "Acurácia: 99.81578947368422 %\n",
            "-------------------------------------------------- \n",
            "\n",
            "\n",
            "Bagging Estimators:  20\n",
            "Two Class Data-set | 7/3 Holdout\n",
            "Execution Time: 45.88700819015503 seconds\n",
            "Acurácia: 99.86842105263159 %\n",
            "-------------------------------------------------- \n",
            "\n",
            "\n"
          ],
          "name": "stdout"
        }
      ]
    },
    {
      "cell_type": "code",
      "metadata": {
        "id": "-inhq6GcesYz",
        "colab": {
          "base_uri": "https://localhost:8080/"
        },
        "outputId": "7b29e866-3c68-4035-d0db-202e999e20c9"
      },
      "source": [
        "'''\n",
        "Smaller Size and Holdout sets\n",
        "'''\n",
        "\n",
        "for estimator in [10, 15, 20]:\n",
        "  clf = StackingClassifier(estimators=estimators, final_estimator=BaggingClassifier(n_estimators=estimator))\n",
        "  print('Bagging Estimators: ', estimator)\n",
        "  print('Smaller Data-set | 9/1 Holdout')\n",
        "  start_time = time.time()\n",
        "  clf.fit(ho_smaller_91_train_X.reshape(ho_smaller_91_train_X.shape[0], -1), ho_smaller_91_train_y.ravel())\n",
        "  print(\"Execution Time: %s seconds\" % (time.time() - start_time))\n",
        "  ho_smaller_91_pred_y = clf.predict(ho_smaller_91_test_X.reshape(ho_smaller_91_test_X.shape[0], -1))\n",
        "  matrix = metrics.confusion_matrix(ho_smaller_91_test_y, ho_smaller_91_pred_y)\n",
        "  print('Acurácia:', np.trace(matrix) / len(ho_smaller_91_test_y) * 100, '%')\n",
        "  print('-------------------------------------------------- \\n\\n')\n",
        "\n",
        "for estimator in [10, 15, 20]:\n",
        "  clf = StackingClassifier(estimators=estimators, final_estimator=BaggingClassifier(n_estimators=estimator))\n",
        "  print('Bagging Estimators: ', estimator)\n",
        "  print('Smaller Data-set | 8/2 Holdout')\n",
        "  start_time = time.time()\n",
        "  clf.fit(ho_smaller_82_train_X.reshape(ho_smaller_82_train_X.shape[0], -1), ho_smaller_82_train_y.ravel())\n",
        "  print(\"Execution Time: %s seconds\" % (time.time() - start_time))\n",
        "  ho_smaller_82_pred_y = clf.predict(ho_smaller_82_test_X.reshape(ho_smaller_82_test_X.shape[0], -1))\n",
        "  matrix = metrics.confusion_matrix(ho_smaller_82_test_y, ho_smaller_82_pred_y)\n",
        "  print('Acurácia:', np.trace(matrix) / len(ho_smaller_82_test_y) * 100, '%')\n",
        "  print('-------------------------------------------------- \\n\\n')\n",
        "\n",
        "for estimator in [10, 15, 20]:\n",
        "  clf = StackingClassifier(estimators=estimators, final_estimator=BaggingClassifier(n_estimators=estimator))\n",
        "  print('Bagging Estimators: ', estimator)\n",
        "  print('Smaller Data-set | 7/3 Holdout')\n",
        "  start_time = time.time()\n",
        "  clf.fit(ho_smaller_73_train_X.reshape(ho_smaller_73_train_X.shape[0], -1), ho_smaller_73_train_y.ravel())\n",
        "  print(\"Execution Time: %s seconds\" % (time.time() - start_time))\n",
        "  ho_smaller_73_pred_y = clf.predict(ho_smaller_73_test_X.reshape(ho_smaller_73_test_X.shape[0], -1))\n",
        "  matrix = metrics.confusion_matrix(ho_smaller_73_test_y, ho_smaller_73_pred_y)\n",
        "  print('Acurácia:', np.trace(matrix) / len(ho_smaller_73_test_y) * 100, '%')\n",
        "  print('-------------------------------------------------- \\n\\n')"
      ],
      "execution_count": 13,
      "outputs": [
        {
          "output_type": "stream",
          "text": [
            "Bagging Estimators:  10\n",
            "Smaller Data-set | 9/1 Holdout\n",
            "Execution Time: 80.472665309906 seconds\n",
            "Acurácia: 94.08333333333333 %\n",
            "-------------------------------------------------- \n",
            "\n",
            "\n",
            "Bagging Estimators:  15\n",
            "Smaller Data-set | 9/1 Holdout\n",
            "Execution Time: 88.91025161743164 seconds\n",
            "Acurácia: 93.5 %\n",
            "-------------------------------------------------- \n",
            "\n",
            "\n",
            "Bagging Estimators:  20\n",
            "Smaller Data-set | 9/1 Holdout\n",
            "Execution Time: 96.36534404754639 seconds\n",
            "Acurácia: 94.33333333333334 %\n",
            "-------------------------------------------------- \n",
            "\n",
            "\n",
            "Bagging Estimators:  10\n",
            "Smaller Data-set | 8/2 Holdout\n",
            "Execution Time: 79.54090762138367 seconds\n",
            "Acurácia: 94.20833333333334 %\n",
            "-------------------------------------------------- \n",
            "\n",
            "\n",
            "Bagging Estimators:  15\n",
            "Smaller Data-set | 8/2 Holdout\n",
            "Execution Time: 83.02668166160583 seconds\n",
            "Acurácia: 92.41666666666667 %\n",
            "-------------------------------------------------- \n",
            "\n",
            "\n",
            "Bagging Estimators:  20\n",
            "Smaller Data-set | 8/2 Holdout\n",
            "Execution Time: 84.73220086097717 seconds\n",
            "Acurácia: 92.91666666666667 %\n",
            "-------------------------------------------------- \n",
            "\n",
            "\n",
            "Bagging Estimators:  10\n",
            "Smaller Data-set | 7/3 Holdout\n",
            "Execution Time: 76.26332402229309 seconds\n",
            "Acurácia: 91.86111111111111 %\n",
            "-------------------------------------------------- \n",
            "\n",
            "\n",
            "Bagging Estimators:  15\n",
            "Smaller Data-set | 7/3 Holdout\n",
            "Execution Time: 71.0304627418518 seconds\n",
            "Acurácia: 91.5 %\n",
            "-------------------------------------------------- \n",
            "\n",
            "\n",
            "Bagging Estimators:  20\n",
            "Smaller Data-set | 7/3 Holdout\n",
            "Execution Time: 82.21088075637817 seconds\n",
            "Acurácia: 91.19444444444444 %\n",
            "-------------------------------------------------- \n",
            "\n",
            "\n"
          ],
          "name": "stdout"
        }
      ]
    }
  ]
}