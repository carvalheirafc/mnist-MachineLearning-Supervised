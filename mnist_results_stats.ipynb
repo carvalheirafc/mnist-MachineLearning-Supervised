{
  "nbformat": 4,
  "nbformat_minor": 0,
  "metadata": {
    "colab": {
      "name": "mnist-results-stats",
      "provenance": [],
      "authorship_tag": "ABX9TyNfMivmC7pHWN82G5XO7Udp",
      "include_colab_link": true
    },
    "kernelspec": {
      "name": "python3",
      "display_name": "Python 3"
    }
  },
  "cells": [
    {
      "cell_type": "markdown",
      "metadata": {
        "id": "view-in-github",
        "colab_type": "text"
      },
      "source": [
        "<a href=\"https://colab.research.google.com/github/carvalheirafc/mnist-MachineLearning-Supervised/blob/main/mnist_results_stats.ipynb\" target=\"_parent\"><img src=\"https://colab.research.google.com/assets/colab-badge.svg\" alt=\"Open In Colab\"/></a>"
      ]
    },
    {
      "cell_type": "code",
      "metadata": {
        "id": "V20CinoPWsvP"
      },
      "source": [
        "import pandas as pd\n",
        "from scipy import stats"
      ],
      "execution_count": 24,
      "outputs": []
    },
    {
      "cell_type": "code",
      "metadata": {
        "id": "jyQSwr7BWFny"
      },
      "source": [
        "import warnings\n",
        "warnings.filterwarnings(\"ignore\")"
      ],
      "execution_count": 25,
      "outputs": []
    },
    {
      "cell_type": "markdown",
      "metadata": {
        "id": "CUEhsZTRb-vk"
      },
      "source": [
        "## Single Classifiers\n"
      ]
    },
    {
      "cell_type": "markdown",
      "metadata": {
        "id": "cnX9pI6iW_4z"
      },
      "source": [
        "### Gaussian NaiveBayes "
      ]
    },
    {
      "cell_type": "code",
      "metadata": {
        "colab": {
          "base_uri": "https://localhost:8080/",
          "height": 0
        },
        "id": "MUjTN7pqYceR",
        "outputId": "3680268f-b6f7-4561-f5e6-d76db7ffc99a"
      },
      "source": [
        "nb_results = pd.read_csv('nbb.csv')\n",
        "nb_results"
      ],
      "execution_count": 26,
      "outputs": [
        {
          "output_type": "execute_result",
          "data": {
            "text/html": [
              "<div>\n",
              "<style scoped>\n",
              "    .dataframe tbody tr th:only-of-type {\n",
              "        vertical-align: middle;\n",
              "    }\n",
              "\n",
              "    .dataframe tbody tr th {\n",
              "        vertical-align: top;\n",
              "    }\n",
              "\n",
              "    .dataframe thead th {\n",
              "        text-align: right;\n",
              "    }\n",
              "</style>\n",
              "<table border=\"1\" class=\"dataframe\">\n",
              "  <thead>\n",
              "    <tr style=\"text-align: right;\">\n",
              "      <th></th>\n",
              "      <th>Base</th>\n",
              "      <th>Treinamento</th>\n",
              "      <th>1.00E-09</th>\n",
              "      <th>Tempo (segundos)</th>\n",
              "      <th>1.00E-20</th>\n",
              "      <th>Tempo (segundos).1</th>\n",
              "      <th>1.00E-01</th>\n",
              "      <th>Tempo (segundos).2</th>\n",
              "    </tr>\n",
              "  </thead>\n",
              "  <tbody>\n",
              "    <tr>\n",
              "      <th>0</th>\n",
              "      <td>Original</td>\n",
              "      <td>90/10</td>\n",
              "      <td>55.93</td>\n",
              "      <td>0.91</td>\n",
              "      <td>49.58</td>\n",
              "      <td>0.82</td>\n",
              "      <td>99.44</td>\n",
              "      <td>0.17</td>\n",
              "    </tr>\n",
              "    <tr>\n",
              "      <th>1</th>\n",
              "      <td>NaN</td>\n",
              "      <td>80/20</td>\n",
              "      <td>56.41</td>\n",
              "      <td>0.69</td>\n",
              "      <td>49.41</td>\n",
              "      <td>0.72</td>\n",
              "      <td>99.44</td>\n",
              "      <td>0.15</td>\n",
              "    </tr>\n",
              "    <tr>\n",
              "      <th>2</th>\n",
              "      <td>NaN</td>\n",
              "      <td>70/30</td>\n",
              "      <td>55.80</td>\n",
              "      <td>0.62</td>\n",
              "      <td>48.61</td>\n",
              "      <td>0.62</td>\n",
              "      <td>99.50</td>\n",
              "      <td>0.14</td>\n",
              "    </tr>\n",
              "    <tr>\n",
              "      <th>3</th>\n",
              "      <td>Duas Classes</td>\n",
              "      <td>90/10</td>\n",
              "      <td>98.18</td>\n",
              "      <td>0.22</td>\n",
              "      <td>98.02</td>\n",
              "      <td>0.18</td>\n",
              "      <td>80.01</td>\n",
              "      <td>0.79</td>\n",
              "    </tr>\n",
              "    <tr>\n",
              "      <th>4</th>\n",
              "      <td>NaN</td>\n",
              "      <td>80/20</td>\n",
              "      <td>98.02</td>\n",
              "      <td>0.14</td>\n",
              "      <td>97.78</td>\n",
              "      <td>0.15</td>\n",
              "      <td>80.25</td>\n",
              "      <td>0.70</td>\n",
              "    </tr>\n",
              "    <tr>\n",
              "      <th>5</th>\n",
              "      <td>NaN</td>\n",
              "      <td>70/30</td>\n",
              "      <td>98.10</td>\n",
              "      <td>0.13</td>\n",
              "      <td>97.92</td>\n",
              "      <td>0.14</td>\n",
              "      <td>80.14</td>\n",
              "      <td>0.64</td>\n",
              "    </tr>\n",
              "    <tr>\n",
              "      <th>6</th>\n",
              "      <td>Metade do dataset</td>\n",
              "      <td>90/10</td>\n",
              "      <td>55.30</td>\n",
              "      <td>0.42</td>\n",
              "      <td>47.53</td>\n",
              "      <td>0.42</td>\n",
              "      <td>79.90</td>\n",
              "      <td>0.41</td>\n",
              "    </tr>\n",
              "    <tr>\n",
              "      <th>7</th>\n",
              "      <td>NaN</td>\n",
              "      <td>80/20</td>\n",
              "      <td>56.85</td>\n",
              "      <td>0.37</td>\n",
              "      <td>48.25</td>\n",
              "      <td>0.36</td>\n",
              "      <td>79.96</td>\n",
              "      <td>0.36</td>\n",
              "    </tr>\n",
              "    <tr>\n",
              "      <th>8</th>\n",
              "      <td>NaN</td>\n",
              "      <td>70/30</td>\n",
              "      <td>56.96</td>\n",
              "      <td>0.31</td>\n",
              "      <td>49.46</td>\n",
              "      <td>0.32</td>\n",
              "      <td>80.37</td>\n",
              "      <td>0.32</td>\n",
              "    </tr>\n",
              "    <tr>\n",
              "      <th>9</th>\n",
              "      <td>Dataset Menor</td>\n",
              "      <td>90/10</td>\n",
              "      <td>59.91</td>\n",
              "      <td>0.17</td>\n",
              "      <td>48.50</td>\n",
              "      <td>0.17</td>\n",
              "      <td>82.33</td>\n",
              "      <td>0.18</td>\n",
              "    </tr>\n",
              "    <tr>\n",
              "      <th>10</th>\n",
              "      <td>NaN</td>\n",
              "      <td>80/20</td>\n",
              "      <td>61.66</td>\n",
              "      <td>0.15</td>\n",
              "      <td>49.95</td>\n",
              "      <td>0.15</td>\n",
              "      <td>83.16</td>\n",
              "      <td>0.14</td>\n",
              "    </tr>\n",
              "    <tr>\n",
              "      <th>11</th>\n",
              "      <td>NaN</td>\n",
              "      <td>70/30</td>\n",
              "      <td>59.77</td>\n",
              "      <td>0.12</td>\n",
              "      <td>48.13</td>\n",
              "      <td>0.13</td>\n",
              "      <td>81.94</td>\n",
              "      <td>0.13</td>\n",
              "    </tr>\n",
              "    <tr>\n",
              "      <th>12</th>\n",
              "      <td>Média</td>\n",
              "      <td>NaN</td>\n",
              "      <td>67.74</td>\n",
              "      <td>0.35</td>\n",
              "      <td>61.10</td>\n",
              "      <td>0.35</td>\n",
              "      <td>85.54</td>\n",
              "      <td>0.34</td>\n",
              "    </tr>\n",
              "    <tr>\n",
              "      <th>13</th>\n",
              "      <td>Desvio Padrão</td>\n",
              "      <td>NaN</td>\n",
              "      <td>18.41</td>\n",
              "      <td>0.26</td>\n",
              "      <td>22.21</td>\n",
              "      <td>0.25</td>\n",
              "      <td>8.46</td>\n",
              "      <td>0.24</td>\n",
              "    </tr>\n",
              "  </tbody>\n",
              "</table>\n",
              "</div>"
            ],
            "text/plain": [
              "                 Base Treinamento  ...  1.00E-01  Tempo (segundos).2\n",
              "0            Original       90/10  ...     99.44                0.17\n",
              "1                 NaN       80/20  ...     99.44                0.15\n",
              "2                 NaN       70/30  ...     99.50                0.14\n",
              "3        Duas Classes       90/10  ...     80.01                0.79\n",
              "4                 NaN       80/20  ...     80.25                0.70\n",
              "5                 NaN       70/30  ...     80.14                0.64\n",
              "6   Metade do dataset       90/10  ...     79.90                0.41\n",
              "7                 NaN       80/20  ...     79.96                0.36\n",
              "8                 NaN       70/30  ...     80.37                0.32\n",
              "9       Dataset Menor       90/10  ...     82.33                0.18\n",
              "10                NaN       80/20  ...     83.16                0.14\n",
              "11                NaN       70/30  ...     81.94                0.13\n",
              "12              Média         NaN  ...     85.54                0.34\n",
              "13      Desvio Padrão         NaN  ...      8.46                0.24\n",
              "\n",
              "[14 rows x 8 columns]"
            ]
          },
          "metadata": {
            "tags": []
          },
          "execution_count": 26
        }
      ]
    },
    {
      "cell_type": "code",
      "metadata": {
        "colab": {
          "base_uri": "https://localhost:8080/"
        },
        "id": "QhyCdIz2bbfH",
        "outputId": "4e5b6b75-d7e2-4883-a432-7ef98eaabe64"
      },
      "source": [
        "stat, p = stats.friedmanchisquare(nb_results['1.00E-09'], nb_results['1.00E-20'], nb_results['1.00E-01'])\n",
        "print('Statistics=%.3f, p=%.3f' % (stat, p))"
      ],
      "execution_count": 27,
      "outputs": [
        {
          "output_type": "stream",
          "text": [
            "Statistics=9.000, p=0.011\n"
          ],
          "name": "stdout"
        }
      ]
    },
    {
      "cell_type": "code",
      "metadata": {
        "colab": {
          "base_uri": "https://localhost:8080/"
        },
        "id": "xC22G8mAdnks",
        "outputId": "338e191f-5dc4-4a88-a255-e9904121782d"
      },
      "source": [
        "stat, p = stats.wilcoxon(nb_results['1.00E-09'], nb_results['1.00E-20'])\n",
        "print('Statistics=%.3f, p=%.3f' % (stat, p))\n",
        "\n",
        "stat, p = stats.wilcoxon(nb_results['1.00E-09'], nb_results['1.00E-01'])\n",
        "print('Statistics=%.3f, p=%.3f' % (stat, p))\n",
        "\n",
        "stat, p = stats.wilcoxon(nb_results['1.00E-20'], nb_results['1.00E-01'])\n",
        "print('Statistics=%.3f, p=%.3f' % (stat, p))"
      ],
      "execution_count": 28,
      "outputs": [
        {
          "output_type": "stream",
          "text": [
            "Statistics=4.000, p=0.002\n",
            "Statistics=12.000, p=0.011\n",
            "Statistics=10.000, p=0.008\n"
          ],
          "name": "stdout"
        }
      ]
    },
    {
      "cell_type": "markdown",
      "metadata": {
        "id": "1oPm93XMcTwB"
      },
      "source": [
        "### Decision Tree\n"
      ]
    },
    {
      "cell_type": "code",
      "metadata": {
        "colab": {
          "base_uri": "https://localhost:8080/",
          "height": 0
        },
        "id": "kSghZ5JscZ8D",
        "outputId": "5aaa7bd4-bfe1-41f6-d421-8f21a4593db0"
      },
      "source": [
        "dt_results = pd.read_csv('decisiontree.csv')\n",
        "dt_results"
      ],
      "execution_count": 29,
      "outputs": [
        {
          "output_type": "execute_result",
          "data": {
            "text/html": [
              "<div>\n",
              "<style scoped>\n",
              "    .dataframe tbody tr th:only-of-type {\n",
              "        vertical-align: middle;\n",
              "    }\n",
              "\n",
              "    .dataframe tbody tr th {\n",
              "        vertical-align: top;\n",
              "    }\n",
              "\n",
              "    .dataframe thead th {\n",
              "        text-align: right;\n",
              "    }\n",
              "</style>\n",
              "<table border=\"1\" class=\"dataframe\">\n",
              "  <thead>\n",
              "    <tr style=\"text-align: right;\">\n",
              "      <th></th>\n",
              "      <th>Base</th>\n",
              "      <th>Treinamento</th>\n",
              "      <th>ccp 0.0</th>\n",
              "      <th>Tempo (segundos)</th>\n",
              "      <th>ccp 0.1</th>\n",
              "      <th>Tempo (segundos).1</th>\n",
              "      <th>ccp 0.5</th>\n",
              "      <th>Tempo (segundos).2</th>\n",
              "    </tr>\n",
              "  </thead>\n",
              "  <tbody>\n",
              "    <tr>\n",
              "      <th>0</th>\n",
              "      <td>Original</td>\n",
              "      <td>90/10</td>\n",
              "      <td>86.08</td>\n",
              "      <td>19.31</td>\n",
              "      <td>11.16</td>\n",
              "      <td>19.44</td>\n",
              "      <td>11.16</td>\n",
              "      <td>19.600</td>\n",
              "    </tr>\n",
              "    <tr>\n",
              "      <th>1</th>\n",
              "      <td>NaN</td>\n",
              "      <td>80/20</td>\n",
              "      <td>86.39</td>\n",
              "      <td>16.42</td>\n",
              "      <td>11.02</td>\n",
              "      <td>16.82</td>\n",
              "      <td>11.02</td>\n",
              "      <td>16.660</td>\n",
              "    </tr>\n",
              "    <tr>\n",
              "      <th>2</th>\n",
              "      <td>NaN</td>\n",
              "      <td>70/30</td>\n",
              "      <td>86.49</td>\n",
              "      <td>13.71</td>\n",
              "      <td>11.21</td>\n",
              "      <td>13.90</td>\n",
              "      <td>11.21</td>\n",
              "      <td>13.690</td>\n",
              "    </tr>\n",
              "    <tr>\n",
              "      <th>3</th>\n",
              "      <td>Duas Classes</td>\n",
              "      <td>90/10</td>\n",
              "      <td>99.36</td>\n",
              "      <td>1.78</td>\n",
              "      <td>98.73</td>\n",
              "      <td>1.77</td>\n",
              "      <td>52.80</td>\n",
              "      <td>1.770</td>\n",
              "    </tr>\n",
              "    <tr>\n",
              "      <th>4</th>\n",
              "      <td>NaN</td>\n",
              "      <td>80/20</td>\n",
              "      <td>99.56</td>\n",
              "      <td>1.45</td>\n",
              "      <td>98.49</td>\n",
              "      <td>1.48</td>\n",
              "      <td>53.37</td>\n",
              "      <td>1.480</td>\n",
              "    </tr>\n",
              "    <tr>\n",
              "      <th>5</th>\n",
              "      <td>NaN</td>\n",
              "      <td>70/30</td>\n",
              "      <td>99.52</td>\n",
              "      <td>1.14</td>\n",
              "      <td>98.47</td>\n",
              "      <td>1.14</td>\n",
              "      <td>53.60</td>\n",
              "      <td>1.130</td>\n",
              "    </tr>\n",
              "    <tr>\n",
              "      <th>6</th>\n",
              "      <td>Metade do dataset</td>\n",
              "      <td>90/10</td>\n",
              "      <td>84.96</td>\n",
              "      <td>7.64</td>\n",
              "      <td>10.73</td>\n",
              "      <td>7.71</td>\n",
              "      <td>10.73</td>\n",
              "      <td>7.700</td>\n",
              "    </tr>\n",
              "    <tr>\n",
              "      <th>7</th>\n",
              "      <td>NaN</td>\n",
              "      <td>80/20</td>\n",
              "      <td>84.80</td>\n",
              "      <td>6.96</td>\n",
              "      <td>11.36</td>\n",
              "      <td>7.04</td>\n",
              "      <td>11.36</td>\n",
              "      <td>7.040</td>\n",
              "    </tr>\n",
              "    <tr>\n",
              "      <th>8</th>\n",
              "      <td>NaN</td>\n",
              "      <td>70/30</td>\n",
              "      <td>83.73</td>\n",
              "      <td>5.78</td>\n",
              "      <td>11.40</td>\n",
              "      <td>5.84</td>\n",
              "      <td>11.40</td>\n",
              "      <td>5.835</td>\n",
              "    </tr>\n",
              "    <tr>\n",
              "      <th>9</th>\n",
              "      <td>Dataset Menor</td>\n",
              "      <td>90/10</td>\n",
              "      <td>84.00</td>\n",
              "      <td>2.33</td>\n",
              "      <td>11.50</td>\n",
              "      <td>2.36</td>\n",
              "      <td>11.50</td>\n",
              "      <td>2.360</td>\n",
              "    </tr>\n",
              "    <tr>\n",
              "      <th>10</th>\n",
              "      <td>NaN</td>\n",
              "      <td>80/20</td>\n",
              "      <td>83.50</td>\n",
              "      <td>2.02</td>\n",
              "      <td>11.45</td>\n",
              "      <td>2.03</td>\n",
              "      <td>11.45</td>\n",
              "      <td>2.040</td>\n",
              "    </tr>\n",
              "    <tr>\n",
              "      <th>11</th>\n",
              "      <td>NaN</td>\n",
              "      <td>70/30</td>\n",
              "      <td>81.80</td>\n",
              "      <td>1.69</td>\n",
              "      <td>10.88</td>\n",
              "      <td>1.66</td>\n",
              "      <td>10.88</td>\n",
              "      <td>1.720</td>\n",
              "    </tr>\n",
              "    <tr>\n",
              "      <th>12</th>\n",
              "      <td>Média</td>\n",
              "      <td>NaN</td>\n",
              "      <td>88.35</td>\n",
              "      <td>6.69</td>\n",
              "      <td>33.03</td>\n",
              "      <td>6.77</td>\n",
              "      <td>21.71</td>\n",
              "      <td>6.750</td>\n",
              "    </tr>\n",
              "    <tr>\n",
              "      <th>13</th>\n",
              "      <td>Desvio Padrão</td>\n",
              "      <td>NaN</td>\n",
              "      <td>6.84</td>\n",
              "      <td>6.42</td>\n",
              "      <td>39.52</td>\n",
              "      <td>6.52</td>\n",
              "      <td>19.03</td>\n",
              "      <td>6.500</td>\n",
              "    </tr>\n",
              "  </tbody>\n",
              "</table>\n",
              "</div>"
            ],
            "text/plain": [
              "                 Base Treinamento  ...  ccp 0.5  Tempo (segundos).2\n",
              "0            Original       90/10  ...    11.16              19.600\n",
              "1                 NaN       80/20  ...    11.02              16.660\n",
              "2                 NaN       70/30  ...    11.21              13.690\n",
              "3        Duas Classes       90/10  ...    52.80               1.770\n",
              "4                 NaN       80/20  ...    53.37               1.480\n",
              "5                 NaN       70/30  ...    53.60               1.130\n",
              "6   Metade do dataset       90/10  ...    10.73               7.700\n",
              "7                 NaN       80/20  ...    11.36               7.040\n",
              "8                 NaN       70/30  ...    11.40               5.835\n",
              "9       Dataset Menor       90/10  ...    11.50               2.360\n",
              "10                NaN       80/20  ...    11.45               2.040\n",
              "11                NaN       70/30  ...    10.88               1.720\n",
              "12              Média         NaN  ...    21.71               6.750\n",
              "13      Desvio Padrão         NaN  ...    19.03               6.500\n",
              "\n",
              "[14 rows x 8 columns]"
            ]
          },
          "metadata": {
            "tags": []
          },
          "execution_count": 29
        }
      ]
    },
    {
      "cell_type": "code",
      "metadata": {
        "colab": {
          "base_uri": "https://localhost:8080/"
        },
        "id": "iJeVPn6fc3-k",
        "outputId": "48e8ad13-e1dc-4faf-986e-f4d9aa6ece02"
      },
      "source": [
        "stat, p = stats.friedmanchisquare(dt_results['ccp 0.0'], dt_results['ccp 0.1'], dt_results['ccp 0.5'])\n",
        "print('Statistics=%.3f, p=%.3f' % (stat, p))"
      ],
      "execution_count": 30,
      "outputs": [
        {
          "output_type": "stream",
          "text": [
            "Statistics=19.447, p=0.000\n"
          ],
          "name": "stdout"
        }
      ]
    },
    {
      "cell_type": "code",
      "metadata": {
        "colab": {
          "base_uri": "https://localhost:8080/"
        },
        "id": "jABvgarrc7ZW",
        "outputId": "402dbb35-34b7-46d2-fd34-303daf88949f"
      },
      "source": [
        "stat, p = stats.wilcoxon(dt_results['ccp 0.0'], dt_results['ccp 0.1'])\n",
        "print('Statistics=%.3f, p=%.3f' % (stat, p))\n",
        "\n",
        "stat, p = stats.wilcoxon(dt_results['ccp 0.0'], dt_results['ccp 0.5'])\n",
        "print('Statistics=%.3f, p=%.3f' % (stat, p))\n",
        "\n",
        "stat, p = stats.wilcoxon(dt_results['ccp 0.1'], dt_results['ccp 0.5'])\n",
        "print('Statistics=%f, p=%.3f' % (stat, p))"
      ],
      "execution_count": 31,
      "outputs": [
        {
          "output_type": "stream",
          "text": [
            "Statistics=4.000, p=0.002\n",
            "Statistics=1.000, p=0.001\n",
            "Statistics=0.000000, p=0.043\n"
          ],
          "name": "stdout"
        }
      ]
    },
    {
      "cell_type": "markdown",
      "metadata": {
        "id": "X0cPPpaGeVfj"
      },
      "source": [
        "### KNN\n"
      ]
    },
    {
      "cell_type": "code",
      "metadata": {
        "colab": {
          "base_uri": "https://localhost:8080/",
          "height": 0
        },
        "id": "A7XYK0YkeX06",
        "outputId": "3c258007-778f-4d03-e16e-da8bb85a3e66"
      },
      "source": [
        "knn_results = pd.read_csv('knn.csv')\n",
        "knn_results"
      ],
      "execution_count": 32,
      "outputs": [
        {
          "output_type": "execute_result",
          "data": {
            "text/html": [
              "<div>\n",
              "<style scoped>\n",
              "    .dataframe tbody tr th:only-of-type {\n",
              "        vertical-align: middle;\n",
              "    }\n",
              "\n",
              "    .dataframe tbody tr th {\n",
              "        vertical-align: top;\n",
              "    }\n",
              "\n",
              "    .dataframe thead th {\n",
              "        text-align: right;\n",
              "    }\n",
              "</style>\n",
              "<table border=\"1\" class=\"dataframe\">\n",
              "  <thead>\n",
              "    <tr style=\"text-align: right;\">\n",
              "      <th></th>\n",
              "      <th>Base</th>\n",
              "      <th>Treinamento</th>\n",
              "      <th>5 Neighbors</th>\n",
              "      <th>Tempo (segundos)</th>\n",
              "      <th>10 Neighbors</th>\n",
              "      <th>Tempo (segundos).1</th>\n",
              "      <th>25 Neighbors</th>\n",
              "      <th>Tempo (segundos).2</th>\n",
              "    </tr>\n",
              "  </thead>\n",
              "  <tbody>\n",
              "    <tr>\n",
              "      <th>0</th>\n",
              "      <td>Original</td>\n",
              "      <td>90/10</td>\n",
              "      <td>NaN</td>\n",
              "      <td>NaN</td>\n",
              "      <td>NaN</td>\n",
              "      <td>NaN</td>\n",
              "      <td>NaN</td>\n",
              "      <td>NaN</td>\n",
              "    </tr>\n",
              "    <tr>\n",
              "      <th>1</th>\n",
              "      <td>NaN</td>\n",
              "      <td>80/20</td>\n",
              "      <td>NaN</td>\n",
              "      <td>NaN</td>\n",
              "      <td>NaN</td>\n",
              "      <td>NaN</td>\n",
              "      <td>NaN</td>\n",
              "      <td>NaN</td>\n",
              "    </tr>\n",
              "    <tr>\n",
              "      <th>2</th>\n",
              "      <td>NaN</td>\n",
              "      <td>70/30</td>\n",
              "      <td>NaN</td>\n",
              "      <td>NaN</td>\n",
              "      <td>NaN</td>\n",
              "      <td>NaN</td>\n",
              "      <td>NaN</td>\n",
              "      <td>NaN</td>\n",
              "    </tr>\n",
              "    <tr>\n",
              "      <th>3</th>\n",
              "      <td>Duas Classes</td>\n",
              "      <td>90/10</td>\n",
              "      <td>100.00</td>\n",
              "      <td>1.28</td>\n",
              "      <td>100.00</td>\n",
              "      <td>1.28</td>\n",
              "      <td>100.00</td>\n",
              "      <td>1.23</td>\n",
              "    </tr>\n",
              "    <tr>\n",
              "      <th>4</th>\n",
              "      <td>NaN</td>\n",
              "      <td>80/20</td>\n",
              "      <td>100.00</td>\n",
              "      <td>1.07</td>\n",
              "      <td>100.00</td>\n",
              "      <td>1.07</td>\n",
              "      <td>100.00</td>\n",
              "      <td>1.08</td>\n",
              "    </tr>\n",
              "    <tr>\n",
              "      <th>5</th>\n",
              "      <td>NaN</td>\n",
              "      <td>70/30</td>\n",
              "      <td>100.00</td>\n",
              "      <td>0.88</td>\n",
              "      <td>100.00</td>\n",
              "      <td>0.89</td>\n",
              "      <td>99.97</td>\n",
              "      <td>0.89</td>\n",
              "    </tr>\n",
              "    <tr>\n",
              "      <th>6</th>\n",
              "      <td>Metade do dataset</td>\n",
              "      <td>90/10</td>\n",
              "      <td>NaN</td>\n",
              "      <td>NaN</td>\n",
              "      <td>NaN</td>\n",
              "      <td>NaN</td>\n",
              "      <td>NaN</td>\n",
              "      <td>NaN</td>\n",
              "    </tr>\n",
              "    <tr>\n",
              "      <th>7</th>\n",
              "      <td>NaN</td>\n",
              "      <td>80/20</td>\n",
              "      <td>NaN</td>\n",
              "      <td>NaN</td>\n",
              "      <td>NaN</td>\n",
              "      <td>NaN</td>\n",
              "      <td>NaN</td>\n",
              "      <td>NaN</td>\n",
              "    </tr>\n",
              "    <tr>\n",
              "      <th>8</th>\n",
              "      <td>NaN</td>\n",
              "      <td>70/30</td>\n",
              "      <td>NaN</td>\n",
              "      <td>NaN</td>\n",
              "      <td>NaN</td>\n",
              "      <td>NaN</td>\n",
              "      <td>NaN</td>\n",
              "      <td>NaN</td>\n",
              "    </tr>\n",
              "    <tr>\n",
              "      <th>9</th>\n",
              "      <td>Dataset Menor</td>\n",
              "      <td>90/10</td>\n",
              "      <td>96.41</td>\n",
              "      <td>23.98</td>\n",
              "      <td>95.58</td>\n",
              "      <td>1.16</td>\n",
              "      <td>94.00</td>\n",
              "      <td>1.16</td>\n",
              "    </tr>\n",
              "    <tr>\n",
              "      <th>10</th>\n",
              "      <td>NaN</td>\n",
              "      <td>80/20</td>\n",
              "      <td>95.83</td>\n",
              "      <td>42.87</td>\n",
              "      <td>95.70</td>\n",
              "      <td>0.98</td>\n",
              "      <td>93.83</td>\n",
              "      <td>0.98</td>\n",
              "    </tr>\n",
              "    <tr>\n",
              "      <th>11</th>\n",
              "      <td>NaN</td>\n",
              "      <td>70/30</td>\n",
              "      <td>95.44</td>\n",
              "      <td>58.25</td>\n",
              "      <td>94.58</td>\n",
              "      <td>0.83</td>\n",
              "      <td>92.97</td>\n",
              "      <td>0.84</td>\n",
              "    </tr>\n",
              "    <tr>\n",
              "      <th>12</th>\n",
              "      <td>Média</td>\n",
              "      <td>NaN</td>\n",
              "      <td>97.95</td>\n",
              "      <td>21.39</td>\n",
              "      <td>97.64</td>\n",
              "      <td>1.04</td>\n",
              "      <td>96.80</td>\n",
              "      <td>1.03</td>\n",
              "    </tr>\n",
              "    <tr>\n",
              "      <th>13</th>\n",
              "      <td>Desvio Padrão</td>\n",
              "      <td>NaN</td>\n",
              "      <td>2.27</td>\n",
              "      <td>24.76</td>\n",
              "      <td>2.61</td>\n",
              "      <td>0.17</td>\n",
              "      <td>3.52</td>\n",
              "      <td>0.15</td>\n",
              "    </tr>\n",
              "  </tbody>\n",
              "</table>\n",
              "</div>"
            ],
            "text/plain": [
              "                 Base Treinamento  ...  25 Neighbors  Tempo (segundos).2\n",
              "0            Original       90/10  ...           NaN                 NaN\n",
              "1                 NaN       80/20  ...           NaN                 NaN\n",
              "2                 NaN       70/30  ...           NaN                 NaN\n",
              "3        Duas Classes       90/10  ...        100.00                1.23\n",
              "4                 NaN       80/20  ...        100.00                1.08\n",
              "5                 NaN       70/30  ...         99.97                0.89\n",
              "6   Metade do dataset       90/10  ...           NaN                 NaN\n",
              "7                 NaN       80/20  ...           NaN                 NaN\n",
              "8                 NaN       70/30  ...           NaN                 NaN\n",
              "9       Dataset Menor       90/10  ...         94.00                1.16\n",
              "10                NaN       80/20  ...         93.83                0.98\n",
              "11                NaN       70/30  ...         92.97                0.84\n",
              "12              Média         NaN  ...         96.80                1.03\n",
              "13      Desvio Padrão         NaN  ...          3.52                0.15\n",
              "\n",
              "[14 rows x 8 columns]"
            ]
          },
          "metadata": {
            "tags": []
          },
          "execution_count": 32
        }
      ]
    },
    {
      "cell_type": "code",
      "metadata": {
        "colab": {
          "base_uri": "https://localhost:8080/"
        },
        "id": "0dVBDh46eYMy",
        "outputId": "b8bf1886-ad20-4a2c-b3f6-8d7d7809ab0f"
      },
      "source": [
        "stat, p = stats.friedmanchisquare(knn_results['5 Neighbors'], knn_results['10 Neighbors'], knn_results['25 Neighbors'])\n",
        "print('Statistics=%.3f, p=%.3f' % (stat, p))"
      ],
      "execution_count": 33,
      "outputs": [
        {
          "output_type": "stream",
          "text": [
            "Statistics=0.894, p=0.640\n"
          ],
          "name": "stdout"
        }
      ]
    },
    {
      "cell_type": "code",
      "metadata": {
        "colab": {
          "base_uri": "https://localhost:8080/"
        },
        "id": "z2tY1wpXeYVM",
        "outputId": "b06c3b23-b015-4604-ad3c-9eb31b5fdd33"
      },
      "source": [
        "stat, p = stats.wilcoxon(knn_results['5 Neighbors'], knn_results['10 Neighbors'])\n",
        "print('Statistics=%.3f, p=%.3f' % (stat, p))\n",
        "\n",
        "stat, p = stats.wilcoxon(knn_results['5 Neighbors'], knn_results['25 Neighbors'])\n",
        "print('Statistics=%.3f, p=%.3f' % (stat, p))\n",
        "\n",
        "stat, p = stats.wilcoxon(knn_results['10 Neighbors'], knn_results['25 Neighbors'])\n",
        "print('Statistics=%f, p=%.3f' % (stat, p))"
      ],
      "execution_count": 34,
      "outputs": [
        {
          "output_type": "stream",
          "text": [
            "Statistics=3.000, p=0.008\n",
            "Statistics=3.000, p=0.005\n",
            "Statistics=3.000000, p=0.005\n"
          ],
          "name": "stdout"
        }
      ]
    },
    {
      "cell_type": "markdown",
      "metadata": {
        "id": "Xkofq8qSgkIt"
      },
      "source": [
        "### MLP\n"
      ]
    },
    {
      "cell_type": "code",
      "metadata": {
        "colab": {
          "base_uri": "https://localhost:8080/",
          "height": 0
        },
        "id": "IhxGaTHKgmEU",
        "outputId": "4a497780-2d24-4773-9a84-84e64394cca9"
      },
      "source": [
        "mlp_results = pd.read_csv('mlp.csv')\n",
        "mlp_results"
      ],
      "execution_count": 35,
      "outputs": [
        {
          "output_type": "execute_result",
          "data": {
            "text/html": [
              "<div>\n",
              "<style scoped>\n",
              "    .dataframe tbody tr th:only-of-type {\n",
              "        vertical-align: middle;\n",
              "    }\n",
              "\n",
              "    .dataframe tbody tr th {\n",
              "        vertical-align: top;\n",
              "    }\n",
              "\n",
              "    .dataframe thead th {\n",
              "        text-align: right;\n",
              "    }\n",
              "</style>\n",
              "<table border=\"1\" class=\"dataframe\">\n",
              "  <thead>\n",
              "    <tr style=\"text-align: right;\">\n",
              "      <th></th>\n",
              "      <th>Base</th>\n",
              "      <th>Treinamento</th>\n",
              "      <th>100 Layers</th>\n",
              "      <th>Tempo (segundos)</th>\n",
              "      <th>100, 100 Layers</th>\n",
              "      <th>Tempo (segundos).1</th>\n",
              "      <th>24, 64 Layers</th>\n",
              "      <th>Tempo (segundos).2</th>\n",
              "    </tr>\n",
              "  </thead>\n",
              "  <tbody>\n",
              "    <tr>\n",
              "      <th>0</th>\n",
              "      <td>Original</td>\n",
              "      <td>90/10</td>\n",
              "      <td>96.15</td>\n",
              "      <td>120.24</td>\n",
              "      <td>96.58</td>\n",
              "      <td>151.73</td>\n",
              "      <td>94.19</td>\n",
              "      <td>296.29</td>\n",
              "    </tr>\n",
              "    <tr>\n",
              "      <th>1</th>\n",
              "      <td>NaN</td>\n",
              "      <td>80/20</td>\n",
              "      <td>96.48</td>\n",
              "      <td>168.11</td>\n",
              "      <td>96.80</td>\n",
              "      <td>135.72</td>\n",
              "      <td>93.60</td>\n",
              "      <td>221.37</td>\n",
              "    </tr>\n",
              "    <tr>\n",
              "      <th>2</th>\n",
              "      <td>NaN</td>\n",
              "      <td>70/30</td>\n",
              "      <td>95.80</td>\n",
              "      <td>107.09</td>\n",
              "      <td>96.32</td>\n",
              "      <td>143.04</td>\n",
              "      <td>93.48</td>\n",
              "      <td>125.31</td>\n",
              "    </tr>\n",
              "    <tr>\n",
              "      <th>3</th>\n",
              "      <td>Duas Classes</td>\n",
              "      <td>90/10</td>\n",
              "      <td>100.00</td>\n",
              "      <td>8.67</td>\n",
              "      <td>99.92</td>\n",
              "      <td>10.69</td>\n",
              "      <td>100.00</td>\n",
              "      <td>5.49</td>\n",
              "    </tr>\n",
              "    <tr>\n",
              "      <th>4</th>\n",
              "      <td>NaN</td>\n",
              "      <td>80/20</td>\n",
              "      <td>99.96</td>\n",
              "      <td>9.98</td>\n",
              "      <td>99.96</td>\n",
              "      <td>11.26</td>\n",
              "      <td>99.92</td>\n",
              "      <td>3.94</td>\n",
              "    </tr>\n",
              "    <tr>\n",
              "      <th>5</th>\n",
              "      <td>NaN</td>\n",
              "      <td>70/30</td>\n",
              "      <td>99.89</td>\n",
              "      <td>7.08</td>\n",
              "      <td>99.94</td>\n",
              "      <td>9.15</td>\n",
              "      <td>99.86</td>\n",
              "      <td>4.38</td>\n",
              "    </tr>\n",
              "    <tr>\n",
              "      <th>6</th>\n",
              "      <td>Metade do dataset</td>\n",
              "      <td>90/10</td>\n",
              "      <td>96.13</td>\n",
              "      <td>82.27</td>\n",
              "      <td>94.36</td>\n",
              "      <td>36.07</td>\n",
              "      <td>92.56</td>\n",
              "      <td>62.07</td>\n",
              "    </tr>\n",
              "    <tr>\n",
              "      <th>7</th>\n",
              "      <td>NaN</td>\n",
              "      <td>80/20</td>\n",
              "      <td>96.11</td>\n",
              "      <td>42.54</td>\n",
              "      <td>94.51</td>\n",
              "      <td>46.05</td>\n",
              "      <td>93.30</td>\n",
              "      <td>78.70</td>\n",
              "    </tr>\n",
              "    <tr>\n",
              "      <th>8</th>\n",
              "      <td>NaN</td>\n",
              "      <td>70/30</td>\n",
              "      <td>94.91</td>\n",
              "      <td>28.18</td>\n",
              "      <td>95.01</td>\n",
              "      <td>36.24</td>\n",
              "      <td>92.65</td>\n",
              "      <td>88.31</td>\n",
              "    </tr>\n",
              "    <tr>\n",
              "      <th>9</th>\n",
              "      <td>Dataset Menor</td>\n",
              "      <td>90/10</td>\n",
              "      <td>94.08</td>\n",
              "      <td>15.11</td>\n",
              "      <td>91.58</td>\n",
              "      <td>18.97</td>\n",
              "      <td>90.66</td>\n",
              "      <td>25.58</td>\n",
              "    </tr>\n",
              "    <tr>\n",
              "      <th>10</th>\n",
              "      <td>NaN</td>\n",
              "      <td>80/20</td>\n",
              "      <td>93.62</td>\n",
              "      <td>13.12</td>\n",
              "      <td>91.00</td>\n",
              "      <td>15.16</td>\n",
              "      <td>89.70</td>\n",
              "      <td>20.80</td>\n",
              "    </tr>\n",
              "    <tr>\n",
              "      <th>11</th>\n",
              "      <td>NaN</td>\n",
              "      <td>70/30</td>\n",
              "      <td>92.30</td>\n",
              "      <td>11.64</td>\n",
              "      <td>89.69</td>\n",
              "      <td>13.49</td>\n",
              "      <td>90.61</td>\n",
              "      <td>16.49</td>\n",
              "    </tr>\n",
              "    <tr>\n",
              "      <th>12</th>\n",
              "      <td>Média</td>\n",
              "      <td>NaN</td>\n",
              "      <td>96.29</td>\n",
              "      <td>51.17</td>\n",
              "      <td>95.47</td>\n",
              "      <td>52.30</td>\n",
              "      <td>94.21</td>\n",
              "      <td>79.06</td>\n",
              "    </tr>\n",
              "    <tr>\n",
              "      <th>13</th>\n",
              "      <td>Desvio Padrão</td>\n",
              "      <td>NaN</td>\n",
              "      <td>2.53</td>\n",
              "      <td>54.69</td>\n",
              "      <td>3.50</td>\n",
              "      <td>56.34</td>\n",
              "      <td>3.70</td>\n",
              "      <td>93.79</td>\n",
              "    </tr>\n",
              "  </tbody>\n",
              "</table>\n",
              "</div>"
            ],
            "text/plain": [
              "                 Base Treinamento  ...  24, 64 Layers  Tempo (segundos).2\n",
              "0            Original       90/10  ...          94.19              296.29\n",
              "1                 NaN       80/20  ...          93.60              221.37\n",
              "2                 NaN       70/30  ...          93.48              125.31\n",
              "3        Duas Classes       90/10  ...         100.00                5.49\n",
              "4                 NaN       80/20  ...          99.92                3.94\n",
              "5                 NaN       70/30  ...          99.86                4.38\n",
              "6   Metade do dataset       90/10  ...          92.56               62.07\n",
              "7                 NaN       80/20  ...          93.30               78.70\n",
              "8                 NaN       70/30  ...          92.65               88.31\n",
              "9       Dataset Menor       90/10  ...          90.66               25.58\n",
              "10                NaN       80/20  ...          89.70               20.80\n",
              "11                NaN       70/30  ...          90.61               16.49\n",
              "12              Média         NaN  ...          94.21               79.06\n",
              "13      Desvio Padrão         NaN  ...           3.70               93.79\n",
              "\n",
              "[14 rows x 8 columns]"
            ]
          },
          "metadata": {
            "tags": []
          },
          "execution_count": 35
        }
      ]
    },
    {
      "cell_type": "code",
      "metadata": {
        "colab": {
          "base_uri": "https://localhost:8080/"
        },
        "id": "sJRQEnyhgmOB",
        "outputId": "a09feea9-d10b-47e1-8353-2dba5ccaf75f"
      },
      "source": [
        "stat, p = stats.friedmanchisquare(mlp_results['100 Layers'], mlp_results['100, 100 Layers'], mlp_results['24, 64 Layers'])\n",
        "print('Statistics=%.3f, p=%.3f' % (stat, p))"
      ],
      "execution_count": 36,
      "outputs": [
        {
          "output_type": "stream",
          "text": [
            "Statistics=10.259, p=0.006\n"
          ],
          "name": "stdout"
        }
      ]
    },
    {
      "cell_type": "code",
      "metadata": {
        "colab": {
          "base_uri": "https://localhost:8080/"
        },
        "id": "LMmcjfPJgmVq",
        "outputId": "b7e8fe64-4ccd-4f2d-aa36-59ae73a26937"
      },
      "source": [
        "stat, p = stats.wilcoxon(mlp_results['100 Layers'], mlp_results['100, 100 Layers'])\n",
        "print('Statistics=%.3f, p=%.3f' % (stat, p))\n",
        "\n",
        "stat, p = stats.wilcoxon(mlp_results['100 Layers'], mlp_results['24, 64 Layers'])\n",
        "print('Statistics=%.3f, p=%.3f' % (stat, p))\n",
        "\n",
        "stat, p = stats.wilcoxon(mlp_results['100, 100 Layers'], mlp_results['24, 64 Layers'])\n",
        "print('Statistics=%f, p=%.3f' % (stat, p))"
      ],
      "execution_count": 37,
      "outputs": [
        {
          "output_type": "stream",
          "text": [
            "Statistics=27.000, p=0.196\n",
            "Statistics=3.000, p=0.003\n",
            "Statistics=12.000000, p=0.011\n"
          ],
          "name": "stdout"
        }
      ]
    },
    {
      "cell_type": "markdown",
      "metadata": {
        "id": "bSblm0ADiq0r"
      },
      "source": [
        "### Best Results\n"
      ]
    },
    {
      "cell_type": "code",
      "metadata": {
        "colab": {
          "base_uri": "https://localhost:8080/",
          "height": 467
        },
        "id": "u3X0HTCMisvw",
        "outputId": "0335dcd4-3857-4c77-836a-20caea42b19b"
      },
      "source": [
        "best_results = pd.read_csv('bests.csv', skiprows=1)\n",
        "best_results"
      ],
      "execution_count": 38,
      "outputs": [
        {
          "output_type": "execute_result",
          "data": {
            "text/html": [
              "<div>\n",
              "<style scoped>\n",
              "    .dataframe tbody tr th:only-of-type {\n",
              "        vertical-align: middle;\n",
              "    }\n",
              "\n",
              "    .dataframe tbody tr th {\n",
              "        vertical-align: top;\n",
              "    }\n",
              "\n",
              "    .dataframe thead th {\n",
              "        text-align: right;\n",
              "    }\n",
              "</style>\n",
              "<table border=\"1\" class=\"dataframe\">\n",
              "  <thead>\n",
              "    <tr style=\"text-align: right;\">\n",
              "      <th></th>\n",
              "      <th>Base</th>\n",
              "      <th>Treinamento</th>\n",
              "      <th>100 Layers</th>\n",
              "      <th>Tempo (segundos)</th>\n",
              "      <th>5 Neighbors</th>\n",
              "      <th>Tempo (segundos).1</th>\n",
              "      <th>1.00E-01</th>\n",
              "      <th>Tempo (segundos).2</th>\n",
              "      <th>ccp 0.0</th>\n",
              "      <th>Tempo (segundos).3</th>\n",
              "    </tr>\n",
              "  </thead>\n",
              "  <tbody>\n",
              "    <tr>\n",
              "      <th>0</th>\n",
              "      <td>Original</td>\n",
              "      <td>90/10</td>\n",
              "      <td>96.15</td>\n",
              "      <td>120.24</td>\n",
              "      <td>NaN</td>\n",
              "      <td>NaN</td>\n",
              "      <td>99.44</td>\n",
              "      <td>0.17</td>\n",
              "      <td>86.08</td>\n",
              "      <td>19.31</td>\n",
              "    </tr>\n",
              "    <tr>\n",
              "      <th>1</th>\n",
              "      <td>NaN</td>\n",
              "      <td>80/20</td>\n",
              "      <td>96.48</td>\n",
              "      <td>168.11</td>\n",
              "      <td>NaN</td>\n",
              "      <td>NaN</td>\n",
              "      <td>99.44</td>\n",
              "      <td>0.15</td>\n",
              "      <td>86.39</td>\n",
              "      <td>16.42</td>\n",
              "    </tr>\n",
              "    <tr>\n",
              "      <th>2</th>\n",
              "      <td>NaN</td>\n",
              "      <td>70/30</td>\n",
              "      <td>95.80</td>\n",
              "      <td>107.09</td>\n",
              "      <td>NaN</td>\n",
              "      <td>NaN</td>\n",
              "      <td>99.50</td>\n",
              "      <td>0.14</td>\n",
              "      <td>86.49</td>\n",
              "      <td>13.71</td>\n",
              "    </tr>\n",
              "    <tr>\n",
              "      <th>3</th>\n",
              "      <td>Duas Classes</td>\n",
              "      <td>90/10</td>\n",
              "      <td>100.00</td>\n",
              "      <td>8.67</td>\n",
              "      <td>100.00</td>\n",
              "      <td>1.28</td>\n",
              "      <td>80.01</td>\n",
              "      <td>0.79</td>\n",
              "      <td>99.36</td>\n",
              "      <td>1.78</td>\n",
              "    </tr>\n",
              "    <tr>\n",
              "      <th>4</th>\n",
              "      <td>NaN</td>\n",
              "      <td>80/20</td>\n",
              "      <td>99.96</td>\n",
              "      <td>9.98</td>\n",
              "      <td>100.00</td>\n",
              "      <td>1.07</td>\n",
              "      <td>80.25</td>\n",
              "      <td>0.70</td>\n",
              "      <td>99.56</td>\n",
              "      <td>1.45</td>\n",
              "    </tr>\n",
              "    <tr>\n",
              "      <th>5</th>\n",
              "      <td>NaN</td>\n",
              "      <td>70/30</td>\n",
              "      <td>99.89</td>\n",
              "      <td>7.08</td>\n",
              "      <td>100.00</td>\n",
              "      <td>0.88</td>\n",
              "      <td>80.14</td>\n",
              "      <td>0.64</td>\n",
              "      <td>99.52</td>\n",
              "      <td>1.14</td>\n",
              "    </tr>\n",
              "    <tr>\n",
              "      <th>6</th>\n",
              "      <td>Metade do dataset</td>\n",
              "      <td>90/10</td>\n",
              "      <td>96.13</td>\n",
              "      <td>82.27</td>\n",
              "      <td>NaN</td>\n",
              "      <td>NaN</td>\n",
              "      <td>79.90</td>\n",
              "      <td>0.41</td>\n",
              "      <td>84.96</td>\n",
              "      <td>7.64</td>\n",
              "    </tr>\n",
              "    <tr>\n",
              "      <th>7</th>\n",
              "      <td>NaN</td>\n",
              "      <td>80/20</td>\n",
              "      <td>96.11</td>\n",
              "      <td>42.54</td>\n",
              "      <td>NaN</td>\n",
              "      <td>NaN</td>\n",
              "      <td>79.96</td>\n",
              "      <td>0.36</td>\n",
              "      <td>84.80</td>\n",
              "      <td>6.96</td>\n",
              "    </tr>\n",
              "    <tr>\n",
              "      <th>8</th>\n",
              "      <td>NaN</td>\n",
              "      <td>70/30</td>\n",
              "      <td>94.91</td>\n",
              "      <td>28.18</td>\n",
              "      <td>NaN</td>\n",
              "      <td>NaN</td>\n",
              "      <td>80.37</td>\n",
              "      <td>0.32</td>\n",
              "      <td>83.73</td>\n",
              "      <td>5.78</td>\n",
              "    </tr>\n",
              "    <tr>\n",
              "      <th>9</th>\n",
              "      <td>Dataset Menor</td>\n",
              "      <td>90/10</td>\n",
              "      <td>94.08</td>\n",
              "      <td>15.11</td>\n",
              "      <td>96.41</td>\n",
              "      <td>23.98</td>\n",
              "      <td>82.33</td>\n",
              "      <td>0.18</td>\n",
              "      <td>84.00</td>\n",
              "      <td>2.33</td>\n",
              "    </tr>\n",
              "    <tr>\n",
              "      <th>10</th>\n",
              "      <td>NaN</td>\n",
              "      <td>80/20</td>\n",
              "      <td>93.62</td>\n",
              "      <td>13.12</td>\n",
              "      <td>95.83</td>\n",
              "      <td>42.87</td>\n",
              "      <td>83.16</td>\n",
              "      <td>0.14</td>\n",
              "      <td>83.50</td>\n",
              "      <td>2.02</td>\n",
              "    </tr>\n",
              "    <tr>\n",
              "      <th>11</th>\n",
              "      <td>NaN</td>\n",
              "      <td>70/30</td>\n",
              "      <td>92.30</td>\n",
              "      <td>11.64</td>\n",
              "      <td>95.44</td>\n",
              "      <td>58.25</td>\n",
              "      <td>81.94</td>\n",
              "      <td>0.13</td>\n",
              "      <td>81.80</td>\n",
              "      <td>1.69</td>\n",
              "    </tr>\n",
              "    <tr>\n",
              "      <th>12</th>\n",
              "      <td>Média</td>\n",
              "      <td>NaN</td>\n",
              "      <td>96.29</td>\n",
              "      <td>51.17</td>\n",
              "      <td>97.95</td>\n",
              "      <td>21.39</td>\n",
              "      <td>85.54</td>\n",
              "      <td>0.34</td>\n",
              "      <td>88.35</td>\n",
              "      <td>6.69</td>\n",
              "    </tr>\n",
              "    <tr>\n",
              "      <th>13</th>\n",
              "      <td>Desvio Padrão</td>\n",
              "      <td>NaN</td>\n",
              "      <td>2.53</td>\n",
              "      <td>54.69</td>\n",
              "      <td>2.27</td>\n",
              "      <td>24.76</td>\n",
              "      <td>8.46</td>\n",
              "      <td>0.24</td>\n",
              "      <td>6.84</td>\n",
              "      <td>6.42</td>\n",
              "    </tr>\n",
              "  </tbody>\n",
              "</table>\n",
              "</div>"
            ],
            "text/plain": [
              "                 Base Treinamento  ...  ccp 0.0  Tempo (segundos).3\n",
              "0            Original       90/10  ...    86.08               19.31\n",
              "1                 NaN       80/20  ...    86.39               16.42\n",
              "2                 NaN       70/30  ...    86.49               13.71\n",
              "3        Duas Classes       90/10  ...    99.36                1.78\n",
              "4                 NaN       80/20  ...    99.56                1.45\n",
              "5                 NaN       70/30  ...    99.52                1.14\n",
              "6   Metade do dataset       90/10  ...    84.96                7.64\n",
              "7                 NaN       80/20  ...    84.80                6.96\n",
              "8                 NaN       70/30  ...    83.73                5.78\n",
              "9       Dataset Menor       90/10  ...    84.00                2.33\n",
              "10                NaN       80/20  ...    83.50                2.02\n",
              "11                NaN       70/30  ...    81.80                1.69\n",
              "12              Média         NaN  ...    88.35                6.69\n",
              "13      Desvio Padrão         NaN  ...     6.84                6.42\n",
              "\n",
              "[14 rows x 10 columns]"
            ]
          },
          "metadata": {
            "tags": []
          },
          "execution_count": 38
        }
      ]
    },
    {
      "cell_type": "code",
      "metadata": {
        "colab": {
          "base_uri": "https://localhost:8080/"
        },
        "id": "2wsdbmgGjCVd",
        "outputId": "e2140f46-d91c-4dbd-fb66-b650b7c376ce"
      },
      "source": [
        "stat, p = stats.friedmanchisquare(best_results['100 Layers'], \n",
        "                                  best_results['5 Neighbors'],\n",
        "                                  best_results['1.00E-01'],\n",
        "                                  best_results['ccp 0.0'],)\n",
        "\n",
        "print('Statistics=%.3f, p=%.3f' % (stat, p))"
      ],
      "execution_count": 39,
      "outputs": [
        {
          "output_type": "stream",
          "text": [
            "Statistics=23.288, p=0.000\n"
          ],
          "name": "stdout"
        }
      ]
    },
    {
      "cell_type": "code",
      "metadata": {
        "colab": {
          "base_uri": "https://localhost:8080/"
        },
        "id": "R_8OVd6RkDfE",
        "outputId": "adf731ec-f49c-41b1-e0b2-f91f9a6f2720"
      },
      "source": [
        "stat, p = stats.wilcoxon(best_results['100 Layers'], best_results['5 Neighbors'])\n",
        "print('Statistics=%.3f, p=%.3f' % (stat, p))\n",
        "\n",
        "stat, p = stats.wilcoxon(best_results['100 Layers'], best_results['1.00E-01'])\n",
        "print('Statistics=%.3f, p=%.3f' % (stat, p))\n",
        "\n",
        "stat, p = stats.wilcoxon(best_results['100 Layers'], best_results['ccp 0.0'])\n",
        "print('Statistics=%.3f, p=%.3f' % (stat, p))\n",
        "\n",
        "stat, p = stats.wilcoxon(best_results['5 Neighbors'], best_results['1.00E-01'])\n",
        "print('Statistics=%.3f, p=%.3f' % (stat, p))\n",
        "\n",
        "stat, p = stats.wilcoxon(best_results['5 Neighbors'], best_results['ccp 0.0'])\n",
        "print('Statistics=%.3f, p=%.3f' % (stat, p))\n",
        "\n",
        "stat, p = stats.wilcoxon(best_results['ccp 0.0'], best_results['1.00E-01'])\n",
        "print('Statistics=%.3f, p=%.3f' % (stat, p))"
      ],
      "execution_count": 40,
      "outputs": [
        {
          "output_type": "stream",
          "text": [
            "Statistics=3.000, p=0.003\n",
            "Statistics=10.000, p=0.008\n",
            "Statistics=4.000, p=0.002\n",
            "Statistics=1.000, p=0.001\n",
            "Statistics=4.000, p=0.002\n",
            "Statistics=34.000, p=0.245\n"
          ],
          "name": "stdout"
        }
      ]
    },
    {
      "cell_type": "markdown",
      "metadata": {
        "id": "PClDbKPwualp"
      },
      "source": [
        "## Bagging\n"
      ]
    },
    {
      "cell_type": "code",
      "metadata": {
        "colab": {
          "base_uri": "https://localhost:8080/",
          "height": 167
        },
        "id": "nJc68UHCuggl",
        "outputId": "ea89c6ce-2ede-40e9-8f33-6cbe3d500f6b"
      },
      "source": [
        "bagg_results = pd.read_csv('bagging.csv')\n",
        "bagg_results"
      ],
      "execution_count": 41,
      "outputs": [
        {
          "output_type": "execute_result",
          "data": {
            "text/html": [
              "<div>\n",
              "<style scoped>\n",
              "    .dataframe tbody tr th:only-of-type {\n",
              "        vertical-align: middle;\n",
              "    }\n",
              "\n",
              "    .dataframe tbody tr th {\n",
              "        vertical-align: top;\n",
              "    }\n",
              "\n",
              "    .dataframe thead th {\n",
              "        text-align: right;\n",
              "    }\n",
              "</style>\n",
              "<table border=\"1\" class=\"dataframe\">\n",
              "  <thead>\n",
              "    <tr style=\"text-align: right;\">\n",
              "      <th></th>\n",
              "      <th>Bagging</th>\n",
              "      <th>10</th>\n",
              "      <th>15</th>\n",
              "      <th>20</th>\n",
              "      <th>Media</th>\n",
              "      <th>Tempo Médio</th>\n",
              "    </tr>\n",
              "  </thead>\n",
              "  <tbody>\n",
              "    <tr>\n",
              "      <th>0</th>\n",
              "      <td>D Tree</td>\n",
              "      <td>95.862829</td>\n",
              "      <td>96.300000</td>\n",
              "      <td>96.458218</td>\n",
              "      <td>96.200000</td>\n",
              "      <td>15.413956</td>\n",
              "    </tr>\n",
              "    <tr>\n",
              "      <th>1</th>\n",
              "      <td>MLP</td>\n",
              "      <td>97.730997</td>\n",
              "      <td>97.800685</td>\n",
              "      <td>97.883284</td>\n",
              "      <td>97.804988</td>\n",
              "      <td>152.703294</td>\n",
              "    </tr>\n",
              "    <tr>\n",
              "      <th>2</th>\n",
              "      <td>Knn</td>\n",
              "      <td>97.967593</td>\n",
              "      <td>97.914352</td>\n",
              "      <td>97.956019</td>\n",
              "      <td>97.945988</td>\n",
              "      <td>670.984601</td>\n",
              "    </tr>\n",
              "    <tr>\n",
              "      <th>3</th>\n",
              "      <td>NB</td>\n",
              "      <td>79.330826</td>\n",
              "      <td>79.330684</td>\n",
              "      <td>79.330927</td>\n",
              "      <td>79.330812</td>\n",
              "      <td>4.670789</td>\n",
              "    </tr>\n",
              "  </tbody>\n",
              "</table>\n",
              "</div>"
            ],
            "text/plain": [
              "  Bagging         10         15         20      Media  Tempo Médio\n",
              "0  D Tree  95.862829  96.300000  96.458218  96.200000    15.413956\n",
              "1     MLP  97.730997  97.800685  97.883284  97.804988   152.703294\n",
              "2     Knn  97.967593  97.914352  97.956019  97.945988   670.984601\n",
              "3      NB  79.330826  79.330684  79.330927  79.330812     4.670789"
            ]
          },
          "metadata": {
            "tags": []
          },
          "execution_count": 41
        }
      ]
    },
    {
      "cell_type": "code",
      "metadata": {
        "id": "QWABLHqnxh55"
      },
      "source": [
        "dtree = bagg_results.loc[0][['10', '15', '20']]\n",
        "mlp = bagg_results.loc[1][['10', '15', '20']]\n",
        "knn = bagg_results.loc[2][['10', '15', '20']]\n",
        "nb = bagg_results.loc[3][['10', '15', '20']]"
      ],
      "execution_count": 42,
      "outputs": []
    },
    {
      "cell_type": "code",
      "metadata": {
        "colab": {
          "base_uri": "https://localhost:8080/"
        },
        "id": "6naMSTnVRMPx",
        "outputId": "f0a1310b-e23c-4266-daa0-5a04fdd00bbf"
      },
      "source": [
        "stat, p = stats.friedmanchisquare(dtree, \n",
        "                                  mlp,\n",
        "                                  knn,\n",
        "                                  nb,)\n",
        "\n",
        "print('Statistics=%.3f, p=%.3f' % (stat, p))"
      ],
      "execution_count": 43,
      "outputs": [
        {
          "output_type": "stream",
          "text": [
            "Statistics=9.000, p=0.029\n"
          ],
          "name": "stdout"
        }
      ]
    },
    {
      "cell_type": "code",
      "metadata": {
        "colab": {
          "base_uri": "https://localhost:8080/"
        },
        "id": "U8IKgMcuRepU",
        "outputId": "135a3bea-c6d3-43e4-89fb-e1c6407fa0ec"
      },
      "source": [
        "stat, p = stats.friedmanchisquare(bagg_results['10'], \n",
        "                                  bagg_results['15'],\n",
        "                                  bagg_results['20'])\n",
        "\n",
        "print('Statistics=%.3f, p=%.3f' % (stat, p))"
      ],
      "execution_count": 44,
      "outputs": [
        {
          "output_type": "stream",
          "text": [
            "Statistics=3.500, p=0.174\n"
          ],
          "name": "stdout"
        }
      ]
    },
    {
      "cell_type": "code",
      "metadata": {
        "colab": {
          "base_uri": "https://localhost:8080/"
        },
        "id": "Dg2dsYPETLUm",
        "outputId": "feaa975c-3406-4361-9838-1bc2d641a9d8"
      },
      "source": [
        "stat, p = stats.wilcoxon(dtree.values, mlp.values)\n",
        "print('Statistics=%.3f, p=%.3f' % (stat, p))\n",
        "\n",
        "stat, p = stats.wilcoxon(dtree, knn)\n",
        "print('Statistics=%.3f, p=%.3f' % (stat, p))\n",
        "\n",
        "stat, p = stats.wilcoxon(dtree, nb)\n",
        "print('Statistics=%.3f, p=%.3f' % (stat, p))\n",
        "\n",
        "stat, p = stats.wilcoxon(mlp, knn)\n",
        "print('Statistics=%.3f, p=%.3f' % (stat, p))\n",
        "\n",
        "stat, p = stats.wilcoxon(mlp, nb)\n",
        "print('Statistics=%.3f, p=%.3f' % (stat, p))\n",
        "\n",
        "stat, p = stats.wilcoxon(knn, nb)\n",
        "print('Statistics=%.3f, p=%.3f' % (stat, p))"
      ],
      "execution_count": 45,
      "outputs": [
        {
          "output_type": "stream",
          "text": [
            "Statistics=0.000, p=0.109\n",
            "Statistics=0.000, p=0.109\n",
            "Statistics=0.000, p=0.109\n",
            "Statistics=0.000, p=0.109\n",
            "Statistics=0.000, p=0.109\n",
            "Statistics=0.000, p=0.109\n"
          ],
          "name": "stdout"
        }
      ]
    },
    {
      "cell_type": "code",
      "metadata": {
        "colab": {
          "base_uri": "https://localhost:8080/"
        },
        "id": "eYUKBEstUD7L",
        "outputId": "045b25ad-a492-4019-a740-d1a8796fb6c2"
      },
      "source": [
        "stat, p = stats.wilcoxon(bagg_results['10'], bagg_results['15'])\n",
        "print('Statistics=%.3f, p=%.3f' % (stat, p))\n",
        "\n",
        "stat, p = stats.wilcoxon(bagg_results['10'], bagg_results['20'])\n",
        "print('Statistics=%.3f, p=%.3f' % (stat, p))\n",
        "\n",
        "stat, p = stats.wilcoxon(bagg_results['15'], bagg_results['20'])\n",
        "print('Statistics=%.3f, p=%.3f' % (stat, p))"
      ],
      "execution_count": 46,
      "outputs": [
        {
          "output_type": "stream",
          "text": [
            "Statistics=3.000, p=0.465\n",
            "Statistics=2.000, p=0.273\n",
            "Statistics=0.000, p=0.068\n"
          ],
          "name": "stdout"
        }
      ]
    },
    {
      "cell_type": "markdown",
      "metadata": {
        "id": "JbaoyDoFcJlg"
      },
      "source": [
        "## Boosting"
      ]
    },
    {
      "cell_type": "code",
      "metadata": {
        "colab": {
          "base_uri": "https://localhost:8080/",
          "height": 137
        },
        "id": "N9ZOMADJcRG8",
        "outputId": "000484ed-5448-406e-d18c-50095c06054f"
      },
      "source": [
        "boost_results = pd.read_csv('boosting.csv')\n",
        "boost_results"
      ],
      "execution_count": 49,
      "outputs": [
        {
          "output_type": "execute_result",
          "data": {
            "text/html": [
              "<div>\n",
              "<style scoped>\n",
              "    .dataframe tbody tr th:only-of-type {\n",
              "        vertical-align: middle;\n",
              "    }\n",
              "\n",
              "    .dataframe tbody tr th {\n",
              "        vertical-align: top;\n",
              "    }\n",
              "\n",
              "    .dataframe thead th {\n",
              "        text-align: right;\n",
              "    }\n",
              "</style>\n",
              "<table border=\"1\" class=\"dataframe\">\n",
              "  <thead>\n",
              "    <tr style=\"text-align: right;\">\n",
              "      <th></th>\n",
              "      <th>Boosting</th>\n",
              "      <th>10</th>\n",
              "      <th>15</th>\n",
              "      <th>20</th>\n",
              "      <th>Media</th>\n",
              "      <th>Tempo Médio</th>\n",
              "    </tr>\n",
              "  </thead>\n",
              "  <tbody>\n",
              "    <tr>\n",
              "      <th>0</th>\n",
              "      <td>D Tree</td>\n",
              "      <td>91.285344</td>\n",
              "      <td>91.300000</td>\n",
              "      <td>91.285344</td>\n",
              "      <td>91.300000</td>\n",
              "      <td>1.916901</td>\n",
              "    </tr>\n",
              "    <tr>\n",
              "      <th>1</th>\n",
              "      <td>MLP</td>\n",
              "      <td>46.739133</td>\n",
              "      <td>46.739133</td>\n",
              "      <td>46.739133</td>\n",
              "      <td>46.739133</td>\n",
              "      <td>103.839226</td>\n",
              "    </tr>\n",
              "    <tr>\n",
              "      <th>2</th>\n",
              "      <td>NB</td>\n",
              "      <td>74.239590</td>\n",
              "      <td>69.878211</td>\n",
              "      <td>65.567204</td>\n",
              "      <td>69.895001</td>\n",
              "      <td>9.454617</td>\n",
              "    </tr>\n",
              "  </tbody>\n",
              "</table>\n",
              "</div>"
            ],
            "text/plain": [
              "  Boosting         10         15         20      Media  Tempo Médio\n",
              "0   D Tree  91.285344  91.300000  91.285344  91.300000     1.916901\n",
              "1      MLP  46.739133  46.739133  46.739133  46.739133   103.839226\n",
              "2       NB  74.239590  69.878211  65.567204  69.895001     9.454617"
            ]
          },
          "metadata": {
            "tags": []
          },
          "execution_count": 49
        }
      ]
    },
    {
      "cell_type": "code",
      "metadata": {
        "id": "itdLEcB3cqyY"
      },
      "source": [
        "dtree = boost_results.loc[0][['10', '15', '20']]\n",
        "mlp = boost_results.loc[1][['10', '15', '20']]\n",
        "nb = boost_results.loc[2][['10', '15', '20']]"
      ],
      "execution_count": 53,
      "outputs": []
    },
    {
      "cell_type": "code",
      "metadata": {
        "colab": {
          "base_uri": "https://localhost:8080/"
        },
        "id": "YApy9Q97dHt0",
        "outputId": "01d1a010-cc33-44e8-b50d-d5acd7be20ec"
      },
      "source": [
        "stat, p = stats.friedmanchisquare(dtree, \n",
        "                                  mlp,\n",
        "                                  nb,)\n",
        "\n",
        "print('Statistics=%.3f, p=%.3f' % (stat, p))"
      ],
      "execution_count": 54,
      "outputs": [
        {
          "output_type": "stream",
          "text": [
            "Statistics=6.000, p=0.050\n"
          ],
          "name": "stdout"
        }
      ]
    },
    {
      "cell_type": "code",
      "metadata": {
        "colab": {
          "base_uri": "https://localhost:8080/"
        },
        "id": "SYgysgb0dLm7",
        "outputId": "fa162434-8da4-45f3-b536-d97fd8440cc2"
      },
      "source": [
        "stat, p = stats.friedmanchisquare(boost_results['10'], \n",
        "                                  boost_results['15'],\n",
        "                                  boost_results['20'])\n",
        "\n",
        "print('Statistics=%.3f, p=%.3f' % (stat, p))"
      ],
      "execution_count": 55,
      "outputs": [
        {
          "output_type": "stream",
          "text": [
            "Statistics=2.000, p=0.368\n"
          ],
          "name": "stdout"
        }
      ]
    },
    {
      "cell_type": "code",
      "metadata": {
        "colab": {
          "base_uri": "https://localhost:8080/"
        },
        "id": "BYSg9d2seo_c",
        "outputId": "a25c0244-125c-4c01-b421-d6f7d4cb408f"
      },
      "source": [
        "stat, p = stats.wilcoxon(dtree, mlp)\n",
        "print('Statistics=%.3f, p=%.3f' % (stat, p))\n",
        "\n",
        "stat, p = stats.wilcoxon(dtree, nb)\n",
        "print('Statistics=%.3f, p=%.3f' % (stat, p))\n",
        "\n",
        "stat, p = stats.wilcoxon(mlp, nb)\n",
        "print('Statistics=%.3f, p=%.3f' % (stat, p))"
      ],
      "execution_count": 57,
      "outputs": [
        {
          "output_type": "stream",
          "text": [
            "Statistics=0.000, p=0.102\n",
            "Statistics=0.000, p=0.109\n",
            "Statistics=0.000, p=0.109\n"
          ],
          "name": "stdout"
        }
      ]
    },
    {
      "cell_type": "code",
      "metadata": {
        "colab": {
          "base_uri": "https://localhost:8080/"
        },
        "id": "wB7Rcr55e1M3",
        "outputId": "b97044e1-45c0-486f-9651-ee1522ec4816"
      },
      "source": [
        "stat, p = stats.wilcoxon(boost_results['10'], boost_results['15'])\n",
        "print('Statistics=%.3f, p=%.3f' % (stat, p))\n",
        "\n",
        "stat, p = stats.wilcoxon(boost_results['10'], boost_results['20'])\n",
        "print('Statistics=%.3f, p=%.3f' % (stat, p))\n",
        "\n",
        "stat, p = stats.wilcoxon(boost_results['15'], boost_results['20'])\n",
        "print('Statistics=%.3f, p=%.3f' % (stat, p))"
      ],
      "execution_count": 58,
      "outputs": [
        {
          "output_type": "stream",
          "text": [
            "Statistics=1.000, p=0.655\n",
            "Statistics=0.000, p=0.317\n",
            "Statistics=0.000, p=0.180\n"
          ],
          "name": "stdout"
        }
      ]
    },
    {
      "cell_type": "markdown",
      "metadata": {
        "id": "tTXlgjgthjEY"
      },
      "source": [
        "## Stacking"
      ]
    },
    {
      "cell_type": "code",
      "metadata": {
        "colab": {
          "base_uri": "https://localhost:8080/",
          "height": 257
        },
        "id": "WlsfVECthlVD",
        "outputId": "acce1fd9-d227-44d7-896e-e8e0f3dffb5a"
      },
      "source": [
        "stacking_results = pd.read_csv('stacking.csv')\n",
        "stacking_results"
      ],
      "execution_count": 59,
      "outputs": [
        {
          "output_type": "execute_result",
          "data": {
            "text/html": [
              "<div>\n",
              "<style scoped>\n",
              "    .dataframe tbody tr th:only-of-type {\n",
              "        vertical-align: middle;\n",
              "    }\n",
              "\n",
              "    .dataframe tbody tr th {\n",
              "        vertical-align: top;\n",
              "    }\n",
              "\n",
              "    .dataframe thead th {\n",
              "        text-align: right;\n",
              "    }\n",
              "</style>\n",
              "<table border=\"1\" class=\"dataframe\">\n",
              "  <thead>\n",
              "    <tr style=\"text-align: right;\">\n",
              "      <th></th>\n",
              "      <th>10</th>\n",
              "      <th>Tempo</th>\n",
              "      <th>15</th>\n",
              "      <th>Tempo.1</th>\n",
              "      <th>20</th>\n",
              "      <th>Tempo.2</th>\n",
              "    </tr>\n",
              "  </thead>\n",
              "  <tbody>\n",
              "    <tr>\n",
              "      <th>0</th>\n",
              "      <td>99.92</td>\n",
              "      <td>53.95</td>\n",
              "      <td>100.00</td>\n",
              "      <td>52.53</td>\n",
              "      <td>100.00</td>\n",
              "      <td>56.66</td>\n",
              "    </tr>\n",
              "    <tr>\n",
              "      <th>1</th>\n",
              "      <td>99.96</td>\n",
              "      <td>55.05</td>\n",
              "      <td>100.00</td>\n",
              "      <td>52.39</td>\n",
              "      <td>99.96</td>\n",
              "      <td>51.18</td>\n",
              "    </tr>\n",
              "    <tr>\n",
              "      <th>2</th>\n",
              "      <td>99.89</td>\n",
              "      <td>41.35</td>\n",
              "      <td>99.82</td>\n",
              "      <td>49.55</td>\n",
              "      <td>99.87</td>\n",
              "      <td>45.89</td>\n",
              "    </tr>\n",
              "    <tr>\n",
              "      <th>3</th>\n",
              "      <td>94.08</td>\n",
              "      <td>80.47</td>\n",
              "      <td>93.50</td>\n",
              "      <td>88.91</td>\n",
              "      <td>94.33</td>\n",
              "      <td>96.37</td>\n",
              "    </tr>\n",
              "    <tr>\n",
              "      <th>4</th>\n",
              "      <td>94.21</td>\n",
              "      <td>79.54</td>\n",
              "      <td>92.42</td>\n",
              "      <td>83.03</td>\n",
              "      <td>92.92</td>\n",
              "      <td>84.73</td>\n",
              "    </tr>\n",
              "    <tr>\n",
              "      <th>5</th>\n",
              "      <td>91.86</td>\n",
              "      <td>76.26</td>\n",
              "      <td>91.50</td>\n",
              "      <td>71.03</td>\n",
              "      <td>91.50</td>\n",
              "      <td>82.21</td>\n",
              "    </tr>\n",
              "    <tr>\n",
              "      <th>6</th>\n",
              "      <td>96.65</td>\n",
              "      <td>64.44</td>\n",
              "      <td>96.21</td>\n",
              "      <td>66.24</td>\n",
              "      <td>96.43</td>\n",
              "      <td>69.51</td>\n",
              "    </tr>\n",
              "  </tbody>\n",
              "</table>\n",
              "</div>"
            ],
            "text/plain": [
              "      10  Tempo      15  Tempo.1      20  Tempo.2\n",
              "0  99.92  53.95  100.00    52.53  100.00    56.66\n",
              "1  99.96  55.05  100.00    52.39   99.96    51.18\n",
              "2  99.89  41.35   99.82    49.55   99.87    45.89\n",
              "3  94.08  80.47   93.50    88.91   94.33    96.37\n",
              "4  94.21  79.54   92.42    83.03   92.92    84.73\n",
              "5  91.86  76.26   91.50    71.03   91.50    82.21\n",
              "6  96.65  64.44   96.21    66.24   96.43    69.51"
            ]
          },
          "metadata": {
            "tags": []
          },
          "execution_count": 59
        }
      ]
    },
    {
      "cell_type": "code",
      "metadata": {
        "colab": {
          "base_uri": "https://localhost:8080/"
        },
        "id": "0kecaYEshxzG",
        "outputId": "5a7d6a52-61ea-4bb0-b3c0-64f487c9a1ac"
      },
      "source": [
        "stat, p = stats.friedmanchisquare(stacking_results['10'], \n",
        "                                  stacking_results['15'],\n",
        "                                  stacking_results['20'])\n",
        "\n",
        "print('Statistics=%.3f, p=%.3f' % (stat, p))"
      ],
      "execution_count": 60,
      "outputs": [
        {
          "output_type": "stream",
          "text": [
            "Statistics=2.480, p=0.289\n"
          ],
          "name": "stdout"
        }
      ]
    },
    {
      "cell_type": "code",
      "metadata": {
        "colab": {
          "base_uri": "https://localhost:8080/"
        },
        "id": "4rlQkNSIh7tR",
        "outputId": "fe915378-9c35-4d57-df6d-9da6f1c46246"
      },
      "source": [
        "stat, p = stats.wilcoxon(stacking_results['10'], stacking_results['15'])\n",
        "print('Statistics=%.3f, p=%.3f' % (stat, p))\n",
        "\n",
        "stat, p = stats.wilcoxon(stacking_results['10'], stacking_results['20'])\n",
        "print('Statistics=%.3f, p=%.3f' % (stat, p))\n",
        "\n",
        "stat, p = stats.wilcoxon(stacking_results['15'], stacking_results['20'])\n",
        "print('Statistics=%.3f, p=%.3f' % (stat, p))"
      ],
      "execution_count": 61,
      "outputs": [
        {
          "output_type": "stream",
          "text": [
            "Statistics=4.000, p=0.091\n",
            "Statistics=6.000, p=0.345\n",
            "Statistics=1.000, p=0.080\n"
          ],
          "name": "stdout"
        }
      ]
    }
  ]
}