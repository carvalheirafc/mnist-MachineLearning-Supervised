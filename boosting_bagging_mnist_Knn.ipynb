{
  "nbformat": 4,
  "nbformat_minor": 0,
  "metadata": {
    "colab": {
      "name": "boosting_bagging_mnist-Knn.ipynb",
      "provenance": [],
      "toc_visible": true,
      "mount_file_id": "https://github.com/carvalheirafc/mnist-MachineLearning-Supervised/blob/main/boosting_bagging_mnist_Knn.ipynb",
      "authorship_tag": "ABX9TyMDepyff/lOwTtYuqAflXXq",
      "include_colab_link": true
    },
    "kernelspec": {
      "name": "python3",
      "display_name": "Python 3"
    }
  },
  "cells": [
    {
      "cell_type": "markdown",
      "metadata": {
        "id": "view-in-github",
        "colab_type": "text"
      },
      "source": [
        "<a href=\"https://colab.research.google.com/github/carvalheirafc/mnist-MachineLearning-Supervised/blob/main/boosting_bagging_mnist_Knn.ipynb\" target=\"_parent\"><img src=\"https://colab.research.google.com/assets/colab-badge.svg\" alt=\"Open In Colab\"/></a>"
      ]
    },
    {
      "cell_type": "markdown",
      "metadata": {
        "id": "6TysPH2UbCgf"
      },
      "source": [
        "### Import "
      ]
    },
    {
      "cell_type": "code",
      "metadata": {
        "id": "1wE9WD1MARHU"
      },
      "source": [
        "import numpy as np\n",
        "from sklearn.model_selection import train_test_split\n",
        "from sklearn import metrics\n",
        "from sklearn.ensemble import BaggingClassifier\n",
        "from sklearn.ensemble import AdaBoostClassifier\n",
        "from sklearn.neighbors import KNeighborsClassifier\n",
        "import time"
      ],
      "execution_count": 1,
      "outputs": []
    },
    {
      "cell_type": "markdown",
      "metadata": {
        "id": "ab_eSEisNMkl"
      },
      "source": [
        "### Data Input and miscs\n"
      ]
    },
    {
      "cell_type": "code",
      "metadata": {
        "id": "giwtI9kQSDZM"
      },
      "source": [
        "data_X = np.load('./drive/My Drive/mnist_datasets/mnist_X.npy')\n",
        "data_y = np.load('./drive/My Drive/mnist_datasets/mnist_labels.npy')"
      ],
      "execution_count": 2,
      "outputs": []
    },
    {
      "cell_type": "code",
      "metadata": {
        "id": "dNx1VgivjGHU",
        "colab": {
          "base_uri": "https://localhost:8080/"
        },
        "outputId": "e001a721-cf27-4f5e-e0d9-62c4021787d2"
      },
      "source": [
        "half_X = np.array(np.split(data_X, 2))\n",
        "half_y = np.array(np.split(data_y, 2))\n",
        "\n",
        "print('Mnist 50% Data: \\n')\n",
        "print('X: ', half_X[0].shape)\n",
        "print('y: ', half_y[0].shape)"
      ],
      "execution_count": 3,
      "outputs": [
        {
          "output_type": "stream",
          "text": [
            "Mnist 50% Data: \n",
            "\n",
            "X:  (30000, 1, 28, 28)\n",
            "y:  (30000, 1)\n"
          ],
          "name": "stdout"
        }
      ]
    },
    {
      "cell_type": "code",
      "metadata": {
        "id": "QJ103KW0nWWf",
        "colab": {
          "base_uri": "https://localhost:8080/"
        },
        "outputId": "31b0c405-56eb-4152-c7ef-fcacb7803fe1"
      },
      "source": [
        "smaller_X = np.array(np.split(data_X, 5))\n",
        "smaller_y = np.array(np.split(data_y, 5))\n",
        "\n",
        "print('Mnist 20% Data: \\n')\n",
        "print('X: ', smaller_X[0].shape)\n",
        "print('y: ', smaller_y[0].shape)"
      ],
      "execution_count": 4,
      "outputs": [
        {
          "output_type": "stream",
          "text": [
            "Mnist 20% Data: \n",
            "\n",
            "X:  (12000, 1, 28, 28)\n",
            "y:  (12000, 1)\n"
          ],
          "name": "stdout"
        }
      ]
    },
    {
      "cell_type": "code",
      "metadata": {
        "id": "wb13x1BRqUZI",
        "colab": {
          "base_uri": "https://localhost:8080/"
        },
        "outputId": "73371555-8303-4610-f894-aa3e06b326ce"
      },
      "source": [
        "data_two_classes = np.load('./drive/My Drive/mnist_datasets/two_classes_data.npy', allow_pickle=True)\n",
        "two_classes_X = np.concatenate((data_two_classes[0][0], data_two_classes[1][0]), axis=0)\n",
        "two_classes_y = np.concatenate((data_two_classes[0][1], data_two_classes[1][1]), axis=0)\n",
        "print('Mnist Two Classes: \\n')\n",
        "print('Zeros: ', data_two_classes[0][0].shape)\n",
        "print('Ones:  ', data_two_classes[1][0].shape)\n",
        "print('X:     ', two_classes_X.shape)\n",
        "print('y:     ', two_classes_y.shape)\n"
      ],
      "execution_count": 5,
      "outputs": [
        {
          "output_type": "stream",
          "text": [
            "Mnist Two Classes: \n",
            "\n",
            "Zeros:  (5923, 28, 28)\n",
            "Ones:   (6742, 28, 28)\n",
            "X:      (12665, 28, 28)\n",
            "y:      (12665,)\n"
          ],
          "name": "stdout"
        }
      ]
    },
    {
      "cell_type": "markdown",
      "metadata": {
        "id": "nRo5bh_uDPmC"
      },
      "source": [
        "### Hold-Out Sets\n"
      ]
    },
    {
      "cell_type": "code",
      "metadata": {
        "id": "lVDL-wyNwsnq",
        "colab": {
          "base_uri": "https://localhost:8080/"
        },
        "outputId": "ec34d33d-9acc-4cdb-baf2-0b18bc56319a"
      },
      "source": [
        "ho_two_class_91_train_X, ho_two_class_91_test_X, ho_two_class_91_train_y, ho_two_class_91_test_y = train_test_split(two_classes_X, two_classes_y, train_size=0.9, random_state=555)\n",
        "ho_two_class_82_train_X, ho_two_class_82_test_X, ho_two_class_82_train_y, ho_two_class_82_test_y = train_test_split(two_classes_X, two_classes_y, train_size=0.8, random_state=555)\n",
        "ho_two_class_73_train_X, ho_two_class_73_test_X, ho_two_class_73_train_y, ho_two_class_73_test_y = train_test_split(two_classes_X, two_classes_y, train_size=0.7, random_state=555)\n",
        "\n",
        "print('Hold-Out Mnist Two Classes[0, 1] Split\\n')\n",
        "print('9/1: ', ho_two_class_91_train_X.shape)\n",
        "print('8/2: ', ho_two_class_82_train_X.shape)\n",
        "print('7/3: ', ho_two_class_73_train_X.shape)"
      ],
      "execution_count": 6,
      "outputs": [
        {
          "output_type": "stream",
          "text": [
            "Hold-Out Mnist Two Classes[0, 1] Split\n",
            "\n",
            "9/1:  (11398, 28, 28)\n",
            "8/2:  (10132, 28, 28)\n",
            "7/3:  (8865, 28, 28)\n"
          ],
          "name": "stdout"
        }
      ]
    },
    {
      "cell_type": "code",
      "metadata": {
        "id": "_7jfW5pKpdRq",
        "colab": {
          "base_uri": "https://localhost:8080/"
        },
        "outputId": "2f537569-ce08-4ed6-b6ae-a36f3a8ad8cb"
      },
      "source": [
        "ho_smaller_91_train_X, ho_smaller_91_test_X, ho_smaller_91_train_y, ho_smaller_91_test_y = train_test_split(smaller_X[0], smaller_y[0], train_size=0.9, random_state=555)\n",
        "ho_smaller_82_train_X, ho_smaller_82_test_X, ho_smaller_82_train_y, ho_smaller_82_test_y = train_test_split(smaller_X[0], smaller_y[0], train_size=0.8, random_state=555)\n",
        "ho_smaller_73_train_X, ho_smaller_73_test_X, ho_smaller_73_train_y, ho_smaller_73_test_y = train_test_split(smaller_X[0], smaller_y[0], train_size=0.7, random_state=555)\n",
        "\n",
        "print('Hold-Out Half Data Split\\n')\n",
        "print('9/1: ', ho_smaller_91_train_X.shape)\n",
        "print('8/2: ', ho_smaller_82_train_X.shape)\n",
        "print('7/3: ', ho_smaller_73_train_X.shape)"
      ],
      "execution_count": 7,
      "outputs": [
        {
          "output_type": "stream",
          "text": [
            "Hold-Out Half Data Split\n",
            "\n",
            "9/1:  (10800, 1, 28, 28)\n",
            "8/2:  (9600, 1, 28, 28)\n",
            "7/3:  (8400, 1, 28, 28)\n"
          ],
          "name": "stdout"
        }
      ]
    },
    {
      "cell_type": "markdown",
      "metadata": {
        "id": "giIeWqGo66Fz"
      },
      "source": [
        "### Classifier"
      ]
    },
    {
      "cell_type": "code",
      "metadata": {
        "id": "C3xB9xJy822p"
      },
      "source": [
        "'''\n",
        "Default n_neighbors \n",
        "'''\n",
        "\n",
        "default_knn_classifier = KNeighborsClassifier(n_neighbors=5)"
      ],
      "execution_count": 8,
      "outputs": []
    },
    {
      "cell_type": "markdown",
      "metadata": {
        "id": "bYEBhIDer0gw"
      },
      "source": [
        "### Bagging"
      ]
    },
    {
      "cell_type": "code",
      "metadata": {
        "id": "sNztLjfwkVTs",
        "colab": {
          "base_uri": "https://localhost:8080/"
        },
        "outputId": "ec53cad2-6bf7-4027-df15-a0fd22feea43"
      },
      "source": [
        "'''\n",
        "Two Classes Data-set\n",
        "'''\n",
        "\n",
        "for estimator in [10, 15, 20]:\n",
        "  clf = BaggingClassifier(base_estimator=default_knn_classifier, n_estimators=estimator, random_state=555)\n",
        "  print('Bagging Estimators: ', estimator)\n",
        "  print('5 neighbors | Two Class Data-set | 9/1 Holdout')\n",
        "  start_time = time.time()\n",
        "  clf.fit(ho_two_class_91_train_X.reshape(ho_two_class_91_train_X.shape[0], -1), ho_two_class_91_train_y)\n",
        "  print(\"Execution Time: %s seconds\" % (time.time() - start_time))\n",
        "  start_time = time.time()\n",
        "  ho_two_class_91_pred_y = clf.predict(ho_two_class_91_test_X.reshape(ho_two_class_91_test_X.shape[0], -1))\n",
        "  matrix = metrics.confusion_matrix(ho_two_class_91_test_y, ho_two_class_91_pred_y)\n",
        "  print(\"Execution Time: %s seconds\" % (time.time() - start_time))\n",
        "  print('Acurácia:', np.trace(matrix) / len(ho_two_class_91_test_y) * 100, '%')\n",
        "  print('-------------------------------------------------- \\n\\n')\n",
        "\n",
        "for estimator in [10, 15, 20]:\n",
        "  clf = BaggingClassifier(base_estimator=default_knn_classifier, n_estimators=estimator, random_state=555)\n",
        "  print('Bagging Estimators: ', estimator)\n",
        "  print('5 neighbors | Two Class Data-set | 8/2 Holdout')\n",
        "  start_time = time.time()\n",
        "  clf.fit(ho_two_class_82_train_X.reshape(ho_two_class_82_train_X.shape[0], -1), ho_two_class_82_train_y)\n",
        "  print(\"Execution Time: %s seconds\" % (time.time() - start_time))\n",
        "  start_time = time.time()\n",
        "  ho_two_class_82_pred_y = clf.predict(ho_two_class_82_test_X.reshape(ho_two_class_82_test_X.shape[0], -1))\n",
        "  matrix = metrics.confusion_matrix(ho_two_class_82_test_y, ho_two_class_82_pred_y)\n",
        "  print(\"Execution Time: %s seconds\" % (time.time() - start_time))\n",
        "  print('Acurácia:', np.trace(matrix) / len(ho_two_class_82_test_y) * 100, '%')\n",
        "  print('-------------------------------------------------- \\n\\n')\n",
        "\n",
        "for estimator in [10, 15, 20]:\n",
        "  clf = BaggingClassifier(base_estimator=default_knn_classifier, n_estimators=estimator, random_state=555)\n",
        "  print('Bagging Estimators: ', estimator)\n",
        "  print('5 neighbors | Two Class Data-set | 7/3 Holdout')\n",
        "  start_time = time.time()\n",
        "  clf.fit(ho_two_class_73_train_X.reshape(ho_two_class_73_train_X.shape[0], -1), ho_two_class_73_train_y)\n",
        "  print(\"Execution Time: %s seconds\" % (time.time() - start_time))\n",
        "  start_time = time.time()\n",
        "  ho_two_class_73_pred_y = clf.predict(ho_two_class_73_test_X.reshape(ho_two_class_73_test_X.shape[0], -1))\n",
        "  matrix = metrics.confusion_matrix(ho_two_class_73_test_y, ho_two_class_73_pred_y)\n",
        "  print(\"Execution Time: %s seconds\" % (time.time() - start_time))\n",
        "  print('Acurácia:', np.trace(matrix) / len(ho_two_class_73_test_y) * 100, '%')\n",
        "  print('-------------------------------------------------- \\n\\n')"
      ],
      "execution_count": null,
      "outputs": [
        {
          "output_type": "stream",
          "text": [
            "Bagging Estimators:  10\n",
            "5 neighbors | Two Class Data-set | 9/1 Holdout\n",
            "Execution Time: 13.49000358581543 seconds\n",
            "Execution Time: 250.4073510169983 seconds\n",
            "Acurácia: 100.0 %\n",
            "-------------------------------------------------- \n",
            "\n",
            "\n",
            "Bagging Estimators:  15\n",
            "5 neighbors | Two Class Data-set | 9/1 Holdout\n",
            "Execution Time: 20.531129360198975 seconds\n",
            "Execution Time: 389.4016058444977 seconds\n",
            "Acurácia: 100.0 %\n",
            "-------------------------------------------------- \n",
            "\n",
            "\n",
            "Bagging Estimators:  20\n",
            "5 neighbors | Two Class Data-set | 9/1 Holdout\n",
            "Execution Time: 27.158411264419556 seconds\n",
            "Execution Time: 518.3350915908813 seconds\n",
            "Acurácia: 100.0 %\n",
            "-------------------------------------------------- \n",
            "\n",
            "\n",
            "Bagging Estimators:  10\n",
            "5 neighbors | Two Class Data-set | 8/2 Holdout\n",
            "Execution Time: 11.774315595626831 seconds\n",
            "Execution Time: 475.3462495803833 seconds\n",
            "Acurácia: 100.0 %\n",
            "-------------------------------------------------- \n",
            "\n",
            "\n",
            "Bagging Estimators:  15\n",
            "5 neighbors | Two Class Data-set | 8/2 Holdout\n",
            "Execution Time: 17.798712253570557 seconds\n",
            "Execution Time: 708.7940061092377 seconds\n",
            "Acurácia: 100.0 %\n",
            "-------------------------------------------------- \n",
            "\n",
            "\n",
            "Bagging Estimators:  20\n",
            "5 neighbors | Two Class Data-set | 8/2 Holdout\n",
            "Execution Time: 23.338228464126587 seconds\n",
            "Execution Time: 936.7641208171844 seconds\n",
            "Acurácia: 100.0 %\n",
            "-------------------------------------------------- \n",
            "\n",
            "\n",
            "Bagging Estimators:  10\n",
            "5 neighbors | Two Class Data-set | 7/3 Holdout\n",
            "Execution Time: 10.969820261001587 seconds\n",
            "Execution Time: 646.5215382575989 seconds\n",
            "Acurácia: 100.0 %\n",
            "-------------------------------------------------- \n",
            "\n",
            "\n",
            "Bagging Estimators:  15\n",
            "5 neighbors | Two Class Data-set | 7/3 Holdout\n",
            "Execution Time: 14.765841245651245 seconds\n",
            "Execution Time: 966.1740913391113 seconds\n",
            "Acurácia: 100.0 %\n",
            "-------------------------------------------------- \n",
            "\n",
            "\n",
            "Bagging Estimators:  20\n",
            "5 neighbors | Two Class Data-set | 7/3 Holdout\n",
            "Execution Time: 20.271661281585693 seconds\n",
            "Execution Time: 1282.0408062934875 seconds\n",
            "Acurácia: 100.0 %\n",
            "-------------------------------------------------- \n",
            "\n",
            "\n"
          ],
          "name": "stdout"
        }
      ]
    },
    {
      "cell_type": "code",
      "metadata": {
        "id": "-inhq6GcesYz",
        "outputId": "22fca20e-ef7e-4399-d62f-9e1cafd6592b",
        "colab": {
          "base_uri": "https://localhost:8080/"
        }
      },
      "source": [
        "'''\n",
        "Smaller Size and Holdout sets\n",
        "'''\n",
        "\n",
        "for estimator in [10, 15, 20]:\n",
        "  clf = BaggingClassifier(base_estimator=default_knn_classifier, n_estimators=estimator, random_state=555)\n",
        "  print('Bagging Estimators: ', estimator)\n",
        "  print('hidden_layer_sizes=(100,) | Smaller Data-set | 9/1 Holdout')\n",
        "  start_time = time.time()\n",
        "  clf.fit(ho_smaller_91_train_X.reshape(ho_smaller_91_train_X.shape[0], -1), ho_smaller_91_train_y.ravel())\n",
        "  print(\"Execution Time: %s seconds\" % (time.time() - start_time))\n",
        "  start_time = time.time()\n",
        "  ho_smaller_91_pred_y = clf.predict(ho_smaller_91_test_X.reshape(ho_smaller_91_test_X.shape[0], -1))\n",
        "  matrix = metrics.confusion_matrix(ho_smaller_91_test_y, ho_smaller_91_pred_y)\n",
        "  print(\"Execution Time: %s seconds\" % (time.time() - start_time))\n",
        "  print('Acurácia:', np.trace(matrix) / len(ho_smaller_91_test_y) * 100, '%')\n",
        "  print('-------------------------------------------------- \\n\\n')\n",
        "\n",
        "for estimator in [10, 15, 20]:\n",
        "  clf = BaggingClassifier(base_estimator=default_knn_classifier, n_estimators=estimator, random_state=555)\n",
        "  print('Bagging Estimators: ', estimator)\n",
        "  print('hidden_layer_sizes=(100,) | Smaller Data-set | 8/2 Holdout')\n",
        "  start_time = time.time()\n",
        "  clf.fit(ho_smaller_82_train_X.reshape(ho_smaller_82_train_X.shape[0], -1), ho_smaller_82_train_y.ravel())\n",
        "  print(\"Execution Time: %s seconds\" % (time.time() - start_time))\n",
        "  start_time = time.time()\n",
        "  ho_smaller_82_pred_y = clf.predict(ho_smaller_82_test_X.reshape(ho_smaller_82_test_X.shape[0], -1))\n",
        "  matrix = metrics.confusion_matrix(ho_smaller_82_test_y, ho_smaller_82_pred_y)\n",
        "  print(\"Execution Time: %s seconds\" % (time.time() - start_time))\n",
        "  print('Acurácia:', np.trace(matrix) / len(ho_smaller_82_test_y) * 100, '%')\n",
        "  print('-------------------------------------------------- \\n\\n')\n",
        "\n",
        "for estimator in [10, 15, 20]:\n",
        "  clf = BaggingClassifier(base_estimator=default_knn_classifier, n_estimators=estimator, random_state=555)\n",
        "  print('Bagging Estimators: ', estimator)\n",
        "  print('hidden_layer_sizes=(100,) | Smaller Data-set | 7/3 Holdout')\n",
        "  start_time = time.time()\n",
        "  clf.fit(ho_smaller_73_train_X.reshape(ho_smaller_73_train_X.shape[0], -1), ho_smaller_73_train_y.ravel())\n",
        "  print(\"Execution Time: %s seconds\" % (time.time() - start_time))\n",
        "  start_time = time.time()\n",
        "  ho_smaller_73_pred_y = clf.predict(ho_smaller_73_test_X.reshape(ho_smaller_73_test_X.shape[0], -1))\n",
        "  matrix = metrics.confusion_matrix(ho_smaller_73_test_y, ho_smaller_73_pred_y)\n",
        "  print(\"Execution Time: %s seconds\" % (time.time() - start_time))\n",
        "  print('Acurácia:', np.trace(matrix) / len(ho_smaller_73_test_y) * 100, '%')\n",
        "  print('-------------------------------------------------- \\n\\n')"
      ],
      "execution_count": 9,
      "outputs": [
        {
          "output_type": "stream",
          "text": [
            "Bagging Estimators:  10\n",
            "hidden_layer_sizes=(100,) | Smaller Data-set | 9/1 Holdout\n",
            "Execution Time: 13.085188388824463 seconds\n",
            "Execution Time: 232.46423435211182 seconds\n",
            "Acurácia: 96.25 %\n",
            "-------------------------------------------------- \n",
            "\n",
            "\n",
            "Bagging Estimators:  15\n",
            "hidden_layer_sizes=(100,) | Smaller Data-set | 9/1 Holdout\n",
            "Execution Time: 18.725144863128662 seconds\n",
            "Execution Time: 350.3053891658783 seconds\n",
            "Acurácia: 96.33333333333334 %\n",
            "-------------------------------------------------- \n",
            "\n",
            "\n",
            "Bagging Estimators:  20\n",
            "hidden_layer_sizes=(100,) | Smaller Data-set | 9/1 Holdout\n",
            "Execution Time: 25.300254106521606 seconds\n",
            "Execution Time: 466.0550444126129 seconds\n",
            "Acurácia: 96.33333333333334 %\n",
            "-------------------------------------------------- \n",
            "\n",
            "\n",
            "Bagging Estimators:  10\n",
            "hidden_layer_sizes=(100,) | Smaller Data-set | 8/2 Holdout\n",
            "Execution Time: 10.866629362106323 seconds\n",
            "Execution Time: 426.3091628551483 seconds\n",
            "Acurácia: 96.08333333333333 %\n",
            "-------------------------------------------------- \n",
            "\n",
            "\n",
            "Bagging Estimators:  15\n",
            "hidden_layer_sizes=(100,) | Smaller Data-set | 8/2 Holdout\n",
            "Execution Time: 16.113656044006348 seconds\n",
            "Execution Time: 638.2349874973297 seconds\n",
            "Acurácia: 95.95833333333333 %\n",
            "-------------------------------------------------- \n",
            "\n",
            "\n",
            "Bagging Estimators:  20\n",
            "hidden_layer_sizes=(100,) | Smaller Data-set | 8/2 Holdout\n",
            "Execution Time: 23.219799518585205 seconds\n",
            "Execution Time: 856.3362348079681 seconds\n",
            "Acurácia: 95.95833333333333 %\n",
            "-------------------------------------------------- \n",
            "\n",
            "\n",
            "Bagging Estimators:  10\n",
            "hidden_layer_sizes=(100,) | Smaller Data-set | 7/3 Holdout\n",
            "Execution Time: 9.443443059921265 seconds\n",
            "Execution Time: 583.3314564228058 seconds\n",
            "Acurácia: 95.47222222222223 %\n",
            "-------------------------------------------------- \n",
            "\n",
            "\n",
            "Bagging Estimators:  15\n",
            "hidden_layer_sizes=(100,) | Smaller Data-set | 7/3 Holdout\n",
            "Execution Time: 14.072341442108154 seconds\n",
            "Execution Time: 874.2855679988861 seconds\n",
            "Acurácia: 95.19444444444444 %\n",
            "-------------------------------------------------- \n",
            "\n",
            "\n",
            "Bagging Estimators:  20\n",
            "hidden_layer_sizes=(100,) | Smaller Data-set | 7/3 Holdout\n",
            "Execution Time: 18.814455270767212 seconds\n",
            "Execution Time: 1166.8768429756165 seconds\n",
            "Acurácia: 95.44444444444444 %\n",
            "-------------------------------------------------- \n",
            "\n",
            "\n"
          ],
          "name": "stdout"
        }
      ]
    },
    {
      "cell_type": "markdown",
      "metadata": {
        "id": "Cj-ikQUwx9nJ"
      },
      "source": [
        "### Boosting "
      ]
    },
    {
      "cell_type": "code",
      "metadata": {
        "id": "x6ZoqBmyGEbv"
      },
      "source": [
        "'''\n",
        "Two Classes Data-set\n",
        "'''\n",
        "\n",
        "'''\n",
        "Sample Weight Problem\n",
        "'''\n",
        "\n",
        "for estimator in [10, 15, 20]:\n",
        "  clf = AdaBoostClassifier(base_estimator=default_knn_classifier, n_estimators=estimator, random_state=555, algorithm='SAMME')\n",
        "  print('Boosting Estimators: ', estimator)\n",
        "  print('5 neighbors | Two Class Data-set | 9/1 Holdout')\n",
        "  start_time = time.time()\n",
        "  clf.fit(ho_two_class_91_train_X.reshape(ho_two_class_91_train_X.shape[0], -1), ho_two_class_91_train_y)\n",
        "  print(\"Execution Time: %s seconds\" % (time.time() - start_time))\n",
        "  start_time = time.time()\n",
        "  ho_two_class_91_pred_y = clf.predict(ho_two_class_91_test_X.reshape(ho_two_class_91_test_X.shape[0], -1))\n",
        "  matrix = metrics.confusion_matrix(ho_two_class_91_test_y, ho_two_class_91_pred_y)\n",
        "  print(\"Execution Time: %s seconds\" % (time.time() - start_time))\n",
        "  print('Acurácia:', np.trace(matrix) / len(ho_two_class_91_test_y) * 100, '%')\n",
        "  print('-------------------------------------------------- \\n\\n')\n",
        "\n",
        "for estimator in [10, 15, 20]:\n",
        "  clf = AdaBoostClassifier(base_estimator=default_knn_classifier, n_estimators=estimator, random_state=555)\n",
        "  print('Boosting Estimators: ', estimator)\n",
        "  print('5 neighbors | Two Class Data-set | 8/2 Holdout')\n",
        "  start_time = time.time()\n",
        "  clf.fit(ho_two_class_82_train_X.reshape(ho_two_class_82_train_X.shape[0], -1), ho_two_class_82_train_y)\n",
        "  print(\"Execution Time: %s seconds\" % (time.time() - start_time))\n",
        "  start_time = time.time()\n",
        "  ho_two_class_82_pred_y = clf.predict(ho_two_class_82_test_X.reshape(ho_two_class_82_test_X.shape[0], -1))\n",
        "  matrix = metrics.confusion_matrix(ho_two_class_82_test_y, ho_two_class_82_pred_y)\n",
        "  print(\"Execution Time: %s seconds\" % (time.time() - start_time))\n",
        "  print('Acurácia:', np.trace(matrix) / len(ho_two_class_82_test_y) * 100, '%')\n",
        "  print('-------------------------------------------------- \\n\\n')\n",
        "\n",
        "for estimator in [10, 15, 20]:\n",
        "  clf = AdaBoostClassifier(base_estimator=default_knn_classifier, n_estimators=estimator, random_state=555)\n",
        "  print('Boosting Estimators: ', estimator)\n",
        "  print('5 neighbors | Two Class Data-set | 7/3 Holdout')\n",
        "  start_time = time.time()\n",
        "  clf.fit(ho_two_class_73_train_X.reshape(ho_two_class_73_train_X.shape[0], -1), ho_two_class_73_train_y)\n",
        "  print(\"Execution Time: %s seconds\" % (time.time() - start_time))\n",
        "  start_time = time.time()\n",
        "  ho_two_class_73_pred_y = clf.predict(ho_two_class_73_test_X.reshape(ho_two_class_73_test_X.shape[0], -1))\n",
        "  matrix = metrics.confusion_matrix(ho_two_class_73_test_y, ho_two_class_73_pred_y)\n",
        "  print(\"Execution Time: %s seconds\" % (time.time() - start_time))\n",
        "  print('Acurácia:', np.trace(matrix) / len(ho_two_class_73_test_y) * 100, '%')\n",
        "  print('-------------------------------------------------- \\n\\n')"
      ],
      "execution_count": null,
      "outputs": []
    },
    {
      "cell_type": "code",
      "metadata": {
        "id": "GNCCknlIGEus"
      },
      "source": [
        "'''\n",
        "Smaller Size and Holdout sets\n",
        "'''\n",
        "\n",
        "for estimator in [10, 15, 20]:\n",
        "  clf = AdaBoostClassifier(base_estimator=default_knn_classifier, n_estimators=estimator, random_state=555)\n",
        "  print('Boosting Estimators: ', estimator)\n",
        "  print('hidden_layer_sizes=(100,) | Smaller Data-set | 9/1 Holdout')\n",
        "  start_time = time.time()\n",
        "  clf.fit(ho_smaller_91_train_X.reshape(ho_smaller_91_train_X.shape[0], -1), ho_smaller_91_train_y.ravel())\n",
        "  print(\"Execution Time: %s seconds\" % (time.time() - start_time))\n",
        "  start_time = time.time()\n",
        "  ho_smaller_91_pred_y = clf.predict(ho_smaller_91_test_X.reshape(ho_smaller_91_test_X.shape[0], -1))\n",
        "  matrix = metrics.confusion_matrix(ho_smaller_91_test_y, ho_smaller_91_pred_y)\n",
        "  print(\"Execution Time: %s seconds\" % (time.time() - start_time))\n",
        "  print('Acurácia:', np.trace(matrix) / len(ho_smaller_91_test_y) * 100, '%')\n",
        "  print('-------------------------------------------------- \\n\\n')\n",
        "\n",
        "for estimator in [10, 15, 20]:\n",
        "  clf = AdaBoostClassifier(base_estimator=default_knn_classifier, n_estimators=estimator, random_state=555)\n",
        "  print('Boosting Estimators: ', estimator)\n",
        "  print('hidden_layer_sizes=(100,) | Smaller Data-set | 8/2 Holdout')\n",
        "  start_time = time.time()\n",
        "  clf.fit(ho_smaller_82_train_X.reshape(ho_smaller_82_train_X.shape[0], -1), ho_smaller_82_train_y.ravel())\n",
        "  print(\"Execution Time: %s seconds\" % (time.time() - start_time))\n",
        "  start_time = time.time()\n",
        "  ho_smaller_82_pred_y = clf.predict(ho_smaller_82_test_X.reshape(ho_smaller_82_test_X.shape[0], -1))\n",
        "  matrix = metrics.confusion_matrix(ho_smaller_82_test_y, ho_smaller_82_pred_y)\n",
        "  print(\"Execution Time: %s seconds\" % (time.time() - start_time))\n",
        "  print('Acurácia:', np.trace(matrix) / len(ho_smaller_82_test_y) * 100, '%')\n",
        "  print('-------------------------------------------------- \\n\\n')\n",
        "\n",
        "for estimator in [10, 15, 20]:\n",
        "  clf = AdaBoostClassifier(base_estimator=default_knn_classifier, n_estimators=estimator, random_state=555)\n",
        "  print('Boosting Estimators: ', estimator)\n",
        "  print('hidden_layer_sizes=(100,) | Smaller Data-set | 7/3 Holdout')\n",
        "  start_time = time.time()\n",
        "  clf.fit(ho_smaller_73_train_X.reshape(ho_smaller_73_train_X.shape[0], -1), ho_smaller_73_train_y.ravel())\n",
        "  print(\"Execution Time: %s seconds\" % (time.time() - start_time))\n",
        "  start_time = time.time()\n",
        "  ho_smaller_73_pred_y = clf.predict(ho_smaller_73_test_X.reshape(ho_smaller_73_test_X.shape[0], -1))\n",
        "  matrix = metrics.confusion_matrix(ho_smaller_73_test_y, ho_smaller_73_pred_y)\n",
        "  print(\"Execution Time: %s seconds\" % (time.time() - start_time))\n",
        "  print('Acurácia:', np.trace(matrix) / len(ho_smaller_73_test_y) * 100, '%')\n",
        "  print('-------------------------------------------------- \\n\\n')"
      ],
      "execution_count": null,
      "outputs": []
    }
  ]
}