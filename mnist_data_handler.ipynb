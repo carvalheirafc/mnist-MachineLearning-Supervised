{
  "nbformat": 4,
  "nbformat_minor": 0,
  "metadata": {
    "colab": {
      "name": "mnist_data_handler.ipynb",
      "provenance": [],
      "authorship_tag": "ABX9TyMnT5ExOdUBELjyPpwKXtFh",
      "include_colab_link": true
    },
    "kernelspec": {
      "name": "python3",
      "display_name": "Python 3"
    }
  },
  "cells": [
    {
      "cell_type": "markdown",
      "metadata": {
        "id": "view-in-github",
        "colab_type": "text"
      },
      "source": [
        "<a href=\"https://colab.research.google.com/github/carvalheirafc/mnist-deeplearning/blob/main/mnist_data_handler.ipynb\" target=\"_parent\"><img src=\"https://colab.research.google.com/assets/colab-badge.svg\" alt=\"Open In Colab\"/></a>"
      ]
    },
    {
      "cell_type": "markdown",
      "metadata": {
        "id": "W6NW0Gz5PIQ9"
      },
      "source": [
        "#### Import Section"
      ]
    },
    {
      "cell_type": "code",
      "metadata": {
        "id": "Yqyu-7vqk5Xk"
      },
      "source": [
        "import numpy as np\n",
        "import struct as st\n",
        "import matplotlib.pyplot as plt\n",
        "import warnings"
      ],
      "execution_count": 2,
      "outputs": []
    },
    {
      "cell_type": "code",
      "metadata": {
        "id": "0hs9mmo6PEnt"
      },
      "source": [
        "warnings.filterwarnings(\"ignore\")"
      ],
      "execution_count": null,
      "outputs": []
    },
    {
      "cell_type": "markdown",
      "metadata": {
        "id": "KzsnkshDLhA9"
      },
      "source": [
        "# Download and Converting Area"
      ]
    },
    {
      "cell_type": "code",
      "metadata": {
        "id": "uxb5ZqZs8Qb-",
        "outputId": "9d697c2d-3845-4682-9b43-ff3c0d6535c6",
        "colab": {
          "base_uri": "https://localhost:8080/",
          "height": 391
        }
      },
      "source": [
        "!wget http://yann.lecun.com/exdb/mnist/train-images-idx3-ubyte.gz\n",
        "!wget http://yann.lecun.com/exdb/mnist/train-labels-idx1-ubyte.gz"
      ],
      "execution_count": 3,
      "outputs": [
        {
          "output_type": "stream",
          "text": [
            "--2020-10-13 18:25:12--  http://yann.lecun.com/exdb/mnist/train-images-idx3-ubyte.gz\n",
            "Resolving yann.lecun.com (yann.lecun.com)... 172.67.171.76, 104.28.6.204, 104.28.7.204, ...\n",
            "Connecting to yann.lecun.com (yann.lecun.com)|172.67.171.76|:80... connected.\n",
            "HTTP request sent, awaiting response... 200 OK\n",
            "Length: 9912422 (9.5M) [application/x-gzip]\n",
            "Saving to: ‘train-images-idx3-ubyte.gz’\n",
            "\n",
            "train-images-idx3-u 100%[===================>]   9.45M  10.5MB/s    in 0.9s    \n",
            "\n",
            "2020-10-13 18:25:13 (10.5 MB/s) - ‘train-images-idx3-ubyte.gz’ saved [9912422/9912422]\n",
            "\n",
            "--2020-10-13 18:25:13--  http://yann.lecun.com/exdb/mnist/train-labels-idx1-ubyte.gz\n",
            "Resolving yann.lecun.com (yann.lecun.com)... 104.28.7.204, 104.28.6.204, 172.67.171.76, ...\n",
            "Connecting to yann.lecun.com (yann.lecun.com)|104.28.7.204|:80... connected.\n",
            "HTTP request sent, awaiting response... 200 OK\n",
            "Length: 28881 (28K) [application/x-gzip]\n",
            "Saving to: ‘train-labels-idx1-ubyte.gz’\n",
            "\n",
            "train-labels-idx1-u 100%[===================>]  28.20K  --.-KB/s    in 0.08s   \n",
            "\n",
            "2020-10-13 18:25:13 (348 KB/s) - ‘train-labels-idx1-ubyte.gz’ saved [28881/28881]\n",
            "\n"
          ],
          "name": "stdout"
        }
      ]
    },
    {
      "cell_type": "code",
      "metadata": {
        "id": "UvZa1dl-8fDa"
      },
      "source": [
        "!gzip -d /content/train-images-idx3-ubyte.gz\n",
        "!gzip -d /content/train-labels-idx1-ubyte.gz"
      ],
      "execution_count": 4,
      "outputs": []
    },
    {
      "cell_type": "code",
      "metadata": {
        "id": "EXG5Gp7m8ioE"
      },
      "source": [
        "trainingfilenames = {'images' : '/content/train-images-idx3-ubyte' ,'labels' : '/content/train-labels-idx1-ubyte'}"
      ],
      "execution_count": 5,
      "outputs": []
    },
    {
      "cell_type": "code",
      "metadata": {
        "id": "S6EjAv5J8zjJ"
      },
      "source": [
        "for name in trainingfilenames.keys():\n",
        "\tif name == 'images':\n",
        "\t\ttrain_imagesfile = open(trainingfilenames[name],'rb')\n",
        "\tif name == 'labels':\n",
        "\t\ttrain_labelsfile = open(trainingfilenames[name],'rb')"
      ],
      "execution_count": 6,
      "outputs": []
    },
    {
      "cell_type": "code",
      "metadata": {
        "id": "Tqq_ZZAQ8_ZF"
      },
      "source": [
        "train_imagesfile.seek(0)\n",
        "magic = st.unpack('>4B',train_imagesfile.read(4))\n",
        "\n",
        "train_imagesfile.seek(4)\n",
        "nImg = st.unpack('>I',train_imagesfile.read(4))[0] #num of images/labels\n",
        "nR = st.unpack('>I',train_imagesfile.read(4))[0] #num of rows\n",
        "nC = st.unpack('>I',train_imagesfile.read(4))[0] #num of columns\n",
        "train_labelsfile.seek(8)\n",
        "\n",
        "labels = np.asarray(st.unpack('>'+'B'*nImg,train_labelsfile.read(nImg*1))).reshape((nImg,1))\n",
        "\n",
        "nBytesTotal = nImg*nR*nC*1 #since each pixel data is 1 byte\n",
        "samples = np.asarray(st.unpack('>'+'B'*nBytesTotal,train_imagesfile.read(nBytesTotal))).reshape((nImg,nR,nC))\n"
      ],
      "execution_count": 7,
      "outputs": []
    },
    {
      "cell_type": "code",
      "metadata": {
        "id": "pLv3aTsEBFKA",
        "outputId": "50f649ac-68f3-41da-eb96-f2438a0244e0",
        "colab": {
          "base_uri": "https://localhost:8080/",
          "height": 51
        }
      },
      "source": [
        "print('Labels Array Format: ', labels.shape)\n",
        "print('Samples Array Format: ', samples.shape)\n"
      ],
      "execution_count": 8,
      "outputs": [
        {
          "output_type": "stream",
          "text": [
            "Labels Array Format:  (60000, 1)\n",
            "Samples Array Format:  (60000, 28, 28)\n"
          ],
          "name": "stdout"
        }
      ]
    },
    {
      "cell_type": "markdown",
      "metadata": {
        "id": "mhQFfPokLnwM"
      },
      "source": [
        "# Separating Classes"
      ]
    },
    {
      "cell_type": "code",
      "metadata": {
        "id": "1BborEV6ttB8"
      },
      "source": [
        "data_X = np.array(samples).reshape([60000, 1, 28, 28])"
      ],
      "execution_count": 9,
      "outputs": []
    },
    {
      "cell_type": "code",
      "metadata": {
        "id": "KMoNuDglwjYQ"
      },
      "source": [
        "def class_arrays(index):\n",
        "  return data_X[labels==index], labels[labels==index]"
      ],
      "execution_count": 10,
      "outputs": []
    },
    {
      "cell_type": "code",
      "metadata": {
        "id": "-jSavuhDG0pb"
      },
      "source": [
        "separeted_classes_dictionary = {0: [], 1: [], \n",
        "                                2: [], 3: [],\n",
        "                                4: [], 5: [],\n",
        "                                6: [], 7: [],\n",
        "                                8: [], 9: []}\n",
        "\n",
        "for it in range(10):\n",
        "  separeted_classes_dictionary[it] = class_arrays(it)"
      ],
      "execution_count": 11,
      "outputs": []
    },
    {
      "cell_type": "markdown",
      "metadata": {
        "id": "UDqjBMHpG30a"
      },
      "source": [
        "### Mean of each Class"
      ]
    },
    {
      "cell_type": "code",
      "metadata": {
        "id": "87q9QDrdOWYk",
        "outputId": "4b25951d-1dc7-427f-fce6-3903748bd698",
        "colab": {
          "base_uri": "https://localhost:8080/",
          "height": 223
        }
      },
      "source": [
        "for it in range(10):\n",
        "  plt.subplot(2, 5, it+1)\n",
        "  plt.axis('off')\n",
        "  plt.title(it)\n",
        "  plt.imshow(separeted_classes_dictionary[it][0].mean(axis=0).squeeze())"
      ],
      "execution_count": 24,
      "outputs": [
        {
          "output_type": "display_data",
          "data": {
            "image/png": "[encoded data removed]",
            "text/plain": [
              "<Figure size 432x288 with 10 Axes>"
            ]
          },
          "metadata": {
            "tags": [],
            "needs_background": "light"
          }
        }
      ]
    }
  ]
}