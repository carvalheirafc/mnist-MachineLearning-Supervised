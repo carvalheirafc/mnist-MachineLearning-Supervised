{
  "nbformat": 4,
  "nbformat_minor": 0,
  "metadata": {
    "colab": {
      "name": "mnist_data_handler.ipynb",
      "provenance": [],
      "authorship_tag": "ABX9TyOM+CQAuomss/PpYmvcQ4Ak",
      "include_colab_link": true
    },
    "kernelspec": {
      "name": "python3",
      "display_name": "Python 3"
    }
  },
  "cells": [
    {
      "cell_type": "markdown",
      "metadata": {
        "id": "view-in-github",
        "colab_type": "text"
      },
      "source": [
        "<a href=\"https://colab.research.google.com/github/carvalheirafc/mnist-deeplearning/blob/main/mnist_data_handler.ipynb\" target=\"_parent\"><img src=\"https://colab.research.google.com/assets/colab-badge.svg\" alt=\"Open In Colab\"/></a>"
      ]
    },
    {
      "cell_type": "code",
      "metadata": {
        "id": "Yqyu-7vqk5Xk"
      },
      "source": [
        "import numpy as np\n",
        "import struct as st"
      ],
      "execution_count": 1,
      "outputs": []
    },
    {
      "cell_type": "code",
      "metadata": {
        "id": "uxb5ZqZs8Qb-",
        "outputId": "ea7b21d6-3ea1-4237-f7d8-932abc074b01",
        "colab": {
          "base_uri": "https://localhost:8080/",
          "height": 391
        }
      },
      "source": [
        "!wget http://yann.lecun.com/exdb/mnist/train-images-idx3-ubyte.gz\n",
        "!wget http://yann.lecun.com/exdb/mnist/train-labels-idx1-ubyte.gz"
      ],
      "execution_count": 2,
      "outputs": [
        {
          "output_type": "stream",
          "text": [
            "--2020-10-13 12:48:42--  http://yann.lecun.com/exdb/mnist/train-images-idx3-ubyte.gz\n",
            "Resolving yann.lecun.com (yann.lecun.com)... 104.28.6.204, 104.28.7.204, 172.67.171.76, ...\n",
            "Connecting to yann.lecun.com (yann.lecun.com)|104.28.6.204|:80... connected.\n",
            "HTTP request sent, awaiting response... 200 OK\n",
            "Length: 9912422 (9.5M) [application/x-gzip]\n",
            "Saving to: ‘train-images-idx3-ubyte.gz’\n",
            "\n",
            "train-images-idx3-u 100%[===================>]   9.45M  37.1MB/s    in 0.3s    \n",
            "\n",
            "2020-10-13 12:48:42 (37.1 MB/s) - ‘train-images-idx3-ubyte.gz’ saved [9912422/9912422]\n",
            "\n",
            "--2020-10-13 12:48:42--  http://yann.lecun.com/exdb/mnist/train-labels-idx1-ubyte.gz\n",
            "Resolving yann.lecun.com (yann.lecun.com)... 104.28.6.204, 104.28.7.204, 172.67.171.76, ...\n",
            "Connecting to yann.lecun.com (yann.lecun.com)|104.28.6.204|:80... connected.\n",
            "HTTP request sent, awaiting response... 200 OK\n",
            "Length: 28881 (28K) [application/x-gzip]\n",
            "Saving to: ‘train-labels-idx1-ubyte.gz’\n",
            "\n",
            "train-labels-idx1-u 100%[===================>]  28.20K  --.-KB/s    in 0.01s   \n",
            "\n",
            "2020-10-13 12:48:42 (2.24 MB/s) - ‘train-labels-idx1-ubyte.gz’ saved [28881/28881]\n",
            "\n"
          ],
          "name": "stdout"
        }
      ]
    },
    {
      "cell_type": "code",
      "metadata": {
        "id": "UvZa1dl-8fDa",
        "outputId": "ec939964-f0fc-48cb-c126-57517b1fcca4",
        "colab": {
          "base_uri": "https://localhost:8080/",
          "height": 51
        }
      },
      "source": [
        "!gzip -d /content/train-images-idx3-ubyte.gz\n",
        "!gzip -d /content/train-labels-idx1-ubyte.gz"
      ],
      "execution_count": 3,
      "outputs": [
        {
          "output_type": "stream",
          "text": [
            "gzip: /content/train-images-idx3-ubyte already exists; do you wish to overwrite (y or n)? y\n",
            "gzip: /content/train-labels-idx1-ubyte already exists; do you wish to overwrite (y or n)? y\n"
          ],
          "name": "stdout"
        }
      ]
    },
    {
      "cell_type": "code",
      "metadata": {
        "id": "EXG5Gp7m8ioE"
      },
      "source": [
        "trainingfilenames = {'images' : '/content/train-images-idx3-ubyte' ,'labels' : '/content/train-labels-idx1-ubyte'}"
      ],
      "execution_count": 4,
      "outputs": []
    },
    {
      "cell_type": "code",
      "metadata": {
        "id": "S6EjAv5J8zjJ"
      },
      "source": [
        "for name in trainingfilenames.keys():\n",
        "\tif name == 'images':\n",
        "\t\ttrain_imagesfile = open(trainingfilenames[name],'rb')\n",
        "\tif name == 'labels':\n",
        "\t\ttrain_labelsfile = open(trainingfilenames[name],'rb')"
      ],
      "execution_count": 5,
      "outputs": []
    },
    {
      "cell_type": "code",
      "metadata": {
        "id": "Tqq_ZZAQ8_ZF"
      },
      "source": [
        "train_imagesfile.seek(0)\n",
        "magic = st.unpack('>4B',train_imagesfile.read(4))\n",
        "\n",
        "train_imagesfile.seek(4)\n",
        "nImg = st.unpack('>I',train_imagesfile.read(4))[0] #num of images/labels\n",
        "nR = st.unpack('>I',train_imagesfile.read(4))[0] #num of rows\n",
        "nC = st.unpack('>I',train_imagesfile.read(4))[0] #num of columns\n",
        "train_labelsfile.seek(8)\n",
        "\n",
        "train_labels_array = np.asarray(st.unpack('>'+'B'*nImg,train_labelsfile.read(nImg*1))).reshape((nImg,1))\n",
        "\n",
        "nBytesTotal = nImg*nR*nC*1 #since each pixel data is 1 byte\n",
        "images_array = np.asarray(st.unpack('>'+'B'*nBytesTotal,train_imagesfile.read(nBytesTotal))).reshape((nImg,nR,nC))\n"
      ],
      "execution_count": 9,
      "outputs": []
    },
    {
      "cell_type": "code",
      "metadata": {
        "id": "pLv3aTsEBFKA",
        "outputId": "0fe44e0e-f4ad-4209-dd94-09edad48df39",
        "colab": {
          "base_uri": "https://localhost:8080/",
          "height": 51
        }
      },
      "source": [
        "print('Labels Array Format: ', train_labels_array.shape)\n",
        "print('Samples Array Format: ', images_array.shape)"
      ],
      "execution_count": 12,
      "outputs": [
        {
          "output_type": "stream",
          "text": [
            "Labels Array Format:  (60000, 1)\n",
            "Samples Array Format:  (60000, 28, 28)\n"
          ],
          "name": "stdout"
        }
      ]
    }
  ]
}