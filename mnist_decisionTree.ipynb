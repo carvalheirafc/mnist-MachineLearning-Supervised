{
  "nbformat": 4,
  "nbformat_minor": 0,
  "metadata": {
    "colab": {
      "name": "mnist-decisionTree.ipynb",
      "provenance": [],
      "mount_file_id": "1Re9MDrBddZcP3ISUbMsytFS7oA_eWxMq",
      "authorship_tag": "ABX9TyOj+UFVWsFSBgltrJ3J6Wxa",
      "include_colab_link": true
    },
    "kernelspec": {
      "name": "python3",
      "display_name": "Python 3"
    }
  },
  "cells": [
    {
      "cell_type": "markdown",
      "metadata": {
        "id": "view-in-github",
        "colab_type": "text"
      },
      "source": [
        "<a href=\"https://colab.research.google.com/github/carvalheirafc/mnist-deeplearning/blob/main/mnist_decisionTree.ipynb\" target=\"_parent\"><img src=\"https://colab.research.google.com/assets/colab-badge.svg\" alt=\"Open In Colab\"/></a>"
      ]
    },
    {
      "cell_type": "code",
      "metadata": {
        "id": "1wE9WD1MARHU"
      },
      "source": [
        "import numpy as np\n",
        "from sklearn.model_selection import train_test_split\n",
        "from sklearn.model_selection import KFold"
      ],
      "execution_count": 1,
      "outputs": []
    },
    {
      "cell_type": "markdown",
      "metadata": {
        "id": "ab_eSEisNMkl"
      },
      "source": [
        "### Data Input and miscs\n"
      ]
    },
    {
      "cell_type": "code",
      "metadata": {
        "id": "giwtI9kQSDZM"
      },
      "source": [
        "data_X = np.load('./drive/My Drive/mnist_datasets/mnist_X.npy')\n",
        "data_y = np.load('./drive/My Drive/mnist_datasets/mnist_labels.npy')"
      ],
      "execution_count": 2,
      "outputs": []
    },
    {
      "cell_type": "code",
      "metadata": {
        "id": "dNx1VgivjGHU",
        "outputId": "dcf9fe26-6483-41e2-cada-1614ba5730a0",
        "colab": {
          "base_uri": "https://localhost:8080/"
        }
      },
      "source": [
        "half_X = np.array(np.split(data_X, 2))\n",
        "half_y = np.array(np.split(data_y, 2))\n",
        "\n",
        "print('Mnist 50% Data: \\n')\n",
        "print('X: ', half_X[0].shape)\n",
        "print('y: ', half_y[0].shape)"
      ],
      "execution_count": 3,
      "outputs": [
        {
          "output_type": "stream",
          "text": [
            "Mnist 50% Data: \n",
            "\n",
            "X:  (30000, 1, 28, 28)\n",
            "y:  (30000, 1)\n"
          ],
          "name": "stdout"
        }
      ]
    },
    {
      "cell_type": "code",
      "metadata": {
        "id": "QJ103KW0nWWf",
        "outputId": "f3556be6-631b-4ef7-b4b7-b2d3955824f3",
        "colab": {
          "base_uri": "https://localhost:8080/"
        }
      },
      "source": [
        "smaller_X = np.array(np.split(data_X, 5))\n",
        "smaller_y = np.array(np.split(data_y, 5))\n",
        "\n",
        "print('Mnist 20% Data: \\n')\n",
        "print('X: ', smaller_X[0].shape)\n",
        "print('y: ', smaller_y[0].shape)"
      ],
      "execution_count": 4,
      "outputs": [
        {
          "output_type": "stream",
          "text": [
            "Mnist 20% Data: \n",
            "\n",
            "X:  (12000, 1, 28, 28)\n",
            "y:  (12000, 1)\n"
          ],
          "name": "stdout"
        }
      ]
    },
    {
      "cell_type": "code",
      "metadata": {
        "id": "wb13x1BRqUZI",
        "outputId": "4733814b-24d1-4baf-bb90-c92998a62cb0",
        "colab": {
          "base_uri": "https://localhost:8080/"
        }
      },
      "source": [
        "data_two_classes = np.load('./drive/My Drive/mnist_datasets/two_classes_data.npy', allow_pickle=True)\n",
        "two_classes_X = np.concatenate((data_two_classes[0][0], data_two_classes[1][0]), axis=0)\n",
        "two_classes_y = np.concatenate((data_two_classes[0][1], data_two_classes[1][1]), axis=0)\n",
        "print('Mnist Two Classes: \\n')\n",
        "print('Zeros: ', data_two_classes[0][0].shape)\n",
        "print('Ones:  ', data_two_classes[1][0].shape)\n",
        "print('X:     ', two_classes_X.shape)\n",
        "print('y:     ', two_classes_y.shape)\n"
      ],
      "execution_count": 5,
      "outputs": [
        {
          "output_type": "stream",
          "text": [
            "Mnist Two Classes: \n",
            "\n",
            "Zeros:  (5923, 28, 28)\n",
            "Ones:   (6742, 28, 28)\n",
            "X:      (12665, 28, 28)\n",
            "y:      (12665,)\n"
          ],
          "name": "stdout"
        }
      ]
    },
    {
      "cell_type": "markdown",
      "metadata": {
        "id": "nRo5bh_uDPmC"
      },
      "source": [
        "### Hold-Out Sets\n"
      ]
    },
    {
      "cell_type": "code",
      "metadata": {
        "id": "GgjdsiT-Edcx",
        "outputId": "3c4f89f0-e743-4e98-add9-2f6392b7a9a4",
        "colab": {
          "base_uri": "https://localhost:8080/"
        }
      },
      "source": [
        "ho_original_91_train_X, ho_original_91_test_X, ho_original_91_train_y, ho_original_91_test_y = train_test_split(data_X, data_y, train_size=0.9, random_state=555)\n",
        "ho_original_82_train_X, ho_original_82_test_X, ho_original_82_train_y, ho_original_82_test_y = train_test_split(data_X, data_y, train_size=0.8, random_state=555)\n",
        "ho_original_73_train_X, ho_original_73_test_X, ho_original_73_train_y, ho_original_73_test_y = train_test_split(data_X, data_y, train_size=0.7, random_state=555)\n",
        "\n",
        "print('Hold-Out Original Data Split\\n')\n",
        "print('9/1: ', ho_original_91_train_X.shape)\n",
        "print('8/2: ', ho_original_82_train_X.shape)\n",
        "print('7/3: ', ho_original_73_train_X.shape)"
      ],
      "execution_count": 6,
      "outputs": [
        {
          "output_type": "stream",
          "text": [
            "Hold-Out Original Data Split\n",
            "\n",
            "9/1:  (54000, 1, 28, 28)\n",
            "8/2:  (48000, 1, 28, 28)\n",
            "7/3:  (42000, 1, 28, 28)\n"
          ],
          "name": "stdout"
        }
      ]
    },
    {
      "cell_type": "code",
      "metadata": {
        "id": "H9vaxIsxrcUB",
        "outputId": "eebfad11-b58b-47bb-f9d4-fa967b29bab1",
        "colab": {
          "base_uri": "https://localhost:8080/"
        }
      },
      "source": [
        "ho_half_91_train_X, ho_half_91_test_X, ho_half_91_train_y, ho_half_91_test_y = train_test_split(half_X[0], half_y[0], train_size=0.9, random_state=555)\n",
        "ho_half_82_train_X, ho_half_82_test_X, ho_half_82_train_y, ho_half_82_test_y = train_test_split(half_X[0], half_y[0], train_size=0.8, random_state=555)\n",
        "ho_half_73_train_X, ho_half_73_test_X, ho_half_73_train_y, ho_half_73_test_y = train_test_split(half_X[0], half_y[0], train_size=0.7, random_state=555)\n",
        "\n",
        "print('Hold-Out Half Data Split\\n')\n",
        "print('9/1: ', ho_half_91_train_X.shape)\n",
        "print('8/2: ', ho_half_82_train_X.shape)\n",
        "print('7/3: ', ho_half_73_train_X.shape)\n"
      ],
      "execution_count": 7,
      "outputs": [
        {
          "output_type": "stream",
          "text": [
            "Hold-Out Half Data Split\n",
            "\n",
            "9/1:  (27000, 1, 28, 28)\n",
            "8/2:  (24000, 1, 28, 28)\n",
            "7/3:  (21000, 1, 28, 28)\n"
          ],
          "name": "stdout"
        }
      ]
    },
    {
      "cell_type": "code",
      "metadata": {
        "id": "iVr9Hsm3tVy4",
        "outputId": "51dce1be-9ee2-43bd-e7c5-9ecfe88ad832",
        "colab": {
          "base_uri": "https://localhost:8080/"
        }
      },
      "source": [
        "ho_smaller_91_train_X, ho_smaller_91_test_X, ho_smaller_91_train_y, ho_smaller_91_test_y = train_test_split(smaller_X[0], smaller_y[0], train_size=0.9, random_state=555)\n",
        "ho_smaller_82_train_X, ho_smaller_82_test_X, ho_smaller_82_train_y, ho_smaller_82_test_y = train_test_split(smaller_X[0], smaller_y[0], train_size=0.8, random_state=555)\n",
        "ho_smaller_73_train_X, ho_smaller_73_test_X, ho_smaller_73_train_y, ho_smaller_73_test_y = train_test_split(smaller_X[0], smaller_y[0], train_size=0.7, random_state=555)\n",
        "\n",
        "print('Hold-Out Half Data Split\\n')\n",
        "print('9/1: ', ho_smaller_91_train_X.shape)\n",
        "print('8/2: ', ho_smaller_82_train_X.shape)\n",
        "print('7/3: ', ho_smaller_73_train_X.shape)"
      ],
      "execution_count": 8,
      "outputs": [
        {
          "output_type": "stream",
          "text": [
            "Hold-Out Half Data Split\n",
            "\n",
            "9/1:  (10800, 1, 28, 28)\n",
            "8/2:  (9600, 1, 28, 28)\n",
            "7/3:  (8400, 1, 28, 28)\n"
          ],
          "name": "stdout"
        }
      ]
    },
    {
      "cell_type": "code",
      "metadata": {
        "id": "lVDL-wyNwsnq",
        "outputId": "592a3532-be95-4d91-a41b-ddded1d6a9bd",
        "colab": {
          "base_uri": "https://localhost:8080/"
        }
      },
      "source": [
        "ho_two_class_91_train_X, ho_two_class_91_test_X, ho_two_class_91_train_y, ho_two_class_91_test_y = train_test_split(two_classes_X, two_classes_y, train_size=0.9, random_state=555)\n",
        "ho_two_class_82_train_X, ho_two_class_82_test_X, ho_two_class_82_train_y, ho_two_class_82_test_y = train_test_split(two_classes_X, two_classes_y, train_size=0.8, random_state=555)\n",
        "ho_two_class_73_train_X, ho_two_class_73_test_X, ho_two_class_73_train_y, ho_two_class_73_test_y = train_test_split(two_classes_X, two_classes_y, train_size=0.7, random_state=555)\n",
        "\n",
        "print('Hold-Out Mnist Two Classes[0, 1] Split\\n')\n",
        "print('9/1: ', ho_two_class_91_train_X.shape)\n",
        "print('8/2: ', ho_two_class_82_train_X.shape)\n",
        "print('7/3: ', ho_two_class_73_train_X.shape)"
      ],
      "execution_count": 9,
      "outputs": [
        {
          "output_type": "stream",
          "text": [
            "Hold-Out Mnist Two Classes[0, 1] Split\n",
            "\n",
            "9/1:  (11398, 28, 28)\n",
            "8/2:  (10132, 28, 28)\n",
            "7/3:  (8865, 28, 28)\n"
          ],
          "name": "stdout"
        }
      ]
    },
    {
      "cell_type": "markdown",
      "metadata": {
        "id": "ugG3QxR4DUZq"
      },
      "source": [
        "### K-Fold sets\n"
      ]
    },
    {
      "cell_type": "code",
      "metadata": {
        "id": "-850QJlVDTXQ",
        "outputId": "5c3a2753-01cb-43e5-9551-05f796404d29",
        "colab": {
          "base_uri": "https://localhost:8080/"
        }
      },
      "source": [
        "kf = KFold(n_splits=10)\n",
        "kf.split(two_classes_X, two_classes_y)"
      ],
      "execution_count": 10,
      "outputs": [
        {
          "output_type": "execute_result",
          "data": {
            "text/plain": [
              "<generator object _BaseKFold.split at 0x7f49d05a3ca8>"
            ]
          },
          "metadata": {
            "tags": []
          },
          "execution_count": 10
        }
      ]
    },
    {
      "cell_type": "markdown",
      "metadata": {
        "id": "CeSCO1LlOCoL"
      },
      "source": [
        "## Decision Tree\n"
      ]
    },
    {
      "cell_type": "code",
      "metadata": {
        "id": "5tJFwV4POWMD"
      },
      "source": [
        "from sklearn import tree\n",
        "from sklearn import metrics"
      ],
      "execution_count": 11,
      "outputs": []
    },
    {
      "cell_type": "code",
      "metadata": {
        "id": "-3hgz899OHJX"
      },
      "source": [
        "'''\n",
        "Default ccp_alfa(Fator de confiança)\n",
        "'''\n",
        "\n",
        "default_tree_classifier = tree.DecisionTreeClassifier(ccp_alpha=0.0)"
      ],
      "execution_count": 12,
      "outputs": []
    },
    {
      "cell_type": "code",
      "metadata": {
        "id": "sNztLjfwkVTs",
        "outputId": "7c525e38-ed40-417b-834f-204f717548e7",
        "colab": {
          "base_uri": "https://localhost:8080/"
        }
      },
      "source": [
        "'''\n",
        "Two Classes Data-set\n",
        "'''\n",
        "\n",
        "default_tree_classifier.fit(ho_two_class_91_train_X.reshape(ho_two_class_91_train_X.shape[0], -1), ho_two_class_91_train_y)\n",
        "ho_two_class_91_pred_y = default_tree_classifier.predict(ho_two_class_91_test_X.reshape(ho_two_class_91_test_X.shape[0], -1))\n",
        "matrix = metrics.confusion_matrix(ho_two_class_91_test_y, ho_two_class_91_pred_y)\n",
        "print('ccp_alpha: 0.0 | Two Class Data-set | 9/1 Holdout')\n",
        "print('Acurácia:', np.trace(matrix) / len(ho_two_class_91_test_y) * 100, '%\\n')\n",
        "\n",
        "default_tree_classifier.fit(ho_two_class_82_train_X.reshape(ho_two_class_82_train_X.shape[0], -1), ho_two_class_82_train_y)\n",
        "ho_two_class_82_pred_y = default_tree_classifier.predict(ho_two_class_82_test_X.reshape(ho_two_class_82_test_X.shape[0], -1))\n",
        "matrix = metrics.confusion_matrix(ho_two_class_82_test_y, ho_two_class_82_pred_y)\n",
        "print('ccp_alpha: 0.0 | Two Class Data-set | 8/2 Holdout')\n",
        "print('Acurácia:', np.trace(matrix) / len(ho_two_class_82_test_y) * 100, '%\\n')\n",
        "\n",
        "default_tree_classifier.fit(ho_two_class_82_train_X.reshape(ho_two_class_82_train_X.shape[0], -1), ho_two_class_82_train_y)\n",
        "ho_two_class_82_pred_y = default_tree_classifier.predict(ho_two_class_82_test_X.reshape(ho_two_class_82_test_X.shape[0], -1))\n",
        "matrix = metrics.confusion_matrix(ho_two_class_82_test_y, ho_two_class_82_pred_y)\n",
        "print('ccp_alpha: 0.0 | Two Class Data-set | 8/2 Holdout')\n",
        "print('Acurácia:', np.trace(matrix) / len(ho_two_class_82_test_y) * 100, '%\\n')"
      ],
      "execution_count": 13,
      "outputs": [
        {
          "output_type": "stream",
          "text": [
            "ccp_alpha: 0.0 | Two Class Data-set | 9/1 Holdout\n",
            "Acurácia: 99.4475138121547 %\n",
            "\n",
            "ccp_alpha: 0.0 | Two Class Data-set | 8/2 Holdout\n",
            "Acurácia: 99.60521121200158 %\n",
            "\n",
            "ccp_alpha: 0.0 | Two Class Data-set | 8/2 Holdout\n",
            "Acurácia: 99.60521121200158 %\n",
            "\n"
          ],
          "name": "stdout"
        }
      ]
    },
    {
      "cell_type": "code",
      "metadata": {
        "id": "-inhq6GcesYz",
        "outputId": "2f50b19d-c780-4a49-abd6-f055c7cfc69b",
        "colab": {
          "base_uri": "https://localhost:8080/"
        }
      },
      "source": [
        "'''\n",
        "Original Size and Holdout sets\n",
        "'''\n",
        "\n",
        "default_tree_classifier.fit(ho_original_91_train_X.reshape(ho_original_91_train_X.shape[0], -1), ho_original_91_train_y)\n",
        "ho_original_91_pred_y = default_tree_classifier.predict(ho_original_91_test_X.reshape(ho_original_91_test_X.shape[0], -1))\n",
        "matrix = metrics.confusion_matrix(ho_original_91_test_y, ho_original_91_pred_y)\n",
        "print('ccp_alpha: 0.0 | Original Data-set | 9/1 Holdout')\n",
        "print('Acurácia:', np.trace(matrix) / len(ho_original_91_test_y) * 100, '%\\n')\n",
        "\n",
        "default_tree_classifier.fit(ho_original_82_train_X.reshape(ho_original_82_train_X.shape[0], -1), ho_original_82_train_y)\n",
        "ho_original_82_pred_y = default_tree_classifier.predict(ho_original_82_test_X.reshape(ho_original_82_test_X.shape[0], -1))\n",
        "matrix = metrics.confusion_matrix(ho_original_82_test_y, ho_original_82_pred_y)\n",
        "print('ccp_alpha: 0.0 | Original Data-set | 8/2 Holdout')\n",
        "print('Acurácia:', np.trace(matrix) / len(ho_original_82_test_y) * 100, '%\\n')\n",
        "\n",
        "default_tree_classifier.fit(ho_original_82_train_X.reshape(ho_original_82_train_X.shape[0], -1), ho_original_82_train_y)\n",
        "ho_original_82_pred_y = default_tree_classifier.predict(ho_original_82_test_X.reshape(ho_original_82_test_X.shape[0], -1))\n",
        "matrix = metrics.confusion_matrix(ho_original_82_test_y, ho_original_82_pred_y)\n",
        "print('ccp_alpha: 0.0 | Original Data-set | 8/2 Holdout')\n",
        "print('Acurácia:', np.trace(matrix) / len(ho_original_82_test_y) * 100, '%\\n')"
      ],
      "execution_count": 14,
      "outputs": [
        {
          "output_type": "stream",
          "text": [
            "ccp_alpha: 0.0 | Original Data-set | 9/1 Holdout\n",
            "Acurácia: 85.98333333333333 %\n",
            "\n",
            "ccp_alpha: 0.0 | Original Data-set | 8/2 Holdout\n",
            "Acurácia: 86.38333333333334 %\n",
            "\n",
            "ccp_alpha: 0.0 | Original Data-set | 8/2 Holdout\n",
            "Acurácia: 86.54166666666666 %\n",
            "\n"
          ],
          "name": "stdout"
        }
      ]
    },
    {
      "cell_type": "code",
      "metadata": {
        "id": "dBjEE_1WfFZw",
        "outputId": "dc7ab9b0-8f76-4191-d7eb-046f863cb13f",
        "colab": {
          "base_uri": "https://localhost:8080/"
        }
      },
      "source": [
        "'''\n",
        "Half Size Dataset and Holdout sets\n",
        "'''\n",
        "\n",
        "default_tree_classifier.fit(ho_half_91_train_X.reshape(ho_half_91_train_X.shape[0], -1), ho_half_91_train_y)\n",
        "ho_half_91_pred_y = default_tree_classifier.predict(ho_half_91_test_X.reshape(ho_half_91_test_X.shape[0], -1))\n",
        "matrix = metrics.confusion_matrix(ho_half_91_test_y, ho_half_91_pred_y)\n",
        "print('ccp_alpha: 0.0 | Half Data-set | 9/1 Holdout')\n",
        "print('Acurácia:', np.trace(matrix) / len(ho_half_91_test_y) * 100, '%\\n')\n",
        "\n",
        "default_tree_classifier.fit(ho_half_82_train_X.reshape(ho_half_82_train_X.shape[0], -1), ho_half_82_train_y)\n",
        "ho_half_82_pred_y = default_tree_classifier.predict(ho_half_82_test_X.reshape(ho_half_82_test_X.shape[0], -1))\n",
        "matrix = metrics.confusion_matrix(ho_half_82_test_y, ho_half_82_pred_y)\n",
        "print('ccp_alpha: 0.0 | Half Data-set | 8/2 Holdout')\n",
        "print('Acurácia:', np.trace(matrix) / len(ho_half_82_test_y) * 100, '%\\n')\n",
        "\n",
        "default_tree_classifier.fit(ho_half_73_train_X.reshape(ho_half_73_train_X.shape[0], -1), ho_half_73_train_y)\n",
        "ho_half_73_pred_y = default_tree_classifier.predict(ho_half_73_test_X.reshape(ho_half_73_test_X.shape[0], -1))\n",
        "matrix = metrics.confusion_matrix(ho_half_73_test_y, ho_half_73_pred_y)\n",
        "print('ccp_alpha: 0.0 | Half Data-set | 7/3 Holdout')\n",
        "print('Acurácia:', np.trace(matrix) / len(ho_half_73_test_y) * 100, '%\\n')"
      ],
      "execution_count": 15,
      "outputs": [
        {
          "output_type": "stream",
          "text": [
            "ccp_alpha: 0.0 | Half Data-set | 9/1 Holdout\n",
            "Acurácia: 84.96666666666667 %\n",
            "\n",
            "ccp_alpha: 0.0 | Half Data-set | 8/2 Holdout\n",
            "Acurácia: 84.63333333333334 %\n",
            "\n",
            "ccp_alpha: 0.0 | Half Data-set | 7/3 Holdout\n",
            "Acurácia: 83.85555555555555 %\n",
            "\n"
          ],
          "name": "stdout"
        }
      ]
    },
    {
      "cell_type": "code",
      "metadata": {
        "id": "mjee83TvfYbV",
        "outputId": "3fb6edd5-8f76-44b2-e087-eea164a7291c",
        "colab": {
          "base_uri": "https://localhost:8080/"
        }
      },
      "source": [
        "'''\n",
        "Smaller Dataset and Holdout sets\n",
        "'''\n",
        "\n",
        "default_tree_classifier.fit(ho_smaller_91_train_X.reshape(ho_smaller_91_train_X.shape[0], -1), ho_smaller_91_train_y)\n",
        "ho_smaller_91_pred_y = default_tree_classifier.predict(ho_smaller_91_test_X.reshape(ho_smaller_91_test_X.shape[0], -1))\n",
        "matrix = metrics.confusion_matrix(ho_smaller_91_test_y, ho_smaller_91_pred_y)\n",
        "print('ccp_alpha: 0.0 | Smaller Data-set | 9/1 Holdout')\n",
        "print('Acurácia:', np.trace(matrix) / len(ho_smaller_91_test_y) * 100, '%\\n')\n",
        "\n",
        "default_tree_classifier.fit(ho_smaller_82_train_X.reshape(ho_smaller_82_train_X.shape[0], -1), ho_smaller_82_train_y)\n",
        "ho_smaller_82_pred_y = default_tree_classifier.predict(ho_smaller_82_test_X.reshape(ho_smaller_82_test_X.shape[0], -1))\n",
        "matrix = metrics.confusion_matrix(ho_smaller_82_test_y, ho_smaller_82_pred_y)\n",
        "print('ccp_alpha: 0.0 | Smaller Data-set | 8/2 Holdout')\n",
        "print('Acurácia:', np.trace(matrix) / len(ho_smaller_82_test_y) * 100, '%\\n')\n",
        "\n",
        "default_tree_classifier.fit(ho_smaller_73_train_X.reshape(ho_smaller_73_train_X.shape[0], -1), ho_smaller_73_train_y)\n",
        "ho_smaller_73_pred_y = default_tree_classifier.predict(ho_smaller_73_test_X.reshape(ho_smaller_73_test_X.shape[0], -1))\n",
        "matrix = metrics.confusion_matrix(ho_smaller_73_test_y, ho_smaller_73_pred_y)\n",
        "print('ccp_alpha: 0.0 | Smaller Data-set | 7/3 Holdout')\n",
        "print('Acurácia:', np.trace(matrix) / len(ho_smaller_73_test_y) * 100, '%\\n')"
      ],
      "execution_count": 16,
      "outputs": [
        {
          "output_type": "stream",
          "text": [
            "ccp_alpha: 0.0 | Smaller Data-set | 9/1 Holdout\n",
            "Acurácia: 83.91666666666666 %\n",
            "\n",
            "ccp_alpha: 0.0 | Smaller Data-set | 8/2 Holdout\n",
            "Acurácia: 84.08333333333333 %\n",
            "\n",
            "ccp_alpha: 0.0 | Smaller Data-set | 7/3 Holdout\n",
            "Acurácia: 81.72222222222221 %\n",
            "\n"
          ],
          "name": "stdout"
        }
      ]
    },
    {
      "cell_type": "code",
      "metadata": {
        "id": "Anpq3fFfgl0K"
      },
      "source": [
        "'''\n",
        "0.1 cpp_alpha\n",
        "'''\n",
        "\n",
        "zero_one_tree_classifier = tree.DecisionTreeClassifier(ccp_alpha=0.1)"
      ],
      "execution_count": 17,
      "outputs": []
    },
    {
      "cell_type": "code",
      "metadata": {
        "id": "dQaRorkymI4C",
        "outputId": "e059ea77-5bdf-4cec-cc39-989972a0cffe",
        "colab": {
          "base_uri": "https://localhost:8080/"
        }
      },
      "source": [
        "'''\n",
        "Two Classes Data-set\n",
        "'''\n",
        "\n",
        "zero_one_tree_classifier.fit(ho_two_class_91_train_X.reshape(ho_two_class_91_train_X.shape[0], -1), ho_two_class_91_train_y)\n",
        "ho_two_class_91_pred_y = zero_one_tree_classifier.predict(ho_two_class_91_test_X.reshape(ho_two_class_91_test_X.shape[0], -1))\n",
        "matrix = metrics.confusion_matrix(ho_two_class_91_test_y, ho_two_class_91_pred_y)\n",
        "print('ccp_alpha: 0.1 | Two Class Data-set | 9/1 Holdout')\n",
        "print('Acurácia:', np.trace(matrix) / len(ho_two_class_91_test_y) * 100, '%\\n')\n",
        "\n",
        "zero_one_tree_classifier.fit(ho_two_class_82_train_X.reshape(ho_two_class_82_train_X.shape[0], -1), ho_two_class_82_train_y)\n",
        "ho_two_class_82_pred_y = zero_one_tree_classifier.predict(ho_two_class_82_test_X.reshape(ho_two_class_82_test_X.shape[0], -1))\n",
        "matrix = metrics.confusion_matrix(ho_two_class_82_test_y, ho_two_class_82_pred_y)\n",
        "print('ccp_alpha: 0.1 | Two Class Data-set | 8/2 Holdout')\n",
        "print('Acurácia:', np.trace(matrix) / len(ho_two_class_82_test_y) * 100, '%\\n')\n",
        "\n",
        "zero_one_tree_classifier.fit(ho_two_class_82_train_X.reshape(ho_two_class_82_train_X.shape[0], -1), ho_two_class_82_train_y)\n",
        "ho_two_class_82_pred_y = zero_one_tree_classifier.predict(ho_two_class_82_test_X.reshape(ho_two_class_82_test_X.shape[0], -1))\n",
        "matrix = metrics.confusion_matrix(ho_two_class_82_test_y, ho_two_class_82_pred_y)\n",
        "print('ccp_alpha: 0.1 | Two Class Data-set | 8/2 Holdout')\n",
        "print('Acurácia:', np.trace(matrix) / len(ho_two_class_82_test_y) * 100, '%\\n')"
      ],
      "execution_count": 18,
      "outputs": [
        {
          "output_type": "stream",
          "text": [
            "ccp_alpha: 0.1 | Two Class Data-set | 9/1 Holdout\n",
            "Acurácia: 98.73717442778216 %\n",
            "\n",
            "ccp_alpha: 0.1 | Two Class Data-set | 8/2 Holdout\n",
            "Acurácia: 98.499802605606 %\n",
            "\n",
            "ccp_alpha: 0.1 | Two Class Data-set | 8/2 Holdout\n",
            "Acurácia: 98.499802605606 %\n",
            "\n"
          ],
          "name": "stdout"
        }
      ]
    },
    {
      "cell_type": "code",
      "metadata": {
        "id": "zLt5c-b0g5P1",
        "outputId": "1501da9c-2b19-4aa6-9d60-88996926971c",
        "colab": {
          "base_uri": "https://localhost:8080/"
        }
      },
      "source": [
        "'''\n",
        "Original Size and Holdout sets\n",
        "'''\n",
        "\n",
        "zero_one_tree_classifier.fit(ho_original_91_train_X.reshape(ho_original_91_train_X.shape[0], -1), ho_original_91_train_y)\n",
        "ho_original_91_pred_y = zero_one_tree_classifier.predict(ho_original_91_test_X.reshape(ho_original_91_test_X.shape[0], -1))\n",
        "matrix = metrics.confusion_matrix(ho_original_91_test_y, ho_original_91_pred_y)\n",
        "print('ccp_alpha: 0.1 | Original Data-set | 9/1 Holdout')\n",
        "print('Acurácia:', np.trace(matrix) / len(ho_original_91_test_y) * 100, '%\\n')\n",
        "\n",
        "zero_one_tree_classifier.fit(ho_original_82_train_X.reshape(ho_original_82_train_X.shape[0], -1), ho_original_82_train_y)\n",
        "ho_original_82_pred_y = zero_one_tree_classifier.predict(ho_original_82_test_X.reshape(ho_original_82_test_X.shape[0], -1))\n",
        "matrix = metrics.confusion_matrix(ho_original_82_test_y, ho_original_82_pred_y)\n",
        "print('ccp_alpha: 0.1 | Original Data-set | 8/2 Holdout')\n",
        "print('Acurácia:', np.trace(matrix) / len(ho_original_82_test_y) * 100, '%\\n')\n",
        "\n",
        "zero_one_tree_classifier.fit(ho_original_82_train_X.reshape(ho_original_82_train_X.shape[0], -1), ho_original_82_train_y)\n",
        "ho_original_82_pred_y = zero_one_tree_classifier.predict(ho_original_82_test_X.reshape(ho_original_82_test_X.shape[0], -1))\n",
        "matrix = metrics.confusion_matrix(ho_original_82_test_y, ho_original_82_pred_y)\n",
        "print('ccp_alpha: 0.1 | Original Data-set | 8/2 Holdout')\n",
        "print('Acurácia:', np.trace(matrix) / len(ho_original_82_test_y) * 100, '%\\n')"
      ],
      "execution_count": 19,
      "outputs": [
        {
          "output_type": "stream",
          "text": [
            "ccp_alpha: 0.1 | Original Data-set | 9/1 Holdout\n",
            "Acurácia: 11.166666666666666 %\n",
            "\n",
            "ccp_alpha: 0.1 | Original Data-set | 8/2 Holdout\n",
            "Acurácia: 11.025 %\n",
            "\n",
            "ccp_alpha: 0.1 | Original Data-set | 8/2 Holdout\n",
            "Acurácia: 11.025 %\n",
            "\n"
          ],
          "name": "stdout"
        }
      ]
    },
    {
      "cell_type": "code",
      "metadata": {
        "id": "L_nIgybkiP9l",
        "outputId": "e9d5040c-4406-4357-c928-67f469459b73",
        "colab": {
          "base_uri": "https://localhost:8080/"
        }
      },
      "source": [
        "'''\n",
        "Half Size Dataset and Holdout sets\n",
        "'''\n",
        "\n",
        "zero_one_tree_classifier.fit(ho_half_91_train_X.reshape(ho_half_91_train_X.shape[0], -1), ho_half_91_train_y)\n",
        "ho_half_91_pred_y = zero_one_tree_classifier.predict(ho_half_91_test_X.reshape(ho_half_91_test_X.shape[0], -1))\n",
        "matrix = metrics.confusion_matrix(ho_half_91_test_y, ho_half_91_pred_y)\n",
        "print('ccp_alpha: 0.1 | Half Data-set | 9/1 Holdout')\n",
        "print('Acurácia:', np.trace(matrix) / len(ho_half_91_test_y) * 100, '%\\n')\n",
        "\n",
        "zero_one_tree_classifier.fit(ho_half_82_train_X.reshape(ho_half_82_train_X.shape[0], -1), ho_half_82_train_y)\n",
        "ho_half_82_pred_y = zero_one_tree_classifier.predict(ho_half_82_test_X.reshape(ho_half_82_test_X.shape[0], -1))\n",
        "matrix = metrics.confusion_matrix(ho_half_82_test_y, ho_half_82_pred_y)\n",
        "print('ccp_alpha: 0.1 | Half Data-set | 8/2 Holdout')\n",
        "print('Acurácia:', np.trace(matrix) / len(ho_half_82_test_y) * 100, '%\\n')\n",
        "\n",
        "zero_one_tree_classifier.fit(ho_half_73_train_X.reshape(ho_half_73_train_X.shape[0], -1), ho_half_73_train_y)\n",
        "ho_half_73_pred_y = zero_one_tree_classifier.predict(ho_half_73_test_X.reshape(ho_half_73_test_X.shape[0], -1))\n",
        "matrix = metrics.confusion_matrix(ho_half_73_test_y, ho_half_73_pred_y)\n",
        "print('ccp_alpha: 0.1 | Half Data-set | 7/3 Holdout')\n",
        "print('Acurácia:', np.trace(matrix) / len(ho_half_73_test_y) * 100, '%\\n')"
      ],
      "execution_count": 20,
      "outputs": [
        {
          "output_type": "stream",
          "text": [
            "ccp_alpha: 0.1 | Half Data-set | 9/1 Holdout\n",
            "Acurácia: 10.733333333333334 %\n",
            "\n",
            "ccp_alpha: 0.1 | Half Data-set | 8/2 Holdout\n",
            "Acurácia: 11.366666666666667 %\n",
            "\n",
            "ccp_alpha: 0.1 | Half Data-set | 7/3 Holdout\n",
            "Acurácia: 11.4 %\n",
            "\n"
          ],
          "name": "stdout"
        }
      ]
    },
    {
      "cell_type": "code",
      "metadata": {
        "id": "-xk4lI20ibF1",
        "outputId": "b4b1a768-0730-4aad-cf6d-145e13a7084e",
        "colab": {
          "base_uri": "https://localhost:8080/"
        }
      },
      "source": [
        "'''\n",
        "Smaller Dataset and Holdout sets\n",
        "'''\n",
        "\n",
        "zero_one_tree_classifier.fit(ho_smaller_91_train_X.reshape(ho_smaller_91_train_X.shape[0], -1), ho_smaller_91_train_y)\n",
        "ho_smaller_91_pred_y = zero_one_tree_classifier.predict(ho_smaller_91_test_X.reshape(ho_smaller_91_test_X.shape[0], -1))\n",
        "matrix = metrics.confusion_matrix(ho_smaller_91_test_y, ho_smaller_91_pred_y)\n",
        "print('ccp_alpha: 0.1 | Smaller Data-set | 9/1 Holdout')\n",
        "print('Acurácia:', np.trace(matrix) / len(ho_smaller_91_test_y) * 100, '%\\n')\n",
        "\n",
        "zero_one_tree_classifier.fit(ho_smaller_82_train_X.reshape(ho_smaller_82_train_X.shape[0], -1), ho_smaller_82_train_y)\n",
        "ho_smaller_82_pred_y = zero_one_tree_classifier.predict(ho_smaller_82_test_X.reshape(ho_smaller_82_test_X.shape[0], -1))\n",
        "matrix = metrics.confusion_matrix(ho_smaller_82_test_y, ho_smaller_82_pred_y)\n",
        "print('ccp_alpha: 0.1 | Smaller Data-set | 8/2 Holdout')\n",
        "print('Acurácia:', np.trace(matrix) / len(ho_smaller_82_test_y) * 100, '%\\n')\n",
        "\n",
        "zero_one_tree_classifier.fit(ho_smaller_73_train_X.reshape(ho_smaller_73_train_X.shape[0], -1), ho_smaller_73_train_y)\n",
        "ho_smaller_73_pred_y = zero_one_tree_classifier.predict(ho_smaller_73_test_X.reshape(ho_smaller_73_test_X.shape[0], -1))\n",
        "matrix = metrics.confusion_matrix(ho_smaller_73_test_y, ho_smaller_73_pred_y)\n",
        "print('ccp_alpha: 0.1 | Smaller Data-set | 7/3 Holdout')\n",
        "print('Acurácia:', np.trace(matrix) / len(ho_smaller_73_test_y) * 100, '%\\n')"
      ],
      "execution_count": 21,
      "outputs": [
        {
          "output_type": "stream",
          "text": [
            "ccp_alpha: 0.1 | Smaller Data-set | 9/1 Holdout\n",
            "Acurácia: 11.5 %\n",
            "\n",
            "ccp_alpha: 0.1 | Smaller Data-set | 8/2 Holdout\n",
            "Acurácia: 11.458333333333332 %\n",
            "\n",
            "ccp_alpha: 0.1 | Smaller Data-set | 7/3 Holdout\n",
            "Acurácia: 10.888888888888888 %\n",
            "\n"
          ],
          "name": "stdout"
        }
      ]
    },
    {
      "cell_type": "code",
      "metadata": {
        "id": "kpV92w8GipQ2"
      },
      "source": [
        "'''\n",
        "0.5 cpp_alpha\n",
        "'''\n",
        "\n",
        "zero_five_tree_classifier = tree.DecisionTreeClassifier(ccp_alpha=0.1)"
      ],
      "execution_count": 22,
      "outputs": []
    },
    {
      "cell_type": "code",
      "metadata": {
        "id": "cyspGqJnmRGf",
        "outputId": "59350d10-90d0-4393-f05a-22253dd41309",
        "colab": {
          "base_uri": "https://localhost:8080/"
        }
      },
      "source": [
        "'''\n",
        "Two Classes Data-set\n",
        "'''\n",
        "\n",
        "zero_five_tree_classifier.fit(ho_two_class_91_train_X.reshape(ho_two_class_91_train_X.shape[0], -1), ho_two_class_91_train_y)\n",
        "ho_two_class_91_pred_y = zero_five_tree_classifier.predict(ho_two_class_91_test_X.reshape(ho_two_class_91_test_X.shape[0], -1))\n",
        "matrix = metrics.confusion_matrix(ho_two_class_91_test_y, ho_two_class_91_pred_y)\n",
        "print('ccp_alpha: 0.5 | Two Class Data-set | 9/1 Holdout')\n",
        "print('Acurácia:', np.trace(matrix) / len(ho_two_class_91_test_y) * 100, '%\\n')\n",
        "\n",
        "zero_five_tree_classifier.fit(ho_two_class_82_train_X.reshape(ho_two_class_82_train_X.shape[0], -1), ho_two_class_82_train_y)\n",
        "ho_two_class_82_pred_y = zero_five_tree_classifier.predict(ho_two_class_82_test_X.reshape(ho_two_class_82_test_X.shape[0], -1))\n",
        "matrix = metrics.confusion_matrix(ho_two_class_82_test_y, ho_two_class_82_pred_y)\n",
        "print('ccp_alpha: 0.5 | Two Class Data-set | 8/2 Holdout')\n",
        "print('Acurácia:', np.trace(matrix) / len(ho_two_class_82_test_y) * 100, '%\\n')\n",
        "\n",
        "zero_five_tree_classifier.fit(ho_two_class_82_train_X.reshape(ho_two_class_82_train_X.shape[0], -1), ho_two_class_82_train_y)\n",
        "ho_two_class_82_pred_y = zero_five_tree_classifier.predict(ho_two_class_82_test_X.reshape(ho_two_class_82_test_X.shape[0], -1))\n",
        "matrix = metrics.confusion_matrix(ho_two_class_82_test_y, ho_two_class_82_pred_y)\n",
        "print('ccp_alpha: 0.5 | Two Class Data-set | 8/2 Holdout')\n",
        "print('Acurácia:', np.trace(matrix) / len(ho_two_class_82_test_y) * 100, '%\\n')"
      ],
      "execution_count": 23,
      "outputs": [
        {
          "output_type": "stream",
          "text": [
            "ccp_alpha: 0.5 | Two Class Data-set | 9/1 Holdout\n",
            "Acurácia: 98.73717442778216 %\n",
            "\n",
            "ccp_alpha: 0.5 | Two Class Data-set | 8/2 Holdout\n",
            "Acurácia: 98.499802605606 %\n",
            "\n",
            "ccp_alpha: 0.5 | Two Class Data-set | 8/2 Holdout\n",
            "Acurácia: 98.499802605606 %\n",
            "\n"
          ],
          "name": "stdout"
        }
      ]
    },
    {
      "cell_type": "code",
      "metadata": {
        "id": "BB4J8nzhiv0K",
        "outputId": "86852b96-70c6-4dad-ecfc-176ecf75cc53",
        "colab": {
          "base_uri": "https://localhost:8080/"
        }
      },
      "source": [
        "'''\n",
        "Original Size and Holdout sets\n",
        "'''\n",
        "\n",
        "zero_five_tree_classifier.fit(ho_original_91_train_X.reshape(ho_original_91_train_X.shape[0], -1), ho_original_91_train_y)\n",
        "ho_original_91_pred_y = zero_five_tree_classifier.predict(ho_original_91_test_X.reshape(ho_original_91_test_X.shape[0], -1))\n",
        "matrix = metrics.confusion_matrix(ho_original_91_test_y, ho_original_91_pred_y)\n",
        "print('ccp_alpha: 0.5 | Original Data-set | 9/1 Holdout')\n",
        "print('Acurácia:', np.trace(matrix) / len(ho_original_91_test_y) * 100, '%\\n')\n",
        "\n",
        "zero_five_tree_classifier.fit(ho_original_82_train_X.reshape(ho_original_82_train_X.shape[0], -1), ho_original_82_train_y)\n",
        "ho_original_82_pred_y = zero_five_tree_classifier.predict(ho_original_82_test_X.reshape(ho_original_82_test_X.shape[0], -1))\n",
        "matrix = metrics.confusion_matrix(ho_original_82_test_y, ho_original_82_pred_y)\n",
        "print('ccp_alpha: 0.5 | Original Data-set | 8/2 Holdout')\n",
        "print('Acurácia:', np.trace(matrix) / len(ho_original_82_test_y) * 100, '%\\n')\n",
        "\n",
        "zero_five_tree_classifier.fit(ho_original_82_train_X.reshape(ho_original_82_train_X.shape[0], -1), ho_original_82_train_y)\n",
        "ho_original_82_pred_y = zero_five_tree_classifier.predict(ho_original_82_test_X.reshape(ho_original_82_test_X.shape[0], -1))\n",
        "matrix = metrics.confusion_matrix(ho_original_82_test_y, ho_original_82_pred_y)\n",
        "print('ccp_alpha: 0.5 | Original Data-set | 8/2 Holdout')\n",
        "print('Acurácia:', np.trace(matrix) / len(ho_original_82_test_y) * 100, '%\\n')"
      ],
      "execution_count": 24,
      "outputs": [
        {
          "output_type": "stream",
          "text": [
            "ccp_alpha: 0.5 | Original Data-set | 9/1 Holdout\n",
            "Acurácia: 11.166666666666666 %\n",
            "\n",
            "ccp_alpha: 0.5 | Original Data-set | 8/2 Holdout\n",
            "Acurácia: 11.025 %\n",
            "\n",
            "ccp_alpha: 0.5 | Original Data-set | 8/2 Holdout\n",
            "Acurácia: 11.025 %\n",
            "\n"
          ],
          "name": "stdout"
        }
      ]
    },
    {
      "cell_type": "code",
      "metadata": {
        "id": "kXcfYwaJi4Hy",
        "outputId": "cf118a9f-da6c-4809-b0e8-7b7a130cd9fd",
        "colab": {
          "base_uri": "https://localhost:8080/"
        }
      },
      "source": [
        "'''\n",
        "Half Size Dataset and Holdout sets\n",
        "'''\n",
        "\n",
        "zero_five_tree_classifier.fit(ho_half_91_train_X.reshape(ho_half_91_train_X.shape[0], -1), ho_half_91_train_y)\n",
        "ho_half_91_pred_y = zero_five_tree_classifier.predict(ho_half_91_test_X.reshape(ho_half_91_test_X.shape[0], -1))\n",
        "matrix = metrics.confusion_matrix(ho_half_91_test_y, ho_half_91_pred_y)\n",
        "print('ccp_alpha: 0.5 | Half Data-set | 9/1 Holdout')\n",
        "print('Acurácia:', np.trace(matrix) / len(ho_half_91_test_y) * 100, '%\\n')\n",
        "\n",
        "zero_five_tree_classifier.fit(ho_half_82_train_X.reshape(ho_half_82_train_X.shape[0], -1), ho_half_82_train_y)\n",
        "ho_half_82_pred_y = zero_five_tree_classifier.predict(ho_half_82_test_X.reshape(ho_half_82_test_X.shape[0], -1))\n",
        "matrix = metrics.confusion_matrix(ho_half_82_test_y, ho_half_82_pred_y)\n",
        "print('ccp_alpha: 0.5 | Half Data-set | 8/2 Holdout')\n",
        "print('Acurácia:', np.trace(matrix) / len(ho_half_82_test_y) * 100, '%\\n')\n",
        "\n",
        "zero_five_tree_classifier.fit(ho_half_73_train_X.reshape(ho_half_73_train_X.shape[0], -1), ho_half_73_train_y)\n",
        "ho_half_73_pred_y = zero_five_tree_classifier.predict(ho_half_73_test_X.reshape(ho_half_73_test_X.shape[0], -1))\n",
        "matrix = metrics.confusion_matrix(ho_half_73_test_y, ho_half_73_pred_y)\n",
        "print('ccp_alpha: 0.5 | Half Data-set | 7/3 Holdout')\n",
        "print('Acurácia:', np.trace(matrix) / len(ho_half_73_test_y) * 100, '%\\n')"
      ],
      "execution_count": 25,
      "outputs": [
        {
          "output_type": "stream",
          "text": [
            "ccp_alpha: 0.5 | Half Data-set | 9/1 Holdout\n",
            "Acurácia: 10.733333333333334 %\n",
            "\n",
            "ccp_alpha: 0.5 | Half Data-set | 8/2 Holdout\n",
            "Acurácia: 11.366666666666667 %\n",
            "\n",
            "ccp_alpha: 0.5 | Half Data-set | 7/3 Holdout\n",
            "Acurácia: 11.4 %\n",
            "\n"
          ],
          "name": "stdout"
        }
      ]
    },
    {
      "cell_type": "code",
      "metadata": {
        "id": "Yzo4nKjGjBbZ",
        "outputId": "90e4074b-f08c-4c90-c2f5-8a9bcc3efcec",
        "colab": {
          "base_uri": "https://localhost:8080/"
        }
      },
      "source": [
        "'''\n",
        "Smaller Dataset and Holdout sets\n",
        "'''\n",
        "\n",
        "zero_five_tree_classifier.fit(ho_smaller_91_train_X.reshape(ho_smaller_91_train_X.shape[0], -1), ho_smaller_91_train_y)\n",
        "ho_smaller_91_pred_y = zero_five_tree_classifier.predict(ho_smaller_91_test_X.reshape(ho_smaller_91_test_X.shape[0], -1))\n",
        "matrix = metrics.confusion_matrix(ho_smaller_91_test_y, ho_smaller_91_pred_y)\n",
        "print('ccp_alpha: 0.5 | Smaller Data-set | 9/1 Holdout')\n",
        "print('Acurácia:', np.trace(matrix) / len(ho_smaller_91_test_y) * 100, '%\\n')\n",
        "\n",
        "zero_five_tree_classifier.fit(ho_smaller_82_train_X.reshape(ho_smaller_82_train_X.shape[0], -1), ho_smaller_82_train_y)\n",
        "ho_smaller_82_pred_y = zero_five_tree_classifier.predict(ho_smaller_82_test_X.reshape(ho_smaller_82_test_X.shape[0], -1))\n",
        "matrix = metrics.confusion_matrix(ho_smaller_82_test_y, ho_smaller_82_pred_y)\n",
        "print('ccp_alpha: 0.5 | Smaller Data-set | 8/2 Holdout')\n",
        "print('Acurácia:', np.trace(matrix) / len(ho_smaller_82_test_y) * 100, '%\\n')\n",
        "\n",
        "zero_five_tree_classifier.fit(ho_smaller_73_train_X.reshape(ho_smaller_73_train_X.shape[0], -1), ho_smaller_73_train_y)\n",
        "ho_smaller_73_pred_y = zero_five_tree_classifier.predict(ho_smaller_73_test_X.reshape(ho_smaller_73_test_X.shape[0], -1))\n",
        "matrix = metrics.confusion_matrix(ho_smaller_73_test_y, ho_smaller_73_pred_y)\n",
        "print('ccp_alpha: 0.5 | Smaller Data-set | 7/3 Holdout')\n",
        "print('Acurácia:', np.trace(matrix) / len(ho_smaller_73_test_y) * 100, '%\\n')"
      ],
      "execution_count": 26,
      "outputs": [
        {
          "output_type": "stream",
          "text": [
            "ccp_alpha: 0.5 | Smaller Data-set | 9/1 Holdout\n",
            "Acurácia: 11.5 %\n",
            "\n",
            "ccp_alpha: 0.5 | Smaller Data-set | 8/2 Holdout\n",
            "Acurácia: 11.458333333333332 %\n",
            "\n",
            "ccp_alpha: 0.5 | Smaller Data-set | 7/3 Holdout\n",
            "Acurácia: 10.888888888888888 %\n",
            "\n"
          ],
          "name": "stdout"
        }
      ]
    }
  ]
}