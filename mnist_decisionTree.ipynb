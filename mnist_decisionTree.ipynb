{
  "nbformat": 4,
  "nbformat_minor": 0,
  "metadata": {
    "colab": {
      "name": "mnist-decisionTree.ipynb",
      "provenance": [],
      "toc_visible": true,
      "mount_file_id": "https://github.com/carvalheirafc/mnist-deeplearning/blob/main/mnist_decisionTree.ipynb",
      "authorship_tag": "ABX9TyOBa7HJsvC6EHUe4UWuvtEG",
      "include_colab_link": true
    },
    "kernelspec": {
      "name": "python3",
      "display_name": "Python 3"
    }
  },
  "cells": [
    {
      "cell_type": "markdown",
      "metadata": {
        "id": "view-in-github",
        "colab_type": "text"
      },
      "source": [
        "<a href=\"https://colab.research.google.com/github/carvalheirafc/mnist-deeplearning/blob/main/mnist_decisionTree.ipynb\" target=\"_parent\"><img src=\"https://colab.research.google.com/assets/colab-badge.svg\" alt=\"Open In Colab\"/></a>"
      ]
    },
    {
      "cell_type": "code",
      "metadata": {
        "id": "1wE9WD1MARHU"
      },
      "source": [
        "import numpy as np\n",
        "from sklearn.model_selection import train_test_split\n",
        "from sklearn.model_selection import KFold"
      ],
      "execution_count": 1,
      "outputs": []
    },
    {
      "cell_type": "markdown",
      "metadata": {
        "id": "ab_eSEisNMkl"
      },
      "source": [
        "### Data Input and miscs\n"
      ]
    },
    {
      "cell_type": "code",
      "metadata": {
        "id": "giwtI9kQSDZM"
      },
      "source": [
        "data_X = np.load('./drive/My Drive/mnist_datasets/mnist_X.npy')\n",
        "data_y = np.load('./drive/My Drive/mnist_datasets/mnist_labels.npy')"
      ],
      "execution_count": 2,
      "outputs": []
    },
    {
      "cell_type": "code",
      "metadata": {
        "id": "dNx1VgivjGHU",
        "outputId": "08927778-358a-4834-a2d0-383aa2acc30c",
        "colab": {
          "base_uri": "https://localhost:8080/"
        }
      },
      "source": [
        "half_X = np.array(np.split(data_X, 2))\n",
        "half_y = np.array(np.split(data_y, 2))\n",
        "\n",
        "print('Mnist 50% Data: \\n')\n",
        "print('X: ', half_X[0].shape)\n",
        "print('y: ', half_y[0].shape)"
      ],
      "execution_count": 3,
      "outputs": [
        {
          "output_type": "stream",
          "text": [
            "Mnist 50% Data: \n",
            "\n",
            "X:  (30000, 1, 28, 28)\n",
            "y:  (30000, 1)\n"
          ],
          "name": "stdout"
        }
      ]
    },
    {
      "cell_type": "code",
      "metadata": {
        "id": "QJ103KW0nWWf",
        "outputId": "00264b09-5fce-458c-eed1-4561994f13a4",
        "colab": {
          "base_uri": "https://localhost:8080/"
        }
      },
      "source": [
        "smaller_X = np.array(np.split(data_X, 5))\n",
        "smaller_y = np.array(np.split(data_y, 5))\n",
        "\n",
        "print('Mnist 20% Data: \\n')\n",
        "print('X: ', smaller_X[0].shape)\n",
        "print('y: ', smaller_y[0].shape)"
      ],
      "execution_count": 4,
      "outputs": [
        {
          "output_type": "stream",
          "text": [
            "Mnist 20% Data: \n",
            "\n",
            "X:  (12000, 1, 28, 28)\n",
            "y:  (12000, 1)\n"
          ],
          "name": "stdout"
        }
      ]
    },
    {
      "cell_type": "code",
      "metadata": {
        "id": "wb13x1BRqUZI",
        "outputId": "02acfd14-b16f-495e-d30f-efce3f366955",
        "colab": {
          "base_uri": "https://localhost:8080/"
        }
      },
      "source": [
        "data_two_classes = np.load('./drive/My Drive/mnist_datasets/two_classes_data.npy', allow_pickle=True)\n",
        "two_classes_X = np.concatenate((data_two_classes[0][0], data_two_classes[1][0]), axis=0)\n",
        "two_classes_y = np.concatenate((data_two_classes[0][1], data_two_classes[1][1]), axis=0)\n",
        "print('Mnist Two Classes: \\n')\n",
        "print('Zeros: ', data_two_classes[0][0].shape)\n",
        "print('Ones:  ', data_two_classes[1][0].shape)\n",
        "print('X:     ', two_classes_X.shape)\n",
        "print('y:     ', two_classes_y.shape)\n"
      ],
      "execution_count": 5,
      "outputs": [
        {
          "output_type": "stream",
          "text": [
            "Mnist Two Classes: \n",
            "\n",
            "Zeros:  (5923, 28, 28)\n",
            "Ones:   (6742, 28, 28)\n",
            "X:      (12665, 28, 28)\n",
            "y:      (12665,)\n"
          ],
          "name": "stdout"
        }
      ]
    },
    {
      "cell_type": "markdown",
      "metadata": {
        "id": "nRo5bh_uDPmC"
      },
      "source": [
        "### Hold-Out Sets\n"
      ]
    },
    {
      "cell_type": "code",
      "metadata": {
        "id": "GgjdsiT-Edcx",
        "outputId": "c2199c2f-746d-4e18-f9ad-0a35a368cc05",
        "colab": {
          "base_uri": "https://localhost:8080/"
        }
      },
      "source": [
        "ho_original_91_train_X, ho_original_91_test_X, ho_original_91_train_y, ho_original_91_test_y = train_test_split(data_X, data_y, train_size=0.9, random_state=555)\n",
        "ho_original_82_train_X, ho_original_82_test_X, ho_original_82_train_y, ho_original_82_test_y = train_test_split(data_X, data_y, train_size=0.8, random_state=555)\n",
        "ho_original_73_train_X, ho_original_73_test_X, ho_original_73_train_y, ho_original_73_test_y = train_test_split(data_X, data_y, train_size=0.7, random_state=555)\n",
        "\n",
        "print('Hold-Out Original Data Split\\n')\n",
        "print('9/1: ', ho_original_91_train_X.shape)\n",
        "print('8/2: ', ho_original_82_train_X.shape)\n",
        "print('7/3: ', ho_original_73_train_X.shape)"
      ],
      "execution_count": 6,
      "outputs": [
        {
          "output_type": "stream",
          "text": [
            "Hold-Out Original Data Split\n",
            "\n",
            "9/1:  (54000, 1, 28, 28)\n",
            "8/2:  (48000, 1, 28, 28)\n",
            "7/3:  (42000, 1, 28, 28)\n"
          ],
          "name": "stdout"
        }
      ]
    },
    {
      "cell_type": "code",
      "metadata": {
        "id": "H9vaxIsxrcUB",
        "outputId": "a745c7a9-1358-4bdd-fb6f-3d9183b98f86",
        "colab": {
          "base_uri": "https://localhost:8080/"
        }
      },
      "source": [
        "ho_half_91_train_X, ho_half_91_test_X, ho_half_91_train_y, ho_half_91_test_y = train_test_split(half_X[0], half_y[0], train_size=0.9, random_state=555)\n",
        "ho_half_82_train_X, ho_half_82_test_X, ho_half_82_train_y, ho_half_82_test_y = train_test_split(half_X[0], half_y[0], train_size=0.8, random_state=555)\n",
        "ho_half_73_train_X, ho_half_73_test_X, ho_half_73_train_y, ho_half_73_test_y = train_test_split(half_X[0], half_y[0], train_size=0.7, random_state=555)\n",
        "\n",
        "print('Hold-Out Half Data Split\\n')\n",
        "print('9/1: ', ho_half_91_train_X.shape)\n",
        "print('8/2: ', ho_half_82_train_X.shape)\n",
        "print('7/3: ', ho_half_73_train_X.shape)\n"
      ],
      "execution_count": 7,
      "outputs": [
        {
          "output_type": "stream",
          "text": [
            "Hold-Out Half Data Split\n",
            "\n",
            "9/1:  (27000, 1, 28, 28)\n",
            "8/2:  (24000, 1, 28, 28)\n",
            "7/3:  (21000, 1, 28, 28)\n"
          ],
          "name": "stdout"
        }
      ]
    },
    {
      "cell_type": "code",
      "metadata": {
        "id": "iVr9Hsm3tVy4",
        "outputId": "17c06d1f-b370-4741-cae9-528e71840978",
        "colab": {
          "base_uri": "https://localhost:8080/"
        }
      },
      "source": [
        "ho_smaller_91_train_X, ho_smaller_91_test_X, ho_smaller_91_train_y, ho_smaller_91_test_y = train_test_split(smaller_X[0], smaller_y[0], train_size=0.9, random_state=555)\n",
        "ho_smaller_82_train_X, ho_smaller_82_test_X, ho_smaller_82_train_y, ho_smaller_82_test_y = train_test_split(smaller_X[0], smaller_y[0], train_size=0.8, random_state=555)\n",
        "ho_smaller_73_train_X, ho_smaller_73_test_X, ho_smaller_73_train_y, ho_smaller_73_test_y = train_test_split(smaller_X[0], smaller_y[0], train_size=0.7, random_state=555)\n",
        "\n",
        "print('Hold-Out Half Data Split\\n')\n",
        "print('9/1: ', ho_smaller_91_train_X.shape)\n",
        "print('8/2: ', ho_smaller_82_train_X.shape)\n",
        "print('7/3: ', ho_smaller_73_train_X.shape)"
      ],
      "execution_count": 8,
      "outputs": [
        {
          "output_type": "stream",
          "text": [
            "Hold-Out Half Data Split\n",
            "\n",
            "9/1:  (10800, 1, 28, 28)\n",
            "8/2:  (9600, 1, 28, 28)\n",
            "7/3:  (8400, 1, 28, 28)\n"
          ],
          "name": "stdout"
        }
      ]
    },
    {
      "cell_type": "code",
      "metadata": {
        "id": "lVDL-wyNwsnq",
        "outputId": "8388a00b-3de8-4776-c196-abb57e58f239",
        "colab": {
          "base_uri": "https://localhost:8080/"
        }
      },
      "source": [
        "ho_two_class_91_train_X, ho_two_class_91_test_X, ho_two_class_91_train_y, ho_two_class_91_test_y = train_test_split(two_classes_X, two_classes_y, train_size=0.9, random_state=555)\n",
        "ho_two_class_82_train_X, ho_two_class_82_test_X, ho_two_class_82_train_y, ho_two_class_82_test_y = train_test_split(two_classes_X, two_classes_y, train_size=0.8, random_state=555)\n",
        "ho_two_class_73_train_X, ho_two_class_73_test_X, ho_two_class_73_train_y, ho_two_class_73_test_y = train_test_split(two_classes_X, two_classes_y, train_size=0.7, random_state=555)\n",
        "\n",
        "print('Hold-Out Mnist Two Classes[0, 1] Split\\n')\n",
        "print('9/1: ', ho_two_class_91_train_X.shape)\n",
        "print('8/2: ', ho_two_class_82_train_X.shape)\n",
        "print('7/3: ', ho_two_class_73_train_X.shape)"
      ],
      "execution_count": 9,
      "outputs": [
        {
          "output_type": "stream",
          "text": [
            "Hold-Out Mnist Two Classes[0, 1] Split\n",
            "\n",
            "9/1:  (11398, 28, 28)\n",
            "8/2:  (10132, 28, 28)\n",
            "7/3:  (8865, 28, 28)\n"
          ],
          "name": "stdout"
        }
      ]
    },
    {
      "cell_type": "markdown",
      "metadata": {
        "id": "ugG3QxR4DUZq"
      },
      "source": [
        "### K-Fold sets\n"
      ]
    },
    {
      "cell_type": "code",
      "metadata": {
        "id": "-850QJlVDTXQ",
        "outputId": "5ff6e2b9-3774-4ce6-ca94-172b0654b324",
        "colab": {
          "base_uri": "https://localhost:8080/"
        }
      },
      "source": [
        "kf = KFold(n_splits=10)\n",
        "kf.split(two_classes_X, two_classes_y)"
      ],
      "execution_count": 10,
      "outputs": [
        {
          "output_type": "execute_result",
          "data": {
            "text/plain": [
              "<generator object _BaseKFold.split at 0x7f9fd6cb0db0>"
            ]
          },
          "metadata": {
            "tags": []
          },
          "execution_count": 10
        }
      ]
    },
    {
      "cell_type": "markdown",
      "metadata": {
        "id": "CeSCO1LlOCoL"
      },
      "source": [
        "## Decision Tree\n"
      ]
    },
    {
      "cell_type": "code",
      "metadata": {
        "id": "5tJFwV4POWMD"
      },
      "source": [
        "from sklearn import tree\n",
        "from sklearn import metrics\n",
        "import time"
      ],
      "execution_count": 11,
      "outputs": []
    },
    {
      "cell_type": "code",
      "metadata": {
        "id": "-3hgz899OHJX"
      },
      "source": [
        "'''\n",
        "Default ccp_alfa(Fator de confiança)\n",
        "'''\n",
        "\n",
        "default_tree_classifier = tree.DecisionTreeClassifier(ccp_alpha=0.0)"
      ],
      "execution_count": 12,
      "outputs": []
    },
    {
      "cell_type": "code",
      "metadata": {
        "id": "sNztLjfwkVTs",
        "outputId": "621fd3df-d3d9-4cea-f6a9-5ef0f9bbf165",
        "colab": {
          "base_uri": "https://localhost:8080/"
        }
      },
      "source": [
        "'''\n",
        "Two Classes Data-set\n",
        "'''\n",
        "\n",
        "print('ccp_alpha: 0.0 | Two Class Data-set | 9/1 Holdout')\n",
        "start_time = time.time()\n",
        "default_tree_classifier.fit(ho_two_class_91_train_X.reshape(ho_two_class_91_train_X.shape[0], -1), ho_two_class_91_train_y)\n",
        "print(\"Execution Time: %s seconds\" % (time.time() - start_time))\n",
        "ho_two_class_91_pred_y = default_tree_classifier.predict(ho_two_class_91_test_X.reshape(ho_two_class_91_test_X.shape[0], -1))\n",
        "matrix = metrics.confusion_matrix(ho_two_class_91_test_y, ho_two_class_91_pred_y)\n",
        "print('Acurácia:', np.trace(matrix) / len(ho_two_class_91_test_y) * 100, '%\\n')\n",
        "\n",
        "print('ccp_alpha: 0.0 | Two Class Data-set | 8/2 Holdout')\n",
        "start_time = time.time()\n",
        "default_tree_classifier.fit(ho_two_class_82_train_X.reshape(ho_two_class_82_train_X.shape[0], -1), ho_two_class_82_train_y)\n",
        "print(\"Execution Time: %s seconds\" % (time.time() - start_time))\n",
        "ho_two_class_82_pred_y = default_tree_classifier.predict(ho_two_class_82_test_X.reshape(ho_two_class_82_test_X.shape[0], -1))\n",
        "matrix = metrics.confusion_matrix(ho_two_class_82_test_y, ho_two_class_82_pred_y)\n",
        "print('Acurácia:', np.trace(matrix) / len(ho_two_class_82_test_y) * 100, '%\\n')\n",
        "\n",
        "print('ccp_alpha: 0.0 | Two Class Data-set | 7/3 Holdout')\n",
        "start_time = time.time()\n",
        "default_tree_classifier.fit(ho_two_class_82_train_X.reshape(ho_two_class_82_train_X.shape[0], -1), ho_two_class_82_train_y)\n",
        "print(\"Execution Time: %s seconds\" % (time.time() - start_time))\n",
        "ho_two_class_82_pred_y = default_tree_classifier.predict(ho_two_class_82_test_X.reshape(ho_two_class_82_test_X.shape[0], -1))\n",
        "matrix = metrics.confusion_matrix(ho_two_class_82_test_y, ho_two_class_82_pred_y)\n",
        "print('Acurácia:', np.trace(matrix) / len(ho_two_class_82_test_y) * 100, '%\\n')"
      ],
      "execution_count": 13,
      "outputs": [
        {
          "output_type": "stream",
          "text": [
            "ccp_alpha: 0.0 | Two Class Data-set | 9/1 Holdout\n",
            "Execution Time: 1.6385884284973145 seconds\n",
            "Acurácia: 99.4475138121547 %\n",
            "\n",
            "ccp_alpha: 0.0 | Two Class Data-set | 8/2 Holdout\n",
            "Execution Time: 1.3086841106414795 seconds\n",
            "Acurácia: 99.48677457560206 %\n",
            "\n",
            "ccp_alpha: 0.0 | Two Class Data-set | 7/3 Holdout\n",
            "Execution Time: 1.4411215782165527 seconds\n",
            "Acurácia: 99.5262534544019 %\n",
            "\n"
          ],
          "name": "stdout"
        }
      ]
    },
    {
      "cell_type": "code",
      "metadata": {
        "id": "-inhq6GcesYz",
        "outputId": "f5c31689-1a3b-4846-fdec-66dc5a37435f",
        "colab": {
          "base_uri": "https://localhost:8080/"
        }
      },
      "source": [
        "'''\n",
        "Original Size and Holdout sets\n",
        "'''\n",
        "\n",
        "print('ccp_alpha: 0.0 | Original Data-set | 9/1 Holdout')\n",
        "start_time = time.time()\n",
        "default_tree_classifier.fit(ho_original_91_train_X.reshape(ho_original_91_train_X.shape[0], -1), ho_original_91_train_y)\n",
        "print(\"Execution Time: %s seconds\" % (time.time() - start_time))\n",
        "ho_original_91_pred_y = default_tree_classifier.predict(ho_original_91_test_X.reshape(ho_original_91_test_X.shape[0], -1))\n",
        "matrix = metrics.confusion_matrix(ho_original_91_test_y, ho_original_91_pred_y)\n",
        "print('Acurácia:', np.trace(matrix) / len(ho_original_91_test_y) * 100, '%\\n')\n",
        "\n",
        "print('ccp_alpha: 0.0 | Original Data-set | 8/2 Holdout')\n",
        "start_time = time.time()\n",
        "default_tree_classifier.fit(ho_original_82_train_X.reshape(ho_original_82_train_X.shape[0], -1), ho_original_82_train_y)\n",
        "print(\"Execution Time: %s seconds\" % (time.time() - start_time))\n",
        "ho_original_82_pred_y = default_tree_classifier.predict(ho_original_82_test_X.reshape(ho_original_82_test_X.shape[0], -1))\n",
        "matrix = metrics.confusion_matrix(ho_original_82_test_y, ho_original_82_pred_y)\n",
        "print('Acurácia:', np.trace(matrix) / len(ho_original_82_test_y) * 100, '%\\n')\n",
        "\n",
        "print('ccp_alpha: 0.0 | Original Data-set | 7/3 Holdout')\n",
        "start_time = time.time()\n",
        "default_tree_classifier.fit(ho_original_73_train_X.reshape(ho_original_73_train_X.shape[0], -1), ho_original_73_train_y)\n",
        "print(\"Execution Time: %s seconds\" % (time.time() - start_time))\n",
        "ho_original_73_pred_y = default_tree_classifier.predict(ho_original_73_test_X.reshape(ho_original_73_test_X.shape[0], -1))\n",
        "matrix = metrics.confusion_matrix(ho_original_73_test_y, ho_original_73_pred_y)\n",
        "print('Acurácia:', np.trace(matrix) / len(ho_original_73_test_y) * 100, '%\\n')"
      ],
      "execution_count": 14,
      "outputs": [
        {
          "output_type": "stream",
          "text": [
            "ccp_alpha: 0.0 | Original Data-set | 9/1 Holdout\n",
            "Execution Time: 18.095975160598755 seconds\n",
            "Acurácia: 86.71666666666667 %\n",
            "\n",
            "ccp_alpha: 0.0 | Original Data-set | 8/2 Holdout\n",
            "Execution Time: 15.514147520065308 seconds\n",
            "Acurácia: 86.41666666666666 %\n",
            "\n",
            "ccp_alpha: 0.0 | Original Data-set | 7/3 Holdout\n",
            "Execution Time: 12.879290103912354 seconds\n",
            "Acurácia: 86.36666666666667 %\n",
            "\n"
          ],
          "name": "stdout"
        }
      ]
    },
    {
      "cell_type": "code",
      "metadata": {
        "id": "dBjEE_1WfFZw",
        "outputId": "ff77e06e-7a87-4ac8-c2a1-94b40e021ed4",
        "colab": {
          "base_uri": "https://localhost:8080/"
        }
      },
      "source": [
        "'''\n",
        "Half Size Dataset and Holdout sets\n",
        "'''\n",
        "\n",
        "print('ccp_alpha: 0.0 | Half Data-set | 9/1 Holdout')\n",
        "start_time = time.time()\n",
        "default_tree_classifier.fit(ho_half_91_train_X.reshape(ho_half_91_train_X.shape[0], -1), ho_half_91_train_y)\n",
        "print(\"Execution Time: %s seconds\" % (time.time() - start_time))\n",
        "ho_half_91_pred_y = default_tree_classifier.predict(ho_half_91_test_X.reshape(ho_half_91_test_X.shape[0], -1))\n",
        "matrix = metrics.confusion_matrix(ho_half_91_test_y, ho_half_91_pred_y)\n",
        "print('Acurácia:', np.trace(matrix) / len(ho_half_91_test_y) * 100, '%\\n')\n",
        "\n",
        "print('ccp_alpha: 0.0 | Half Data-set | 8/2 Holdout')\n",
        "start_time = time.time()\n",
        "default_tree_classifier.fit(ho_half_82_train_X.reshape(ho_half_82_train_X.shape[0], -1), ho_half_82_train_y)\n",
        "print(\"Execution Time: %s seconds\" % (time.time() - start_time))\n",
        "ho_half_82_pred_y = default_tree_classifier.predict(ho_half_82_test_X.reshape(ho_half_82_test_X.shape[0], -1))\n",
        "matrix = metrics.confusion_matrix(ho_half_82_test_y, ho_half_82_pred_y)\n",
        "print('Acurácia:', np.trace(matrix) / len(ho_half_82_test_y) * 100, '%\\n')\n",
        "\n",
        "print('ccp_alpha: 0.0 | Half Data-set | 7/3 Holdout')\n",
        "start_time = time.time()\n",
        "default_tree_classifier.fit(ho_half_73_train_X.reshape(ho_half_73_train_X.shape[0], -1), ho_half_73_train_y)\n",
        "print(\"Execution Time: %s seconds\" % (time.time() - start_time))\n",
        "ho_half_73_pred_y = default_tree_classifier.predict(ho_half_73_test_X.reshape(ho_half_73_test_X.shape[0], -1))\n",
        "matrix = metrics.confusion_matrix(ho_half_73_test_y, ho_half_73_pred_y)\n",
        "print('Acurácia:', np.trace(matrix) / len(ho_half_73_test_y) * 100, '%\\n')"
      ],
      "execution_count": 15,
      "outputs": [
        {
          "output_type": "stream",
          "text": [
            "ccp_alpha: 0.0 | Half Data-set | 9/1 Holdout\n",
            "Execution Time: 7.562129735946655 seconds\n",
            "Acurácia: 84.56666666666666 %\n",
            "\n",
            "ccp_alpha: 0.0 | Half Data-set | 8/2 Holdout\n",
            "Execution Time: 6.782222032546997 seconds\n",
            "Acurácia: 84.55 %\n",
            "\n",
            "ccp_alpha: 0.0 | Half Data-set | 7/3 Holdout\n",
            "Execution Time: 5.525819540023804 seconds\n",
            "Acurácia: 83.4888888888889 %\n",
            "\n"
          ],
          "name": "stdout"
        }
      ]
    },
    {
      "cell_type": "code",
      "metadata": {
        "id": "mjee83TvfYbV",
        "outputId": "0840812f-78af-4535-df38-b9ae9bda77b7",
        "colab": {
          "base_uri": "https://localhost:8080/"
        }
      },
      "source": [
        "'''\n",
        "Smaller Dataset and Holdout sets\n",
        "'''\n",
        "\n",
        "print('ccp_alpha: 0.0 | Smaller Data-set | 9/1 Holdout')\n",
        "start_time = time.time()\n",
        "default_tree_classifier.fit(ho_smaller_91_train_X.reshape(ho_smaller_91_train_X.shape[0], -1), ho_smaller_91_train_y)\n",
        "print(\"Execution Time: %s seconds\" % (time.time() - start_time))\n",
        "ho_smaller_91_pred_y = default_tree_classifier.predict(ho_smaller_91_test_X.reshape(ho_smaller_91_test_X.shape[0], -1))\n",
        "matrix = metrics.confusion_matrix(ho_smaller_91_test_y, ho_smaller_91_pred_y)\n",
        "print('Acurácia:', np.trace(matrix) / len(ho_smaller_91_test_y) * 100, '%\\n')\n",
        "\n",
        "print('ccp_alpha: 0.0 | Smaller Data-set | 8/2 Holdout')\n",
        "start_time = time.time()\n",
        "default_tree_classifier.fit(ho_smaller_82_train_X.reshape(ho_smaller_82_train_X.shape[0], -1), ho_smaller_82_train_y)\n",
        "print(\"Execution Time: %s seconds\" % (time.time() - start_time))\n",
        "ho_smaller_82_pred_y = default_tree_classifier.predict(ho_smaller_82_test_X.reshape(ho_smaller_82_test_X.shape[0], -1))\n",
        "matrix = metrics.confusion_matrix(ho_smaller_82_test_y, ho_smaller_82_pred_y)\n",
        "print('Acurácia:', np.trace(matrix) / len(ho_smaller_82_test_y) * 100, '%\\n')\n",
        "\n",
        "print('ccp_alpha: 0.0 | Smaller Data-set | 7/3 Holdout')\n",
        "start_time = time.time()\n",
        "default_tree_classifier.fit(ho_smaller_73_train_X.reshape(ho_smaller_73_train_X.shape[0], -1), ho_smaller_73_train_y)\n",
        "print(\"Execution Time: %s seconds\" % (time.time() - start_time))\n",
        "ho_smaller_73_pred_y = default_tree_classifier.predict(ho_smaller_73_test_X.reshape(ho_smaller_73_test_X.shape[0], -1))\n",
        "matrix = metrics.confusion_matrix(ho_smaller_73_test_y, ho_smaller_73_pred_y)\n",
        "print('Acurácia:', np.trace(matrix) / len(ho_smaller_73_test_y) * 100, '%\\n')"
      ],
      "execution_count": 16,
      "outputs": [
        {
          "output_type": "stream",
          "text": [
            "ccp_alpha: 0.0 | Smaller Data-set | 9/1 Holdout\n",
            "Execution Time: 2.267777919769287 seconds\n",
            "Acurácia: 83.66666666666667 %\n",
            "\n",
            "ccp_alpha: 0.0 | Smaller Data-set | 8/2 Holdout\n",
            "Execution Time: 1.9750959873199463 seconds\n",
            "Acurácia: 83.875 %\n",
            "\n",
            "ccp_alpha: 0.0 | Smaller Data-set | 7/3 Holdout\n",
            "Execution Time: 1.657407522201538 seconds\n",
            "Acurácia: 81.33333333333333 %\n",
            "\n"
          ],
          "name": "stdout"
        }
      ]
    },
    {
      "cell_type": "code",
      "metadata": {
        "id": "Anpq3fFfgl0K"
      },
      "source": [
        "'''\n",
        "0.1 cpp_alpha\n",
        "'''\n",
        "\n",
        "zero_one_tree_classifier = tree.DecisionTreeClassifier(ccp_alpha=0.1)"
      ],
      "execution_count": 17,
      "outputs": []
    },
    {
      "cell_type": "code",
      "metadata": {
        "id": "dQaRorkymI4C",
        "outputId": "7cf0a3ef-12ac-451c-f0ab-917316184039",
        "colab": {
          "base_uri": "https://localhost:8080/"
        }
      },
      "source": [
        "'''\n",
        "Two Classes Data-set\n",
        "'''\n",
        "\n",
        "print('ccp_alpha: 0.1 | Two Class Data-set | 9/1 Holdout')\n",
        "start_time = time.time()\n",
        "zero_one_tree_classifier.fit(ho_two_class_91_train_X.reshape(ho_two_class_91_train_X.shape[0], -1), ho_two_class_91_train_y)\n",
        "print(\"Execution Time: %s seconds\" % (time.time() - start_time))\n",
        "ho_two_class_91_pred_y = zero_one_tree_classifier.predict(ho_two_class_91_test_X.reshape(ho_two_class_91_test_X.shape[0], -1))\n",
        "matrix = metrics.confusion_matrix(ho_two_class_91_test_y, ho_two_class_91_pred_y)\n",
        "print('Acurácia:', np.trace(matrix) / len(ho_two_class_91_test_y) * 100, '%\\n')\n",
        "\n",
        "print('ccp_alpha: 0.1 | Two Class Data-set | 8/2 Holdout')\n",
        "start_time = time.time()\n",
        "zero_one_tree_classifier.fit(ho_two_class_82_train_X.reshape(ho_two_class_82_train_X.shape[0], -1), ho_two_class_82_train_y)\n",
        "print(\"Execution Time: %s seconds\" % (time.time() - start_time))\n",
        "ho_two_class_82_pred_y = zero_one_tree_classifier.predict(ho_two_class_82_test_X.reshape(ho_two_class_82_test_X.shape[0], -1))\n",
        "matrix = metrics.confusion_matrix(ho_two_class_82_test_y, ho_two_class_82_pred_y)\n",
        "print('Acurácia:', np.trace(matrix) / len(ho_two_class_82_test_y) * 100, '%\\n')\n",
        "\n",
        "print('ccp_alpha: 0.1 | Two Class Data-set | 7/3 Holdout')\n",
        "start_time = time.time()\n",
        "zero_one_tree_classifier.fit(ho_two_class_73_train_X.reshape(ho_two_class_73_train_X.shape[0], -1), ho_two_class_73_train_y)\n",
        "print(\"Execution Time: %s seconds\" % (time.time() - start_time))\n",
        "ho_two_class_73_pred_y = zero_one_tree_classifier.predict(ho_two_class_73_test_X.reshape(ho_two_class_73_test_X.shape[0], -1))\n",
        "matrix = metrics.confusion_matrix(ho_two_class_73_test_y, ho_two_class_73_pred_y)\n",
        "print('Acurácia:', np.trace(matrix) / len(ho_two_class_73_test_y) * 100, '%\\n')"
      ],
      "execution_count": 18,
      "outputs": [
        {
          "output_type": "stream",
          "text": [
            "ccp_alpha: 0.1 | Two Class Data-set | 9/1 Holdout\n",
            "Execution Time: 1.6747665405273438 seconds\n",
            "Acurácia: 98.73717442778216 %\n",
            "\n",
            "ccp_alpha: 0.1 | Two Class Data-set | 8/2 Holdout\n",
            "Execution Time: 1.3511462211608887 seconds\n",
            "Acurácia: 98.499802605606 %\n",
            "\n",
            "ccp_alpha: 0.1 | Two Class Data-set | 7/3 Holdout\n",
            "Execution Time: 1.0621216297149658 seconds\n",
            "Acurácia: 98.47368421052632 %\n",
            "\n"
          ],
          "name": "stdout"
        }
      ]
    },
    {
      "cell_type": "code",
      "metadata": {
        "id": "zLt5c-b0g5P1",
        "outputId": "65898d92-0412-4280-c86a-b806aa1f48e2",
        "colab": {
          "base_uri": "https://localhost:8080/"
        }
      },
      "source": [
        "'''\n",
        "Original Size and Holdout sets\n",
        "'''\n",
        "\n",
        "print('ccp_alpha: 0.1 | Original Data-set | 9/1 Holdout')\n",
        "start_time = time.time()\n",
        "zero_one_tree_classifier.fit(ho_original_91_train_X.reshape(ho_original_91_train_X.shape[0], -1), ho_original_91_train_y)\n",
        "print(\"Execution Time: %s seconds\" % (time.time() - start_time))\n",
        "ho_original_91_pred_y = zero_one_tree_classifier.predict(ho_original_91_test_X.reshape(ho_original_91_test_X.shape[0], -1))\n",
        "matrix = metrics.confusion_matrix(ho_original_91_test_y, ho_original_91_pred_y)\n",
        "print('Acurácia:', np.trace(matrix) / len(ho_original_91_test_y) * 100, '%\\n')\n",
        "\n",
        "print('ccp_alpha: 0.1 | Original Data-set | 8/2 Holdout')\n",
        "start_time = time.time()\n",
        "zero_one_tree_classifier.fit(ho_original_82_train_X.reshape(ho_original_82_train_X.shape[0], -1), ho_original_82_train_y)\n",
        "print(\"Execution Time: %s seconds\" % (time.time() - start_time))\n",
        "ho_original_82_pred_y = zero_one_tree_classifier.predict(ho_original_82_test_X.reshape(ho_original_82_test_X.shape[0], -1))\n",
        "matrix = metrics.confusion_matrix(ho_original_82_test_y, ho_original_82_pred_y)\n",
        "print('Acurácia:', np.trace(matrix) / len(ho_original_82_test_y) * 100, '%\\n')\n",
        "\n",
        "print('ccp_alpha: 0.1 | Original Data-set | 7/3 Holdout')\n",
        "start_time = time.time()\n",
        "zero_one_tree_classifier.fit(ho_original_73_train_X.reshape(ho_original_73_train_X.shape[0], -1), ho_original_73_train_y)\n",
        "print(\"Execution Time: %s seconds\" % (time.time() - start_time))\n",
        "ho_original_73_pred_y = zero_one_tree_classifier.predict(ho_original_73_test_X.reshape(ho_original_73_test_X.shape[0], -1))\n",
        "matrix = metrics.confusion_matrix(ho_original_73_test_y, ho_original_73_pred_y)\n",
        "print('Acurácia:', np.trace(matrix) / len(ho_original_73_test_y) * 100, '%\\n')"
      ],
      "execution_count": 19,
      "outputs": [
        {
          "output_type": "stream",
          "text": [
            "ccp_alpha: 0.1 | Original Data-set | 9/1 Holdout\n",
            "Execution Time: 18.347595691680908 seconds\n",
            "Acurácia: 11.166666666666666 %\n",
            "\n",
            "ccp_alpha: 0.1 | Original Data-set | 8/2 Holdout\n",
            "Execution Time: 15.511704206466675 seconds\n",
            "Acurácia: 11.025 %\n",
            "\n",
            "ccp_alpha: 0.1 | Original Data-set | 7/3 Holdout\n",
            "Execution Time: 12.899020433425903 seconds\n",
            "Acurácia: 11.21111111111111 %\n",
            "\n"
          ],
          "name": "stdout"
        }
      ]
    },
    {
      "cell_type": "code",
      "metadata": {
        "id": "L_nIgybkiP9l",
        "outputId": "1daf348b-750e-4d8e-80b8-e667c10ee30f",
        "colab": {
          "base_uri": "https://localhost:8080/"
        }
      },
      "source": [
        "'''\n",
        "Half Size Dataset and Holdout sets\n",
        "'''\n",
        "\n",
        "print('ccp_alpha: 0.1 | Half Data-set | 9/1 Holdout')\n",
        "start_time = time.time()\n",
        "zero_one_tree_classifier.fit(ho_half_91_train_X.reshape(ho_half_91_train_X.shape[0], -1), ho_half_91_train_y)\n",
        "print(\"Execution Time: %s seconds\" % (time.time() - start_time))\n",
        "ho_half_91_pred_y = zero_one_tree_classifier.predict(ho_half_91_test_X.reshape(ho_half_91_test_X.shape[0], -1))\n",
        "matrix = metrics.confusion_matrix(ho_half_91_test_y, ho_half_91_pred_y)\n",
        "print('Acurácia:', np.trace(matrix) / len(ho_half_91_test_y) * 100, '%\\n')\n",
        "\n",
        "print('ccp_alpha: 0.1 | Half Data-set | 8/2 Holdout')\n",
        "start_time = time.time()\n",
        "zero_one_tree_classifier.fit(ho_half_82_train_X.reshape(ho_half_82_train_X.shape[0], -1), ho_half_82_train_y)\n",
        "print(\"Execution Time: %s seconds\" % (time.time() - start_time))\n",
        "ho_half_82_pred_y = zero_one_tree_classifier.predict(ho_half_82_test_X.reshape(ho_half_82_test_X.shape[0], -1))\n",
        "matrix = metrics.confusion_matrix(ho_half_82_test_y, ho_half_82_pred_y)\n",
        "print('Acurácia:', np.trace(matrix) / len(ho_half_82_test_y) * 100, '%\\n')\n",
        "\n",
        "print('ccp_alpha: 0.1 | Half Data-set | 7/3 Holdout')\n",
        "start_time = time.time()\n",
        "zero_one_tree_classifier.fit(ho_half_73_train_X.reshape(ho_half_73_train_X.shape[0], -1), ho_half_73_train_y)\n",
        "print(\"Execution Time: %s seconds\" % (time.time() - start_time))\n",
        "ho_half_73_pred_y = zero_one_tree_classifier.predict(ho_half_73_test_X.reshape(ho_half_73_test_X.shape[0], -1))\n",
        "matrix = metrics.confusion_matrix(ho_half_73_test_y, ho_half_73_pred_y)\n",
        "print('Acurácia:', np.trace(matrix) / len(ho_half_73_test_y) * 100, '%\\n')"
      ],
      "execution_count": 20,
      "outputs": [
        {
          "output_type": "stream",
          "text": [
            "ccp_alpha: 0.1 | Half Data-set | 9/1 Holdout\n",
            "Execution Time: 7.407126188278198 seconds\n",
            "Acurácia: 10.733333333333334 %\n",
            "\n",
            "ccp_alpha: 0.1 | Half Data-set | 8/2 Holdout\n",
            "Execution Time: 6.734182596206665 seconds\n",
            "Acurácia: 11.366666666666667 %\n",
            "\n",
            "ccp_alpha: 0.1 | Half Data-set | 7/3 Holdout\n",
            "Execution Time: 5.5783867835998535 seconds\n",
            "Acurácia: 11.4 %\n",
            "\n"
          ],
          "name": "stdout"
        }
      ]
    },
    {
      "cell_type": "code",
      "metadata": {
        "id": "-xk4lI20ibF1",
        "outputId": "2aa13d87-eca7-421e-8a51-a0c55432296d",
        "colab": {
          "base_uri": "https://localhost:8080/"
        }
      },
      "source": [
        "'''\n",
        "Smaller Dataset and Holdout sets\n",
        "'''\n",
        "\n",
        "print('ccp_alpha: 0.1 | Smaller Data-set | 9/1 Holdout')\n",
        "start_time = time.time()\n",
        "zero_one_tree_classifier.fit(ho_smaller_91_train_X.reshape(ho_smaller_91_train_X.shape[0], -1), ho_smaller_91_train_y)\n",
        "print(\"Execution Time: %s seconds\" % (time.time() - start_time))\n",
        "ho_smaller_91_pred_y = zero_one_tree_classifier.predict(ho_smaller_91_test_X.reshape(ho_smaller_91_test_X.shape[0], -1))\n",
        "matrix = metrics.confusion_matrix(ho_smaller_91_test_y, ho_smaller_91_pred_y)\n",
        "print('Acurácia:', np.trace(matrix) / len(ho_smaller_91_test_y) * 100, '%\\n')\n",
        "\n",
        "print('ccp_alpha: 0.1 | Smaller Data-set | 8/2 Holdout')\n",
        "start_time = time.time()\n",
        "zero_one_tree_classifier.fit(ho_smaller_82_train_X.reshape(ho_smaller_82_train_X.shape[0], -1), ho_smaller_82_train_y)\n",
        "print(\"Execution Time: %s seconds\" % (time.time() - start_time))\n",
        "ho_smaller_82_pred_y = zero_one_tree_classifier.predict(ho_smaller_82_test_X.reshape(ho_smaller_82_test_X.shape[0], -1))\n",
        "matrix = metrics.confusion_matrix(ho_smaller_82_test_y, ho_smaller_82_pred_y)\n",
        "print('Acurácia:', np.trace(matrix) / len(ho_smaller_82_test_y) * 100, '%\\n')\n",
        "\n",
        "print('ccp_alpha: 0.1 | Smaller Data-set | 7/3 Holdout')\n",
        "start_time = time.time()\n",
        "zero_one_tree_classifier.fit(ho_smaller_73_train_X.reshape(ho_smaller_73_train_X.shape[0], -1), ho_smaller_73_train_y)\n",
        "print(\"Execution Time: %s seconds\" % (time.time() - start_time))\n",
        "ho_smaller_73_pred_y = zero_one_tree_classifier.predict(ho_smaller_73_test_X.reshape(ho_smaller_73_test_X.shape[0], -1))\n",
        "matrix = metrics.confusion_matrix(ho_smaller_73_test_y, ho_smaller_73_pred_y)\n",
        "print('Acurácia:', np.trace(matrix) / len(ho_smaller_73_test_y) * 100, '%\\n')"
      ],
      "execution_count": 21,
      "outputs": [
        {
          "output_type": "stream",
          "text": [
            "ccp_alpha: 0.1 | Smaller Data-set | 9/1 Holdout\n",
            "Execution Time: 2.2886922359466553 seconds\n",
            "Acurácia: 11.5 %\n",
            "\n",
            "ccp_alpha: 0.1 | Smaller Data-set | 8/2 Holdout\n",
            "Execution Time: 1.9657599925994873 seconds\n",
            "Acurácia: 11.458333333333332 %\n",
            "\n",
            "ccp_alpha: 0.1 | Smaller Data-set | 7/3 Holdout\n",
            "Execution Time: 1.6665806770324707 seconds\n",
            "Acurácia: 10.888888888888888 %\n",
            "\n"
          ],
          "name": "stdout"
        }
      ]
    },
    {
      "cell_type": "code",
      "metadata": {
        "id": "kpV92w8GipQ2"
      },
      "source": [
        "'''\n",
        "0.5 cpp_alpha\n",
        "'''\n",
        "\n",
        "zero_five_tree_classifier = tree.DecisionTreeClassifier(ccp_alpha=0.5)"
      ],
      "execution_count": 22,
      "outputs": []
    },
    {
      "cell_type": "code",
      "metadata": {
        "id": "cyspGqJnmRGf",
        "outputId": "7016fedb-d460-43ab-c9fa-5e85130d5004",
        "colab": {
          "base_uri": "https://localhost:8080/"
        }
      },
      "source": [
        "'''\n",
        "Two Classes Data-set\n",
        "'''\n",
        "\n",
        "print('ccp_alpha: 0.5 | Two Class Data-set | 9/1 Holdout')\n",
        "start_time = time.time()\n",
        "zero_five_tree_classifier.fit(ho_two_class_91_train_X.reshape(ho_two_class_91_train_X.shape[0], -1), ho_two_class_91_train_y)\n",
        "print(\"Execution Time: %s seconds\" % (time.time() - start_time))\n",
        "ho_two_class_91_pred_y = zero_five_tree_classifier.predict(ho_two_class_91_test_X.reshape(ho_two_class_91_test_X.shape[0], -1))\n",
        "matrix = metrics.confusion_matrix(ho_two_class_91_test_y, ho_two_class_91_pred_y)\n",
        "print('Acurácia:', np.trace(matrix) / len(ho_two_class_91_test_y) * 100, '%\\n')\n",
        "\n",
        "print('ccp_alpha: 0.5 | Two Class Data-set | 8/2 Holdout')\n",
        "start_time = time.time()\n",
        "zero_five_tree_classifier.fit(ho_two_class_82_train_X.reshape(ho_two_class_82_train_X.shape[0], -1), ho_two_class_82_train_y)\n",
        "print(\"Execution Time: %s seconds\" % (time.time() - start_time))\n",
        "ho_two_class_82_pred_y = zero_five_tree_classifier.predict(ho_two_class_82_test_X.reshape(ho_two_class_82_test_X.shape[0], -1))\n",
        "matrix = metrics.confusion_matrix(ho_two_class_82_test_y, ho_two_class_82_pred_y)\n",
        "print('Acurácia:', np.trace(matrix) / len(ho_two_class_82_test_y) * 100, '%\\n')\n",
        "\n",
        "print('ccp_alpha: 0.5 | Two Class Data-set | 7/3 Holdout')\n",
        "start_time = time.time()\n",
        "zero_five_tree_classifier.fit(ho_two_class_73_train_X.reshape(ho_two_class_73_train_X.shape[0], -1), ho_two_class_73_train_y)\n",
        "print(\"Execution Time: %s seconds\" % (time.time() - start_time))\n",
        "ho_two_class_73_pred_y = zero_five_tree_classifier.predict(ho_two_class_73_test_X.reshape(ho_two_class_73_test_X.shape[0], -1))\n",
        "matrix = metrics.confusion_matrix(ho_two_class_73_test_y, ho_two_class_73_pred_y)\n",
        "print('Acurácia:', np.trace(matrix) / len(ho_two_class_73_test_y) * 100, '%\\n')"
      ],
      "execution_count": 23,
      "outputs": [
        {
          "output_type": "stream",
          "text": [
            "ccp_alpha: 0.5 | Two Class Data-set | 9/1 Holdout\n",
            "Execution Time: 1.6508002281188965 seconds\n",
            "Acurácia: 52.80189423835833 %\n",
            "\n",
            "ccp_alpha: 0.5 | Two Class Data-set | 8/2 Holdout\n",
            "Execution Time: 1.3097894191741943 seconds\n",
            "Acurácia: 53.375444137386495 %\n",
            "\n",
            "ccp_alpha: 0.5 | Two Class Data-set | 7/3 Holdout\n",
            "Execution Time: 1.0459344387054443 seconds\n",
            "Acurácia: 53.60526315789473 %\n",
            "\n"
          ],
          "name": "stdout"
        }
      ]
    },
    {
      "cell_type": "code",
      "metadata": {
        "id": "BB4J8nzhiv0K",
        "outputId": "d63072e8-60e1-49cd-d812-3966375f747a",
        "colab": {
          "base_uri": "https://localhost:8080/"
        }
      },
      "source": [
        "'''\n",
        "Original Size and Holdout sets\n",
        "'''\n",
        "\n",
        "print('ccp_alpha: 0.5 | Original Data-set | 9/1 Holdout')\n",
        "start_time = time.time()\n",
        "zero_five_tree_classifier.fit(ho_original_91_train_X.reshape(ho_original_91_train_X.shape[0], -1), ho_original_91_train_y)\n",
        "print(\"Execution Time: %s seconds\" % (time.time() - start_time))\n",
        "ho_original_91_pred_y = zero_five_tree_classifier.predict(ho_original_91_test_X.reshape(ho_original_91_test_X.shape[0], -1))\n",
        "matrix = metrics.confusion_matrix(ho_original_91_test_y, ho_original_91_pred_y)\n",
        "print('Acurácia:', np.trace(matrix) / len(ho_original_91_test_y) * 100, '%\\n')\n",
        "\n",
        "print('ccp_alpha: 0.5 | Original Data-set | 8/2 Holdout')\n",
        "start_time = time.time()\n",
        "zero_five_tree_classifier.fit(ho_original_82_train_X.reshape(ho_original_82_train_X.shape[0], -1), ho_original_82_train_y)\n",
        "print(\"Execution Time: %s seconds\" % (time.time() - start_time))\n",
        "ho_original_82_pred_y = zero_five_tree_classifier.predict(ho_original_82_test_X.reshape(ho_original_82_test_X.shape[0], -1))\n",
        "matrix = metrics.confusion_matrix(ho_original_82_test_y, ho_original_82_pred_y)\n",
        "print('Acurácia:', np.trace(matrix) / len(ho_original_82_test_y) * 100, '%\\n')\n",
        "\n",
        "print('ccp_alpha: 0.5 | Original Data-set | 7/3 Holdout')\n",
        "start_time = time.time()\n",
        "zero_five_tree_classifier.fit(ho_original_73_train_X.reshape(ho_original_73_train_X.shape[0], -1), ho_original_73_train_y)\n",
        "print(\"Execution Time: %s seconds\" % (time.time() - start_time))\n",
        "ho_original_73_pred_y = zero_five_tree_classifier.predict(ho_original_73_test_X.reshape(ho_original_73_test_X.shape[0], -1))\n",
        "matrix = metrics.confusion_matrix(ho_original_73_test_y, ho_original_73_pred_y)\n",
        "print('Acurácia:', np.trace(matrix) / len(ho_original_73_test_y) * 100, '%\\n')"
      ],
      "execution_count": 24,
      "outputs": [
        {
          "output_type": "stream",
          "text": [
            "ccp_alpha: 0.5 | Original Data-set | 9/1 Holdout\n",
            "Execution Time: 18.206242084503174 seconds\n",
            "Acurácia: 11.166666666666666 %\n",
            "\n",
            "ccp_alpha: 0.5 | Original Data-set | 8/2 Holdout\n",
            "Execution Time: 15.734890699386597 seconds\n",
            "Acurácia: 11.025 %\n",
            "\n",
            "ccp_alpha: 0.5 | Original Data-set | 7/3 Holdout\n",
            "Execution Time: 13.328413963317871 seconds\n",
            "Acurácia: 11.21111111111111 %\n",
            "\n"
          ],
          "name": "stdout"
        }
      ]
    },
    {
      "cell_type": "code",
      "metadata": {
        "id": "kXcfYwaJi4Hy",
        "outputId": "dd615afc-e7f1-4931-b23d-15b3efe8255c",
        "colab": {
          "base_uri": "https://localhost:8080/"
        }
      },
      "source": [
        "'''\n",
        "Half Size Dataset and Holdout sets\n",
        "'''\n",
        "\n",
        "print('ccp_alpha: 0.5 | Half Data-set | 9/1 Holdout')\n",
        "start_time = time.time()\n",
        "zero_five_tree_classifier.fit(ho_half_91_train_X.reshape(ho_half_91_train_X.shape[0], -1), ho_half_91_train_y)\n",
        "print(\"Execution Time: %s seconds\" % (time.time() - start_time))\n",
        "ho_half_91_pred_y = zero_five_tree_classifier.predict(ho_half_91_test_X.reshape(ho_half_91_test_X.shape[0], -1))\n",
        "matrix = metrics.confusion_matrix(ho_half_91_test_y, ho_half_91_pred_y)\n",
        "print('Acurácia:', np.trace(matrix) / len(ho_half_91_test_y) * 100, '%\\n')\n",
        "\n",
        "print('ccp_alpha: 0.5 | Half Data-set | 8/2 Holdout')\n",
        "start_time = time.time()\n",
        "zero_five_tree_classifier.fit(ho_half_82_train_X.reshape(ho_half_82_train_X.shape[0], -1), ho_half_82_train_y)\n",
        "print(\"Execution Time: %s seconds\" % (time.time() - start_time))\n",
        "ho_half_82_pred_y = zero_five_tree_classifier.predict(ho_half_82_test_X.reshape(ho_half_82_test_X.shape[0], -1))\n",
        "matrix = metrics.confusion_matrix(ho_half_82_test_y, ho_half_82_pred_y)\n",
        "print('Acurácia:', np.trace(matrix) / len(ho_half_82_test_y) * 100, '%\\n')\n",
        "\n",
        "print('ccp_alpha: 0.5 | Half Data-set | 7/3 Holdout')\n",
        "start_time = time.time()\n",
        "zero_five_tree_classifier.fit(ho_half_73_train_X.reshape(ho_half_73_train_X.shape[0], -1), ho_half_73_train_y)\n",
        "print(\"Execution Time: %s seconds\" % (time.time() - start_time))\n",
        "ho_half_73_pred_y = zero_five_tree_classifier.predict(ho_half_73_test_X.reshape(ho_half_73_test_X.shape[0], -1))\n",
        "matrix = metrics.confusion_matrix(ho_half_73_test_y, ho_half_73_pred_y)\n",
        "print('Acurácia:', np.trace(matrix) / len(ho_half_73_test_y) * 100, '%\\n')"
      ],
      "execution_count": 25,
      "outputs": [
        {
          "output_type": "stream",
          "text": [
            "ccp_alpha: 0.5 | Half Data-set | 9/1 Holdout\n",
            "Execution Time: 7.629753351211548 seconds\n",
            "Acurácia: 10.733333333333334 %\n",
            "\n",
            "ccp_alpha: 0.5 | Half Data-set | 8/2 Holdout\n",
            "Execution Time: 6.935572862625122 seconds\n",
            "Acurácia: 11.366666666666667 %\n",
            "\n",
            "ccp_alpha: 0.5 | Half Data-set | 7/3 Holdout\n",
            "Execution Time: 5.752002477645874 seconds\n",
            "Acurácia: 11.4 %\n",
            "\n"
          ],
          "name": "stdout"
        }
      ]
    },
    {
      "cell_type": "code",
      "metadata": {
        "id": "Yzo4nKjGjBbZ",
        "outputId": "996fb498-d835-40f2-91aa-02b2e5b1c5c4",
        "colab": {
          "base_uri": "https://localhost:8080/"
        }
      },
      "source": [
        "'''\n",
        "Smaller Dataset and Holdout sets\n",
        "'''\n",
        "\n",
        "print('ccp_alpha: 0.5 | Smaller Data-set | 9/1 Holdout')\n",
        "start_time = time.time()\n",
        "zero_five_tree_classifier.fit(ho_smaller_91_train_X.reshape(ho_smaller_91_train_X.shape[0], -1), ho_smaller_91_train_y)\n",
        "print(\"Execution Time: %s seconds\" % (time.time() - start_time))\n",
        "ho_smaller_91_pred_y = zero_five_tree_classifier.predict(ho_smaller_91_test_X.reshape(ho_smaller_91_test_X.shape[0], -1))\n",
        "matrix = metrics.confusion_matrix(ho_smaller_91_test_y, ho_smaller_91_pred_y)\n",
        "print('Acurácia:', np.trace(matrix) / len(ho_smaller_91_test_y) * 100, '%\\n')\n",
        "\n",
        "print('ccp_alpha: 0.5 | Smaller Data-set | 8/2 Holdout')\n",
        "start_time = time.time()\n",
        "zero_five_tree_classifier.fit(ho_smaller_82_train_X.reshape(ho_smaller_82_train_X.shape[0], -1), ho_smaller_82_train_y)\n",
        "print(\"Execution Time: %s seconds\" % (time.time() - start_time))\n",
        "ho_smaller_82_pred_y = zero_five_tree_classifier.predict(ho_smaller_82_test_X.reshape(ho_smaller_82_test_X.shape[0], -1))\n",
        "matrix = metrics.confusion_matrix(ho_smaller_82_test_y, ho_smaller_82_pred_y)\n",
        "print('Acurácia:', np.trace(matrix) / len(ho_smaller_82_test_y) * 100, '%\\n')\n",
        "\n",
        "print('ccp_alpha: 0.5 | Smaller Data-set | 7/3 Holdout')\n",
        "start_time = time.time()\n",
        "zero_five_tree_classifier.fit(ho_smaller_73_train_X.reshape(ho_smaller_73_train_X.shape[0], -1), ho_smaller_73_train_y)\n",
        "print(\"Execution Time: %s seconds\" % (time.time() - start_time))\n",
        "ho_smaller_73_pred_y = zero_five_tree_classifier.predict(ho_smaller_73_test_X.reshape(ho_smaller_73_test_X.shape[0], -1))\n",
        "matrix = metrics.confusion_matrix(ho_smaller_73_test_y, ho_smaller_73_pred_y)\n",
        "print('Acurácia:', np.trace(matrix) / len(ho_smaller_73_test_y) * 100, '%\\n')"
      ],
      "execution_count": 26,
      "outputs": [
        {
          "output_type": "stream",
          "text": [
            "ccp_alpha: 0.5 | Smaller Data-set | 9/1 Holdout\n",
            "Execution Time: 2.3314576148986816 seconds\n",
            "Acurácia: 11.5 %\n",
            "\n",
            "ccp_alpha: 0.5 | Smaller Data-set | 8/2 Holdout\n",
            "Execution Time: 2.0257434844970703 seconds\n",
            "Acurácia: 11.458333333333332 %\n",
            "\n",
            "ccp_alpha: 0.5 | Smaller Data-set | 7/3 Holdout\n",
            "Execution Time: 1.6339294910430908 seconds\n",
            "Acurácia: 10.888888888888888 %\n",
            "\n"
          ],
          "name": "stdout"
        }
      ]
    }
  ]
}