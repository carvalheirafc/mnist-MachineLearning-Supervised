{
  "nbformat": 4,
  "nbformat_minor": 0,
  "metadata": {
    "colab": {
      "name": "mnist-decisionTree.ipynb",
      "provenance": [],
      "toc_visible": true,
      "mount_file_id": "1dsg-J9Cs9PLZnLpVPityodFQ0I52mwuN",
      "authorship_tag": "ABX9TyMQV0KQpZ+1EYuHdZ1Wdc42",
      "include_colab_link": true
    },
    "kernelspec": {
      "name": "python3",
      "display_name": "Python 3"
    }
  },
  "cells": [
    {
      "cell_type": "markdown",
      "metadata": {
        "id": "view-in-github",
        "colab_type": "text"
      },
      "source": [
        "<a href=\"https://colab.research.google.com/github/carvalheirafc/mnist-deeplearning/blob/main/mnist_decisionTree.ipynb\" target=\"_parent\"><img src=\"https://colab.research.google.com/assets/colab-badge.svg\" alt=\"Open In Colab\"/></a>"
      ]
    },
    {
      "cell_type": "code",
      "metadata": {
        "id": "1wE9WD1MARHU"
      },
      "source": [
        "import numpy as np\n",
        "from sklearn.model_selection import train_test_split\n",
        "from sklearn.model_selection import KFold"
      ],
      "execution_count": 3,
      "outputs": []
    },
    {
      "cell_type": "markdown",
      "metadata": {
        "id": "ab_eSEisNMkl"
      },
      "source": [
        "### Data Input and miscs\n"
      ]
    },
    {
      "cell_type": "code",
      "metadata": {
        "id": "giwtI9kQSDZM"
      },
      "source": [
        "data_X = np.load('./drive/My Drive/mnist_datasets/mnist_X.npy')\n",
        "data_y = np.load('./drive/My Drive/mnist_datasets/mnist_labels.npy')"
      ],
      "execution_count": 29,
      "outputs": []
    },
    {
      "cell_type": "code",
      "metadata": {
        "id": "dNx1VgivjGHU",
        "outputId": "fd518ac6-3006-4f76-ad29-45a6ecd3d0e4",
        "colab": {
          "base_uri": "https://localhost:8080/"
        }
      },
      "source": [
        "half_X = np.array(np.split(data_X, 2))\n",
        "half_y = np.array(np.split(data_y, 2))\n",
        "\n",
        "print('Mnist 50% Data: \\n')\n",
        "print('X: ', half_X[0].shape)\n",
        "print('y: ', half_y[0].shape)"
      ],
      "execution_count": 5,
      "outputs": [
        {
          "output_type": "stream",
          "text": [
            "Mnist 50% Data: \n",
            "\n",
            "X:  (30000, 1, 28, 28)\n",
            "y:  (30000, 1)\n"
          ],
          "name": "stdout"
        }
      ]
    },
    {
      "cell_type": "code",
      "metadata": {
        "id": "QJ103KW0nWWf",
        "outputId": "57a368fd-61b7-427d-8f46-d9d668bb3880",
        "colab": {
          "base_uri": "https://localhost:8080/"
        }
      },
      "source": [
        "smaller_X = np.array(np.split(data_X, 5))\n",
        "smaller_y = np.array(np.split(data_y, 5))\n",
        "\n",
        "print('Mnist 20% Data: \\n')\n",
        "print('X: ', smaller_X[0].shape)\n",
        "print('y: ', smaller_y[0].shape)"
      ],
      "execution_count": 6,
      "outputs": [
        {
          "output_type": "stream",
          "text": [
            "Mnist 20% Data: \n",
            "\n",
            "X:  (12000, 1, 28, 28)\n",
            "y:  (12000, 1)\n"
          ],
          "name": "stdout"
        }
      ]
    },
    {
      "cell_type": "code",
      "metadata": {
        "id": "wb13x1BRqUZI",
        "outputId": "be7a0e21-8287-4e88-96d6-cd57e054df60",
        "colab": {
          "base_uri": "https://localhost:8080/"
        }
      },
      "source": [
        "data_two_classes = np.load('./drive/My Drive/mnist_datasets/two_classes_data.npy', allow_pickle=True)\n",
        "two_classes_X = np.concatenate((data_two_classes[0][0], data_two_classes[1][0]), axis=0)\n",
        "two_classes_y = np.concatenate((data_two_classes[0][1], data_two_classes[1][1]), axis=0)\n",
        "print('Mnist Two Classes: \\n')\n",
        "print('Zeros: ', data_two_classes[0][0].shape)\n",
        "print('Ones:  ', data_two_classes[1][0].shape)\n",
        "print('X:     ', two_classes_X.shape)\n",
        "print('y:     ', two_classes_y.shape)\n"
      ],
      "execution_count": 7,
      "outputs": [
        {
          "output_type": "stream",
          "text": [
            "Mnist Two Classes: \n",
            "\n",
            "Zeros:  (5923, 28, 28)\n",
            "Ones:   (6742, 28, 28)\n",
            "X:      (12665, 28, 28)\n",
            "y:      (12665,)\n"
          ],
          "name": "stdout"
        }
      ]
    },
    {
      "cell_type": "markdown",
      "metadata": {
        "id": "nRo5bh_uDPmC"
      },
      "source": [
        "### Hold-Out Sets\n"
      ]
    },
    {
      "cell_type": "code",
      "metadata": {
        "id": "GgjdsiT-Edcx",
        "outputId": "8f66db7b-cfee-421d-b499-79ab48b76048",
        "colab": {
          "base_uri": "https://localhost:8080/"
        }
      },
      "source": [
        "ho_original_91_train_X, ho_original_91_test_X, ho_original_91_train_y, ho_original_91_test_y = train_test_split(data_X, data_y, train_size=0.9, random_state=555)\n",
        "ho_original_82_train_X, ho_original_82_test_X, ho_original_82_train_y, ho_original_82_test_y = train_test_split(data_X, data_y, train_size=0.8, random_state=555)\n",
        "ho_original_73_train_X, ho_original_73_test_X, ho_original_73_train_y, ho_original_73_test_y = train_test_split(data_X, data_y, train_size=0.7, random_state=555)\n",
        "\n",
        "print('Hold-Out Original Data Split\\n')\n",
        "print('9/1: ', ho_original_91_train_X.shape)\n",
        "print('8/2: ', ho_original_82_train_X.shape)\n",
        "print('7/3: ', ho_original_73_train_X.shape)"
      ],
      "execution_count": 8,
      "outputs": [
        {
          "output_type": "stream",
          "text": [
            "Hold-Out Original Data Split\n",
            "\n",
            "9/1:  (54000, 1, 28, 28)\n",
            "8/2:  (48000, 1, 28, 28)\n",
            "7/3:  (42000, 1, 28, 28)\n"
          ],
          "name": "stdout"
        }
      ]
    },
    {
      "cell_type": "code",
      "metadata": {
        "id": "H9vaxIsxrcUB",
        "outputId": "73db0b4d-a62e-473b-9771-e664fd196e78",
        "colab": {
          "base_uri": "https://localhost:8080/"
        }
      },
      "source": [
        "ho_half_91_train_X, ho_half_91_test_X, ho_half_91_train_y, ho_half_91_test_y = train_test_split(half_X[0], half_y[0], train_size=0.9, random_state=555)\n",
        "ho_half_82_train_X, ho_half_82_test_X, ho_half_82_train_y, ho_half_82_test_y = train_test_split(half_X[0], half_y[0], train_size=0.8, random_state=555)\n",
        "ho_half_73_train_X, ho_half_73_test_X, ho_half_73_train_y, ho_half_73_test_y = train_test_split(half_X[0], half_y[0], train_size=0.7, random_state=555)\n",
        "\n",
        "print('Hold-Out Half Data Split\\n')\n",
        "print('9/1: ', ho_half_91_train_X.shape)\n",
        "print('8/2: ', ho_half_82_train_X.shape)\n",
        "print('7/3: ', ho_half_73_train_X.shape)\n"
      ],
      "execution_count": 9,
      "outputs": [
        {
          "output_type": "stream",
          "text": [
            "Hold-Out Half Data Split\n",
            "\n",
            "9/1:  (27000, 1, 28, 28)\n",
            "8/2:  (24000, 1, 28, 28)\n",
            "7/3:  (21000, 1, 28, 28)\n"
          ],
          "name": "stdout"
        }
      ]
    },
    {
      "cell_type": "code",
      "metadata": {
        "id": "iVr9Hsm3tVy4",
        "outputId": "93d65395-d24a-480f-c73a-0a99cae6cc16",
        "colab": {
          "base_uri": "https://localhost:8080/"
        }
      },
      "source": [
        "ho_smaller_91_train_X, ho_smaller_91_test_X, ho_smaller_91_train_y, ho_smaller_91_test_y = train_test_split(smaller_X[0], smaller_y[0], train_size=0.9, random_state=555)\n",
        "ho_smaller_82_train_X, ho_smaller_82_test_X, ho_smaller_82_train_y, ho_smaller_82_test_y = train_test_split(smaller_X[0], smaller_y[0], train_size=0.8, random_state=555)\n",
        "ho_smaller_73_train_X, ho_smaller_73_test_X, ho_smaller_73_train_y, ho_smaller_73_test_y = train_test_split(smaller_X[0], smaller_y[0], train_size=0.7, random_state=555)\n",
        "\n",
        "print('Hold-Out Half Data Split\\n')\n",
        "print('9/1: ', ho_smaller_91_train_X.shape)\n",
        "print('8/2: ', ho_smaller_82_train_X.shape)\n",
        "print('7/3: ', ho_smaller_73_train_X.shape)"
      ],
      "execution_count": 10,
      "outputs": [
        {
          "output_type": "stream",
          "text": [
            "Hold-Out Half Data Split\n",
            "\n",
            "9/1:  (10800, 1, 28, 28)\n",
            "8/2:  (9600, 1, 28, 28)\n",
            "7/3:  (8400, 1, 28, 28)\n"
          ],
          "name": "stdout"
        }
      ]
    },
    {
      "cell_type": "code",
      "metadata": {
        "id": "lVDL-wyNwsnq",
        "outputId": "0c584856-dd4b-4d15-8dfb-7d1e11934517",
        "colab": {
          "base_uri": "https://localhost:8080/"
        }
      },
      "source": [
        "ho_two_class_91_train_X, ho_two_class_91_test_X, ho_two_class_91_train_y, ho_two_class_91_test_y = train_test_split(two_classes_X, two_classes_y, train_size=0.9, random_state=555)\n",
        "ho_two_class_82_train_X, ho_two_class_82_test_X, ho_two_class_82_train_y, ho_two_class_82_test_y = train_test_split(two_classes_X, two_classes_y, train_size=0.8, random_state=555)\n",
        "ho_two_class_73_train_X, ho_two_class_73_test_X, ho_two_class_73_train_y, ho_two_class_73_test_y = train_test_split(two_classes_X, two_classes_y, train_size=0.7, random_state=555)\n",
        "\n",
        "print('Hold-Out Mnist Two Classes[0, 1] Split\\n')\n",
        "print('9/1: ', ho_two_class_91_train_X.shape)\n",
        "print('8/2: ', ho_two_class_82_train_X.shape)\n",
        "print('7/3: ', ho_two_class_73_train_X.shape)"
      ],
      "execution_count": 11,
      "outputs": [
        {
          "output_type": "stream",
          "text": [
            "Hold-Out Mnist Two Classes[0, 1] Split\n",
            "\n",
            "9/1:  (11398, 28, 28)\n",
            "8/2:  (10132, 28, 28)\n",
            "7/3:  (8865, 28, 28)\n"
          ],
          "name": "stdout"
        }
      ]
    },
    {
      "cell_type": "markdown",
      "metadata": {
        "id": "ugG3QxR4DUZq"
      },
      "source": [
        "### K-Fold sets\n"
      ]
    },
    {
      "cell_type": "code",
      "metadata": {
        "id": "-850QJlVDTXQ",
        "outputId": "f551a240-bdf0-45bd-a2d3-9d11df21fe43",
        "colab": {
          "base_uri": "https://localhost:8080/"
        }
      },
      "source": [
        "kf = KFold(n_splits=10)\n",
        "kf.split(two_classes_X, two_classes_y)"
      ],
      "execution_count": 12,
      "outputs": [
        {
          "output_type": "execute_result",
          "data": {
            "text/plain": [
              "<generator object _BaseKFold.split at 0x7f51d23219e8>"
            ]
          },
          "metadata": {
            "tags": []
          },
          "execution_count": 12
        }
      ]
    },
    {
      "cell_type": "markdown",
      "metadata": {
        "id": "CeSCO1LlOCoL"
      },
      "source": [
        "## Decision Tree\n"
      ]
    },
    {
      "cell_type": "code",
      "metadata": {
        "id": "5tJFwV4POWMD"
      },
      "source": [
        "from sklearn import tree\n",
        "from sklearn import metrics\n",
        "import time"
      ],
      "execution_count": 13,
      "outputs": []
    },
    {
      "cell_type": "code",
      "metadata": {
        "id": "-3hgz899OHJX"
      },
      "source": [
        "'''\n",
        "Default ccp_alfa(Fator de confiança)\n",
        "'''\n",
        "\n",
        "default_tree_classifier = tree.DecisionTreeClassifier(ccp_alpha=0.0)"
      ],
      "execution_count": 14,
      "outputs": []
    },
    {
      "cell_type": "code",
      "metadata": {
        "id": "sNztLjfwkVTs",
        "outputId": "c501392c-4b23-4530-e139-22413488be80",
        "colab": {
          "base_uri": "https://localhost:8080/"
        }
      },
      "source": [
        "'''\n",
        "Two Classes Data-set\n",
        "'''\n",
        "\n",
        "print('ccp_alpha: 0.0 | Two Class Data-set | 9/1 Holdout')\n",
        "start_time = time.time()\n",
        "default_tree_classifier.fit(ho_two_class_91_train_X.reshape(ho_two_class_91_train_X.shape[0], -1), ho_two_class_91_train_y)\n",
        "print(\"Execution Time: %s seconds\" % (time.time() - start_time))\n",
        "ho_two_class_91_pred_y = default_tree_classifier.predict(ho_two_class_91_test_X.reshape(ho_two_class_91_test_X.shape[0], -1))\n",
        "matrix = metrics.confusion_matrix(ho_two_class_91_test_y, ho_two_class_91_pred_y)\n",
        "print('Acurácia:', np.trace(matrix) / len(ho_two_class_91_test_y) * 100, '%\\n')\n",
        "\n",
        "print('ccp_alpha: 0.0 | Two Class Data-set | 8/2 Holdout')\n",
        "start_time = time.time()\n",
        "default_tree_classifier.fit(ho_two_class_82_train_X.reshape(ho_two_class_82_train_X.shape[0], -1), ho_two_class_82_train_y)\n",
        "print(\"Execution Time: %s seconds\" % (time.time() - start_time))\n",
        "ho_two_class_82_pred_y = default_tree_classifier.predict(ho_two_class_82_test_X.reshape(ho_two_class_82_test_X.shape[0], -1))\n",
        "matrix = metrics.confusion_matrix(ho_two_class_82_test_y, ho_two_class_82_pred_y)\n",
        "print('Acurácia:', np.trace(matrix) / len(ho_two_class_82_test_y) * 100, '%\\n')\n",
        "\n",
        "print('ccp_alpha: 0.0 | Two Class Data-set | 7/3 Holdout')\n",
        "start_time = time.time()\n",
        "default_tree_classifier.fit(ho_two_class_73_train_X.reshape(ho_two_class_73_train_X.shape[0], -1), ho_two_class_73_train_y)\n",
        "print(\"Execution Time: %s seconds\" % (time.time() - start_time))\n",
        "ho_two_class_73_pred_y = default_tree_classifier.predict(ho_two_class_73_test_X.reshape(ho_two_class_73_test_X.shape[0], -1))\n",
        "matrix = metrics.confusion_matrix(ho_two_class_73_test_y, ho_two_class_73_pred_y)\n",
        "print('Acurácia:', np.trace(matrix) / len(ho_two_class_73_test_y) * 100, '%\\n')"
      ],
      "execution_count": 15,
      "outputs": [
        {
          "output_type": "stream",
          "text": [
            "ccp_alpha: 0.0 | Two Class Data-set | 9/1 Holdout\n",
            "Execution Time: 1.7802460193634033 seconds\n",
            "Acurácia: 99.36858721389108 %\n",
            "\n",
            "ccp_alpha: 0.0 | Two Class Data-set | 8/2 Holdout\n",
            "Execution Time: 1.45628023147583 seconds\n",
            "Acurácia: 99.56573233320174 %\n",
            "\n",
            "ccp_alpha: 0.0 | Two Class Data-set | 7/3 Holdout\n",
            "Execution Time: 1.1446361541748047 seconds\n",
            "Acurácia: 99.52631578947368 %\n",
            "\n"
          ],
          "name": "stdout"
        }
      ]
    },
    {
      "cell_type": "code",
      "metadata": {
        "id": "-inhq6GcesYz",
        "outputId": "721c4032-70f7-4ac6-aab9-25e557d0171d",
        "colab": {
          "base_uri": "https://localhost:8080/"
        }
      },
      "source": [
        "'''\n",
        "Original Size and Holdout sets\n",
        "'''\n",
        "\n",
        "print('ccp_alpha: 0.0 | Original Data-set | 9/1 Holdout')\n",
        "start_time = time.time()\n",
        "default_tree_classifier.fit(ho_original_91_train_X.reshape(ho_original_91_train_X.shape[0], -1), ho_original_91_train_y)\n",
        "print(\"Execution Time: %s seconds\" % (time.time() - start_time))\n",
        "ho_original_91_pred_y = default_tree_classifier.predict(ho_original_91_test_X.reshape(ho_original_91_test_X.shape[0], -1))\n",
        "matrix = metrics.confusion_matrix(ho_original_91_test_y, ho_original_91_pred_y)\n",
        "print('Acurácia:', np.trace(matrix) / len(ho_original_91_test_y) * 100, '%\\n')\n",
        "\n",
        "print('ccp_alpha: 0.0 | Original Data-set | 8/2 Holdout')\n",
        "start_time = time.time()\n",
        "default_tree_classifier.fit(ho_original_82_train_X.reshape(ho_original_82_train_X.shape[0], -1), ho_original_82_train_y)\n",
        "print(\"Execution Time: %s seconds\" % (time.time() - start_time))\n",
        "ho_original_82_pred_y = default_tree_classifier.predict(ho_original_82_test_X.reshape(ho_original_82_test_X.shape[0], -1))\n",
        "matrix = metrics.confusion_matrix(ho_original_82_test_y, ho_original_82_pred_y)\n",
        "print('Acurácia:', np.trace(matrix) / len(ho_original_82_test_y) * 100, '%\\n')\n",
        "\n",
        "print('ccp_alpha: 0.0 | Original Data-set | 7/3 Holdout')\n",
        "start_time = time.time()\n",
        "default_tree_classifier.fit(ho_original_73_train_X.reshape(ho_original_73_train_X.shape[0], -1), ho_original_73_train_y)\n",
        "print(\"Execution Time: %s seconds\" % (time.time() - start_time))\n",
        "ho_original_73_pred_y = default_tree_classifier.predict(ho_original_73_test_X.reshape(ho_original_73_test_X.shape[0], -1))\n",
        "matrix = metrics.confusion_matrix(ho_original_73_test_y, ho_original_73_pred_y)\n",
        "print('Acurácia:', np.trace(matrix) / len(ho_original_73_test_y) * 100, '%\\n')"
      ],
      "execution_count": 16,
      "outputs": [
        {
          "output_type": "stream",
          "text": [
            "ccp_alpha: 0.0 | Original Data-set | 9/1 Holdout\n",
            "Execution Time: 19.312095642089844 seconds\n",
            "Acurácia: 86.08333333333333 %\n",
            "\n",
            "ccp_alpha: 0.0 | Original Data-set | 8/2 Holdout\n",
            "Execution Time: 16.42801833152771 seconds\n",
            "Acurácia: 86.39166666666667 %\n",
            "\n",
            "ccp_alpha: 0.0 | Original Data-set | 7/3 Holdout\n",
            "Execution Time: 13.715194463729858 seconds\n",
            "Acurácia: 86.49444444444444 %\n",
            "\n"
          ],
          "name": "stdout"
        }
      ]
    },
    {
      "cell_type": "code",
      "metadata": {
        "id": "dBjEE_1WfFZw",
        "outputId": "169bf902-82da-49bb-9274-4b549f8fb785",
        "colab": {
          "base_uri": "https://localhost:8080/"
        }
      },
      "source": [
        "'''\n",
        "Half Size Dataset and Holdout sets\n",
        "'''\n",
        "\n",
        "print('ccp_alpha: 0.0 | Half Data-set | 9/1 Holdout')\n",
        "start_time = time.time()\n",
        "default_tree_classifier.fit(ho_half_91_train_X.reshape(ho_half_91_train_X.shape[0], -1), ho_half_91_train_y)\n",
        "print(\"Execution Time: %s seconds\" % (time.time() - start_time))\n",
        "ho_half_91_pred_y = default_tree_classifier.predict(ho_half_91_test_X.reshape(ho_half_91_test_X.shape[0], -1))\n",
        "matrix = metrics.confusion_matrix(ho_half_91_test_y, ho_half_91_pred_y)\n",
        "print('Acurácia:', np.trace(matrix) / len(ho_half_91_test_y) * 100, '%\\n')\n",
        "\n",
        "print('ccp_alpha: 0.0 | Half Data-set | 8/2 Holdout')\n",
        "start_time = time.time()\n",
        "default_tree_classifier.fit(ho_half_82_train_X.reshape(ho_half_82_train_X.shape[0], -1), ho_half_82_train_y)\n",
        "print(\"Execution Time: %s seconds\" % (time.time() - start_time))\n",
        "ho_half_82_pred_y = default_tree_classifier.predict(ho_half_82_test_X.reshape(ho_half_82_test_X.shape[0], -1))\n",
        "matrix = metrics.confusion_matrix(ho_half_82_test_y, ho_half_82_pred_y)\n",
        "print('Acurácia:', np.trace(matrix) / len(ho_half_82_test_y) * 100, '%\\n')\n",
        "\n",
        "print('ccp_alpha: 0.0 | Half Data-set | 7/3 Holdout')\n",
        "start_time = time.time()\n",
        "default_tree_classifier.fit(ho_half_73_train_X.reshape(ho_half_73_train_X.shape[0], -1), ho_half_73_train_y)\n",
        "print(\"Execution Time: %s seconds\" % (time.time() - start_time))\n",
        "ho_half_73_pred_y = default_tree_classifier.predict(ho_half_73_test_X.reshape(ho_half_73_test_X.shape[0], -1))\n",
        "matrix = metrics.confusion_matrix(ho_half_73_test_y, ho_half_73_pred_y)\n",
        "print('Acurácia:', np.trace(matrix) / len(ho_half_73_test_y) * 100, '%\\n')"
      ],
      "execution_count": 17,
      "outputs": [
        {
          "output_type": "stream",
          "text": [
            "ccp_alpha: 0.0 | Half Data-set | 9/1 Holdout\n",
            "Execution Time: 7.645752668380737 seconds\n",
            "Acurácia: 84.96666666666667 %\n",
            "\n",
            "ccp_alpha: 0.0 | Half Data-set | 8/2 Holdout\n",
            "Execution Time: 6.968734502792358 seconds\n",
            "Acurácia: 84.8 %\n",
            "\n",
            "ccp_alpha: 0.0 | Half Data-set | 7/3 Holdout\n",
            "Execution Time: 5.7892866134643555 seconds\n",
            "Acurácia: 83.73333333333333 %\n",
            "\n"
          ],
          "name": "stdout"
        }
      ]
    },
    {
      "cell_type": "code",
      "metadata": {
        "id": "mjee83TvfYbV",
        "outputId": "42b01b37-7742-4f1a-f7c7-d83dfc244f67",
        "colab": {
          "base_uri": "https://localhost:8080/"
        }
      },
      "source": [
        "'''\n",
        "Smaller Dataset and Holdout sets\n",
        "'''\n",
        "\n",
        "print('ccp_alpha: 0.0 | Smaller Data-set | 9/1 Holdout')\n",
        "start_time = time.time()\n",
        "default_tree_classifier.fit(ho_smaller_91_train_X.reshape(ho_smaller_91_train_X.shape[0], -1), ho_smaller_91_train_y)\n",
        "print(\"Execution Time: %s seconds\" % (time.time() - start_time))\n",
        "ho_smaller_91_pred_y = default_tree_classifier.predict(ho_smaller_91_test_X.reshape(ho_smaller_91_test_X.shape[0], -1))\n",
        "matrix = metrics.confusion_matrix(ho_smaller_91_test_y, ho_smaller_91_pred_y)\n",
        "print('Acurácia:', np.trace(matrix) / len(ho_smaller_91_test_y) * 100, '%\\n')\n",
        "\n",
        "print('ccp_alpha: 0.0 | Smaller Data-set | 8/2 Holdout')\n",
        "start_time = time.time()\n",
        "default_tree_classifier.fit(ho_smaller_82_train_X.reshape(ho_smaller_82_train_X.shape[0], -1), ho_smaller_82_train_y)\n",
        "print(\"Execution Time: %s seconds\" % (time.time() - start_time))\n",
        "ho_smaller_82_pred_y = default_tree_classifier.predict(ho_smaller_82_test_X.reshape(ho_smaller_82_test_X.shape[0], -1))\n",
        "matrix = metrics.confusion_matrix(ho_smaller_82_test_y, ho_smaller_82_pred_y)\n",
        "print('Acurácia:', np.trace(matrix) / len(ho_smaller_82_test_y) * 100, '%\\n')\n",
        "\n",
        "print('ccp_alpha: 0.0 | Smaller Data-set | 7/3 Holdout')\n",
        "start_time = time.time()\n",
        "default_tree_classifier.fit(ho_smaller_73_train_X.reshape(ho_smaller_73_train_X.shape[0], -1), ho_smaller_73_train_y)\n",
        "print(\"Execution Time: %s seconds\" % (time.time() - start_time))\n",
        "ho_smaller_73_pred_y = default_tree_classifier.predict(ho_smaller_73_test_X.reshape(ho_smaller_73_test_X.shape[0], -1))\n",
        "matrix = metrics.confusion_matrix(ho_smaller_73_test_y, ho_smaller_73_pred_y)\n",
        "print('Acurácia:', np.trace(matrix) / len(ho_smaller_73_test_y) * 100, '%\\n')"
      ],
      "execution_count": 18,
      "outputs": [
        {
          "output_type": "stream",
          "text": [
            "ccp_alpha: 0.0 | Smaller Data-set | 9/1 Holdout\n",
            "Execution Time: 2.3347949981689453 seconds\n",
            "Acurácia: 84.0 %\n",
            "\n",
            "ccp_alpha: 0.0 | Smaller Data-set | 8/2 Holdout\n",
            "Execution Time: 2.0228517055511475 seconds\n",
            "Acurácia: 83.5 %\n",
            "\n",
            "ccp_alpha: 0.0 | Smaller Data-set | 7/3 Holdout\n",
            "Execution Time: 1.69830322265625 seconds\n",
            "Acurácia: 81.80555555555556 %\n",
            "\n"
          ],
          "name": "stdout"
        }
      ]
    },
    {
      "cell_type": "code",
      "metadata": {
        "id": "Anpq3fFfgl0K"
      },
      "source": [
        "'''\n",
        "0.1 cpp_alpha\n",
        "'''\n",
        "\n",
        "zero_one_tree_classifier = tree.DecisionTreeClassifier(ccp_alpha=0.1)"
      ],
      "execution_count": 19,
      "outputs": []
    },
    {
      "cell_type": "code",
      "metadata": {
        "id": "dQaRorkymI4C",
        "outputId": "a07255a9-17a5-4aa3-95c6-d7a782385ae9",
        "colab": {
          "base_uri": "https://localhost:8080/"
        }
      },
      "source": [
        "'''\n",
        "Two Classes Data-set\n",
        "'''\n",
        "\n",
        "print('ccp_alpha: 0.1 | Two Class Data-set | 9/1 Holdout')\n",
        "start_time = time.time()\n",
        "zero_one_tree_classifier.fit(ho_two_class_91_train_X.reshape(ho_two_class_91_train_X.shape[0], -1), ho_two_class_91_train_y)\n",
        "print(\"Execution Time: %s seconds\" % (time.time() - start_time))\n",
        "ho_two_class_91_pred_y = zero_one_tree_classifier.predict(ho_two_class_91_test_X.reshape(ho_two_class_91_test_X.shape[0], -1))\n",
        "matrix = metrics.confusion_matrix(ho_two_class_91_test_y, ho_two_class_91_pred_y)\n",
        "print('Acurácia:', np.trace(matrix) / len(ho_two_class_91_test_y) * 100, '%\\n')\n",
        "\n",
        "print('ccp_alpha: 0.1 | Two Class Data-set | 8/2 Holdout')\n",
        "start_time = time.time()\n",
        "zero_one_tree_classifier.fit(ho_two_class_82_train_X.reshape(ho_two_class_82_train_X.shape[0], -1), ho_two_class_82_train_y)\n",
        "print(\"Execution Time: %s seconds\" % (time.time() - start_time))\n",
        "ho_two_class_82_pred_y = zero_one_tree_classifier.predict(ho_two_class_82_test_X.reshape(ho_two_class_82_test_X.shape[0], -1))\n",
        "matrix = metrics.confusion_matrix(ho_two_class_82_test_y, ho_two_class_82_pred_y)\n",
        "print('Acurácia:', np.trace(matrix) / len(ho_two_class_82_test_y) * 100, '%\\n')\n",
        "\n",
        "print('ccp_alpha: 0.1 | Two Class Data-set | 7/3 Holdout')\n",
        "start_time = time.time()\n",
        "zero_one_tree_classifier.fit(ho_two_class_73_train_X.reshape(ho_two_class_73_train_X.shape[0], -1), ho_two_class_73_train_y)\n",
        "print(\"Execution Time: %s seconds\" % (time.time() - start_time))\n",
        "ho_two_class_73_pred_y = zero_one_tree_classifier.predict(ho_two_class_73_test_X.reshape(ho_two_class_73_test_X.shape[0], -1))\n",
        "matrix = metrics.confusion_matrix(ho_two_class_73_test_y, ho_two_class_73_pred_y)\n",
        "print('Acurácia:', np.trace(matrix) / len(ho_two_class_73_test_y) * 100, '%\\n')"
      ],
      "execution_count": 20,
      "outputs": [
        {
          "output_type": "stream",
          "text": [
            "ccp_alpha: 0.1 | Two Class Data-set | 9/1 Holdout\n",
            "Execution Time: 1.776580810546875 seconds\n",
            "Acurácia: 98.73717442778216 %\n",
            "\n",
            "ccp_alpha: 0.1 | Two Class Data-set | 8/2 Holdout\n",
            "Execution Time: 1.4822542667388916 seconds\n",
            "Acurácia: 98.499802605606 %\n",
            "\n",
            "ccp_alpha: 0.1 | Two Class Data-set | 7/3 Holdout\n",
            "Execution Time: 1.1411967277526855 seconds\n",
            "Acurácia: 98.47368421052632 %\n",
            "\n"
          ],
          "name": "stdout"
        }
      ]
    },
    {
      "cell_type": "code",
      "metadata": {
        "id": "zLt5c-b0g5P1",
        "outputId": "e52cc6a0-ca22-4173-aeae-5c9182adb01a",
        "colab": {
          "base_uri": "https://localhost:8080/"
        }
      },
      "source": [
        "'''\n",
        "Original Size and Holdout sets\n",
        "'''\n",
        "\n",
        "print('ccp_alpha: 0.1 | Original Data-set | 9/1 Holdout')\n",
        "start_time = time.time()\n",
        "zero_one_tree_classifier.fit(ho_original_91_train_X.reshape(ho_original_91_train_X.shape[0], -1), ho_original_91_train_y)\n",
        "print(\"Execution Time: %s seconds\" % (time.time() - start_time))\n",
        "ho_original_91_pred_y = zero_one_tree_classifier.predict(ho_original_91_test_X.reshape(ho_original_91_test_X.shape[0], -1))\n",
        "matrix = metrics.confusion_matrix(ho_original_91_test_y, ho_original_91_pred_y)\n",
        "print('Acurácia:', np.trace(matrix) / len(ho_original_91_test_y) * 100, '%\\n')\n",
        "\n",
        "print('ccp_alpha: 0.1 | Original Data-set | 8/2 Holdout')\n",
        "start_time = time.time()\n",
        "zero_one_tree_classifier.fit(ho_original_82_train_X.reshape(ho_original_82_train_X.shape[0], -1), ho_original_82_train_y)\n",
        "print(\"Execution Time: %s seconds\" % (time.time() - start_time))\n",
        "ho_original_82_pred_y = zero_one_tree_classifier.predict(ho_original_82_test_X.reshape(ho_original_82_test_X.shape[0], -1))\n",
        "matrix = metrics.confusion_matrix(ho_original_82_test_y, ho_original_82_pred_y)\n",
        "print('Acurácia:', np.trace(matrix) / len(ho_original_82_test_y) * 100, '%\\n')\n",
        "\n",
        "print('ccp_alpha: 0.1 | Original Data-set | 7/3 Holdout')\n",
        "start_time = time.time()\n",
        "zero_one_tree_classifier.fit(ho_original_73_train_X.reshape(ho_original_73_train_X.shape[0], -1), ho_original_73_train_y)\n",
        "print(\"Execution Time: %s seconds\" % (time.time() - start_time))\n",
        "ho_original_73_pred_y = zero_one_tree_classifier.predict(ho_original_73_test_X.reshape(ho_original_73_test_X.shape[0], -1))\n",
        "matrix = metrics.confusion_matrix(ho_original_73_test_y, ho_original_73_pred_y)\n",
        "print('Acurácia:', np.trace(matrix) / len(ho_original_73_test_y) * 100, '%\\n')"
      ],
      "execution_count": 21,
      "outputs": [
        {
          "output_type": "stream",
          "text": [
            "ccp_alpha: 0.1 | Original Data-set | 9/1 Holdout\n",
            "Execution Time: 19.441272020339966 seconds\n",
            "Acurácia: 11.166666666666666 %\n",
            "\n",
            "ccp_alpha: 0.1 | Original Data-set | 8/2 Holdout\n",
            "Execution Time: 16.82579231262207 seconds\n",
            "Acurácia: 11.025 %\n",
            "\n",
            "ccp_alpha: 0.1 | Original Data-set | 7/3 Holdout\n",
            "Execution Time: 13.903189420700073 seconds\n",
            "Acurácia: 11.21111111111111 %\n",
            "\n"
          ],
          "name": "stdout"
        }
      ]
    },
    {
      "cell_type": "code",
      "metadata": {
        "id": "L_nIgybkiP9l",
        "outputId": "fbcb061b-bc43-4cea-d0d0-6f3864001996",
        "colab": {
          "base_uri": "https://localhost:8080/"
        }
      },
      "source": [
        "'''\n",
        "Half Size Dataset and Holdout sets\n",
        "'''\n",
        "\n",
        "print('ccp_alpha: 0.1 | Half Data-set | 9/1 Holdout')\n",
        "start_time = time.time()\n",
        "zero_one_tree_classifier.fit(ho_half_91_train_X.reshape(ho_half_91_train_X.shape[0], -1), ho_half_91_train_y)\n",
        "print(\"Execution Time: %s seconds\" % (time.time() - start_time))\n",
        "ho_half_91_pred_y = zero_one_tree_classifier.predict(ho_half_91_test_X.reshape(ho_half_91_test_X.shape[0], -1))\n",
        "matrix = metrics.confusion_matrix(ho_half_91_test_y, ho_half_91_pred_y)\n",
        "print('Acurácia:', np.trace(matrix) / len(ho_half_91_test_y) * 100, '%\\n')\n",
        "\n",
        "print('ccp_alpha: 0.1 | Half Data-set | 8/2 Holdout')\n",
        "start_time = time.time()\n",
        "zero_one_tree_classifier.fit(ho_half_82_train_X.reshape(ho_half_82_train_X.shape[0], -1), ho_half_82_train_y)\n",
        "print(\"Execution Time: %s seconds\" % (time.time() - start_time))\n",
        "ho_half_82_pred_y = zero_one_tree_classifier.predict(ho_half_82_test_X.reshape(ho_half_82_test_X.shape[0], -1))\n",
        "matrix = metrics.confusion_matrix(ho_half_82_test_y, ho_half_82_pred_y)\n",
        "print('Acurácia:', np.trace(matrix) / len(ho_half_82_test_y) * 100, '%\\n')\n",
        "\n",
        "print('ccp_alpha: 0.1 | Half Data-set | 7/3 Holdout')\n",
        "start_time = time.time()\n",
        "zero_one_tree_classifier.fit(ho_half_73_train_X.reshape(ho_half_73_train_X.shape[0], -1), ho_half_73_train_y)\n",
        "print(\"Execution Time: %s seconds\" % (time.time() - start_time))\n",
        "ho_half_73_pred_y = zero_one_tree_classifier.predict(ho_half_73_test_X.reshape(ho_half_73_test_X.shape[0], -1))\n",
        "matrix = metrics.confusion_matrix(ho_half_73_test_y, ho_half_73_pred_y)\n",
        "print('Acurácia:', np.trace(matrix) / len(ho_half_73_test_y) * 100, '%\\n')"
      ],
      "execution_count": 22,
      "outputs": [
        {
          "output_type": "stream",
          "text": [
            "ccp_alpha: 0.1 | Half Data-set | 9/1 Holdout\n",
            "Execution Time: 7.71173357963562 seconds\n",
            "Acurácia: 10.733333333333334 %\n",
            "\n",
            "ccp_alpha: 0.1 | Half Data-set | 8/2 Holdout\n",
            "Execution Time: 7.045164108276367 seconds\n",
            "Acurácia: 11.366666666666667 %\n",
            "\n",
            "ccp_alpha: 0.1 | Half Data-set | 7/3 Holdout\n",
            "Execution Time: 5.846614360809326 seconds\n",
            "Acurácia: 11.4 %\n",
            "\n"
          ],
          "name": "stdout"
        }
      ]
    },
    {
      "cell_type": "code",
      "metadata": {
        "id": "-xk4lI20ibF1",
        "outputId": "9eab25fe-fff0-4dcc-9f38-c7da198b98fc",
        "colab": {
          "base_uri": "https://localhost:8080/"
        }
      },
      "source": [
        "'''\n",
        "Smaller Dataset and Holdout sets\n",
        "'''\n",
        "\n",
        "print('ccp_alpha: 0.1 | Smaller Data-set | 9/1 Holdout')\n",
        "start_time = time.time()\n",
        "zero_one_tree_classifier.fit(ho_smaller_91_train_X.reshape(ho_smaller_91_train_X.shape[0], -1), ho_smaller_91_train_y)\n",
        "print(\"Execution Time: %s seconds\" % (time.time() - start_time))\n",
        "ho_smaller_91_pred_y = zero_one_tree_classifier.predict(ho_smaller_91_test_X.reshape(ho_smaller_91_test_X.shape[0], -1))\n",
        "matrix = metrics.confusion_matrix(ho_smaller_91_test_y, ho_smaller_91_pred_y)\n",
        "print('Acurácia:', np.trace(matrix) / len(ho_smaller_91_test_y) * 100, '%\\n')\n",
        "\n",
        "print('ccp_alpha: 0.1 | Smaller Data-set | 8/2 Holdout')\n",
        "start_time = time.time()\n",
        "zero_one_tree_classifier.fit(ho_smaller_82_train_X.reshape(ho_smaller_82_train_X.shape[0], -1), ho_smaller_82_train_y)\n",
        "print(\"Execution Time: %s seconds\" % (time.time() - start_time))\n",
        "ho_smaller_82_pred_y = zero_one_tree_classifier.predict(ho_smaller_82_test_X.reshape(ho_smaller_82_test_X.shape[0], -1))\n",
        "matrix = metrics.confusion_matrix(ho_smaller_82_test_y, ho_smaller_82_pred_y)\n",
        "print('Acurácia:', np.trace(matrix) / len(ho_smaller_82_test_y) * 100, '%\\n')\n",
        "\n",
        "print('ccp_alpha: 0.1 | Smaller Data-set | 7/3 Holdout')\n",
        "start_time = time.time()\n",
        "zero_one_tree_classifier.fit(ho_smaller_73_train_X.reshape(ho_smaller_73_train_X.shape[0], -1), ho_smaller_73_train_y)\n",
        "print(\"Execution Time: %s seconds\" % (time.time() - start_time))\n",
        "ho_smaller_73_pred_y = zero_one_tree_classifier.predict(ho_smaller_73_test_X.reshape(ho_smaller_73_test_X.shape[0], -1))\n",
        "matrix = metrics.confusion_matrix(ho_smaller_73_test_y, ho_smaller_73_pred_y)\n",
        "print('Acurácia:', np.trace(matrix) / len(ho_smaller_73_test_y) * 100, '%\\n')"
      ],
      "execution_count": 23,
      "outputs": [
        {
          "output_type": "stream",
          "text": [
            "ccp_alpha: 0.1 | Smaller Data-set | 9/1 Holdout\n",
            "Execution Time: 2.363081455230713 seconds\n",
            "Acurácia: 11.5 %\n",
            "\n",
            "ccp_alpha: 0.1 | Smaller Data-set | 8/2 Holdout\n",
            "Execution Time: 2.0339791774749756 seconds\n",
            "Acurácia: 11.458333333333332 %\n",
            "\n",
            "ccp_alpha: 0.1 | Smaller Data-set | 7/3 Holdout\n",
            "Execution Time: 1.6625971794128418 seconds\n",
            "Acurácia: 10.888888888888888 %\n",
            "\n"
          ],
          "name": "stdout"
        }
      ]
    },
    {
      "cell_type": "code",
      "metadata": {
        "id": "kpV92w8GipQ2"
      },
      "source": [
        "'''\n",
        "0.5 cpp_alpha\n",
        "'''\n",
        "\n",
        "zero_five_tree_classifier = tree.DecisionTreeClassifier(ccp_alpha=0.5)"
      ],
      "execution_count": 24,
      "outputs": []
    },
    {
      "cell_type": "code",
      "metadata": {
        "id": "cyspGqJnmRGf",
        "outputId": "18e7c47b-865e-4d46-af2c-d0b4c35d80cf",
        "colab": {
          "base_uri": "https://localhost:8080/"
        }
      },
      "source": [
        "'''\n",
        "Two Classes Data-set\n",
        "'''\n",
        "\n",
        "print('ccp_alpha: 0.5 | Two Class Data-set | 9/1 Holdout')\n",
        "start_time = time.time()\n",
        "zero_five_tree_classifier.fit(ho_two_class_91_train_X.reshape(ho_two_class_91_train_X.shape[0], -1), ho_two_class_91_train_y)\n",
        "print(\"Execution Time: %s seconds\" % (time.time() - start_time))\n",
        "ho_two_class_91_pred_y = zero_five_tree_classifier.predict(ho_two_class_91_test_X.reshape(ho_two_class_91_test_X.shape[0], -1))\n",
        "matrix = metrics.confusion_matrix(ho_two_class_91_test_y, ho_two_class_91_pred_y)\n",
        "print('Acurácia:', np.trace(matrix) / len(ho_two_class_91_test_y) * 100, '%\\n')\n",
        "\n",
        "print('ccp_alpha: 0.5 | Two Class Data-set | 8/2 Holdout')\n",
        "start_time = time.time()\n",
        "zero_five_tree_classifier.fit(ho_two_class_82_train_X.reshape(ho_two_class_82_train_X.shape[0], -1), ho_two_class_82_train_y)\n",
        "print(\"Execution Time: %s seconds\" % (time.time() - start_time))\n",
        "ho_two_class_82_pred_y = zero_five_tree_classifier.predict(ho_two_class_82_test_X.reshape(ho_two_class_82_test_X.shape[0], -1))\n",
        "matrix = metrics.confusion_matrix(ho_two_class_82_test_y, ho_two_class_82_pred_y)\n",
        "print('Acurácia:', np.trace(matrix) / len(ho_two_class_82_test_y) * 100, '%\\n')\n",
        "\n",
        "print('ccp_alpha: 0.5 | Two Class Data-set | 7/3 Holdout')\n",
        "start_time = time.time()\n",
        "zero_five_tree_classifier.fit(ho_two_class_73_train_X.reshape(ho_two_class_73_train_X.shape[0], -1), ho_two_class_73_train_y)\n",
        "print(\"Execution Time: %s seconds\" % (time.time() - start_time))\n",
        "ho_two_class_73_pred_y = zero_five_tree_classifier.predict(ho_two_class_73_test_X.reshape(ho_two_class_73_test_X.shape[0], -1))\n",
        "matrix = metrics.confusion_matrix(ho_two_class_73_test_y, ho_two_class_73_pred_y)\n",
        "print('Acurácia:', np.trace(matrix) / len(ho_two_class_73_test_y) * 100, '%\\n')"
      ],
      "execution_count": 25,
      "outputs": [
        {
          "output_type": "stream",
          "text": [
            "ccp_alpha: 0.5 | Two Class Data-set | 9/1 Holdout\n",
            "Execution Time: 1.774029016494751 seconds\n",
            "Acurácia: 52.80189423835833 %\n",
            "\n",
            "ccp_alpha: 0.5 | Two Class Data-set | 8/2 Holdout\n",
            "Execution Time: 1.484541654586792 seconds\n",
            "Acurácia: 53.375444137386495 %\n",
            "\n",
            "ccp_alpha: 0.5 | Two Class Data-set | 7/3 Holdout\n",
            "Execution Time: 1.1385271549224854 seconds\n",
            "Acurácia: 53.60526315789473 %\n",
            "\n"
          ],
          "name": "stdout"
        }
      ]
    },
    {
      "cell_type": "code",
      "metadata": {
        "id": "BB4J8nzhiv0K",
        "outputId": "9afdd0ae-fc33-4b16-a221-38527df867bf",
        "colab": {
          "base_uri": "https://localhost:8080/"
        }
      },
      "source": [
        "'''\n",
        "Original Size and Holdout sets\n",
        "'''\n",
        "\n",
        "print('ccp_alpha: 0.5 | Original Data-set | 9/1 Holdout')\n",
        "start_time = time.time()\n",
        "zero_five_tree_classifier.fit(ho_original_91_train_X.reshape(ho_original_91_train_X.shape[0], -1), ho_original_91_train_y)\n",
        "print(\"Execution Time: %s seconds\" % (time.time() - start_time))\n",
        "ho_original_91_pred_y = zero_five_tree_classifier.predict(ho_original_91_test_X.reshape(ho_original_91_test_X.shape[0], -1))\n",
        "matrix = metrics.confusion_matrix(ho_original_91_test_y, ho_original_91_pred_y)\n",
        "print('Acurácia:', np.trace(matrix) / len(ho_original_91_test_y) * 100, '%\\n')\n",
        "\n",
        "print('ccp_alpha: 0.5 | Original Data-set | 8/2 Holdout')\n",
        "start_time = time.time()\n",
        "zero_five_tree_classifier.fit(ho_original_82_train_X.reshape(ho_original_82_train_X.shape[0], -1), ho_original_82_train_y)\n",
        "print(\"Execution Time: %s seconds\" % (time.time() - start_time))\n",
        "ho_original_82_pred_y = zero_five_tree_classifier.predict(ho_original_82_test_X.reshape(ho_original_82_test_X.shape[0], -1))\n",
        "matrix = metrics.confusion_matrix(ho_original_82_test_y, ho_original_82_pred_y)\n",
        "print('Acurácia:', np.trace(matrix) / len(ho_original_82_test_y) * 100, '%\\n')\n",
        "\n",
        "print('ccp_alpha: 0.5 | Original Data-set | 7/3 Holdout')\n",
        "start_time = time.time()\n",
        "zero_five_tree_classifier.fit(ho_original_73_train_X.reshape(ho_original_73_train_X.shape[0], -1), ho_original_73_train_y)\n",
        "print(\"Execution Time: %s seconds\" % (time.time() - start_time))\n",
        "ho_original_73_pred_y = zero_five_tree_classifier.predict(ho_original_73_test_X.reshape(ho_original_73_test_X.shape[0], -1))\n",
        "matrix = metrics.confusion_matrix(ho_original_73_test_y, ho_original_73_pred_y)\n",
        "print('Acurácia:', np.trace(matrix) / len(ho_original_73_test_y) * 100, '%\\n')"
      ],
      "execution_count": 26,
      "outputs": [
        {
          "output_type": "stream",
          "text": [
            "ccp_alpha: 0.5 | Original Data-set | 9/1 Holdout\n",
            "Execution Time: 19.60951018333435 seconds\n",
            "Acurácia: 11.166666666666666 %\n",
            "\n",
            "ccp_alpha: 0.5 | Original Data-set | 8/2 Holdout\n",
            "Execution Time: 16.6671142578125 seconds\n",
            "Acurácia: 11.025 %\n",
            "\n",
            "ccp_alpha: 0.5 | Original Data-set | 7/3 Holdout\n",
            "Execution Time: 13.698112964630127 seconds\n",
            "Acurácia: 11.21111111111111 %\n",
            "\n"
          ],
          "name": "stdout"
        }
      ]
    },
    {
      "cell_type": "code",
      "metadata": {
        "id": "kXcfYwaJi4Hy",
        "outputId": "0a98ed19-5032-473e-d4bb-c47d2e7dfbcf",
        "colab": {
          "base_uri": "https://localhost:8080/"
        }
      },
      "source": [
        "'''\n",
        "Half Size Dataset and Holdout sets\n",
        "'''\n",
        "\n",
        "print('ccp_alpha: 0.5 | Half Data-set | 9/1 Holdout')\n",
        "start_time = time.time()\n",
        "zero_five_tree_classifier.fit(ho_half_91_train_X.reshape(ho_half_91_train_X.shape[0], -1), ho_half_91_train_y)\n",
        "print(\"Execution Time: %s seconds\" % (time.time() - start_time))\n",
        "ho_half_91_pred_y = zero_five_tree_classifier.predict(ho_half_91_test_X.reshape(ho_half_91_test_X.shape[0], -1))\n",
        "matrix = metrics.confusion_matrix(ho_half_91_test_y, ho_half_91_pred_y)\n",
        "print('Acurácia:', np.trace(matrix) / len(ho_half_91_test_y) * 100, '%\\n')\n",
        "\n",
        "print('ccp_alpha: 0.5 | Half Data-set | 8/2 Holdout')\n",
        "start_time = time.time()\n",
        "zero_five_tree_classifier.fit(ho_half_82_train_X.reshape(ho_half_82_train_X.shape[0], -1), ho_half_82_train_y)\n",
        "print(\"Execution Time: %s seconds\" % (time.time() - start_time))\n",
        "ho_half_82_pred_y = zero_five_tree_classifier.predict(ho_half_82_test_X.reshape(ho_half_82_test_X.shape[0], -1))\n",
        "matrix = metrics.confusion_matrix(ho_half_82_test_y, ho_half_82_pred_y)\n",
        "print('Acurácia:', np.trace(matrix) / len(ho_half_82_test_y) * 100, '%\\n')\n",
        "\n",
        "print('ccp_alpha: 0.5 | Half Data-set | 7/3 Holdout')\n",
        "start_time = time.time()\n",
        "zero_five_tree_classifier.fit(ho_half_73_train_X.reshape(ho_half_73_train_X.shape[0], -1), ho_half_73_train_y)\n",
        "print(\"Execution Time: %s seconds\" % (time.time() - start_time))\n",
        "ho_half_73_pred_y = zero_five_tree_classifier.predict(ho_half_73_test_X.reshape(ho_half_73_test_X.shape[0], -1))\n",
        "matrix = metrics.confusion_matrix(ho_half_73_test_y, ho_half_73_pred_y)\n",
        "print('Acurácia:', np.trace(matrix) / len(ho_half_73_test_y) * 100, '%\\n')"
      ],
      "execution_count": 27,
      "outputs": [
        {
          "output_type": "stream",
          "text": [
            "ccp_alpha: 0.5 | Half Data-set | 9/1 Holdout\n",
            "Execution Time: 7.709150314331055 seconds\n",
            "Acurácia: 10.733333333333334 %\n",
            "\n",
            "ccp_alpha: 0.5 | Half Data-set | 8/2 Holdout\n",
            "Execution Time: 7.044235944747925 seconds\n",
            "Acurácia: 11.366666666666667 %\n",
            "\n",
            "ccp_alpha: 0.5 | Half Data-set | 7/3 Holdout\n",
            "Execution Time: 5.8359763622283936 seconds\n",
            "Acurácia: 11.4 %\n",
            "\n"
          ],
          "name": "stdout"
        }
      ]
    },
    {
      "cell_type": "code",
      "metadata": {
        "id": "Yzo4nKjGjBbZ",
        "outputId": "e82f1d88-bb9f-4c18-e5a9-452b5ca2bc10",
        "colab": {
          "base_uri": "https://localhost:8080/"
        }
      },
      "source": [
        "'''\n",
        "Smaller Dataset and Holdout sets\n",
        "'''\n",
        "\n",
        "print('ccp_alpha: 0.5 | Smaller Data-set | 9/1 Holdout')\n",
        "start_time = time.time()\n",
        "zero_five_tree_classifier.fit(ho_smaller_91_train_X.reshape(ho_smaller_91_train_X.shape[0], -1), ho_smaller_91_train_y)\n",
        "print(\"Execution Time: %s seconds\" % (time.time() - start_time))\n",
        "ho_smaller_91_pred_y = zero_five_tree_classifier.predict(ho_smaller_91_test_X.reshape(ho_smaller_91_test_X.shape[0], -1))\n",
        "matrix = metrics.confusion_matrix(ho_smaller_91_test_y, ho_smaller_91_pred_y)\n",
        "print('Acurácia:', np.trace(matrix) / len(ho_smaller_91_test_y) * 100, '%\\n')\n",
        "\n",
        "print('ccp_alpha: 0.5 | Smaller Data-set | 8/2 Holdout')\n",
        "start_time = time.time()\n",
        "zero_five_tree_classifier.fit(ho_smaller_82_train_X.reshape(ho_smaller_82_train_X.shape[0], -1), ho_smaller_82_train_y)\n",
        "print(\"Execution Time: %s seconds\" % (time.time() - start_time))\n",
        "ho_smaller_82_pred_y = zero_five_tree_classifier.predict(ho_smaller_82_test_X.reshape(ho_smaller_82_test_X.shape[0], -1))\n",
        "matrix = metrics.confusion_matrix(ho_smaller_82_test_y, ho_smaller_82_pred_y)\n",
        "print('Acurácia:', np.trace(matrix) / len(ho_smaller_82_test_y) * 100, '%\\n')\n",
        "\n",
        "print('ccp_alpha: 0.5 | Smaller Data-set | 7/3 Holdout')\n",
        "start_time = time.time()\n",
        "zero_five_tree_classifier.fit(ho_smaller_73_train_X.reshape(ho_smaller_73_train_X.shape[0], -1), ho_smaller_73_train_y)\n",
        "print(\"Execution Time: %s seconds\" % (time.time() - start_time))\n",
        "ho_smaller_73_pred_y = zero_five_tree_classifier.predict(ho_smaller_73_test_X.reshape(ho_smaller_73_test_X.shape[0], -1))\n",
        "matrix = metrics.confusion_matrix(ho_smaller_73_test_y, ho_smaller_73_pred_y)\n",
        "print('Acurácia:', np.trace(matrix) / len(ho_smaller_73_test_y) * 100, '%\\n')"
      ],
      "execution_count": 28,
      "outputs": [
        {
          "output_type": "stream",
          "text": [
            "ccp_alpha: 0.5 | Smaller Data-set | 9/1 Holdout\n",
            "Execution Time: 2.365703582763672 seconds\n",
            "Acurácia: 11.5 %\n",
            "\n",
            "ccp_alpha: 0.5 | Smaller Data-set | 8/2 Holdout\n",
            "Execution Time: 2.046321392059326 seconds\n",
            "Acurácia: 11.458333333333332 %\n",
            "\n",
            "ccp_alpha: 0.5 | Smaller Data-set | 7/3 Holdout\n",
            "Execution Time: 1.7223479747772217 seconds\n",
            "Acurácia: 10.888888888888888 %\n",
            "\n"
          ],
          "name": "stdout"
        }
      ]
    }
  ]
}