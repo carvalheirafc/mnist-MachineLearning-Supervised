{
  "nbformat": 4,
  "nbformat_minor": 0,
  "metadata": {
    "colab": {
      "name": "mnist-decisionTree.ipynb",
      "provenance": [],
      "mount_file_id": "1Re9MDrBddZcP3ISUbMsytFS7oA_eWxMq",
      "authorship_tag": "ABX9TyOj+UFVWsFSBgltrJ3J6Wxa",
      "include_colab_link": true
    },
    "kernelspec": {
      "name": "python3",
      "display_name": "Python 3"
    }
  },
  "cells": [
    {
      "cell_type": "markdown",
      "metadata": {
        "id": "view-in-github",
        "colab_type": "text"
      },
      "source": [
        "<a href=\"https://colab.research.google.com/github/carvalheirafc/mnist-deeplearning/blob/main/mnist_decisionTree.ipynb\" target=\"_parent\"><img src=\"https://colab.research.google.com/assets/colab-badge.svg\" alt=\"Open In Colab\"/></a>"
      ]
    },
    {
      "cell_type": "code",
      "metadata": {
        "id": "1wE9WD1MARHU"
      },
      "source": [
        "import numpy as np\n",
        "from sklearn.model_selection import train_test_split\n",
        "from sklearn.model_selection import KFold"
      ],
      "execution_count": 1,
      "outputs": []
    },
    {
      "cell_type": "markdown",
      "metadata": {
        "id": "ab_eSEisNMkl"
      },
      "source": [
        "### Data Input and miscs\n"
      ]
    },
    {
      "cell_type": "code",
      "metadata": {
        "id": "giwtI9kQSDZM"
      },
      "source": [
        "data_X = np.load('./drive/My Drive/mnist_datasets/mnist_X.npy')\n",
        "data_y = np.load('./drive/My Drive/mnist_datasets/mnist_labels.npy')"
      ],
      "execution_count": 2,
      "outputs": []
    },
    {
      "cell_type": "code",
      "metadata": {
        "id": "dNx1VgivjGHU",
        "outputId": "6a841e48-3a80-46c1-a4fc-300a64c19e4e",
        "colab": {
          "base_uri": "https://localhost:8080/"
        }
      },
      "source": [
        "half_X = np.array(np.split(data_X, 2))\n",
        "half_y = np.array(np.split(data_y, 2))\n",
        "\n",
        "print('Mnist 50% Data: \\n')\n",
        "print('X: ', half_X[0].shape)\n",
        "print('y: ', half_y[0].shape)"
      ],
      "execution_count": 3,
      "outputs": [
        {
          "output_type": "stream",
          "text": [
            "Mnist 50% Data: \n",
            "\n",
            "X:  (30000, 1, 28, 28)\n",
            "y:  (30000, 1)\n"
          ],
          "name": "stdout"
        }
      ]
    },
    {
      "cell_type": "code",
      "metadata": {
        "id": "QJ103KW0nWWf",
        "outputId": "fa4a2d7a-7627-4b47-9439-dd7fa6080ab2",
        "colab": {
          "base_uri": "https://localhost:8080/"
        }
      },
      "source": [
        "smaller_X = np.array(np.split(data_X, 5))\n",
        "smaller_y = np.array(np.split(data_y, 5))\n",
        "\n",
        "print('Mnist 20% Data: \\n')\n",
        "print('X: ', smaller_X[0].shape)\n",
        "print('y: ', smaller_y[0].shape)"
      ],
      "execution_count": 4,
      "outputs": [
        {
          "output_type": "stream",
          "text": [
            "Mnist 20% Data: \n",
            "\n",
            "X:  (12000, 1, 28, 28)\n",
            "y:  (12000, 1)\n"
          ],
          "name": "stdout"
        }
      ]
    },
    {
      "cell_type": "code",
      "metadata": {
        "id": "wb13x1BRqUZI",
        "outputId": "5a174194-c508-4e29-b46b-064dca35b031",
        "colab": {
          "base_uri": "https://localhost:8080/"
        }
      },
      "source": [
        "data_two_classes = np.load('./drive/My Drive/mnist_datasets/two_classes_data.npy', allow_pickle=True)\n",
        "two_classes_X = np.concatenate((data_two_classes[0][0], data_two_classes[1][0]), axis=0)\n",
        "two_classes_y = np.concatenate((data_two_classes[0][1], data_two_classes[1][1]), axis=0)\n",
        "print('Mnist Two Classes: \\n')\n",
        "print('Zeros: ', data_two_classes[0][0].shape)\n",
        "print('Ones:  ', data_two_classes[1][0].shape)\n",
        "print('X:     ', two_classes_X.shape)\n",
        "print('y:     ', two_classes_y.shape)\n"
      ],
      "execution_count": 5,
      "outputs": [
        {
          "output_type": "stream",
          "text": [
            "Mnist Two Classes: \n",
            "\n",
            "Zeros:  (5923, 28, 28)\n",
            "Ones:   (6742, 28, 28)\n",
            "X:      (12665, 28, 28)\n",
            "y:      (12665,)\n"
          ],
          "name": "stdout"
        }
      ]
    },
    {
      "cell_type": "markdown",
      "metadata": {
        "id": "nRo5bh_uDPmC"
      },
      "source": [
        "### Hold-Out Sets\n"
      ]
    },
    {
      "cell_type": "code",
      "metadata": {
        "id": "GgjdsiT-Edcx",
        "outputId": "f1294545-db68-43d1-e87f-238c2e7d48c1",
        "colab": {
          "base_uri": "https://localhost:8080/"
        }
      },
      "source": [
        "ho_original_91_train_X, ho_original_91_test_X, ho_original_91_train_y, ho_original_91_test_y = train_test_split(data_X, data_y, train_size=0.9, random_state=555)\n",
        "ho_original_82_train_X, ho_original_82_test_X, ho_original_82_train_y, ho_original_82_test_y = train_test_split(data_X, data_y, train_size=0.8, random_state=555)\n",
        "ho_original_73_train_X, ho_original_73_test_X, ho_original_73_train_y, ho_original_73_test_y = train_test_split(data_X, data_y, train_size=0.7, random_state=555)\n",
        "\n",
        "print('Hold-Out Original Data Split\\n')\n",
        "print('9/1: ', ho_original_91_train_X.shape)\n",
        "print('8/2: ', ho_original_82_train_X.shape)\n",
        "print('7/3: ', ho_original_73_train_X.shape)"
      ],
      "execution_count": 6,
      "outputs": [
        {
          "output_type": "stream",
          "text": [
            "Hold-Out Original Data Split\n",
            "\n",
            "9/1:  (54000, 1, 28, 28)\n",
            "8/2:  (48000, 1, 28, 28)\n",
            "7/3:  (42000, 1, 28, 28)\n"
          ],
          "name": "stdout"
        }
      ]
    },
    {
      "cell_type": "code",
      "metadata": {
        "id": "H9vaxIsxrcUB",
        "outputId": "5b7e595c-861b-4fe0-b5e0-0dbf32cc44e4",
        "colab": {
          "base_uri": "https://localhost:8080/"
        }
      },
      "source": [
        "ho_half_91_train_X, ho_half_91_test_X, ho_half_91_train_y, ho_half_91_test_y = train_test_split(half_X[0], half_y[0], train_size=0.9, random_state=555)\n",
        "ho_half_82_train_X, ho_half_82_test_X, ho_half_82_train_y, ho_half_82_test_y = train_test_split(half_X[0], half_y[0], train_size=0.8, random_state=555)\n",
        "ho_half_73_train_X, ho_half_73_test_X, ho_half_73_train_y, ho_half_73_test_y = train_test_split(half_X[0], half_y[0], train_size=0.7, random_state=555)\n",
        "\n",
        "print('Hold-Out Half Data Split\\n')\n",
        "print('9/1: ', ho_half_91_train_X.shape)\n",
        "print('8/2: ', ho_half_82_train_X.shape)\n",
        "print('7/3: ', ho_half_73_train_X.shape)\n"
      ],
      "execution_count": 7,
      "outputs": [
        {
          "output_type": "stream",
          "text": [
            "Hold-Out Half Data Split\n",
            "\n",
            "9/1:  (27000, 1, 28, 28)\n",
            "8/2:  (24000, 1, 28, 28)\n",
            "7/3:  (21000, 1, 28, 28)\n"
          ],
          "name": "stdout"
        }
      ]
    },
    {
      "cell_type": "code",
      "metadata": {
        "id": "iVr9Hsm3tVy4",
        "outputId": "c28b5722-c8df-4341-90b3-9090ebb136b6",
        "colab": {
          "base_uri": "https://localhost:8080/"
        }
      },
      "source": [
        "ho_smaller_91_train_X, ho_smaller_91_test_X, ho_smaller_91_train_y, ho_smaller_91_test_y = train_test_split(smaller_X[0], smaller_y[0], train_size=0.9, random_state=555)\n",
        "ho_smaller_82_train_X, ho_smaller_82_test_X, ho_smaller_82_train_y, ho_smaller_82_test_y = train_test_split(smaller_X[0], smaller_y[0], train_size=0.8, random_state=555)\n",
        "ho_smaller_73_train_X, ho_smaller_73_test_X, ho_smaller_73_train_y, ho_smaller_73_test_y = train_test_split(smaller_X[0], smaller_y[0], train_size=0.7, random_state=555)\n",
        "\n",
        "print('Hold-Out Half Data Split\\n')\n",
        "print('9/1: ', ho_smaller_91_train_X.shape)\n",
        "print('8/2: ', ho_smaller_82_train_X.shape)\n",
        "print('7/3: ', ho_smaller_73_train_X.shape)"
      ],
      "execution_count": 8,
      "outputs": [
        {
          "output_type": "stream",
          "text": [
            "Hold-Out Half Data Split\n",
            "\n",
            "9/1:  (10800, 1, 28, 28)\n",
            "8/2:  (9600, 1, 28, 28)\n",
            "7/3:  (8400, 1, 28, 28)\n"
          ],
          "name": "stdout"
        }
      ]
    },
    {
      "cell_type": "code",
      "metadata": {
        "id": "lVDL-wyNwsnq",
        "outputId": "9528f2e8-c9d3-439d-fbf8-4701cf87067e",
        "colab": {
          "base_uri": "https://localhost:8080/"
        }
      },
      "source": [
        "ho_two_class_91_train_X, ho_two_class_91_test_X, ho_two_class_91_train_y, ho_two_class_91_test_y = train_test_split(two_classes_X, two_classes_y, train_size=0.9, random_state=555)\n",
        "ho_two_class_82_train_X, ho_two_class_82_test_X, ho_two_class_82_train_y, ho_two_class_82_test_y = train_test_split(two_classes_X, two_classes_y, train_size=0.8, random_state=555)\n",
        "ho_two_class_73_train_X, ho_two_class_73_test_X, ho_two_class_73_train_y, ho_two_class_73_test_y = train_test_split(two_classes_X, two_classes_y, train_size=0.7, random_state=555)\n",
        "\n",
        "print('Hold-Out Mnist Two Classes[0, 1] Split\\n')\n",
        "print('9/1: ', ho_two_class_91_train_X.shape)\n",
        "print('8/2: ', ho_two_class_82_train_X.shape)\n",
        "print('7/3: ', ho_two_class_73_train_X.shape)"
      ],
      "execution_count": 9,
      "outputs": [
        {
          "output_type": "stream",
          "text": [
            "Hold-Out Mnist Two Classes[0, 1] Split\n",
            "\n",
            "9/1:  (11398, 28, 28)\n",
            "8/2:  (10132, 28, 28)\n",
            "7/3:  (8865, 28, 28)\n"
          ],
          "name": "stdout"
        }
      ]
    },
    {
      "cell_type": "markdown",
      "metadata": {
        "id": "ugG3QxR4DUZq"
      },
      "source": [
        "### K-Fold sets\n"
      ]
    },
    {
      "cell_type": "code",
      "metadata": {
        "id": "-850QJlVDTXQ",
        "outputId": "de511fd4-082f-4e3f-89e4-0cde5b7dbedc",
        "colab": {
          "base_uri": "https://localhost:8080/"
        }
      },
      "source": [
        "kf = KFold(n_splits=10)\n",
        "kf.split(two_classes_X, two_classes_y)"
      ],
      "execution_count": 10,
      "outputs": [
        {
          "output_type": "execute_result",
          "data": {
            "text/plain": [
              "<generator object _BaseKFold.split at 0x7ff3cb2dcd00>"
            ]
          },
          "metadata": {
            "tags": []
          },
          "execution_count": 10
        }
      ]
    },
    {
      "cell_type": "markdown",
      "metadata": {
        "id": "CeSCO1LlOCoL"
      },
      "source": [
        "## Decision Tree\n"
      ]
    },
    {
      "cell_type": "code",
      "metadata": {
        "id": "5tJFwV4POWMD"
      },
      "source": [
        "from sklearn import tree\n",
        "from sklearn import metrics"
      ],
      "execution_count": 11,
      "outputs": []
    },
    {
      "cell_type": "code",
      "metadata": {
        "id": "-3hgz899OHJX"
      },
      "source": [
        "'''\n",
        "Default ccp_alfa(Fator de confiança)\n",
        "'''\n",
        "\n",
        "default_tree_classifier = tree.DecisionTreeClassifier(ccp_alpha=0.0)"
      ],
      "execution_count": 12,
      "outputs": []
    },
    {
      "cell_type": "code",
      "metadata": {
        "id": "sNztLjfwkVTs",
        "outputId": "2565cd39-f48b-449e-bf2a-e7033f4b3128",
        "colab": {
          "base_uri": "https://localhost:8080/"
        }
      },
      "source": [
        "'''\n",
        "Two Classes Data-set\n",
        "'''\n",
        "\n",
        "default_tree_classifier.fit(ho_two_class_91_train_X.reshape(ho_two_class_91_train_X.shape[0], -1), ho_two_class_91_train_y)\n",
        "ho_two_class_91_pred_y = default_tree_classifier.predict(ho_two_class_91_test_X.reshape(ho_two_class_91_test_X.shape[0], -1))\n",
        "matrix = metrics.confusion_matrix(ho_two_class_91_test_y, ho_two_class_91_pred_y)\n",
        "print('ccp_alpha: 0.0 | Two Class Data-set | 9/1 Holdout')\n",
        "print('Acurácia:', np.trace(matrix) / len(ho_two_class_91_test_y) * 100, '%\\n')\n",
        "\n",
        "default_tree_classifier.fit(ho_two_class_82_train_X.reshape(ho_two_class_82_train_X.shape[0], -1), ho_two_class_82_train_y)\n",
        "ho_two_class_82_pred_y = default_tree_classifier.predict(ho_two_class_82_test_X.reshape(ho_two_class_82_test_X.shape[0], -1))\n",
        "matrix = metrics.confusion_matrix(ho_two_class_82_test_y, ho_two_class_82_pred_y)\n",
        "print('ccp_alpha: 0.0 | Two Class Data-set | 8/2 Holdout')\n",
        "print('Acurácia:', np.trace(matrix) / len(ho_two_class_82_test_y) * 100, '%\\n')\n",
        "\n",
        "default_tree_classifier.fit(ho_two_class_82_train_X.reshape(ho_two_class_82_train_X.shape[0], -1), ho_two_class_82_train_y)\n",
        "ho_two_class_82_pred_y = default_tree_classifier.predict(ho_two_class_82_test_X.reshape(ho_two_class_82_test_X.shape[0], -1))\n",
        "matrix = metrics.confusion_matrix(ho_two_class_82_test_y, ho_two_class_82_pred_y)\n",
        "print('ccp_alpha: 0.0 | Two Class Data-set | 8/2 Holdout')\n",
        "print('Acurácia:', np.trace(matrix) / len(ho_two_class_82_test_y) * 100, '%\\n')"
      ],
      "execution_count": 60,
      "outputs": [
        {
          "output_type": "stream",
          "text": [
            "ccp_alpha: 0.0 | Two Class Data-set | 9/1 Holdout\n",
            "Acurácia: 99.36858721389108 %\n",
            "\n",
            "ccp_alpha: 0.0 | Two Class Data-set | 8/2 Holdout\n",
            "Acurácia: 99.5262534544019 %\n",
            "\n",
            "ccp_alpha: 0.0 | Two Class Data-set | 8/2 Holdout\n",
            "Acurácia: 99.56573233320174 %\n",
            "\n"
          ],
          "name": "stdout"
        }
      ]
    },
    {
      "cell_type": "code",
      "metadata": {
        "id": "-inhq6GcesYz",
        "outputId": "ee9c0431-1179-496e-dc16-e3ece7e638e5",
        "colab": {
          "base_uri": "https://localhost:8080/"
        }
      },
      "source": [
        "'''\n",
        "Original Size and Holdout sets\n",
        "'''\n",
        "\n",
        "default_tree_classifier.fit(ho_original_91_train_X.reshape(ho_original_91_train_X.shape[0], -1), ho_original_91_train_y)\n",
        "ho_original_91_pred_y = default_tree_classifier.predict(ho_original_91_test_X.reshape(ho_original_91_test_X.shape[0], -1))\n",
        "matrix = metrics.confusion_matrix(ho_original_91_test_y, ho_original_91_pred_y)\n",
        "print('ccp_alpha: 0.0 | Original Data-set | 9/1 Holdout')\n",
        "print('Acurácia:', np.trace(matrix) / len(ho_original_91_test_y) * 100, '%\\n')\n",
        "\n",
        "default_tree_classifier.fit(ho_original_82_train_X.reshape(ho_original_82_train_X.shape[0], -1), ho_original_82_train_y)\n",
        "ho_original_82_pred_y = default_tree_classifier.predict(ho_original_82_test_X.reshape(ho_original_82_test_X.shape[0], -1))\n",
        "matrix = metrics.confusion_matrix(ho_original_82_test_y, ho_original_82_pred_y)\n",
        "print('ccp_alpha: 0.0 | Original Data-set | 8/2 Holdout')\n",
        "print('Acurácia:', np.trace(matrix) / len(ho_original_82_test_y) * 100, '%\\n')\n",
        "\n",
        "default_tree_classifier.fit(ho_original_82_train_X.reshape(ho_original_82_train_X.shape[0], -1), ho_original_82_train_y)\n",
        "ho_original_82_pred_y = default_tree_classifier.predict(ho_original_82_test_X.reshape(ho_original_82_test_X.shape[0], -1))\n",
        "matrix = metrics.confusion_matrix(ho_original_82_test_y, ho_original_82_pred_y)\n",
        "print('ccp_alpha: 0.0 | Original Data-set | 8/2 Holdout')\n",
        "print('Acurácia:', np.trace(matrix) / len(ho_original_82_test_y) * 100, '%\\n')"
      ],
      "execution_count": 35,
      "outputs": [
        {
          "output_type": "stream",
          "text": [
            "Default CPP | Original Data-set | 9/1 Holdout\n",
            "Acurácia: 86.33333333333333 %\n",
            "\n",
            "Default CPP | Original Data-set | 8/2 Holdout\n",
            "Acurácia: 86.76666666666667 %\n",
            "\n",
            "Default CPP | Original Data-set | 8/2 Holdout\n",
            "Acurácia: 86.47500000000001 %\n",
            "\n"
          ],
          "name": "stdout"
        }
      ]
    },
    {
      "cell_type": "code",
      "metadata": {
        "id": "dBjEE_1WfFZw",
        "outputId": "75bf8d70-9bb7-4814-c838-d6a91e357202",
        "colab": {
          "base_uri": "https://localhost:8080/"
        }
      },
      "source": [
        "'''\n",
        "Half Size Dataset and Holdout sets\n",
        "'''\n",
        "\n",
        "default_tree_classifier.fit(ho_half_91_train_X.reshape(ho_half_91_train_X.shape[0], -1), ho_half_91_train_y)\n",
        "ho_half_91_pred_y = default_tree_classifier.predict(ho_half_91_test_X.reshape(ho_half_91_test_X.shape[0], -1))\n",
        "matrix = metrics.confusion_matrix(ho_half_91_test_y, ho_half_91_pred_y)\n",
        "print('ccp_alpha: 0.0 | Half Data-set | 9/1 Holdout')\n",
        "print('Acurácia:', np.trace(matrix) / len(ho_half_91_test_y) * 100, '%\\n')\n",
        "\n",
        "default_tree_classifier.fit(ho_half_82_train_X.reshape(ho_half_82_train_X.shape[0], -1), ho_half_82_train_y)\n",
        "ho_half_82_pred_y = default_tree_classifier.predict(ho_half_82_test_X.reshape(ho_half_82_test_X.shape[0], -1))\n",
        "matrix = metrics.confusion_matrix(ho_half_82_test_y, ho_half_82_pred_y)\n",
        "print('ccp_alpha: 0.0 | Half Data-set | 8/2 Holdout')\n",
        "print('Acurácia:', np.trace(matrix) / len(ho_half_82_test_y) * 100, '%\\n')\n",
        "\n",
        "default_tree_classifier.fit(ho_half_73_train_X.reshape(ho_half_73_train_X.shape[0], -1), ho_half_73_train_y)\n",
        "ho_half_73_pred_y = default_tree_classifier.predict(ho_half_73_test_X.reshape(ho_half_73_test_X.shape[0], -1))\n",
        "matrix = metrics.confusion_matrix(ho_half_73_test_y, ho_half_73_pred_y)\n",
        "print('ccp_alpha: 0.0 | Half Data-set | 7/3 Holdout')\n",
        "print('Acurácia:', np.trace(matrix) / len(ho_half_73_test_y) * 100, '%\\n')"
      ],
      "execution_count": 36,
      "outputs": [
        {
          "output_type": "stream",
          "text": [
            "Default CPP | Half Data-set | 9/1 Holdout\n",
            "Acurácia: 84.23333333333333 %\n",
            "\n",
            "Default CPP | Half Data-set | 8/2 Holdout\n",
            "Acurácia: 84.61666666666666 %\n",
            "\n",
            "Default CPP | Half Data-set | 7/3 Holdout\n",
            "Acurácia: 83.77777777777777 %\n",
            "\n"
          ],
          "name": "stdout"
        }
      ]
    },
    {
      "cell_type": "code",
      "metadata": {
        "id": "mjee83TvfYbV",
        "outputId": "7d6e73b8-b4bf-4917-c56d-b1a820449986",
        "colab": {
          "base_uri": "https://localhost:8080/"
        }
      },
      "source": [
        "'''\n",
        "Smaller Dataset and Holdout sets\n",
        "'''\n",
        "\n",
        "default_tree_classifier.fit(ho_smaller_91_train_X.reshape(ho_smaller_91_train_X.shape[0], -1), ho_smaller_91_train_y)\n",
        "ho_smaller_91_pred_y = default_tree_classifier.predict(ho_smaller_91_test_X.reshape(ho_smaller_91_test_X.shape[0], -1))\n",
        "matrix = metrics.confusion_matrix(ho_smaller_91_test_y, ho_smaller_91_pred_y)\n",
        "print('ccp_alpha: 0.0 | Smaller Data-set | 9/1 Holdout')\n",
        "print('Acurácia:', np.trace(matrix) / len(ho_smaller_91_test_y) * 100, '%\\n')\n",
        "\n",
        "default_tree_classifier.fit(ho_smaller_82_train_X.reshape(ho_smaller_82_train_X.shape[0], -1), ho_smaller_82_train_y)\n",
        "ho_smaller_82_pred_y = default_tree_classifier.predict(ho_smaller_82_test_X.reshape(ho_smaller_82_test_X.shape[0], -1))\n",
        "matrix = metrics.confusion_matrix(ho_smaller_82_test_y, ho_smaller_82_pred_y)\n",
        "print('ccp_alpha: 0.0 | Smaller Data-set | 8/2 Holdout')\n",
        "print('Acurácia:', np.trace(matrix) / len(ho_smaller_82_test_y) * 100, '%\\n')\n",
        "\n",
        "default_tree_classifier.fit(ho_smaller_73_train_X.reshape(ho_smaller_73_train_X.shape[0], -1), ho_smaller_73_train_y)\n",
        "ho_smaller_73_pred_y = default_tree_classifier.predict(ho_smaller_73_test_X.reshape(ho_smaller_73_test_X.shape[0], -1))\n",
        "matrix = metrics.confusion_matrix(ho_smaller_73_test_y, ho_smaller_73_pred_y)\n",
        "print('ccp_alpha: 0.0 | Smaller Data-set | 7/3 Holdout')\n",
        "print('Acurácia:', np.trace(matrix) / len(ho_smaller_73_test_y) * 100, '%\\n')"
      ],
      "execution_count": 37,
      "outputs": [
        {
          "output_type": "stream",
          "text": [
            "Default CPP | Smaller Data-set | 9/1 Holdout\n",
            "Acurácia: 84.5 %\n",
            "\n",
            "Default CPP | Smaller Data-set | 8/2 Holdout\n",
            "Acurácia: 83.875 %\n",
            "\n",
            "Default CPP | Smaller Data-set | 7/3 Holdout\n",
            "Acurácia: 81.83333333333334 %\n",
            "\n"
          ],
          "name": "stdout"
        }
      ]
    },
    {
      "cell_type": "code",
      "metadata": {
        "id": "Anpq3fFfgl0K"
      },
      "source": [
        "'''\n",
        "0.1 cpp_alpha\n",
        "'''\n",
        "\n",
        "zero_one_tree_classifier = tree.DecisionTreeClassifier(ccp_alpha=0.1)"
      ],
      "execution_count": 51,
      "outputs": []
    },
    {
      "cell_type": "code",
      "metadata": {
        "id": "dQaRorkymI4C",
        "outputId": "c28bfa68-fa32-4164-de50-f1bfc629e3ec",
        "colab": {
          "base_uri": "https://localhost:8080/"
        }
      },
      "source": [
        "'''\n",
        "Two Classes Data-set\n",
        "'''\n",
        "\n",
        "zero_one_tree_classifier.fit(ho_two_class_91_train_X.reshape(ho_two_class_91_train_X.shape[0], -1), ho_two_class_91_train_y)\n",
        "ho_two_class_91_pred_y = zero_one_tree_classifier.predict(ho_two_class_91_test_X.reshape(ho_two_class_91_test_X.shape[0], -1))\n",
        "matrix = metrics.confusion_matrix(ho_two_class_91_test_y, ho_two_class_91_pred_y)\n",
        "print('ccp_alpha: 0.1 | Two Class Data-set | 9/1 Holdout')\n",
        "print('Acurácia:', np.trace(matrix) / len(ho_two_class_91_test_y) * 100, '%\\n')\n",
        "\n",
        "zero_one_tree_classifier.fit(ho_two_class_82_train_X.reshape(ho_two_class_82_train_X.shape[0], -1), ho_two_class_82_train_y)\n",
        "ho_two_class_82_pred_y = zero_one_tree_classifier.predict(ho_two_class_82_test_X.reshape(ho_two_class_82_test_X.shape[0], -1))\n",
        "matrix = metrics.confusion_matrix(ho_two_class_82_test_y, ho_two_class_82_pred_y)\n",
        "print('ccp_alpha: 0.1 | Two Class Data-set | 8/2 Holdout')\n",
        "print('Acurácia:', np.trace(matrix) / len(ho_two_class_82_test_y) * 100, '%\\n')\n",
        "\n",
        "zero_one_tree_classifier.fit(ho_two_class_82_train_X.reshape(ho_two_class_82_train_X.shape[0], -1), ho_two_class_82_train_y)\n",
        "ho_two_class_82_pred_y = zero_one_tree_classifier.predict(ho_two_class_82_test_X.reshape(ho_two_class_82_test_X.shape[0], -1))\n",
        "matrix = metrics.confusion_matrix(ho_two_class_82_test_y, ho_two_class_82_pred_y)\n",
        "print('ccp_alpha: 0.1 | Two Class Data-set | 8/2 Holdout')\n",
        "print('Acurácia:', np.trace(matrix) / len(ho_two_class_82_test_y) * 100, '%\\n')"
      ],
      "execution_count": 61,
      "outputs": [
        {
          "output_type": "stream",
          "text": [
            "ccp_alpha: 0.1 | Two Class Data-set | 9/1 Holdout\n",
            "Acurácia: 98.73717442778216 %\n",
            "\n",
            "ccp_alpha: 0.1 | Two Class Data-set | 8/2 Holdout\n",
            "Acurácia: 98.499802605606 %\n",
            "\n",
            "ccp_alpha: 0.1 | Two Class Data-set | 8/2 Holdout\n",
            "Acurácia: 98.499802605606 %\n",
            "\n"
          ],
          "name": "stdout"
        }
      ]
    },
    {
      "cell_type": "code",
      "metadata": {
        "id": "zLt5c-b0g5P1",
        "outputId": "0cb2a5c8-7dd9-4a1b-ead0-87b5a046695b",
        "colab": {
          "base_uri": "https://localhost:8080/"
        }
      },
      "source": [
        "'''\n",
        "Original Size and Holdout sets\n",
        "'''\n",
        "\n",
        "zero_one_tree_classifier.fit(ho_original_91_train_X.reshape(ho_original_91_train_X.shape[0], -1), ho_original_91_train_y)\n",
        "ho_original_91_pred_y = zero_one_tree_classifier.predict(ho_original_91_test_X.reshape(ho_original_91_test_X.shape[0], -1))\n",
        "matrix = metrics.confusion_matrix(ho_original_91_test_y, ho_original_91_pred_y)\n",
        "print('ccp_alpha: 0.1 | Original Data-set | 9/1 Holdout')\n",
        "print('Acurácia:', np.trace(matrix) / len(ho_original_91_test_y) * 100, '%\\n')\n",
        "\n",
        "zero_one_tree_classifier.fit(ho_original_82_train_X.reshape(ho_original_82_train_X.shape[0], -1), ho_original_82_train_y)\n",
        "ho_original_82_pred_y = zero_one_tree_classifier.predict(ho_original_82_test_X.reshape(ho_original_82_test_X.shape[0], -1))\n",
        "matrix = metrics.confusion_matrix(ho_original_82_test_y, ho_original_82_pred_y)\n",
        "print('ccp_alpha: 0.1 | Original Data-set | 8/2 Holdout')\n",
        "print('Acurácia:', np.trace(matrix) / len(ho_original_82_test_y) * 100, '%\\n')\n",
        "\n",
        "zero_one_tree_classifier.fit(ho_original_82_train_X.reshape(ho_original_82_train_X.shape[0], -1), ho_original_82_train_y)\n",
        "ho_original_82_pred_y = zero_one_tree_classifier.predict(ho_original_82_test_X.reshape(ho_original_82_test_X.shape[0], -1))\n",
        "matrix = metrics.confusion_matrix(ho_original_82_test_y, ho_original_82_pred_y)\n",
        "print('ccp_alpha: 0.1 | Original Data-set | 8/2 Holdout')\n",
        "print('Acurácia:', np.trace(matrix) / len(ho_original_82_test_y) * 100, '%\\n')"
      ],
      "execution_count": 52,
      "outputs": [
        {
          "output_type": "stream",
          "text": [
            "ccp_alpha: 0.1 | Original Data-set | 9/1 Holdout\n",
            "Acurácia: 11.166666666666666 %\n",
            "\n",
            "ccp_alpha: 0.1 | Original Data-set | 8/2 Holdout\n",
            "Acurácia: 11.025 %\n",
            "\n",
            "ccp_alpha: 0.1 | Original Data-set | 8/2 Holdout\n",
            "Acurácia: 11.025 %\n",
            "\n"
          ],
          "name": "stdout"
        }
      ]
    },
    {
      "cell_type": "code",
      "metadata": {
        "id": "L_nIgybkiP9l",
        "outputId": "39310bf9-90b4-4b0f-d5c6-9ccb35829ed4",
        "colab": {
          "base_uri": "https://localhost:8080/"
        }
      },
      "source": [
        "'''\n",
        "Half Size Dataset and Holdout sets\n",
        "'''\n",
        "\n",
        "zero_one_tree_classifier.fit(ho_half_91_train_X.reshape(ho_half_91_train_X.shape[0], -1), ho_half_91_train_y)\n",
        "ho_half_91_pred_y = zero_one_tree_classifier.predict(ho_half_91_test_X.reshape(ho_half_91_test_X.shape[0], -1))\n",
        "matrix = metrics.confusion_matrix(ho_half_91_test_y, ho_half_91_pred_y)\n",
        "print('ccp_alpha: 0.1 | Half Data-set | 9/1 Holdout')\n",
        "print('Acurácia:', np.trace(matrix) / len(ho_half_91_test_y) * 100, '%\\n')\n",
        "\n",
        "zero_one_tree_classifier.fit(ho_half_82_train_X.reshape(ho_half_82_train_X.shape[0], -1), ho_half_82_train_y)\n",
        "ho_half_82_pred_y = zero_one_tree_classifier.predict(ho_half_82_test_X.reshape(ho_half_82_test_X.shape[0], -1))\n",
        "matrix = metrics.confusion_matrix(ho_half_82_test_y, ho_half_82_pred_y)\n",
        "print('ccp_alpha: 0.1 | Half Data-set | 8/2 Holdout')\n",
        "print('Acurácia:', np.trace(matrix) / len(ho_half_82_test_y) * 100, '%\\n')\n",
        "\n",
        "zero_one_tree_classifier.fit(ho_half_73_train_X.reshape(ho_half_73_train_X.shape[0], -1), ho_half_73_train_y)\n",
        "ho_half_73_pred_y = zero_one_tree_classifier.predict(ho_half_73_test_X.reshape(ho_half_73_test_X.shape[0], -1))\n",
        "matrix = metrics.confusion_matrix(ho_half_73_test_y, ho_half_73_pred_y)\n",
        "print('ccp_alpha: 0.1 | Half Data-set | 7/3 Holdout')\n",
        "print('Acurácia:', np.trace(matrix) / len(ho_half_73_test_y) * 100, '%\\n')"
      ],
      "execution_count": 53,
      "outputs": [
        {
          "output_type": "stream",
          "text": [
            "ccp_alpha: 0.1 | Half Data-set | 9/1 Holdout\n",
            "Acurácia: 10.733333333333334 %\n",
            "\n",
            "ccp_alpha: 0.1 | Half Data-set | 8/2 Holdout\n",
            "Acurácia: 11.366666666666667 %\n",
            "\n",
            "ccp_alpha: 0.1 | Half Data-set | 7/3 Holdout\n",
            "Acurácia: 11.4 %\n",
            "\n"
          ],
          "name": "stdout"
        }
      ]
    },
    {
      "cell_type": "code",
      "metadata": {
        "id": "-xk4lI20ibF1",
        "outputId": "505cb9ce-ab77-434a-f140-72fcbdc70887",
        "colab": {
          "base_uri": "https://localhost:8080/"
        }
      },
      "source": [
        "'''\n",
        "Smaller Dataset and Holdout sets\n",
        "'''\n",
        "\n",
        "zero_one_tree_classifier.fit(ho_smaller_91_train_X.reshape(ho_smaller_91_train_X.shape[0], -1), ho_smaller_91_train_y)\n",
        "ho_smaller_91_pred_y = zero_one_tree_classifier.predict(ho_smaller_91_test_X.reshape(ho_smaller_91_test_X.shape[0], -1))\n",
        "matrix = metrics.confusion_matrix(ho_smaller_91_test_y, ho_smaller_91_pred_y)\n",
        "print('ccp_alpha: 0.1 | Smaller Data-set | 9/1 Holdout')\n",
        "print('Acurácia:', np.trace(matrix) / len(ho_smaller_91_test_y) * 100, '%\\n')\n",
        "\n",
        "zero_one_tree_classifier.fit(ho_smaller_82_train_X.reshape(ho_smaller_82_train_X.shape[0], -1), ho_smaller_82_train_y)\n",
        "ho_smaller_82_pred_y = zero_one_tree_classifier.predict(ho_smaller_82_test_X.reshape(ho_smaller_82_test_X.shape[0], -1))\n",
        "matrix = metrics.confusion_matrix(ho_smaller_82_test_y, ho_smaller_82_pred_y)\n",
        "print('ccp_alpha: 0.1 | Smaller Data-set | 8/2 Holdout')\n",
        "print('Acurácia:', np.trace(matrix) / len(ho_smaller_82_test_y) * 100, '%\\n')\n",
        "\n",
        "zero_one_tree_classifier.fit(ho_smaller_73_train_X.reshape(ho_smaller_73_train_X.shape[0], -1), ho_smaller_73_train_y)\n",
        "ho_smaller_73_pred_y = zero_one_tree_classifier.predict(ho_smaller_73_test_X.reshape(ho_smaller_73_test_X.shape[0], -1))\n",
        "matrix = metrics.confusion_matrix(ho_smaller_73_test_y, ho_smaller_73_pred_y)\n",
        "print('ccp_alpha: 0.1 | Smaller Data-set | 7/3 Holdout')\n",
        "print('Acurácia:', np.trace(matrix) / len(ho_smaller_73_test_y) * 100, '%\\n')"
      ],
      "execution_count": 54,
      "outputs": [
        {
          "output_type": "stream",
          "text": [
            "ccp_alpha: 0.1 | Smaller Data-set | 9/1 Holdout\n",
            "Acurácia: 11.5 %\n",
            "\n",
            "ccp_alpha: 0.1 | Smaller Data-set | 8/2 Holdout\n",
            "Acurácia: 11.458333333333332 %\n",
            "\n",
            "ccp_alpha: 0.1 | Smaller Data-set | 7/3 Holdout\n",
            "Acurácia: 10.888888888888888 %\n",
            "\n"
          ],
          "name": "stdout"
        }
      ]
    },
    {
      "cell_type": "code",
      "metadata": {
        "id": "kpV92w8GipQ2"
      },
      "source": [
        "'''\n",
        "0.5 cpp_alpha\n",
        "'''\n",
        "\n",
        "zero_five_tree_classifier = tree.DecisionTreeClassifier(ccp_alpha=0.1)"
      ],
      "execution_count": 55,
      "outputs": []
    },
    {
      "cell_type": "code",
      "metadata": {
        "id": "cyspGqJnmRGf",
        "outputId": "ca01e9a3-fc9d-46a9-d317-0a2b2d3c8f83",
        "colab": {
          "base_uri": "https://localhost:8080/"
        }
      },
      "source": [
        "'''\n",
        "Two Classes Data-set\n",
        "'''\n",
        "\n",
        "zero_five_tree_classifier.fit(ho_two_class_91_train_X.reshape(ho_two_class_91_train_X.shape[0], -1), ho_two_class_91_train_y)\n",
        "ho_two_class_91_pred_y = zero_five_tree_classifier.predict(ho_two_class_91_test_X.reshape(ho_two_class_91_test_X.shape[0], -1))\n",
        "matrix = metrics.confusion_matrix(ho_two_class_91_test_y, ho_two_class_91_pred_y)\n",
        "print('ccp_alpha: 0.5 | Two Class Data-set | 9/1 Holdout')\n",
        "print('Acurácia:', np.trace(matrix) / len(ho_two_class_91_test_y) * 100, '%\\n')\n",
        "\n",
        "zero_five_tree_classifier.fit(ho_two_class_82_train_X.reshape(ho_two_class_82_train_X.shape[0], -1), ho_two_class_82_train_y)\n",
        "ho_two_class_82_pred_y = zero_five_tree_classifier.predict(ho_two_class_82_test_X.reshape(ho_two_class_82_test_X.shape[0], -1))\n",
        "matrix = metrics.confusion_matrix(ho_two_class_82_test_y, ho_two_class_82_pred_y)\n",
        "print('ccp_alpha: 0.5 | Two Class Data-set | 8/2 Holdout')\n",
        "print('Acurácia:', np.trace(matrix) / len(ho_two_class_82_test_y) * 100, '%\\n')\n",
        "\n",
        "zero_five_tree_classifier.fit(ho_two_class_82_train_X.reshape(ho_two_class_82_train_X.shape[0], -1), ho_two_class_82_train_y)\n",
        "ho_two_class_82_pred_y = zero_five_tree_classifier.predict(ho_two_class_82_test_X.reshape(ho_two_class_82_test_X.shape[0], -1))\n",
        "matrix = metrics.confusion_matrix(ho_two_class_82_test_y, ho_two_class_82_pred_y)\n",
        "print('ccp_alpha: 0.5 | Two Class Data-set | 8/2 Holdout')\n",
        "print('Acurácia:', np.trace(matrix) / len(ho_two_class_82_test_y) * 100, '%\\n')"
      ],
      "execution_count": 62,
      "outputs": [
        {
          "output_type": "stream",
          "text": [
            "ccp_alpha: 0.5 | Two Class Data-set | 9/1 Holdout\n",
            "Acurácia: 98.73717442778216 %\n",
            "\n",
            "ccp_alpha: 0.5 | Two Class Data-set | 8/2 Holdout\n",
            "Acurácia: 98.499802605606 %\n",
            "\n",
            "ccp_alpha: 0.5 | Two Class Data-set | 8/2 Holdout\n",
            "Acurácia: 98.499802605606 %\n",
            "\n"
          ],
          "name": "stdout"
        }
      ]
    },
    {
      "cell_type": "code",
      "metadata": {
        "id": "BB4J8nzhiv0K",
        "outputId": "bb070ed9-2b07-49d8-8e90-933558be8475",
        "colab": {
          "base_uri": "https://localhost:8080/"
        }
      },
      "source": [
        "'''\n",
        "Original Size and Holdout sets\n",
        "'''\n",
        "\n",
        "zero_five_tree_classifier.fit(ho_original_91_train_X.reshape(ho_original_91_train_X.shape[0], -1), ho_original_91_train_y)\n",
        "ho_original_91_pred_y = zero_five_tree_classifier.predict(ho_original_91_test_X.reshape(ho_original_91_test_X.shape[0], -1))\n",
        "matrix = metrics.confusion_matrix(ho_original_91_test_y, ho_original_91_pred_y)\n",
        "print('ccp_alpha: 0.5 | Original Data-set | 9/1 Holdout')\n",
        "print('Acurácia:', np.trace(matrix) / len(ho_original_91_test_y) * 100, '%\\n')\n",
        "\n",
        "zero_five_tree_classifier.fit(ho_original_82_train_X.reshape(ho_original_82_train_X.shape[0], -1), ho_original_82_train_y)\n",
        "ho_original_82_pred_y = zero_five_tree_classifier.predict(ho_original_82_test_X.reshape(ho_original_82_test_X.shape[0], -1))\n",
        "matrix = metrics.confusion_matrix(ho_original_82_test_y, ho_original_82_pred_y)\n",
        "print('ccp_alpha: 0.5 | Original Data-set | 8/2 Holdout')\n",
        "print('Acurácia:', np.trace(matrix) / len(ho_original_82_test_y) * 100, '%\\n')\n",
        "\n",
        "zero_five_tree_classifier.fit(ho_original_82_train_X.reshape(ho_original_82_train_X.shape[0], -1), ho_original_82_train_y)\n",
        "ho_original_82_pred_y = zero_five_tree_classifier.predict(ho_original_82_test_X.reshape(ho_original_82_test_X.shape[0], -1))\n",
        "matrix = metrics.confusion_matrix(ho_original_82_test_y, ho_original_82_pred_y)\n",
        "print('ccp_alpha: 0.5 | Original Data-set | 8/2 Holdout')\n",
        "print('Acurácia:', np.trace(matrix) / len(ho_original_82_test_y) * 100, '%\\n')"
      ],
      "execution_count": 56,
      "outputs": [
        {
          "output_type": "stream",
          "text": [
            "ccp_alpha: 0.5 | Original Data-set | 9/1 Holdout\n",
            "Acurácia: 11.166666666666666 %\n",
            "\n",
            "ccp_alpha: 0.5 | Original Data-set | 8/2 Holdout\n",
            "Acurácia: 11.025 %\n",
            "\n",
            "ccp_alpha: 0.5 | Original Data-set | 8/2 Holdout\n",
            "Acurácia: 11.025 %\n",
            "\n"
          ],
          "name": "stdout"
        }
      ]
    },
    {
      "cell_type": "code",
      "metadata": {
        "id": "kXcfYwaJi4Hy",
        "outputId": "4c7eee0f-16b4-4fa4-c173-85cf4242718b",
        "colab": {
          "base_uri": "https://localhost:8080/"
        }
      },
      "source": [
        "'''\n",
        "Half Size Dataset and Holdout sets\n",
        "'''\n",
        "\n",
        "zero_five_tree_classifier.fit(ho_half_91_train_X.reshape(ho_half_91_train_X.shape[0], -1), ho_half_91_train_y)\n",
        "ho_half_91_pred_y = zero_five_tree_classifier.predict(ho_half_91_test_X.reshape(ho_half_91_test_X.shape[0], -1))\n",
        "matrix = metrics.confusion_matrix(ho_half_91_test_y, ho_half_91_pred_y)\n",
        "print('ccp_alpha: 0.5 | Half Data-set | 9/1 Holdout')\n",
        "print('Acurácia:', np.trace(matrix) / len(ho_half_91_test_y) * 100, '%\\n')\n",
        "\n",
        "zero_five_tree_classifier.fit(ho_half_82_train_X.reshape(ho_half_82_train_X.shape[0], -1), ho_half_82_train_y)\n",
        "ho_half_82_pred_y = zero_five_tree_classifier.predict(ho_half_82_test_X.reshape(ho_half_82_test_X.shape[0], -1))\n",
        "matrix = metrics.confusion_matrix(ho_half_82_test_y, ho_half_82_pred_y)\n",
        "print('ccp_alpha: 0.5 | Half Data-set | 8/2 Holdout')\n",
        "print('Acurácia:', np.trace(matrix) / len(ho_half_82_test_y) * 100, '%\\n')\n",
        "\n",
        "zero_five_tree_classifier.fit(ho_half_73_train_X.reshape(ho_half_73_train_X.shape[0], -1), ho_half_73_train_y)\n",
        "ho_half_73_pred_y = zero_five_tree_classifier.predict(ho_half_73_test_X.reshape(ho_half_73_test_X.shape[0], -1))\n",
        "matrix = metrics.confusion_matrix(ho_half_73_test_y, ho_half_73_pred_y)\n",
        "print('ccp_alpha: 0.5 | Half Data-set | 7/3 Holdout')\n",
        "print('Acurácia:', np.trace(matrix) / len(ho_half_73_test_y) * 100, '%\\n')"
      ],
      "execution_count": 57,
      "outputs": [
        {
          "output_type": "stream",
          "text": [
            "ccp_alpha: 0.5 | Half Data-set | 9/1 Holdout\n",
            "Acurácia: 10.733333333333334 %\n",
            "\n",
            "ccp_alpha: 0.5 | Half Data-set | 8/2 Holdout\n",
            "Acurácia: 11.366666666666667 %\n",
            "\n",
            "ccp_alpha: 0.5 | Half Data-set | 7/3 Holdout\n",
            "Acurácia: 11.4 %\n",
            "\n"
          ],
          "name": "stdout"
        }
      ]
    },
    {
      "cell_type": "code",
      "metadata": {
        "id": "Yzo4nKjGjBbZ",
        "outputId": "f9bfb11b-4af4-4dcb-dec3-f83e774c36b2",
        "colab": {
          "base_uri": "https://localhost:8080/"
        }
      },
      "source": [
        "'''\n",
        "Smaller Dataset and Holdout sets\n",
        "'''\n",
        "\n",
        "zero_five_tree_classifier.fit(ho_smaller_91_train_X.reshape(ho_smaller_91_train_X.shape[0], -1), ho_smaller_91_train_y)\n",
        "ho_smaller_91_pred_y = zero_five_tree_classifier.predict(ho_smaller_91_test_X.reshape(ho_smaller_91_test_X.shape[0], -1))\n",
        "matrix = metrics.confusion_matrix(ho_smaller_91_test_y, ho_smaller_91_pred_y)\n",
        "print('ccp_alpha: 0.5 | Smaller Data-set | 9/1 Holdout')\n",
        "print('Acurácia:', np.trace(matrix) / len(ho_smaller_91_test_y) * 100, '%\\n')\n",
        "\n",
        "zero_five_tree_classifier.fit(ho_smaller_82_train_X.reshape(ho_smaller_82_train_X.shape[0], -1), ho_smaller_82_train_y)\n",
        "ho_smaller_82_pred_y = zero_five_tree_classifier.predict(ho_smaller_82_test_X.reshape(ho_smaller_82_test_X.shape[0], -1))\n",
        "matrix = metrics.confusion_matrix(ho_smaller_82_test_y, ho_smaller_82_pred_y)\n",
        "print('ccp_alpha: 0.5 | Smaller Data-set | 8/2 Holdout')\n",
        "print('Acurácia:', np.trace(matrix) / len(ho_smaller_82_test_y) * 100, '%\\n')\n",
        "\n",
        "zero_five_tree_classifier.fit(ho_smaller_73_train_X.reshape(ho_smaller_73_train_X.shape[0], -1), ho_smaller_73_train_y)\n",
        "ho_smaller_73_pred_y = zero_five_tree_classifier.predict(ho_smaller_73_test_X.reshape(ho_smaller_73_test_X.shape[0], -1))\n",
        "matrix = metrics.confusion_matrix(ho_smaller_73_test_y, ho_smaller_73_pred_y)\n",
        "print('ccp_alpha: 0.5 | Smaller Data-set | 7/3 Holdout')\n",
        "print('Acurácia:', np.trace(matrix) / len(ho_smaller_73_test_y) * 100, '%\\n')"
      ],
      "execution_count": 58,
      "outputs": [
        {
          "output_type": "stream",
          "text": [
            "ccp_alpha: 0.5 | Smaller Data-set | 9/1 Holdout\n",
            "Acurácia: 11.5 %\n",
            "\n",
            "ccp_alpha: 0.5 | Smaller Data-set | 8/2 Holdout\n",
            "Acurácia: 11.458333333333332 %\n",
            "\n",
            "ccp_alpha: 0.5 | Smaller Data-set | 7/3 Holdout\n",
            "Acurácia: 10.888888888888888 %\n",
            "\n"
          ],
          "name": "stdout"
        }
      ]
    }
  ]
}