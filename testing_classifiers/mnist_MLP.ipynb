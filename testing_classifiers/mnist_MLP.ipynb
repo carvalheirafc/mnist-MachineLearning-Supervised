{
  "nbformat": 4,
  "nbformat_minor": 0,
  "metadata": {
    "colab": {
      "name": "mnist-MLP.ipynb",
      "provenance": [],
      "toc_visible": true,
      "mount_file_id": "1hjmVGeF0k9f94z8hcqvrWbEUAZTTHHFx",
      "authorship_tag": "ABX9TyMMulerZ/xcCBWj/OcLDrdP",
      "include_colab_link": true
    },
    "kernelspec": {
      "name": "python3",
      "display_name": "Python 3"
    }
  },
  "cells": [
    {
      "cell_type": "markdown",
      "metadata": {
        "id": "view-in-github",
        "colab_type": "text"
      },
      "source": [
        "<a href=\"https://colab.research.google.com/github/carvalheirafc/mnist-deeplearning/blob/main/mnist_MLP.ipynb\" target=\"_parent\"><img src=\"https://colab.research.google.com/assets/colab-badge.svg\" alt=\"Open In Colab\"/></a>"
      ]
    },
    {
      "cell_type": "code",
      "metadata": {
        "id": "1wE9WD1MARHU"
      },
      "source": [
        "import numpy as np\n",
        "from sklearn.model_selection import train_test_split\n",
        "from sklearn.model_selection import KFold"
      ],
      "execution_count": 1,
      "outputs": []
    },
    {
      "cell_type": "markdown",
      "metadata": {
        "id": "ab_eSEisNMkl"
      },
      "source": [
        "### Data Input and miscs\n"
      ]
    },
    {
      "cell_type": "code",
      "metadata": {
        "id": "giwtI9kQSDZM"
      },
      "source": [
        "data_X = np.load('./drive/My Drive/mnist_datasets/mnist_X.npy')\n",
        "data_y = np.load('./drive/My Drive/mnist_datasets/mnist_labels.npy')"
      ],
      "execution_count": 2,
      "outputs": []
    },
    {
      "cell_type": "code",
      "metadata": {
        "id": "dNx1VgivjGHU",
        "outputId": "d02c80cb-f0ce-43f3-9f83-05c35cad2150",
        "colab": {
          "base_uri": "https://localhost:8080/"
        }
      },
      "source": [
        "half_X = np.array(np.split(data_X, 2))\n",
        "half_y = np.array(np.split(data_y, 2))\n",
        "\n",
        "print('Mnist 50% Data: \\n')\n",
        "print('X: ', half_X[0].shape)\n",
        "print('y: ', half_y[0].shape)"
      ],
      "execution_count": 3,
      "outputs": [
        {
          "output_type": "stream",
          "text": [
            "Mnist 50% Data: \n",
            "\n",
            "X:  (30000, 1, 28, 28)\n",
            "y:  (30000, 1)\n"
          ],
          "name": "stdout"
        }
      ]
    },
    {
      "cell_type": "code",
      "metadata": {
        "id": "QJ103KW0nWWf",
        "outputId": "f97892ae-810b-49fa-c254-5990b5c9d6ca",
        "colab": {
          "base_uri": "https://localhost:8080/"
        }
      },
      "source": [
        "smaller_X = np.array(np.split(data_X, 5))\n",
        "smaller_y = np.array(np.split(data_y, 5))\n",
        "\n",
        "print('Mnist 20% Data: \\n')\n",
        "print('X: ', smaller_X[0].shape)\n",
        "print('y: ', smaller_y[0].shape)"
      ],
      "execution_count": 4,
      "outputs": [
        {
          "output_type": "stream",
          "text": [
            "Mnist 20% Data: \n",
            "\n",
            "X:  (12000, 1, 28, 28)\n",
            "y:  (12000, 1)\n"
          ],
          "name": "stdout"
        }
      ]
    },
    {
      "cell_type": "code",
      "metadata": {
        "id": "wb13x1BRqUZI",
        "outputId": "022ba96d-1603-40a2-8384-07b36ded1f29",
        "colab": {
          "base_uri": "https://localhost:8080/"
        }
      },
      "source": [
        "data_two_classes = np.load('./drive/My Drive/mnist_datasets/two_classes_data.npy', allow_pickle=True)\n",
        "two_classes_X = np.concatenate((data_two_classes[0][0], data_two_classes[1][0]), axis=0)\n",
        "two_classes_y = np.concatenate((data_two_classes[0][1], data_two_classes[1][1]), axis=0)\n",
        "print('Mnist Two Classes: \\n')\n",
        "print('Zeros: ', data_two_classes[0][0].shape)\n",
        "print('Ones:  ', data_two_classes[1][0].shape)\n",
        "print('X:     ', two_classes_X.shape)\n",
        "print('y:     ', two_classes_y.shape)\n"
      ],
      "execution_count": 5,
      "outputs": [
        {
          "output_type": "stream",
          "text": [
            "Mnist Two Classes: \n",
            "\n",
            "Zeros:  (5923, 28, 28)\n",
            "Ones:   (6742, 28, 28)\n",
            "X:      (12665, 28, 28)\n",
            "y:      (12665,)\n"
          ],
          "name": "stdout"
        }
      ]
    },
    {
      "cell_type": "markdown",
      "metadata": {
        "id": "nRo5bh_uDPmC"
      },
      "source": [
        "### Hold-Out Sets\n"
      ]
    },
    {
      "cell_type": "code",
      "metadata": {
        "id": "GgjdsiT-Edcx",
        "outputId": "287d7375-1c81-4a2d-fa8a-461564eadee6",
        "colab": {
          "base_uri": "https://localhost:8080/"
        }
      },
      "source": [
        "ho_original_91_train_X, ho_original_91_test_X, ho_original_91_train_y, ho_original_91_test_y = train_test_split(data_X, data_y, train_size=0.9, random_state=555)\n",
        "ho_original_82_train_X, ho_original_82_test_X, ho_original_82_train_y, ho_original_82_test_y = train_test_split(data_X, data_y, train_size=0.8, random_state=555)\n",
        "ho_original_73_train_X, ho_original_73_test_X, ho_original_73_train_y, ho_original_73_test_y = train_test_split(data_X, data_y, train_size=0.7, random_state=555)\n",
        "\n",
        "print('Hold-Out Original Data Split\\n')\n",
        "print('9/1: ', ho_original_91_train_X.shape)\n",
        "print('8/2: ', ho_original_82_train_X.shape)\n",
        "print('7/3: ', ho_original_73_train_X.shape)"
      ],
      "execution_count": 6,
      "outputs": [
        {
          "output_type": "stream",
          "text": [
            "Hold-Out Original Data Split\n",
            "\n",
            "9/1:  (54000, 1, 28, 28)\n",
            "8/2:  (48000, 1, 28, 28)\n",
            "7/3:  (42000, 1, 28, 28)\n"
          ],
          "name": "stdout"
        }
      ]
    },
    {
      "cell_type": "code",
      "metadata": {
        "id": "H9vaxIsxrcUB",
        "outputId": "69af9ee1-0320-4897-a214-7cb8294bef17",
        "colab": {
          "base_uri": "https://localhost:8080/"
        }
      },
      "source": [
        "ho_half_91_train_X, ho_half_91_test_X, ho_half_91_train_y, ho_half_91_test_y = train_test_split(half_X[0], half_y[0], train_size=0.9, random_state=555)\n",
        "ho_half_82_train_X, ho_half_82_test_X, ho_half_82_train_y, ho_half_82_test_y = train_test_split(half_X[0], half_y[0], train_size=0.8, random_state=555)\n",
        "ho_half_73_train_X, ho_half_73_test_X, ho_half_73_train_y, ho_half_73_test_y = train_test_split(half_X[0], half_y[0], train_size=0.7, random_state=555)\n",
        "\n",
        "print('Hold-Out Half Data Split\\n')\n",
        "print('9/1: ', ho_half_91_train_X.shape)\n",
        "print('8/2: ', ho_half_82_train_X.shape)\n",
        "print('7/3: ', ho_half_73_train_X.shape)\n"
      ],
      "execution_count": 7,
      "outputs": [
        {
          "output_type": "stream",
          "text": [
            "Hold-Out Half Data Split\n",
            "\n",
            "9/1:  (27000, 1, 28, 28)\n",
            "8/2:  (24000, 1, 28, 28)\n",
            "7/3:  (21000, 1, 28, 28)\n"
          ],
          "name": "stdout"
        }
      ]
    },
    {
      "cell_type": "code",
      "metadata": {
        "id": "iVr9Hsm3tVy4",
        "outputId": "40d8d2c8-c8f8-45d1-c294-0295b171dcab",
        "colab": {
          "base_uri": "https://localhost:8080/"
        }
      },
      "source": [
        "ho_smaller_91_train_X, ho_smaller_91_test_X, ho_smaller_91_train_y, ho_smaller_91_test_y = train_test_split(smaller_X[0], smaller_y[0], train_size=0.9, random_state=555)\n",
        "ho_smaller_82_train_X, ho_smaller_82_test_X, ho_smaller_82_train_y, ho_smaller_82_test_y = train_test_split(smaller_X[0], smaller_y[0], train_size=0.8, random_state=555)\n",
        "ho_smaller_73_train_X, ho_smaller_73_test_X, ho_smaller_73_train_y, ho_smaller_73_test_y = train_test_split(smaller_X[0], smaller_y[0], train_size=0.7, random_state=555)\n",
        "\n",
        "print('Hold-Out Half Data Split\\n')\n",
        "print('9/1: ', ho_smaller_91_train_X.shape)\n",
        "print('8/2: ', ho_smaller_82_train_X.shape)\n",
        "print('7/3: ', ho_smaller_73_train_X.shape)"
      ],
      "execution_count": 8,
      "outputs": [
        {
          "output_type": "stream",
          "text": [
            "Hold-Out Half Data Split\n",
            "\n",
            "9/1:  (10800, 1, 28, 28)\n",
            "8/2:  (9600, 1, 28, 28)\n",
            "7/3:  (8400, 1, 28, 28)\n"
          ],
          "name": "stdout"
        }
      ]
    },
    {
      "cell_type": "code",
      "metadata": {
        "id": "lVDL-wyNwsnq",
        "outputId": "9655177d-4c9d-4e75-f892-fb1d4a3b7266",
        "colab": {
          "base_uri": "https://localhost:8080/"
        }
      },
      "source": [
        "ho_two_class_91_train_X, ho_two_class_91_test_X, ho_two_class_91_train_y, ho_two_class_91_test_y = train_test_split(two_classes_X, two_classes_y, train_size=0.9, random_state=555)\n",
        "ho_two_class_82_train_X, ho_two_class_82_test_X, ho_two_class_82_train_y, ho_two_class_82_test_y = train_test_split(two_classes_X, two_classes_y, train_size=0.8, random_state=555)\n",
        "ho_two_class_73_train_X, ho_two_class_73_test_X, ho_two_class_73_train_y, ho_two_class_73_test_y = train_test_split(two_classes_X, two_classes_y, train_size=0.7, random_state=555)\n",
        "\n",
        "print('Hold-Out Mnist Two Classes[0, 1] Split\\n')\n",
        "print('9/1: ', ho_two_class_91_train_X.shape)\n",
        "print('8/2: ', ho_two_class_82_train_X.shape)\n",
        "print('7/3: ', ho_two_class_73_train_X.shape)"
      ],
      "execution_count": 9,
      "outputs": [
        {
          "output_type": "stream",
          "text": [
            "Hold-Out Mnist Two Classes[0, 1] Split\n",
            "\n",
            "9/1:  (11398, 28, 28)\n",
            "8/2:  (10132, 28, 28)\n",
            "7/3:  (8865, 28, 28)\n"
          ],
          "name": "stdout"
        }
      ]
    },
    {
      "cell_type": "markdown",
      "metadata": {
        "id": "CeSCO1LlOCoL"
      },
      "source": [
        "## Gaussian Naive Bayes\n"
      ]
    },
    {
      "cell_type": "code",
      "metadata": {
        "id": "5tJFwV4POWMD"
      },
      "source": [
        "from sklearn.neural_network import MLPClassifier\n",
        "from sklearn import metrics\n",
        "import time"
      ],
      "execution_count": 11,
      "outputs": []
    },
    {
      "cell_type": "code",
      "metadata": {
        "id": "-3hgz899OHJX"
      },
      "source": [
        "'''\n",
        "Default Hidden Size Layer\n",
        "\n",
        "'''\n",
        "\n",
        "\n",
        "default_mlp_classifier = MLPClassifier(hidden_layer_sizes=(100,), random_state=1, activation='relu', solver='adam')"
      ],
      "execution_count": 12,
      "outputs": []
    },
    {
      "cell_type": "code",
      "metadata": {
        "id": "sNztLjfwkVTs",
        "outputId": "7c70e7dd-f4c5-4125-9c60-f8b6d70e1d73",
        "colab": {
          "base_uri": "https://localhost:8080/"
        }
      },
      "source": [
        "'''\n",
        "Two Classes Data-set\n",
        "'''\n",
        "\n",
        "print('Hidden Layers: 100, | Two Class Data-set | 9/1 Holdout')\n",
        "start_time = time.time()\n",
        "default_mlp_classifier.fit(ho_two_class_91_train_X.reshape(ho_two_class_91_train_X.shape[0], -1), ho_two_class_91_train_y.ravel())\n",
        "print(\"Execution Time: %s seconds\" % (time.time() - start_time))\n",
        "ho_two_class_91_pred_y = default_mlp_classifier.predict(ho_two_class_91_test_X.reshape(ho_two_class_91_test_X.shape[0], -1))\n",
        "matrix = metrics.confusion_matrix(ho_two_class_91_test_y, ho_two_class_91_pred_y)\n",
        "print('Acurácia:', np.trace(matrix) / len(ho_two_class_91_test_y) * 100, '%\\n')\n",
        "\n",
        "print('Hidden Layers: 100, | Two Class Data-set | 8/2 Holdout')\n",
        "start_time = time.time()\n",
        "default_mlp_classifier.fit(ho_two_class_82_train_X.reshape(ho_two_class_82_train_X.shape[0], -1), ho_two_class_82_train_y.ravel())\n",
        "print(\"Execution Time: %s seconds\" % (time.time() - start_time))\n",
        "ho_two_class_82_pred_y = default_mlp_classifier.predict(ho_two_class_82_test_X.reshape(ho_two_class_82_test_X.shape[0], -1))\n",
        "matrix = metrics.confusion_matrix(ho_two_class_82_test_y, ho_two_class_82_pred_y)\n",
        "print('Acurácia:', np.trace(matrix) / len(ho_two_class_82_test_y) * 100, '%\\n')\n",
        "\n",
        "print('Hidden Layers: 100, | Two Class Data-set | 7/3 Holdout')\n",
        "start_time = time.time()\n",
        "default_mlp_classifier.fit(ho_two_class_73_train_X.reshape(ho_two_class_73_train_X.shape[0], -1), ho_two_class_73_train_y.ravel())\n",
        "print(\"Execution Time: %s seconds\" % (time.time() - start_time))\n",
        "ho_two_class_73_pred_y = default_mlp_classifier.predict(ho_two_class_73_test_X.reshape(ho_two_class_73_test_X.shape[0], -1))\n",
        "matrix = metrics.confusion_matrix(ho_two_class_73_test_y, ho_two_class_73_pred_y)\n",
        "print('Acurácia:', np.trace(matrix) / len(ho_two_class_73_test_y) * 100, '%\\n')"
      ],
      "execution_count": 15,
      "outputs": [
        {
          "output_type": "stream",
          "text": [
            "Hidden Layers: 100, | Two Class Data-set | 9/1 Holdout\n",
            "Execution Time: 8.671743631362915 seconds\n",
            "Acurácia: 100.0 %\n",
            "\n",
            "Hidden Layers: 100, | Two Class Data-set | 8/2 Holdout\n",
            "Execution Time: 9.987443685531616 seconds\n",
            "Acurácia: 99.96052112120016 %\n",
            "\n",
            "Hidden Layers: 100, | Two Class Data-set | 7/3 Holdout\n",
            "Execution Time: 7.083428859710693 seconds\n",
            "Acurácia: 99.89473684210526 %\n",
            "\n"
          ],
          "name": "stdout"
        }
      ]
    },
    {
      "cell_type": "code",
      "metadata": {
        "id": "-inhq6GcesYz",
        "outputId": "59d87523-dfc7-4c8f-bd1b-951de51a2b4f",
        "colab": {
          "base_uri": "https://localhost:8080/"
        }
      },
      "source": [
        "'''\n",
        "Original Size and Holdout sets\n",
        "'''\n",
        "\n",
        "print('Hidden Layers: 100, | Original Data-set | 9/1 Holdout')\n",
        "start_time = time.time()\n",
        "default_mlp_classifier.fit(ho_original_91_train_X.reshape(ho_original_91_train_X.shape[0], -1), ho_original_91_train_y.ravel())\n",
        "print(\"Execution Time: %s seconds\" % (time.time() - start_time))\n",
        "ho_original_91_pred_y = default_mlp_classifier.predict(ho_original_91_test_X.reshape(ho_original_91_test_X.shape[0], -1))\n",
        "matrix = metrics.confusion_matrix(ho_original_91_test_y, ho_original_91_pred_y)\n",
        "print('Acurácia:', np.trace(matrix) / len(ho_original_91_test_y) * 100, '%\\n')\n",
        "\n",
        "print('Hidden Layers: 100, | Original Data-set | 8/2 Holdout')\n",
        "start_time = time.time()\n",
        "default_mlp_classifier.fit(ho_original_82_train_X.reshape(ho_original_82_train_X.shape[0], -1), ho_original_82_train_y.ravel())\n",
        "print(\"Execution Time: %s seconds\" % (time.time() - start_time))\n",
        "ho_original_82_pred_y = default_mlp_classifier.predict(ho_original_82_test_X.reshape(ho_original_82_test_X.shape[0], -1))\n",
        "matrix = metrics.confusion_matrix(ho_original_82_test_y, ho_original_82_pred_y)\n",
        "print('Acurácia:', np.trace(matrix) / len(ho_original_82_test_y) * 100, '%\\n')\n",
        "\n",
        "print('Hidden Layers: 100, | Original Data-set | 7/3 Holdout')\n",
        "start_time = time.time()\n",
        "default_mlp_classifier.fit(ho_original_73_train_X.reshape(ho_original_73_train_X.shape[0], -1), ho_original_73_train_y.ravel())\n",
        "print(\"Execution Time: %s seconds\" % (time.time() - start_time))\n",
        "ho_original_73_pred_y = default_mlp_classifier.predict(ho_original_73_test_X.reshape(ho_original_73_test_X.shape[0], -1))\n",
        "matrix = metrics.confusion_matrix(ho_original_73_test_y, ho_original_73_pred_y)\n",
        "print('Acurácia:', np.trace(matrix) / len(ho_original_73_test_y) * 100, '%\\n')"
      ],
      "execution_count": 16,
      "outputs": [
        {
          "output_type": "stream",
          "text": [
            "Hidden Layers: 100, | Original Data-set | 9/1 Holdout\n",
            "Execution Time: 120.24759531021118 seconds\n",
            "Acurácia: 96.15 %\n",
            "\n",
            "Hidden Layers: 100, | Original Data-set | 8/2 Holdout\n",
            "Execution Time: 168.11860370635986 seconds\n",
            "Acurácia: 96.48333333333333 %\n",
            "\n",
            "Hidden Layers: 100, | Original Data-set | 7/3 Holdout\n",
            "Execution Time: 107.09609651565552 seconds\n",
            "Acurácia: 95.8 %\n",
            "\n"
          ],
          "name": "stdout"
        }
      ]
    },
    {
      "cell_type": "code",
      "metadata": {
        "id": "dBjEE_1WfFZw",
        "outputId": "cadeeb9c-74c8-4622-fcde-75fbaf9e8a64",
        "colab": {
          "base_uri": "https://localhost:8080/"
        }
      },
      "source": [
        "'''\n",
        "Half Size Dataset and Holdout sets\n",
        "'''\n",
        "\n",
        "print('Hidden Layers: 100, | Half Data-set | 9/1 Holdout')\n",
        "start_time = time.time()\n",
        "default_mlp_classifier.fit(ho_half_91_train_X.reshape(ho_half_91_train_X.shape[0], -1), ho_half_91_train_y.ravel())\n",
        "print(\"Execution Time: %s seconds\" % (time.time() - start_time))\n",
        "ho_half_91_pred_y = default_mlp_classifier.predict(ho_half_91_test_X.reshape(ho_half_91_test_X.shape[0], -1))\n",
        "matrix = metrics.confusion_matrix(ho_half_91_test_y, ho_half_91_pred_y)\n",
        "print('Acurácia:', np.trace(matrix) / len(ho_half_91_test_y) * 100, '%\\n')\n",
        "\n",
        "print('Hidden Layers: 100, | Half Data-set | 8/2 Holdout')\n",
        "start_time = time.time()\n",
        "default_mlp_classifier.fit(ho_half_82_train_X.reshape(ho_half_82_train_X.shape[0], -1), ho_half_82_train_y.ravel())\n",
        "print(\"Execution Time: %s seconds\" % (time.time() - start_time))\n",
        "ho_half_82_pred_y = default_mlp_classifier.predict(ho_half_82_test_X.reshape(ho_half_82_test_X.shape[0], -1))\n",
        "matrix = metrics.confusion_matrix(ho_half_82_test_y, ho_half_82_pred_y)\n",
        "print('Acurácia:', np.trace(matrix) / len(ho_half_82_test_y) * 100, '%\\n')\n",
        "\n",
        "print('Hidden Layers: 100, | Half Data-set | 7/3 Holdout')\n",
        "start_time = time.time()\n",
        "default_mlp_classifier.fit(ho_half_73_train_X.reshape(ho_half_73_train_X.shape[0], -1), ho_half_73_train_y.ravel())\n",
        "print(\"Execution Time: %s seconds\" % (time.time() - start_time))\n",
        "ho_half_73_pred_y = default_mlp_classifier.predict(ho_half_73_test_X.reshape(ho_half_73_test_X.shape[0], -1))\n",
        "matrix = metrics.confusion_matrix(ho_half_73_test_y, ho_half_73_pred_y)\n",
        "print('Acurácia:', np.trace(matrix) / len(ho_half_73_test_y) * 100, '%\\n')"
      ],
      "execution_count": 17,
      "outputs": [
        {
          "output_type": "stream",
          "text": [
            "Hidden Layers: 100, | Half Data-set | 9/1 Holdout\n",
            "Execution Time: 82.27350378036499 seconds\n",
            "Acurácia: 96.13333333333334 %\n",
            "\n",
            "Hidden Layers: 100, | Half Data-set | 8/2 Holdout\n",
            "Execution Time: 42.543028116226196 seconds\n",
            "Acurácia: 96.11666666666666 %\n",
            "\n",
            "Hidden Layers: 100, | Half Data-set | 7/3 Holdout\n",
            "Execution Time: 28.181567192077637 seconds\n",
            "Acurácia: 94.91111111111111 %\n",
            "\n"
          ],
          "name": "stdout"
        }
      ]
    },
    {
      "cell_type": "code",
      "metadata": {
        "id": "mjee83TvfYbV",
        "outputId": "aea14421-0e95-4381-fd8b-09a1e6345ed2",
        "colab": {
          "base_uri": "https://localhost:8080/"
        }
      },
      "source": [
        "'''\n",
        "Smaller Dataset and Holdout sets\n",
        "'''\n",
        "\n",
        "print('Hidden Layers: 100, | Smaller Data-set | 9/1 Holdout')\n",
        "start_time = time.time()\n",
        "default_mlp_classifier.fit(ho_smaller_91_train_X.reshape(ho_smaller_91_train_X.shape[0], -1), ho_smaller_91_train_y.ravel())\n",
        "print(\"Execution Time: %s seconds\" % (time.time() - start_time))\n",
        "ho_smaller_91_pred_y = default_mlp_classifier.predict(ho_smaller_91_test_X.reshape(ho_smaller_91_test_X.shape[0], -1))\n",
        "matrix = metrics.confusion_matrix(ho_smaller_91_test_y, ho_smaller_91_pred_y)\n",
        "print('Acurácia:', np.trace(matrix) / len(ho_smaller_91_test_y) * 100, '%\\n')\n",
        "\n",
        "print('Hidden Layers: 100, | Smaller Data-set | 8/2 Holdout')\n",
        "start_time = time.time()\n",
        "default_mlp_classifier.fit(ho_smaller_82_train_X.reshape(ho_smaller_82_train_X.shape[0], -1), ho_smaller_82_train_y.ravel())\n",
        "print(\"Execution Time: %s seconds\" % (time.time() - start_time))\n",
        "ho_smaller_82_pred_y = default_mlp_classifier.predict(ho_smaller_82_test_X.reshape(ho_smaller_82_test_X.shape[0], -1))\n",
        "matrix = metrics.confusion_matrix(ho_smaller_82_test_y, ho_smaller_82_pred_y)\n",
        "print('Acurácia:', np.trace(matrix) / len(ho_smaller_82_test_y) * 100, '%\\n')\n",
        "\n",
        "print('Hidden Layers: 100, | Smaller Data-set | 7/3 Holdout')\n",
        "start_time = time.time()\n",
        "default_mlp_classifier.fit(ho_smaller_73_train_X.reshape(ho_smaller_73_train_X.shape[0], -1), ho_smaller_73_train_y.ravel())\n",
        "print(\"Execution Time: %s seconds\" % (time.time() - start_time))\n",
        "ho_smaller_73_pred_y = default_mlp_classifier.predict(ho_smaller_73_test_X.reshape(ho_smaller_73_test_X.shape[0], -1))\n",
        "matrix = metrics.confusion_matrix(ho_smaller_73_test_y, ho_smaller_73_pred_y)\n",
        "print('Acurácia:', np.trace(matrix) / len(ho_smaller_73_test_y) * 100, '%\\n')"
      ],
      "execution_count": 18,
      "outputs": [
        {
          "output_type": "stream",
          "text": [
            "Hidden Layers: 100, | Smaller Data-set | 9/1 Holdout\n",
            "Execution Time: 15.116100072860718 seconds\n",
            "Acurácia: 94.08333333333333 %\n",
            "\n",
            "Hidden Layers: 100, | Smaller Data-set | 8/2 Holdout\n",
            "Execution Time: 13.126615524291992 seconds\n",
            "Acurácia: 93.625 %\n",
            "\n",
            "Hidden Layers: 100, | Smaller Data-set | 7/3 Holdout\n",
            "Execution Time: 11.64748239517212 seconds\n",
            "Acurácia: 92.30555555555556 %\n",
            "\n"
          ],
          "name": "stdout"
        }
      ]
    },
    {
      "cell_type": "code",
      "metadata": {
        "id": "Anpq3fFfgl0K"
      },
      "source": [
        "'''\n",
        "Doulbe Layers Size\n",
        "\n",
        "'''\n",
        "\n",
        "double_mlp_classifier = MLPClassifier(hidden_layer_sizes=(100, 100), random_state=1, activation='relu', solver='adam')\n"
      ],
      "execution_count": 19,
      "outputs": []
    },
    {
      "cell_type": "code",
      "metadata": {
        "id": "dQaRorkymI4C",
        "outputId": "c552e9f0-458f-4787-b2e4-f335b0f8ad5f",
        "colab": {
          "base_uri": "https://localhost:8080/"
        }
      },
      "source": [
        "'''\n",
        "Two Classes Data-set\n",
        "'''\n",
        "\n",
        "print('Hidden Layers: 100, 100 | Two Class Data-set | 9/1 Holdout')\n",
        "start_time = time.time()\n",
        "double_mlp_classifier.fit(ho_two_class_91_train_X.reshape(ho_two_class_91_train_X.shape[0], -1), ho_two_class_91_train_y.ravel())\n",
        "print(\"Execution Time: %s seconds\" % (time.time() - start_time))\n",
        "ho_two_class_91_pred_y = double_mlp_classifier.predict(ho_two_class_91_test_X.reshape(ho_two_class_91_test_X.shape[0], -1))\n",
        "matrix = metrics.confusion_matrix(ho_two_class_91_test_y, ho_two_class_91_pred_y)\n",
        "print('Acurácia:', np.trace(matrix) / len(ho_two_class_91_test_y) * 100, '%\\n')\n",
        "\n",
        "print('Hidden Layers: 100, 100 | Two Class Data-set | 8/2 Holdout')\n",
        "start_time = time.time()\n",
        "double_mlp_classifier.fit(ho_two_class_82_train_X.reshape(ho_two_class_82_train_X.shape[0], -1), ho_two_class_82_train_y.ravel())\n",
        "print(\"Execution Time: %s seconds\" % (time.time() - start_time))\n",
        "ho_two_class_82_pred_y = double_mlp_classifier.predict(ho_two_class_82_test_X.reshape(ho_two_class_82_test_X.shape[0], -1))\n",
        "matrix = metrics.confusion_matrix(ho_two_class_82_test_y, ho_two_class_82_pred_y)\n",
        "print('Acurácia:', np.trace(matrix) / len(ho_two_class_82_test_y) * 100, '%\\n')\n",
        "\n",
        "print('Hidden Layers: 100, 100 | Two Class Data-set | 7/3 Holdout')\n",
        "start_time = time.time()\n",
        "double_mlp_classifier.fit(ho_two_class_73_train_X.reshape(ho_two_class_73_train_X.shape[0], -1), ho_two_class_73_train_y.ravel())\n",
        "print(\"Execution Time: %s seconds\" % (time.time() - start_time))\n",
        "ho_two_class_73_pred_y = double_mlp_classifier.predict(ho_two_class_73_test_X.reshape(ho_two_class_73_test_X.shape[0], -1))\n",
        "matrix = metrics.confusion_matrix(ho_two_class_73_test_y, ho_two_class_73_pred_y)\n",
        "print('Acurácia:', np.trace(matrix) / len(ho_two_class_73_test_y) * 100, '%\\n')"
      ],
      "execution_count": 20,
      "outputs": [
        {
          "output_type": "stream",
          "text": [
            "Hidden Layers: 100, 100 | Two Class Data-set | 9/1 Holdout\n",
            "Execution Time: 10.697244882583618 seconds\n",
            "Acurácia: 99.92107340173638 %\n",
            "\n",
            "Hidden Layers: 100, 100 | Two Class Data-set | 8/2 Holdout\n",
            "Execution Time: 11.26682734489441 seconds\n",
            "Acurácia: 99.96052112120016 %\n",
            "\n",
            "Hidden Layers: 100, 100 | Two Class Data-set | 7/3 Holdout\n",
            "Execution Time: 9.150220155715942 seconds\n",
            "Acurácia: 99.94736842105263 %\n",
            "\n"
          ],
          "name": "stdout"
        }
      ]
    },
    {
      "cell_type": "code",
      "metadata": {
        "id": "zLt5c-b0g5P1",
        "outputId": "8c382fd5-4bfa-4077-953d-f35974cd1a5c",
        "colab": {
          "base_uri": "https://localhost:8080/"
        }
      },
      "source": [
        "'''\n",
        "Original Size and Holdout sets\n",
        "'''\n",
        "\n",
        "print('Hidden Layers: 100, 100 | Original Data-set | 9/1 Holdout')\n",
        "start_time = time.time()\n",
        "double_mlp_classifier.fit(ho_original_91_train_X.reshape(ho_original_91_train_X.shape[0], -1), ho_original_91_train_y.ravel())\n",
        "print(\"Execution Time: %s seconds\" % (time.time() - start_time))\n",
        "ho_original_91_pred_y = double_mlp_classifier.predict(ho_original_91_test_X.reshape(ho_original_91_test_X.shape[0], -1))\n",
        "matrix = metrics.confusion_matrix(ho_original_91_test_y, ho_original_91_pred_y)\n",
        "print('Acurácia:', np.trace(matrix) / len(ho_original_91_test_y) * 100, '%\\n')\n",
        "\n",
        "print('Hidden Layers: 100, 100 | Original Data-set | 8/2 Holdout')\n",
        "start_time = time.time()\n",
        "double_mlp_classifier.fit(ho_original_82_train_X.reshape(ho_original_82_train_X.shape[0], -1), ho_original_82_train_y.ravel())\n",
        "print(\"Execution Time: %s seconds\" % (time.time() - start_time))\n",
        "ho_original_82_pred_y = double_mlp_classifier.predict(ho_original_82_test_X.reshape(ho_original_82_test_X.shape[0], -1))\n",
        "matrix = metrics.confusion_matrix(ho_original_82_test_y, ho_original_82_pred_y)\n",
        "print('Acurácia:', np.trace(matrix) / len(ho_original_82_test_y) * 100, '%\\n')\n",
        "\n",
        "print('Hidden Layers: 100, 100 | Original Data-set | 7/3 Holdout')\n",
        "start_time = time.time()\n",
        "double_mlp_classifier.fit(ho_original_73_train_X.reshape(ho_original_73_train_X.shape[0], -1), ho_original_73_train_y.ravel())\n",
        "print(\"Execution Time: %s seconds\" % (time.time() - start_time))\n",
        "ho_original_73_pred_y = double_mlp_classifier.predict(ho_original_73_test_X.reshape(ho_original_73_test_X.shape[0], -1))\n",
        "matrix = metrics.confusion_matrix(ho_original_73_test_y, ho_original_73_pred_y)\n",
        "print('Acurácia:', np.trace(matrix) / len(ho_original_73_test_y) * 100, '%\\n')"
      ],
      "execution_count": 21,
      "outputs": [
        {
          "output_type": "stream",
          "text": [
            "Hidden Layers: 100, 100 | Original Data-set | 9/1 Holdout\n",
            "Execution Time: 151.73723983764648 seconds\n",
            "Acurácia: 96.58333333333333 %\n",
            "\n",
            "Hidden Layers: 100, 100 | Original Data-set | 8/2 Holdout\n",
            "Execution Time: 135.7206768989563 seconds\n",
            "Acurácia: 96.80833333333332 %\n",
            "\n",
            "Hidden Layers: 100, 100 | Original Data-set | 7/3 Holdout\n",
            "Execution Time: 143.04812335968018 seconds\n",
            "Acurácia: 96.32222222222222 %\n",
            "\n"
          ],
          "name": "stdout"
        }
      ]
    },
    {
      "cell_type": "code",
      "metadata": {
        "id": "L_nIgybkiP9l",
        "outputId": "e1f72bab-dec0-4397-bef7-89a90cb21c53",
        "colab": {
          "base_uri": "https://localhost:8080/"
        }
      },
      "source": [
        "'''\n",
        "Half Size Dataset and Holdout sets\n",
        "'''\n",
        "\n",
        "print('Hidden Layers: 100, 100 | Half Data-set | 9/1 Holdout')\n",
        "start_time = time.time()\n",
        "double_mlp_classifier.fit(ho_half_91_train_X.reshape(ho_half_91_train_X.shape[0], -1), ho_half_91_train_y.ravel())\n",
        "print(\"Execution Time: %s seconds\" % (time.time() - start_time))\n",
        "ho_half_91_pred_y = double_mlp_classifier.predict(ho_half_91_test_X.reshape(ho_half_91_test_X.shape[0], -1))\n",
        "matrix = metrics.confusion_matrix(ho_half_91_test_y, ho_half_91_pred_y)\n",
        "print('Acurácia:', np.trace(matrix) / len(ho_half_91_test_y) * 100, '%\\n')\n",
        "\n",
        "print('Hidden Layers: 100, 100 | Half Data-set | 8/2 Holdout')\n",
        "start_time = time.time()\n",
        "double_mlp_classifier.fit(ho_half_82_train_X.reshape(ho_half_82_train_X.shape[0], -1), ho_half_82_train_y.ravel())\n",
        "print(\"Execution Time: %s seconds\" % (time.time() - start_time))\n",
        "ho_half_82_pred_y = double_mlp_classifier.predict(ho_half_82_test_X.reshape(ho_half_82_test_X.shape[0], -1))\n",
        "matrix = metrics.confusion_matrix(ho_half_82_test_y, ho_half_82_pred_y)\n",
        "print('Acurácia:', np.trace(matrix) / len(ho_half_82_test_y) * 100, '%\\n')\n",
        "\n",
        "print('Hidden Layers: 100, 100 | Half Data-set | 7/3 Holdout')\n",
        "start_time = time.time()\n",
        "double_mlp_classifier.fit(ho_half_73_train_X.reshape(ho_half_73_train_X.shape[0], -1), ho_half_73_train_y.ravel())\n",
        "print(\"Execution Time: %s seconds\" % (time.time() - start_time))\n",
        "ho_half_73_pred_y = double_mlp_classifier.predict(ho_half_73_test_X.reshape(ho_half_73_test_X.shape[0], -1))\n",
        "matrix = metrics.confusion_matrix(ho_half_73_test_y, ho_half_73_pred_y)\n",
        "print('Acurácia:', np.trace(matrix) / len(ho_half_73_test_y) * 100, '%\\n')"
      ],
      "execution_count": 22,
      "outputs": [
        {
          "output_type": "stream",
          "text": [
            "Hidden Layers: 100, 100 | Half Data-set | 9/1 Holdout\n",
            "Execution Time: 36.07244563102722 seconds\n",
            "Acurácia: 94.36666666666666 %\n",
            "\n",
            "Hidden Layers: 100, 100 | Half Data-set | 8/2 Holdout\n",
            "Execution Time: 46.05559945106506 seconds\n",
            "Acurácia: 94.51666666666667 %\n",
            "\n",
            "Hidden Layers: 100, 100 | Half Data-set | 7/3 Holdout\n",
            "Execution Time: 36.24820303916931 seconds\n",
            "Acurácia: 95.01111111111112 %\n",
            "\n"
          ],
          "name": "stdout"
        }
      ]
    },
    {
      "cell_type": "code",
      "metadata": {
        "id": "-xk4lI20ibF1",
        "outputId": "1e5578c1-48c8-42b2-b743-c632ffffbaad",
        "colab": {
          "base_uri": "https://localhost:8080/"
        }
      },
      "source": [
        "'''\n",
        "Smaller Dataset and Holdout sets\n",
        "'''\n",
        "\n",
        "print('Hidden Layers: 100, 100 | Smaller Data-set | 9/1 Holdout')\n",
        "start_time = time.time()\n",
        "double_mlp_classifier.fit(ho_smaller_91_train_X.reshape(ho_smaller_91_train_X.shape[0], -1), ho_smaller_91_train_y.ravel())\n",
        "print(\"Execution Time: %s seconds\" % (time.time() - start_time))\n",
        "ho_smaller_91_pred_y = double_mlp_classifier.predict(ho_smaller_91_test_X.reshape(ho_smaller_91_test_X.shape[0], -1))\n",
        "matrix = metrics.confusion_matrix(ho_smaller_91_test_y, ho_smaller_91_pred_y)\n",
        "print('Acurácia:', np.trace(matrix) / len(ho_smaller_91_test_y) * 100, '%\\n')\n",
        "\n",
        "print('Hidden Layers: 100, 100 | Smaller Data-set | 8/2 Holdout')\n",
        "start_time = time.time()\n",
        "double_mlp_classifier.fit(ho_smaller_82_train_X.reshape(ho_smaller_82_train_X.shape[0], -1), ho_smaller_82_train_y.ravel())\n",
        "print(\"Execution Time: %s seconds\" % (time.time() - start_time))\n",
        "ho_smaller_82_pred_y = double_mlp_classifier.predict(ho_smaller_82_test_X.reshape(ho_smaller_82_test_X.shape[0], -1))\n",
        "matrix = metrics.confusion_matrix(ho_smaller_82_test_y, ho_smaller_82_pred_y)\n",
        "print('Acurácia:', np.trace(matrix) / len(ho_smaller_82_test_y) * 100, '%\\n')\n",
        "\n",
        "print('Hidden Layers: 100, 100 | Smaller Data-set | 7/3 Holdout')\n",
        "start_time = time.time()\n",
        "double_mlp_classifier.fit(ho_smaller_73_train_X.reshape(ho_smaller_73_train_X.shape[0], -1), ho_smaller_73_train_y.ravel())\n",
        "print(\"Execution Time: %s seconds\" % (time.time() - start_time))\n",
        "ho_smaller_73_pred_y = double_mlp_classifier.predict(ho_smaller_73_test_X.reshape(ho_smaller_73_test_X.shape[0], -1))\n",
        "matrix = metrics.confusion_matrix(ho_smaller_73_test_y, ho_smaller_73_pred_y)\n",
        "print('Acurácia:', np.trace(matrix) / len(ho_smaller_73_test_y) * 100, '%\\n')"
      ],
      "execution_count": 23,
      "outputs": [
        {
          "output_type": "stream",
          "text": [
            "Hidden Layers: 100, 100 | Smaller Data-set | 9/1 Holdout\n",
            "Execution Time: 18.972622394561768 seconds\n",
            "Acurácia: 91.58333333333334 %\n",
            "\n",
            "Hidden Layers: 100, 100 | Smaller Data-set | 8/2 Holdout\n",
            "Execution Time: 15.16011357307434 seconds\n",
            "Acurácia: 91.0 %\n",
            "\n",
            "Hidden Layers: 100, 100 | Smaller Data-set | 7/3 Holdout\n",
            "Execution Time: 13.492326736450195 seconds\n",
            "Acurácia: 89.69444444444444 %\n",
            "\n"
          ],
          "name": "stdout"
        }
      ]
    },
    {
      "cell_type": "code",
      "metadata": {
        "id": "kpV92w8GipQ2"
      },
      "source": [
        "'''\n",
        "Smaller Layers Size\n",
        "'''\n",
        "\n",
        "smaller_mlp_classifier = MLPClassifier(hidden_layer_sizes=(24, 64), random_state=1, activation='relu', solver='adam')"
      ],
      "execution_count": 24,
      "outputs": []
    },
    {
      "cell_type": "code",
      "metadata": {
        "id": "cyspGqJnmRGf",
        "outputId": "611b6e1d-e6c6-4cae-c03c-136a60a50622",
        "colab": {
          "base_uri": "https://localhost:8080/"
        }
      },
      "source": [
        "'''\n",
        "Two Classes Data-set\n",
        "'''\n",
        "\n",
        "print('Hidden Layers: 24, 64 | Two Class Data-set | 9/1 Holdout')\n",
        "start_time = time.time()\n",
        "smaller_mlp_classifier.fit(ho_two_class_91_train_X.reshape(ho_two_class_91_train_X.shape[0], -1), ho_two_class_91_train_y.ravel())\n",
        "print(\"Execution Time: %s seconds\" % (time.time() - start_time))\n",
        "ho_two_class_91_pred_y = smaller_mlp_classifier.predict(ho_two_class_91_test_X.reshape(ho_two_class_91_test_X.shape[0], -1))\n",
        "matrix = metrics.confusion_matrix(ho_two_class_91_test_y, ho_two_class_91_pred_y)\n",
        "print('Acurácia:', np.trace(matrix) / len(ho_two_class_91_test_y) * 100, '%\\n')\n",
        "\n",
        "print('Hidden Layers: 24, 64  | Two Class Data-set | 8/2 Holdout')\n",
        "start_time = time.time()\n",
        "smaller_mlp_classifier.fit(ho_two_class_82_train_X.reshape(ho_two_class_82_train_X.shape[0], -1), ho_two_class_82_train_y.ravel())\n",
        "print(\"Execution Time: %s seconds\" % (time.time() - start_time))\n",
        "ho_two_class_82_pred_y = smaller_mlp_classifier.predict(ho_two_class_82_test_X.reshape(ho_two_class_82_test_X.shape[0], -1))\n",
        "matrix = metrics.confusion_matrix(ho_two_class_82_test_y, ho_two_class_82_pred_y)\n",
        "print('Acurácia:', np.trace(matrix) / len(ho_two_class_82_test_y) * 100, '%\\n')\n",
        "\n",
        "print('Hidden Layers: 24, 64  | Two Class Data-set | 7/3 Holdout')\n",
        "start_time = time.time()\n",
        "smaller_mlp_classifier.fit(ho_two_class_73_train_X.reshape(ho_two_class_73_train_X.shape[0], -1), ho_two_class_73_train_y.ravel())\n",
        "print(\"Execution Time: %s seconds\" % (time.time() - start_time))\n",
        "ho_two_class_73_pred_y = smaller_mlp_classifier.predict(ho_two_class_73_test_X.reshape(ho_two_class_73_test_X.shape[0], -1))\n",
        "matrix = metrics.confusion_matrix(ho_two_class_73_test_y, ho_two_class_73_pred_y)\n",
        "print('Acurácia:', np.trace(matrix) / len(ho_two_class_73_test_y) * 100, '%\\n')"
      ],
      "execution_count": 25,
      "outputs": [
        {
          "output_type": "stream",
          "text": [
            "Hidden Layers: 24, 64 | Two Class Data-set | 9/1 Holdout\n",
            "Execution Time: 5.493883371353149 seconds\n",
            "Acurácia: 100.0 %\n",
            "\n",
            "Hidden Layers: 24, 64  | Two Class Data-set | 8/2 Holdout\n",
            "Execution Time: 3.948428153991699 seconds\n",
            "Acurácia: 99.92104224240032 %\n",
            "\n",
            "Hidden Layers: 24, 64  | Two Class Data-set | 7/3 Holdout\n",
            "Execution Time: 4.380683898925781 seconds\n",
            "Acurácia: 99.86842105263159 %\n",
            "\n"
          ],
          "name": "stdout"
        }
      ]
    },
    {
      "cell_type": "code",
      "metadata": {
        "id": "BB4J8nzhiv0K",
        "outputId": "fab709cc-4785-48b1-ac83-79d2eda1625b",
        "colab": {
          "base_uri": "https://localhost:8080/"
        }
      },
      "source": [
        "'''\n",
        "Original Size and Holdout sets\n",
        "'''\n",
        "\n",
        "print('Hidden Layers: 24, 64 | Original Data-set | 9/1 Holdout')\n",
        "start_time = time.time()\n",
        "smaller_mlp_classifier.fit(ho_original_91_train_X.reshape(ho_original_91_train_X.shape[0], -1), ho_original_91_train_y.ravel())\n",
        "print(\"Execution Time: %s seconds\" % (time.time() - start_time))\n",
        "ho_original_91_pred_y = smaller_mlp_classifier.predict(ho_original_91_test_X.reshape(ho_original_91_test_X.shape[0], -1))\n",
        "matrix = metrics.confusion_matrix(ho_original_91_test_y, ho_original_91_pred_y)\n",
        "print('Acurácia:', np.trace(matrix) / len(ho_original_91_test_y) * 100, '%\\n')\n",
        "\n",
        "print('Hidden Layers: 24, 64 | Original Data-set | 8/2 Holdout')\n",
        "start_time = time.time()\n",
        "smaller_mlp_classifier.fit(ho_original_82_train_X.reshape(ho_original_82_train_X.shape[0], -1), ho_original_82_train_y.ravel())\n",
        "print(\"Execution Time: %s seconds\" % (time.time() - start_time))\n",
        "ho_original_82_pred_y = smaller_mlp_classifier.predict(ho_original_82_test_X.reshape(ho_original_82_test_X.shape[0], -1))\n",
        "matrix = metrics.confusion_matrix(ho_original_82_test_y, ho_original_82_pred_y)\n",
        "print('Acurácia:', np.trace(matrix) / len(ho_original_82_test_y) * 100, '%\\n')\n",
        "\n",
        "print('Hidden Layers: 24, 64  | Original Data-set | 7/3 Holdout')\n",
        "start_time = time.time()\n",
        "smaller_mlp_classifier.fit(ho_original_73_train_X.reshape(ho_original_73_train_X.shape[0], -1), ho_original_73_train_y.ravel())\n",
        "print(\"Execution Time: %s seconds\" % (time.time() - start_time))\n",
        "ho_original_73_pred_y = smaller_mlp_classifier.predict(ho_original_73_test_X.reshape(ho_original_73_test_X.shape[0], -1))\n",
        "matrix = metrics.confusion_matrix(ho_original_73_test_y, ho_original_73_pred_y)\n",
        "print('Acurácia:', np.trace(matrix) / len(ho_original_73_test_y) * 100, '%\\n')"
      ],
      "execution_count": 26,
      "outputs": [
        {
          "output_type": "stream",
          "text": [
            "Hidden Layers: 24, 64 | Original Data-set | 9/1 Holdout\n"
          ],
          "name": "stdout"
        },
        {
          "output_type": "stream",
          "text": [
            "/usr/local/lib/python3.6/dist-packages/sklearn/neural_network/_multilayer_perceptron.py:571: ConvergenceWarning: Stochastic Optimizer: Maximum iterations (200) reached and the optimization hasn't converged yet.\n",
            "  % self.max_iter, ConvergenceWarning)\n"
          ],
          "name": "stderr"
        },
        {
          "output_type": "stream",
          "text": [
            "Execution Time: 296.2902069091797 seconds\n",
            "Acurácia: 94.19999999999999 %\n",
            "\n",
            "Hidden Layers: 24, 64 | Original Data-set | 8/2 Holdout\n",
            "Execution Time: 221.3724389076233 seconds\n",
            "Acurácia: 93.60833333333333 %\n",
            "\n",
            "Hidden Layers: 24, 64  | Original Data-set | 7/3 Holdout\n",
            "Execution Time: 125.31856989860535 seconds\n",
            "Acurácia: 93.48333333333333 %\n",
            "\n"
          ],
          "name": "stdout"
        }
      ]
    },
    {
      "cell_type": "code",
      "metadata": {
        "id": "kXcfYwaJi4Hy",
        "outputId": "d0bee31e-c28d-4e5b-f255-0102235af493",
        "colab": {
          "base_uri": "https://localhost:8080/"
        }
      },
      "source": [
        "'''\n",
        "Half Size Dataset and Holdout sets\n",
        "'''\n",
        "\n",
        "print('Hidden Layers: 24, 64  | Half Data-set | 9/1 Holdout')\n",
        "start_time = time.time()\n",
        "smaller_mlp_classifier.fit(ho_half_91_train_X.reshape(ho_half_91_train_X.shape[0], -1), ho_half_91_train_y.ravel())\n",
        "print(\"Execution Time: %s seconds\" % (time.time() - start_time))\n",
        "ho_half_91_pred_y = smaller_mlp_classifier.predict(ho_half_91_test_X.reshape(ho_half_91_test_X.shape[0], -1))\n",
        "matrix = metrics.confusion_matrix(ho_half_91_test_y, ho_half_91_pred_y)\n",
        "print('Acurácia:', np.trace(matrix) / len(ho_half_91_test_y) * 100, '%\\n')\n",
        "\n",
        "print('Hidden Layers: 24, 64  | Half Data-set | 8/2 Holdout')\n",
        "start_time = time.time()\n",
        "smaller_mlp_classifier.fit(ho_half_82_train_X.reshape(ho_half_82_train_X.shape[0], -1), ho_half_82_train_y.ravel())\n",
        "print(\"Execution Time: %s seconds\" % (time.time() - start_time))\n",
        "ho_half_82_pred_y = smaller_mlp_classifier.predict(ho_half_82_test_X.reshape(ho_half_82_test_X.shape[0], -1))\n",
        "matrix = metrics.confusion_matrix(ho_half_82_test_y, ho_half_82_pred_y)\n",
        "print('Acurácia:', np.trace(matrix) / len(ho_half_82_test_y) * 100, '%\\n')\n",
        "\n",
        "print('Hidden Layers: 24, 64  | Half Data-set | 7/3 Holdout')\n",
        "start_time = time.time()\n",
        "smaller_mlp_classifier.fit(ho_half_73_train_X.reshape(ho_half_73_train_X.shape[0], -1), ho_half_73_train_y.ravel())\n",
        "print(\"Execution Time: %s seconds\" % (time.time() - start_time))\n",
        "ho_half_73_pred_y = smaller_mlp_classifier.predict(ho_half_73_test_X.reshape(ho_half_73_test_X.shape[0], -1))\n",
        "matrix = metrics.confusion_matrix(ho_half_73_test_y, ho_half_73_pred_y)\n",
        "print('Acurácia:', np.trace(matrix) / len(ho_half_73_test_y) * 100, '%\\n')"
      ],
      "execution_count": 27,
      "outputs": [
        {
          "output_type": "stream",
          "text": [
            "Hidden Layers: 24, 64  | Half Data-set | 9/1 Holdout\n",
            "Execution Time: 62.07214546203613 seconds\n",
            "Acurácia: 92.56666666666666 %\n",
            "\n",
            "Hidden Layers: 24, 64  | Half Data-set | 8/2 Holdout\n",
            "Execution Time: 78.70981097221375 seconds\n",
            "Acurácia: 93.30000000000001 %\n",
            "\n",
            "Hidden Layers: 24, 64  | Half Data-set | 7/3 Holdout\n",
            "Execution Time: 88.31197476387024 seconds\n",
            "Acurácia: 92.65555555555555 %\n",
            "\n"
          ],
          "name": "stdout"
        }
      ]
    },
    {
      "cell_type": "code",
      "metadata": {
        "id": "Yzo4nKjGjBbZ",
        "outputId": "6f5fe92a-cf7e-4d23-a7b1-56741aaed0bf",
        "colab": {
          "base_uri": "https://localhost:8080/"
        }
      },
      "source": [
        "'''\n",
        "Smaller Dataset and Holdout sets\n",
        "'''\n",
        "\n",
        "print('Hidden Layers: 24, 64  | Smaller Data-set | 9/1 Holdout')\n",
        "start_time = time.time()\n",
        "smaller_mlp_classifier.fit(ho_smaller_91_train_X.reshape(ho_smaller_91_train_X.shape[0], -1), ho_smaller_91_train_y.ravel())\n",
        "print(\"Execution Time: %s seconds\" % (time.time() - start_time))\n",
        "ho_smaller_91_pred_y = smaller_mlp_classifier.predict(ho_smaller_91_test_X.reshape(ho_smaller_91_test_X.shape[0], -1))\n",
        "matrix = metrics.confusion_matrix(ho_smaller_91_test_y, ho_smaller_91_pred_y)\n",
        "print('Acurácia:', np.trace(matrix) / len(ho_smaller_91_test_y) * 100, '%\\n')\n",
        "\n",
        "print('Hidden Layers: 24, 64  | Smaller Data-set | 8/2 Holdout')\n",
        "start_time = time.time()\n",
        "smaller_mlp_classifier.fit(ho_smaller_82_train_X.reshape(ho_smaller_82_train_X.shape[0], -1), ho_smaller_82_train_y.ravel())\n",
        "print(\"Execution Time: %s seconds\" % (time.time() - start_time))\n",
        "ho_smaller_82_pred_y = smaller_mlp_classifier.predict(ho_smaller_82_test_X.reshape(ho_smaller_82_test_X.shape[0], -1))\n",
        "matrix = metrics.confusion_matrix(ho_smaller_82_test_y, ho_smaller_82_pred_y)\n",
        "print('Acurácia:', np.trace(matrix) / len(ho_smaller_82_test_y) * 100, '%\\n')\n",
        "\n",
        "print('Hidden Layers: 24, 64  | Smaller Data-set | 7/3 Holdout')\n",
        "start_time = time.time()\n",
        "smaller_mlp_classifier.fit(ho_smaller_73_train_X.reshape(ho_smaller_73_train_X.shape[0], -1), ho_smaller_73_train_y.ravel())\n",
        "print(\"Execution Time: %s seconds\" % (time.time() - start_time))\n",
        "ho_smaller_73_pred_y = smaller_mlp_classifier.predict(ho_smaller_73_test_X.reshape(ho_smaller_73_test_X.shape[0], -1))\n",
        "matrix = metrics.confusion_matrix(ho_smaller_73_test_y, ho_smaller_73_pred_y)\n",
        "print('Acurácia:', np.trace(matrix) / len(ho_smaller_73_test_y) * 100, '%\\n')"
      ],
      "execution_count": 28,
      "outputs": [
        {
          "output_type": "stream",
          "text": [
            "Hidden Layers: 24, 64  | Smaller Data-set | 9/1 Holdout\n",
            "Execution Time: 25.58626437187195 seconds\n",
            "Acurácia: 90.66666666666666 %\n",
            "\n",
            "Hidden Layers: 24, 64  | Smaller Data-set | 8/2 Holdout\n",
            "Execution Time: 20.807932138442993 seconds\n",
            "Acurácia: 89.70833333333333 %\n",
            "\n",
            "Hidden Layers: 24, 64  | Smaller Data-set | 7/3 Holdout\n",
            "Execution Time: 16.49225378036499 seconds\n",
            "Acurácia: 90.61111111111111 %\n",
            "\n"
          ],
          "name": "stdout"
        }
      ]
    }
  ]
}