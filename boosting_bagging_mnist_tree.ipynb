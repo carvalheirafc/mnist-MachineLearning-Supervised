{
  "nbformat": 4,
  "nbformat_minor": 0,
  "metadata": {
    "colab": {
      "name": "boosting_bagging_mnist-tree.ipynb",
      "provenance": [],
      "toc_visible": true,
      "mount_file_id": "https://github.com/carvalheirafc/mnist-MachineLearning-Supervised/blob/main/boosting_bagging_mnist_tree.ipynb",
      "authorship_tag": "ABX9TyMEeiAMJj9mEQeOdbI/zbnT",
      "include_colab_link": true
    },
    "kernelspec": {
      "name": "python3",
      "display_name": "Python 3"
    }
  },
  "cells": [
    {
      "cell_type": "markdown",
      "metadata": {
        "id": "view-in-github",
        "colab_type": "text"
      },
      "source": [
        "<a href=\"https://colab.research.google.com/github/carvalheirafc/mnist-MachineLearning-Supervised/blob/main/boosting_bagging_mnist_tree.ipynb\" target=\"_parent\"><img src=\"https://colab.research.google.com/assets/colab-badge.svg\" alt=\"Open In Colab\"/></a>"
      ]
    },
    {
      "cell_type": "markdown",
      "metadata": {
        "id": "6TysPH2UbCgf"
      },
      "source": [
        "### Import "
      ]
    },
    {
      "cell_type": "code",
      "metadata": {
        "id": "1wE9WD1MARHU"
      },
      "source": [
        "import numpy as np\n",
        "from sklearn.model_selection import train_test_split\n",
        "from sklearn import metrics\n",
        "from sklearn.ensemble import BaggingClassifier\n",
        "from sklearn.ensemble import AdaBoostClassifier\n",
        "from sklearn import tree\n",
        "import time"
      ],
      "execution_count": 2,
      "outputs": []
    },
    {
      "cell_type": "markdown",
      "metadata": {
        "id": "ab_eSEisNMkl"
      },
      "source": [
        "### Data Input and miscs\n"
      ]
    },
    {
      "cell_type": "code",
      "metadata": {
        "id": "giwtI9kQSDZM"
      },
      "source": [
        "data_X = np.load('./drive/My Drive/mnist_datasets/mnist_X.npy')\n",
        "data_y = np.load('./drive/My Drive/mnist_datasets/mnist_labels.npy')"
      ],
      "execution_count": 3,
      "outputs": []
    },
    {
      "cell_type": "code",
      "metadata": {
        "id": "dNx1VgivjGHU",
        "colab": {
          "base_uri": "https://localhost:8080/"
        },
        "outputId": "7ee0fd4b-f3ba-4736-d445-1346cbfae8ef"
      },
      "source": [
        "half_X = np.array(np.split(data_X, 2))\n",
        "half_y = np.array(np.split(data_y, 2))\n",
        "\n",
        "print('Mnist 50% Data: \\n')\n",
        "print('X: ', half_X[0].shape)\n",
        "print('y: ', half_y[0].shape)"
      ],
      "execution_count": 4,
      "outputs": [
        {
          "output_type": "stream",
          "text": [
            "Mnist 50% Data: \n",
            "\n",
            "X:  (30000, 1, 28, 28)\n",
            "y:  (30000, 1)\n"
          ],
          "name": "stdout"
        }
      ]
    },
    {
      "cell_type": "code",
      "metadata": {
        "id": "QJ103KW0nWWf",
        "colab": {
          "base_uri": "https://localhost:8080/"
        },
        "outputId": "ec48442d-e5d9-460a-cc52-7ed6695f7f6a"
      },
      "source": [
        "smaller_X = np.array(np.split(data_X, 5))\n",
        "smaller_y = np.array(np.split(data_y, 5))\n",
        "\n",
        "print('Mnist 20% Data: \\n')\n",
        "print('X: ', smaller_X[0].shape)\n",
        "print('y: ', smaller_y[0].shape)"
      ],
      "execution_count": 5,
      "outputs": [
        {
          "output_type": "stream",
          "text": [
            "Mnist 20% Data: \n",
            "\n",
            "X:  (12000, 1, 28, 28)\n",
            "y:  (12000, 1)\n"
          ],
          "name": "stdout"
        }
      ]
    },
    {
      "cell_type": "code",
      "metadata": {
        "id": "wb13x1BRqUZI",
        "colab": {
          "base_uri": "https://localhost:8080/"
        },
        "outputId": "f8b616f2-007c-46bd-f82b-8e7e160ba9ea"
      },
      "source": [
        "data_two_classes = np.load('./drive/My Drive/mnist_datasets/two_classes_data.npy', allow_pickle=True)\n",
        "two_classes_X = np.concatenate((data_two_classes[0][0], data_two_classes[1][0]), axis=0)\n",
        "two_classes_y = np.concatenate((data_two_classes[0][1], data_two_classes[1][1]), axis=0)\n",
        "print('Mnist Two Classes: \\n')\n",
        "print('Zeros: ', data_two_classes[0][0].shape)\n",
        "print('Ones:  ', data_two_classes[1][0].shape)\n",
        "print('X:     ', two_classes_X.shape)\n",
        "print('y:     ', two_classes_y.shape)\n"
      ],
      "execution_count": 6,
      "outputs": [
        {
          "output_type": "stream",
          "text": [
            "Mnist Two Classes: \n",
            "\n",
            "Zeros:  (5923, 28, 28)\n",
            "Ones:   (6742, 28, 28)\n",
            "X:      (12665, 28, 28)\n",
            "y:      (12665,)\n"
          ],
          "name": "stdout"
        }
      ]
    },
    {
      "cell_type": "markdown",
      "metadata": {
        "id": "nRo5bh_uDPmC"
      },
      "source": [
        "### Hold-Out Sets\n"
      ]
    },
    {
      "cell_type": "code",
      "metadata": {
        "id": "GgjdsiT-Edcx",
        "colab": {
          "base_uri": "https://localhost:8080/"
        },
        "outputId": "3cf8707f-044d-478b-f623-4af88b547763"
      },
      "source": [
        "ho_original_91_train_X, ho_original_91_test_X, ho_original_91_train_y, ho_original_91_test_y = train_test_split(data_X, data_y, train_size=0.9, random_state=555)\n",
        "ho_original_82_train_X, ho_original_82_test_X, ho_original_82_train_y, ho_original_82_test_y = train_test_split(data_X, data_y, train_size=0.8, random_state=555)\n",
        "ho_original_73_train_X, ho_original_73_test_X, ho_original_73_train_y, ho_original_73_test_y = train_test_split(data_X, data_y, train_size=0.7, random_state=555)\n",
        "\n",
        "print('Hold-Out Original Data Split\\n')\n",
        "print('9/1: ', ho_original_91_train_X.shape)\n",
        "print('8/2: ', ho_original_82_train_X.shape)\n",
        "print('7/3: ', ho_original_73_train_X.shape)"
      ],
      "execution_count": 7,
      "outputs": [
        {
          "output_type": "stream",
          "text": [
            "Hold-Out Original Data Split\n",
            "\n",
            "9/1:  (54000, 1, 28, 28)\n",
            "8/2:  (48000, 1, 28, 28)\n",
            "7/3:  (42000, 1, 28, 28)\n"
          ],
          "name": "stdout"
        }
      ]
    },
    {
      "cell_type": "code",
      "metadata": {
        "id": "lVDL-wyNwsnq",
        "colab": {
          "base_uri": "https://localhost:8080/"
        },
        "outputId": "5b3210d4-62d6-47fe-ed1f-368e50f9d737"
      },
      "source": [
        "ho_two_class_91_train_X, ho_two_class_91_test_X, ho_two_class_91_train_y, ho_two_class_91_test_y = train_test_split(two_classes_X, two_classes_y, train_size=0.9, random_state=555)\n",
        "ho_two_class_82_train_X, ho_two_class_82_test_X, ho_two_class_82_train_y, ho_two_class_82_test_y = train_test_split(two_classes_X, two_classes_y, train_size=0.8, random_state=555)\n",
        "ho_two_class_73_train_X, ho_two_class_73_test_X, ho_two_class_73_train_y, ho_two_class_73_test_y = train_test_split(two_classes_X, two_classes_y, train_size=0.7, random_state=555)\n",
        "\n",
        "print('Hold-Out Mnist Two Classes[0, 1] Split\\n')\n",
        "print('9/1: ', ho_two_class_91_train_X.shape)\n",
        "print('8/2: ', ho_two_class_82_train_X.shape)\n",
        "print('7/3: ', ho_two_class_73_train_X.shape)"
      ],
      "execution_count": 8,
      "outputs": [
        {
          "output_type": "stream",
          "text": [
            "Hold-Out Mnist Two Classes[0, 1] Split\n",
            "\n",
            "9/1:  (11398, 28, 28)\n",
            "8/2:  (10132, 28, 28)\n",
            "7/3:  (8865, 28, 28)\n"
          ],
          "name": "stdout"
        }
      ]
    },
    {
      "cell_type": "code",
      "metadata": {
        "id": "_7jfW5pKpdRq",
        "colab": {
          "base_uri": "https://localhost:8080/"
        },
        "outputId": "ed8c38aa-55f8-4e3f-ec96-6e31457b9b07"
      },
      "source": [
        "ho_smaller_91_train_X, ho_smaller_91_test_X, ho_smaller_91_train_y, ho_smaller_91_test_y = train_test_split(smaller_X[0], smaller_y[0], train_size=0.9, random_state=555)\n",
        "ho_smaller_82_train_X, ho_smaller_82_test_X, ho_smaller_82_train_y, ho_smaller_82_test_y = train_test_split(smaller_X[0], smaller_y[0], train_size=0.8, random_state=555)\n",
        "ho_smaller_73_train_X, ho_smaller_73_test_X, ho_smaller_73_train_y, ho_smaller_73_test_y = train_test_split(smaller_X[0], smaller_y[0], train_size=0.7, random_state=555)\n",
        "\n",
        "print('Hold-Out Half Data Split\\n')\n",
        "print('9/1: ', ho_smaller_91_train_X.shape)\n",
        "print('8/2: ', ho_smaller_82_train_X.shape)\n",
        "print('7/3: ', ho_smaller_73_train_X.shape)"
      ],
      "execution_count": 9,
      "outputs": [
        {
          "output_type": "stream",
          "text": [
            "Hold-Out Half Data Split\n",
            "\n",
            "9/1:  (10800, 1, 28, 28)\n",
            "8/2:  (9600, 1, 28, 28)\n",
            "7/3:  (8400, 1, 28, 28)\n"
          ],
          "name": "stdout"
        }
      ]
    },
    {
      "cell_type": "markdown",
      "metadata": {
        "id": "giIeWqGo66Fz"
      },
      "source": [
        "### Decision Tree"
      ]
    },
    {
      "cell_type": "code",
      "metadata": {
        "id": "C3xB9xJy822p"
      },
      "source": [
        "'''\n",
        "Default ccp_alfa(Fator de confiança)\n",
        "'''\n",
        "\n",
        "default_tree_classifier = tree.DecisionTreeClassifier(ccp_alpha=0.0)"
      ],
      "execution_count": 10,
      "outputs": []
    },
    {
      "cell_type": "markdown",
      "metadata": {
        "id": "bYEBhIDer0gw"
      },
      "source": [
        "### Bagging"
      ]
    },
    {
      "cell_type": "code",
      "metadata": {
        "id": "sNztLjfwkVTs",
        "colab": {
          "base_uri": "https://localhost:8080/"
        },
        "outputId": "8277fa95-c6bf-4d11-d4ed-1fe96fc33df7"
      },
      "source": [
        "'''\n",
        "Two Classes Data-set\n",
        "'''\n",
        "estimators = [10, 15, 20]\n",
        "for estimator in estimators:\n",
        "  clf = BaggingClassifier(base_estimator=default_tree_classifier, n_estimators=estimator, random_state=555)\n",
        "  print('Bagging Estimators: ', estimator)\n",
        "  print('cpp_alpha 0.0 | Two Class Data-set | 7/3 Holdout')\n",
        "  start_time = time.time()\n",
        "  clf.fit(ho_two_class_73_train_X.reshape(ho_two_class_73_train_X.shape[0], -1), ho_two_class_73_train_y)\n",
        "  print(\"Execution Time: %s seconds\" % (time.time() - start_time))\n",
        "  ho_two_class_73_pred_y = clf.predict(ho_two_class_73_test_X.reshape(ho_two_class_73_test_X.shape[0], -1))\n",
        "  matrix = metrics.confusion_matrix(ho_two_class_73_test_y, ho_two_class_73_pred_y)\n",
        "  print('Acurácia:', np.trace(matrix) / len(ho_two_class_73_test_y) * 100, '%')\n",
        "  print('-------------------------------------------------- \\n\\n')"
      ],
      "execution_count": 11,
      "outputs": [
        {
          "output_type": "stream",
          "text": [
            "Bagging Estimators:  10\n",
            "cpp_alpha 0.0 | Two Class Data-set | 7/3 Holdout\n",
            "Execution Time: 4.770882606506348 seconds\n",
            "Acurácia: 99.68421052631578 %\n",
            "-------------------------------------------------- \n",
            "\n",
            "\n",
            "Bagging Estimators:  15\n",
            "cpp_alpha 0.0 | Two Class Data-set | 7/3 Holdout\n",
            "Execution Time: 7.165275573730469 seconds\n",
            "Acurácia: 99.60526315789474 %\n",
            "-------------------------------------------------- \n",
            "\n",
            "\n",
            "Bagging Estimators:  20\n",
            "cpp_alpha 0.0 | Two Class Data-set | 7/3 Holdout\n",
            "Execution Time: 9.771145105361938 seconds\n",
            "Acurácia: 99.6578947368421 %\n",
            "-------------------------------------------------- \n",
            "\n",
            "\n"
          ],
          "name": "stdout"
        }
      ]
    },
    {
      "cell_type": "code",
      "metadata": {
        "id": "-inhq6GcesYz",
        "colab": {
          "base_uri": "https://localhost:8080/"
        },
        "outputId": "bd6cc5e4-e476-4e54-d97d-a8dc7d82478d"
      },
      "source": [
        "'''\n",
        "Smaller Size and Holdout sets\n",
        "'''\n",
        "\n",
        "estimators = [10, 15, 20]\n",
        "for estimator in estimators:\n",
        "  clf = BaggingClassifier(base_estimator=default_tree_classifier, n_estimators=estimator, random_state=555)\n",
        "  print('Bagging Estimators: ', estimator)\n",
        "  print('cpp_alpha 0.0 | Smaller Data-set | 7/3 Holdout')\n",
        "  start_time = time.time()\n",
        "  clf.fit(ho_smaller_73_train_X.reshape(ho_smaller_73_train_X.shape[0], -1), ho_smaller_73_train_y.ravel())\n",
        "  print(\"Execution Time: %s seconds\" % (time.time() - start_time))\n",
        "  ho_smaller_73_pred_y = clf.predict(ho_smaller_73_test_X.reshape(ho_smaller_73_test_X.shape[0], -1))\n",
        "  matrix = metrics.confusion_matrix(ho_smaller_73_test_y, ho_smaller_73_pred_y)\n",
        "  print('Acurácia:', np.trace(matrix) / len(ho_smaller_73_test_y) * 100, '%')\n",
        "  print('-------------------------------------------------- \\n\\n')"
      ],
      "execution_count": 12,
      "outputs": [
        {
          "output_type": "stream",
          "text": [
            "Bagging Estimators:  10\n",
            "cpp_alpha 0.0 | Smaller Data-set | 7/3 Holdout\n",
            "Execution Time: 11.43708324432373 seconds\n",
            "Acurácia: 90.77777777777779 %\n",
            "-------------------------------------------------- \n",
            "\n",
            "\n",
            "Bagging Estimators:  15\n",
            "cpp_alpha 0.0 | Smaller Data-set | 7/3 Holdout\n",
            "Execution Time: 17.184021711349487 seconds\n",
            "Acurácia: 91.25 %\n",
            "-------------------------------------------------- \n",
            "\n",
            "\n",
            "Bagging Estimators:  20\n",
            "cpp_alpha 0.0 | Smaller Data-set | 7/3 Holdout\n",
            "Execution Time: 22.815407514572144 seconds\n",
            "Acurácia: 92.11111111111111 %\n",
            "-------------------------------------------------- \n",
            "\n",
            "\n"
          ],
          "name": "stdout"
        }
      ]
    },
    {
      "cell_type": "markdown",
      "metadata": {
        "id": "Cj-ikQUwx9nJ"
      },
      "source": [
        "### Boosting "
      ]
    },
    {
      "cell_type": "code",
      "metadata": {
        "id": "_BmN7eQI8FKG",
        "colab": {
          "base_uri": "https://localhost:8080/"
        },
        "outputId": "8f176421-e16b-439e-ef0e-eeb9a2b21908"
      },
      "source": [
        "'''\n",
        "Two Classes Data-set\n",
        "'''\n",
        "estimators = [10, 15, 20]\n",
        "for estimator in estimators:\n",
        "  clf = AdaBoostClassifier(base_estimator=default_tree_classifier, n_estimators=estimator, random_state=555)\n",
        "  print('Boosting Estimators: ', estimator)\n",
        "  print('cpp_alpha 0.0 | Two Class Data-set | 7/3 Holdout')\n",
        "  start_time = time.time()\n",
        "  clf.fit(ho_two_class_73_train_X.reshape(ho_two_class_73_train_X.shape[0], -1), ho_two_class_73_train_y)\n",
        "  print(\"Execution Time: %s seconds\" % (time.time() - start_time))\n",
        "  ho_two_class_73_pred_y = clf.predict(ho_two_class_73_test_X.reshape(ho_two_class_73_test_X.shape[0], -1))\n",
        "  matrix = metrics.confusion_matrix(ho_two_class_73_test_y, ho_two_class_73_pred_y)\n",
        "  print('Acurácia:', np.trace(matrix) / len(ho_two_class_73_test_y) * 100, '%')\n",
        "  print('-------------------------------------------------- \\n\\n')"
      ],
      "execution_count": 13,
      "outputs": [
        {
          "output_type": "stream",
          "text": [
            "Boosting Estimators:  10\n",
            "cpp_alpha 0.0 | Two Class Data-set | 7/3 Holdout\n",
            "Execution Time: 1.210524082183838 seconds\n",
            "Acurácia: 99.5 %\n",
            "-------------------------------------------------- \n",
            "\n",
            "\n",
            "Boosting Estimators:  15\n",
            "cpp_alpha 0.0 | Two Class Data-set | 7/3 Holdout\n",
            "Execution Time: 1.1832034587860107 seconds\n",
            "Acurácia: 99.5 %\n",
            "-------------------------------------------------- \n",
            "\n",
            "\n",
            "Boosting Estimators:  20\n",
            "cpp_alpha 0.0 | Two Class Data-set | 7/3 Holdout\n",
            "Execution Time: 1.2006747722625732 seconds\n",
            "Acurácia: 99.5 %\n",
            "-------------------------------------------------- \n",
            "\n",
            "\n"
          ],
          "name": "stdout"
        }
      ]
    }
  ]
}